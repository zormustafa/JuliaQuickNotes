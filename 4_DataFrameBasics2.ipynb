{
 "cells": [
  {
   "cell_type": "markdown",
   "metadata": {},
   "source": [
    "Joining DataFrames"
   ]
  },
  {
   "cell_type": "code",
   "execution_count": 3,
   "metadata": {},
   "outputs": [],
   "source": [
    "using DataFrames\n",
    "using CSV \n",
    "dfLeft = CSV.read(\"dfLeft.csv\"; header=true);\n",
    "dfRight = CSV.read(\"dfRight.csv\"; header=true);"
   ]
  },
  {
   "cell_type": "code",
   "execution_count": 4,
   "metadata": {},
   "outputs": [
    {
     "data": {
      "text/html": [
       "<table class=\"data-frame\"><thead><tr><th></th><th>Id</th><th>Name</th><th>Occupation</th><th>BirtPlace</th><th>PerEmail</th></tr><tr><th></th><th>Int64⍰</th><th>String⍰</th><th>String⍰</th><th>String⍰</th><th>String⍰</th></tr></thead><tbody><p>10 rows × 5 columns</p><tr><th>1</th><td>1</td><td>John</td><td>Engineer</td><td>USA</td><td>john@y.com</td></tr><tr><th>2</th><td>2</td><td>Mike</td><td>Teacher</td><td>Belgium</td><td>mike@g.com</td></tr><tr><th>3</th><td>3</td><td>Maggy</td><td>Nurse</td><td>France</td><td>maggy@y.com</td></tr><tr><th>4</th><td>4</td><td>George</td><td>Doctor</td><td>Germany</td><td>george@y.com</td></tr><tr><th>5</th><td>5</td><td>Ali</td><td>Advocate</td><td>Turkey</td><td>ali@y.com</td></tr><tr><th>6</th><td>6</td><td>Robert</td><td>Pilot</td><td>USA</td><td>robert@g.com</td></tr><tr><th>7</th><td>7</td><td>Susanna</td><td>Teacher</td><td>Germany</td><td>s@y.com</td></tr><tr><th>8</th><td>8</td><td>Laila</td><td>Doctor</td><td>Morocco</td><td>laila@y.com</td></tr><tr><th>9</th><td>9</td><td>Harry</td><td>Scientist</td><td>England</td><td>harry80@g.com</td></tr><tr><th>10</th><td>10</td><td>Mark</td><td>Doctor</td><td>Germany</td><td>mark@y.com</td></tr></tbody></table>"
      ],
      "text/latex": [
       "\\begin{tabular}{r|ccccc}\n",
       "\t& Id & Name & Occupation & BirtPlace & PerEmail\\\\\n",
       "\t\\hline\n",
       "\t& Int64⍰ & String⍰ & String⍰ & String⍰ & String⍰\\\\\n",
       "\t\\hline\n",
       "\t1 & 1 & John & Engineer & USA & john@y.com \\\\\n",
       "\t2 & 2 & Mike & Teacher & Belgium & mike@g.com \\\\\n",
       "\t3 & 3 & Maggy & Nurse & France & maggy@y.com \\\\\n",
       "\t4 & 4 & George & Doctor & Germany & george@y.com \\\\\n",
       "\t5 & 5 & Ali & Advocate & Turkey & ali@y.com \\\\\n",
       "\t6 & 6 & Robert & Pilot & USA & robert@g.com \\\\\n",
       "\t7 & 7 & Susanna & Teacher & Germany & s@y.com \\\\\n",
       "\t8 & 8 & Laila & Doctor & Morocco & laila@y.com \\\\\n",
       "\t9 & 9 & Harry & Scientist & England & harry80@g.com \\\\\n",
       "\t10 & 10 & Mark & Doctor & Germany & mark@y.com \\\\\n",
       "\\end{tabular}\n"
      ],
      "text/plain": [
       "10×5 DataFrame\n",
       "│ Row │ Id     │ Name    │ Occupation │ BirtPlace │ PerEmail      │\n",
       "│     │ \u001b[90mInt64⍰\u001b[39m │ \u001b[90mString⍰\u001b[39m │ \u001b[90mString⍰\u001b[39m    │ \u001b[90mString⍰\u001b[39m   │ \u001b[90mString⍰\u001b[39m       │\n",
       "├─────┼────────┼─────────┼────────────┼───────────┼───────────────┤\n",
       "│ 1   │ 1      │ John    │ Engineer   │ USA       │ john@y.com    │\n",
       "│ 2   │ 2      │ Mike    │ Teacher    │ Belgium   │ mike@g.com    │\n",
       "│ 3   │ 3      │ Maggy   │ Nurse      │ France    │ maggy@y.com   │\n",
       "│ 4   │ 4      │ George  │ Doctor     │ Germany   │ george@y.com  │\n",
       "│ 5   │ 5      │ Ali     │ Advocate   │ Turkey    │ ali@y.com     │\n",
       "│ 6   │ 6      │ Robert  │ Pilot      │ USA       │ robert@g.com  │\n",
       "│ 7   │ 7      │ Susanna │ Teacher    │ Germany   │ s@y.com       │\n",
       "│ 8   │ 8      │ Laila   │ Doctor     │ Morocco   │ laila@y.com   │\n",
       "│ 9   │ 9      │ Harry   │ Scientist  │ England   │ harry80@g.com │\n",
       "│ 10  │ 10     │ Mark    │ Doctor     │ Germany   │ mark@y.com    │"
      ]
     },
     "execution_count": 4,
     "metadata": {},
     "output_type": "execute_result"
    }
   ],
   "source": [
    "dfLeft"
   ]
  },
  {
   "cell_type": "code",
   "execution_count": 5,
   "metadata": {},
   "outputs": [
    {
     "data": {
      "text/html": [
       "<table class=\"data-frame\"><thead><tr><th></th><th>Id</th><th>BussEmail</th><th>City</th></tr><tr><th></th><th>Int64⍰</th><th>String⍰</th><th>String⍰</th></tr></thead><tbody><p>10 rows × 3 columns</p><tr><th>1</th><td>4</td><td>george@y.com</td><td>Berlin</td></tr><tr><th>2</th><td>5</td><td>ali@g.com</td><td>Istanbul</td></tr><tr><th>3</th><td>7</td><td>susanna@y.com</td><td>Hamburg</td></tr><tr><th>4</th><td>8</td><td>laila@y.com</td><td>Brussel</td></tr><tr><th>5</th><td>9</td><td>harry@g.com</td><td>London</td></tr><tr><th>6</th><td>10</td><td>mark@y.com</td><td>Dusseldorf</td></tr><tr><th>7</th><td>13</td><td>jim@y.com</td><td>Paris</td></tr><tr><th>8</th><td>14</td><td>garry@y.com</td><td>LosAngeles</td></tr><tr><th>9</th><td>15</td><td>jack@g.com</td><td>Prag</td></tr><tr><th>10</th><td>16</td><td>pam@g.com</td><td>London</td></tr></tbody></table>"
      ],
      "text/latex": [
       "\\begin{tabular}{r|ccc}\n",
       "\t& Id & BussEmail & City\\\\\n",
       "\t\\hline\n",
       "\t& Int64⍰ & String⍰ & String⍰\\\\\n",
       "\t\\hline\n",
       "\t1 & 4 & george@y.com & Berlin \\\\\n",
       "\t2 & 5 & ali@g.com & Istanbul \\\\\n",
       "\t3 & 7 & susanna@y.com & Hamburg \\\\\n",
       "\t4 & 8 & laila@y.com & Brussel \\\\\n",
       "\t5 & 9 & harry@g.com & London \\\\\n",
       "\t6 & 10 & mark@y.com & Dusseldorf \\\\\n",
       "\t7 & 13 & jim@y.com & Paris \\\\\n",
       "\t8 & 14 & garry@y.com & LosAngeles \\\\\n",
       "\t9 & 15 & jack@g.com & Prag \\\\\n",
       "\t10 & 16 & pam@g.com & London \\\\\n",
       "\\end{tabular}\n"
      ],
      "text/plain": [
       "10×3 DataFrame\n",
       "│ Row │ Id     │ BussEmail     │ City       │\n",
       "│     │ \u001b[90mInt64⍰\u001b[39m │ \u001b[90mString⍰\u001b[39m       │ \u001b[90mString⍰\u001b[39m    │\n",
       "├─────┼────────┼───────────────┼────────────┤\n",
       "│ 1   │ 4      │ george@y.com  │ Berlin     │\n",
       "│ 2   │ 5      │ ali@g.com     │ Istanbul   │\n",
       "│ 3   │ 7      │ susanna@y.com │ Hamburg    │\n",
       "│ 4   │ 8      │ laila@y.com   │ Brussel    │\n",
       "│ 5   │ 9      │ harry@g.com   │ London     │\n",
       "│ 6   │ 10     │ mark@y.com    │ Dusseldorf │\n",
       "│ 7   │ 13     │ jim@y.com     │ Paris      │\n",
       "│ 8   │ 14     │ garry@y.com   │ LosAngeles │\n",
       "│ 9   │ 15     │ jack@g.com    │ Prag       │\n",
       "│ 10  │ 16     │ pam@g.com     │ London     │"
      ]
     },
     "execution_count": 5,
     "metadata": {},
     "output_type": "execute_result"
    }
   ],
   "source": [
    "dfRight"
   ]
  },
  {
   "cell_type": "code",
   "execution_count": 6,
   "metadata": {},
   "outputs": [
    {
     "data": {
      "text/html": [
       "<table class=\"data-frame\"><thead><tr><th></th><th>Id</th><th>Name</th><th>Occupation</th><th>BirtPlace</th><th>PerEmail</th><th>BussEmail</th><th>City</th></tr><tr><th></th><th>Int64⍰</th><th>String⍰</th><th>String⍰</th><th>String⍰</th><th>String⍰</th><th>String⍰</th><th>String⍰</th></tr></thead><tbody><p>6 rows × 7 columns</p><tr><th>1</th><td>4</td><td>George</td><td>Doctor</td><td>Germany</td><td>george@y.com</td><td>george@y.com</td><td>Berlin</td></tr><tr><th>2</th><td>5</td><td>Ali</td><td>Advocate</td><td>Turkey</td><td>ali@y.com</td><td>ali@g.com</td><td>Istanbul</td></tr><tr><th>3</th><td>7</td><td>Susanna</td><td>Teacher</td><td>Germany</td><td>s@y.com</td><td>susanna@y.com</td><td>Hamburg</td></tr><tr><th>4</th><td>8</td><td>Laila</td><td>Doctor</td><td>Morocco</td><td>laila@y.com</td><td>laila@y.com</td><td>Brussel</td></tr><tr><th>5</th><td>9</td><td>Harry</td><td>Scientist</td><td>England</td><td>harry80@g.com</td><td>harry@g.com</td><td>London</td></tr><tr><th>6</th><td>10</td><td>Mark</td><td>Doctor</td><td>Germany</td><td>mark@y.com</td><td>mark@y.com</td><td>Dusseldorf</td></tr></tbody></table>"
      ],
      "text/latex": [
       "\\begin{tabular}{r|ccccccc}\n",
       "\t& Id & Name & Occupation & BirtPlace & PerEmail & BussEmail & City\\\\\n",
       "\t\\hline\n",
       "\t& Int64⍰ & String⍰ & String⍰ & String⍰ & String⍰ & String⍰ & String⍰\\\\\n",
       "\t\\hline\n",
       "\t1 & 4 & George & Doctor & Germany & george@y.com & george@y.com & Berlin \\\\\n",
       "\t2 & 5 & Ali & Advocate & Turkey & ali@y.com & ali@g.com & Istanbul \\\\\n",
       "\t3 & 7 & Susanna & Teacher & Germany & s@y.com & susanna@y.com & Hamburg \\\\\n",
       "\t4 & 8 & Laila & Doctor & Morocco & laila@y.com & laila@y.com & Brussel \\\\\n",
       "\t5 & 9 & Harry & Scientist & England & harry80@g.com & harry@g.com & London \\\\\n",
       "\t6 & 10 & Mark & Doctor & Germany & mark@y.com & mark@y.com & Dusseldorf \\\\\n",
       "\\end{tabular}\n"
      ],
      "text/plain": [
       "6×7 DataFrame. Omitted printing of 2 columns\n",
       "│ Row │ Id     │ Name    │ Occupation │ BirtPlace │ PerEmail      │\n",
       "│     │ \u001b[90mInt64⍰\u001b[39m │ \u001b[90mString⍰\u001b[39m │ \u001b[90mString⍰\u001b[39m    │ \u001b[90mString⍰\u001b[39m   │ \u001b[90mString⍰\u001b[39m       │\n",
       "├─────┼────────┼─────────┼────────────┼───────────┼───────────────┤\n",
       "│ 1   │ 4      │ George  │ Doctor     │ Germany   │ george@y.com  │\n",
       "│ 2   │ 5      │ Ali     │ Advocate   │ Turkey    │ ali@y.com     │\n",
       "│ 3   │ 7      │ Susanna │ Teacher    │ Germany   │ s@y.com       │\n",
       "│ 4   │ 8      │ Laila   │ Doctor     │ Morocco   │ laila@y.com   │\n",
       "│ 5   │ 9      │ Harry   │ Scientist  │ England   │ harry80@g.com │\n",
       "│ 6   │ 10     │ Mark    │ Doctor     │ Germany   │ mark@y.com    │"
      ]
     },
     "execution_count": 6,
     "metadata": {},
     "output_type": "execute_result"
    }
   ],
   "source": [
    "# names of columns on which we want to join must be the same(case sensitive)\n",
    "\n",
    "join(dfLeft, dfRight, on=:Id)    # inner join by default, matching Id and missing are joined"
   ]
  },
  {
   "cell_type": "code",
   "execution_count": 7,
   "metadata": {},
   "outputs": [
    {
     "data": {
      "text/html": [
       "<table class=\"data-frame\"><thead><tr><th></th><th>Id</th><th>Name</th><th>Occupation</th><th>BirtPlace</th><th>PerEmail</th><th>BussEmail</th><th>City</th></tr><tr><th></th><th>Int64⍰</th><th>String⍰</th><th>String⍰</th><th>String⍰</th><th>String⍰</th><th>String⍰</th><th>String⍰</th></tr></thead><tbody><p>10 rows × 7 columns</p><tr><th>1</th><td>1</td><td>John</td><td>Engineer</td><td>USA</td><td>john@y.com</td><td>missing</td><td>missing</td></tr><tr><th>2</th><td>2</td><td>Mike</td><td>Teacher</td><td>Belgium</td><td>mike@g.com</td><td>missing</td><td>missing</td></tr><tr><th>3</th><td>3</td><td>Maggy</td><td>Nurse</td><td>France</td><td>maggy@y.com</td><td>missing</td><td>missing</td></tr><tr><th>4</th><td>4</td><td>George</td><td>Doctor</td><td>Germany</td><td>george@y.com</td><td>george@y.com</td><td>Berlin</td></tr><tr><th>5</th><td>5</td><td>Ali</td><td>Advocate</td><td>Turkey</td><td>ali@y.com</td><td>ali@g.com</td><td>Istanbul</td></tr><tr><th>6</th><td>6</td><td>Robert</td><td>Pilot</td><td>USA</td><td>robert@g.com</td><td>missing</td><td>missing</td></tr><tr><th>7</th><td>7</td><td>Susanna</td><td>Teacher</td><td>Germany</td><td>s@y.com</td><td>susanna@y.com</td><td>Hamburg</td></tr><tr><th>8</th><td>8</td><td>Laila</td><td>Doctor</td><td>Morocco</td><td>laila@y.com</td><td>laila@y.com</td><td>Brussel</td></tr><tr><th>9</th><td>9</td><td>Harry</td><td>Scientist</td><td>England</td><td>harry80@g.com</td><td>harry@g.com</td><td>London</td></tr><tr><th>10</th><td>10</td><td>Mark</td><td>Doctor</td><td>Germany</td><td>mark@y.com</td><td>mark@y.com</td><td>Dusseldorf</td></tr></tbody></table>"
      ],
      "text/latex": [
       "\\begin{tabular}{r|ccccccc}\n",
       "\t& Id & Name & Occupation & BirtPlace & PerEmail & BussEmail & City\\\\\n",
       "\t\\hline\n",
       "\t& Int64⍰ & String⍰ & String⍰ & String⍰ & String⍰ & String⍰ & String⍰\\\\\n",
       "\t\\hline\n",
       "\t1 & 1 & John & Engineer & USA & john@y.com &  &  \\\\\n",
       "\t2 & 2 & Mike & Teacher & Belgium & mike@g.com &  &  \\\\\n",
       "\t3 & 3 & Maggy & Nurse & France & maggy@y.com &  &  \\\\\n",
       "\t4 & 4 & George & Doctor & Germany & george@y.com & george@y.com & Berlin \\\\\n",
       "\t5 & 5 & Ali & Advocate & Turkey & ali@y.com & ali@g.com & Istanbul \\\\\n",
       "\t6 & 6 & Robert & Pilot & USA & robert@g.com &  &  \\\\\n",
       "\t7 & 7 & Susanna & Teacher & Germany & s@y.com & susanna@y.com & Hamburg \\\\\n",
       "\t8 & 8 & Laila & Doctor & Morocco & laila@y.com & laila@y.com & Brussel \\\\\n",
       "\t9 & 9 & Harry & Scientist & England & harry80@g.com & harry@g.com & London \\\\\n",
       "\t10 & 10 & Mark & Doctor & Germany & mark@y.com & mark@y.com & Dusseldorf \\\\\n",
       "\\end{tabular}\n"
      ],
      "text/plain": [
       "10×7 DataFrame. Omitted printing of 2 columns\n",
       "│ Row │ Id     │ Name    │ Occupation │ BirtPlace │ PerEmail      │\n",
       "│     │ \u001b[90mInt64⍰\u001b[39m │ \u001b[90mString⍰\u001b[39m │ \u001b[90mString⍰\u001b[39m    │ \u001b[90mString⍰\u001b[39m   │ \u001b[90mString⍰\u001b[39m       │\n",
       "├─────┼────────┼─────────┼────────────┼───────────┼───────────────┤\n",
       "│ 1   │ 1      │ John    │ Engineer   │ USA       │ john@y.com    │\n",
       "│ 2   │ 2      │ Mike    │ Teacher    │ Belgium   │ mike@g.com    │\n",
       "│ 3   │ 3      │ Maggy   │ Nurse      │ France    │ maggy@y.com   │\n",
       "│ 4   │ 4      │ George  │ Doctor     │ Germany   │ george@y.com  │\n",
       "│ 5   │ 5      │ Ali     │ Advocate   │ Turkey    │ ali@y.com     │\n",
       "│ 6   │ 6      │ Robert  │ Pilot      │ USA       │ robert@g.com  │\n",
       "│ 7   │ 7      │ Susanna │ Teacher    │ Germany   │ s@y.com       │\n",
       "│ 8   │ 8      │ Laila   │ Doctor     │ Morocco   │ laila@y.com   │\n",
       "│ 9   │ 9      │ Harry   │ Scientist  │ England   │ harry80@g.com │\n",
       "│ 10  │ 10     │ Mark    │ Doctor     │ Germany   │ mark@y.com    │"
      ]
     },
     "execution_count": 7,
     "metadata": {},
     "output_type": "execute_result"
    }
   ],
   "source": [
    "join(dfLeft, dfRight, on=:Id, kind=:left) # left join, showing all entries from left DataFrame"
   ]
  },
  {
   "cell_type": "code",
   "execution_count": 8,
   "metadata": {},
   "outputs": [
    {
     "data": {
      "text/html": [
       "<table class=\"data-frame\"><thead><tr><th></th><th>Id</th><th>Name</th><th>Occupation</th><th>BirtPlace</th><th>PerEmail</th><th>BussEmail</th><th>City</th></tr><tr><th></th><th>Int64⍰</th><th>String⍰</th><th>String⍰</th><th>String⍰</th><th>String⍰</th><th>String⍰</th><th>String⍰</th></tr></thead><tbody><p>10 rows × 7 columns</p><tr><th>1</th><td>4</td><td>George</td><td>Doctor</td><td>Germany</td><td>george@y.com</td><td>george@y.com</td><td>Berlin</td></tr><tr><th>2</th><td>5</td><td>Ali</td><td>Advocate</td><td>Turkey</td><td>ali@y.com</td><td>ali@g.com</td><td>Istanbul</td></tr><tr><th>3</th><td>7</td><td>Susanna</td><td>Teacher</td><td>Germany</td><td>s@y.com</td><td>susanna@y.com</td><td>Hamburg</td></tr><tr><th>4</th><td>8</td><td>Laila</td><td>Doctor</td><td>Morocco</td><td>laila@y.com</td><td>laila@y.com</td><td>Brussel</td></tr><tr><th>5</th><td>9</td><td>Harry</td><td>Scientist</td><td>England</td><td>harry80@g.com</td><td>harry@g.com</td><td>London</td></tr><tr><th>6</th><td>10</td><td>Mark</td><td>Doctor</td><td>Germany</td><td>mark@y.com</td><td>mark@y.com</td><td>Dusseldorf</td></tr><tr><th>7</th><td>13</td><td>missing</td><td>missing</td><td>missing</td><td>missing</td><td>jim@y.com</td><td>Paris</td></tr><tr><th>8</th><td>14</td><td>missing</td><td>missing</td><td>missing</td><td>missing</td><td>garry@y.com</td><td>LosAngeles</td></tr><tr><th>9</th><td>15</td><td>missing</td><td>missing</td><td>missing</td><td>missing</td><td>jack@g.com</td><td>Prag</td></tr><tr><th>10</th><td>16</td><td>missing</td><td>missing</td><td>missing</td><td>missing</td><td>pam@g.com</td><td>London</td></tr></tbody></table>"
      ],
      "text/latex": [
       "\\begin{tabular}{r|ccccccc}\n",
       "\t& Id & Name & Occupation & BirtPlace & PerEmail & BussEmail & City\\\\\n",
       "\t\\hline\n",
       "\t& Int64⍰ & String⍰ & String⍰ & String⍰ & String⍰ & String⍰ & String⍰\\\\\n",
       "\t\\hline\n",
       "\t1 & 4 & George & Doctor & Germany & george@y.com & george@y.com & Berlin \\\\\n",
       "\t2 & 5 & Ali & Advocate & Turkey & ali@y.com & ali@g.com & Istanbul \\\\\n",
       "\t3 & 7 & Susanna & Teacher & Germany & s@y.com & susanna@y.com & Hamburg \\\\\n",
       "\t4 & 8 & Laila & Doctor & Morocco & laila@y.com & laila@y.com & Brussel \\\\\n",
       "\t5 & 9 & Harry & Scientist & England & harry80@g.com & harry@g.com & London \\\\\n",
       "\t6 & 10 & Mark & Doctor & Germany & mark@y.com & mark@y.com & Dusseldorf \\\\\n",
       "\t7 & 13 &  &  &  &  & jim@y.com & Paris \\\\\n",
       "\t8 & 14 &  &  &  &  & garry@y.com & LosAngeles \\\\\n",
       "\t9 & 15 &  &  &  &  & jack@g.com & Prag \\\\\n",
       "\t10 & 16 &  &  &  &  & pam@g.com & London \\\\\n",
       "\\end{tabular}\n"
      ],
      "text/plain": [
       "10×7 DataFrame. Omitted printing of 2 columns\n",
       "│ Row │ Id     │ Name    │ Occupation │ BirtPlace │ PerEmail      │\n",
       "│     │ \u001b[90mInt64⍰\u001b[39m │ \u001b[90mString⍰\u001b[39m │ \u001b[90mString⍰\u001b[39m    │ \u001b[90mString⍰\u001b[39m   │ \u001b[90mString⍰\u001b[39m       │\n",
       "├─────┼────────┼─────────┼────────────┼───────────┼───────────────┤\n",
       "│ 1   │ 4      │ George  │ Doctor     │ Germany   │ george@y.com  │\n",
       "│ 2   │ 5      │ Ali     │ Advocate   │ Turkey    │ ali@y.com     │\n",
       "│ 3   │ 7      │ Susanna │ Teacher    │ Germany   │ s@y.com       │\n",
       "│ 4   │ 8      │ Laila   │ Doctor     │ Morocco   │ laila@y.com   │\n",
       "│ 5   │ 9      │ Harry   │ Scientist  │ England   │ harry80@g.com │\n",
       "│ 6   │ 10     │ Mark    │ Doctor     │ Germany   │ mark@y.com    │\n",
       "│ 7   │ 13     │ \u001b[90mmissing\u001b[39m │ \u001b[90mmissing\u001b[39m    │ \u001b[90mmissing\u001b[39m   │ \u001b[90mmissing\u001b[39m       │\n",
       "│ 8   │ 14     │ \u001b[90mmissing\u001b[39m │ \u001b[90mmissing\u001b[39m    │ \u001b[90mmissing\u001b[39m   │ \u001b[90mmissing\u001b[39m       │\n",
       "│ 9   │ 15     │ \u001b[90mmissing\u001b[39m │ \u001b[90mmissing\u001b[39m    │ \u001b[90mmissing\u001b[39m   │ \u001b[90mmissing\u001b[39m       │\n",
       "│ 10  │ 16     │ \u001b[90mmissing\u001b[39m │ \u001b[90mmissing\u001b[39m    │ \u001b[90mmissing\u001b[39m   │ \u001b[90mmissing\u001b[39m       │"
      ]
     },
     "execution_count": 8,
     "metadata": {},
     "output_type": "execute_result"
    }
   ],
   "source": [
    "join(dfLeft, dfRight, on=:Id, kind=:right) # right join, showing all entries from right DataFrame"
   ]
  },
  {
   "cell_type": "code",
   "execution_count": 9,
   "metadata": {},
   "outputs": [
    {
     "data": {
      "text/html": [
       "<table class=\"data-frame\"><thead><tr><th></th><th>Id</th><th>Name</th><th>Occupation</th><th>BirtPlace</th><th>PerEmail</th><th>BussEmail</th><th>City</th></tr><tr><th></th><th>Int64⍰</th><th>String⍰</th><th>String⍰</th><th>String⍰</th><th>String⍰</th><th>String⍰</th><th>String⍰</th></tr></thead><tbody><p>14 rows × 7 columns</p><tr><th>1</th><td>1</td><td>John</td><td>Engineer</td><td>USA</td><td>john@y.com</td><td>missing</td><td>missing</td></tr><tr><th>2</th><td>2</td><td>Mike</td><td>Teacher</td><td>Belgium</td><td>mike@g.com</td><td>missing</td><td>missing</td></tr><tr><th>3</th><td>3</td><td>Maggy</td><td>Nurse</td><td>France</td><td>maggy@y.com</td><td>missing</td><td>missing</td></tr><tr><th>4</th><td>4</td><td>George</td><td>Doctor</td><td>Germany</td><td>george@y.com</td><td>george@y.com</td><td>Berlin</td></tr><tr><th>5</th><td>5</td><td>Ali</td><td>Advocate</td><td>Turkey</td><td>ali@y.com</td><td>ali@g.com</td><td>Istanbul</td></tr><tr><th>6</th><td>6</td><td>Robert</td><td>Pilot</td><td>USA</td><td>robert@g.com</td><td>missing</td><td>missing</td></tr><tr><th>7</th><td>7</td><td>Susanna</td><td>Teacher</td><td>Germany</td><td>s@y.com</td><td>susanna@y.com</td><td>Hamburg</td></tr><tr><th>8</th><td>8</td><td>Laila</td><td>Doctor</td><td>Morocco</td><td>laila@y.com</td><td>laila@y.com</td><td>Brussel</td></tr><tr><th>9</th><td>9</td><td>Harry</td><td>Scientist</td><td>England</td><td>harry80@g.com</td><td>harry@g.com</td><td>London</td></tr><tr><th>10</th><td>10</td><td>Mark</td><td>Doctor</td><td>Germany</td><td>mark@y.com</td><td>mark@y.com</td><td>Dusseldorf</td></tr><tr><th>11</th><td>13</td><td>missing</td><td>missing</td><td>missing</td><td>missing</td><td>jim@y.com</td><td>Paris</td></tr><tr><th>12</th><td>14</td><td>missing</td><td>missing</td><td>missing</td><td>missing</td><td>garry@y.com</td><td>LosAngeles</td></tr><tr><th>13</th><td>15</td><td>missing</td><td>missing</td><td>missing</td><td>missing</td><td>jack@g.com</td><td>Prag</td></tr><tr><th>14</th><td>16</td><td>missing</td><td>missing</td><td>missing</td><td>missing</td><td>pam@g.com</td><td>London</td></tr></tbody></table>"
      ],
      "text/latex": [
       "\\begin{tabular}{r|ccccccc}\n",
       "\t& Id & Name & Occupation & BirtPlace & PerEmail & BussEmail & City\\\\\n",
       "\t\\hline\n",
       "\t& Int64⍰ & String⍰ & String⍰ & String⍰ & String⍰ & String⍰ & String⍰\\\\\n",
       "\t\\hline\n",
       "\t1 & 1 & John & Engineer & USA & john@y.com &  &  \\\\\n",
       "\t2 & 2 & Mike & Teacher & Belgium & mike@g.com &  &  \\\\\n",
       "\t3 & 3 & Maggy & Nurse & France & maggy@y.com &  &  \\\\\n",
       "\t4 & 4 & George & Doctor & Germany & george@y.com & george@y.com & Berlin \\\\\n",
       "\t5 & 5 & Ali & Advocate & Turkey & ali@y.com & ali@g.com & Istanbul \\\\\n",
       "\t6 & 6 & Robert & Pilot & USA & robert@g.com &  &  \\\\\n",
       "\t7 & 7 & Susanna & Teacher & Germany & s@y.com & susanna@y.com & Hamburg \\\\\n",
       "\t8 & 8 & Laila & Doctor & Morocco & laila@y.com & laila@y.com & Brussel \\\\\n",
       "\t9 & 9 & Harry & Scientist & England & harry80@g.com & harry@g.com & London \\\\\n",
       "\t10 & 10 & Mark & Doctor & Germany & mark@y.com & mark@y.com & Dusseldorf \\\\\n",
       "\t11 & 13 &  &  &  &  & jim@y.com & Paris \\\\\n",
       "\t12 & 14 &  &  &  &  & garry@y.com & LosAngeles \\\\\n",
       "\t13 & 15 &  &  &  &  & jack@g.com & Prag \\\\\n",
       "\t14 & 16 &  &  &  &  & pam@g.com & London \\\\\n",
       "\\end{tabular}\n"
      ],
      "text/plain": [
       "14×7 DataFrame. Omitted printing of 2 columns\n",
       "│ Row │ Id     │ Name    │ Occupation │ BirtPlace │ PerEmail      │\n",
       "│     │ \u001b[90mInt64⍰\u001b[39m │ \u001b[90mString⍰\u001b[39m │ \u001b[90mString⍰\u001b[39m    │ \u001b[90mString⍰\u001b[39m   │ \u001b[90mString⍰\u001b[39m       │\n",
       "├─────┼────────┼─────────┼────────────┼───────────┼───────────────┤\n",
       "│ 1   │ 1      │ John    │ Engineer   │ USA       │ john@y.com    │\n",
       "│ 2   │ 2      │ Mike    │ Teacher    │ Belgium   │ mike@g.com    │\n",
       "│ 3   │ 3      │ Maggy   │ Nurse      │ France    │ maggy@y.com   │\n",
       "│ 4   │ 4      │ George  │ Doctor     │ Germany   │ george@y.com  │\n",
       "│ 5   │ 5      │ Ali     │ Advocate   │ Turkey    │ ali@y.com     │\n",
       "│ 6   │ 6      │ Robert  │ Pilot      │ USA       │ robert@g.com  │\n",
       "│ 7   │ 7      │ Susanna │ Teacher    │ Germany   │ s@y.com       │\n",
       "│ 8   │ 8      │ Laila   │ Doctor     │ Morocco   │ laila@y.com   │\n",
       "│ 9   │ 9      │ Harry   │ Scientist  │ England   │ harry80@g.com │\n",
       "│ 10  │ 10     │ Mark    │ Doctor     │ Germany   │ mark@y.com    │\n",
       "│ 11  │ 13     │ \u001b[90mmissing\u001b[39m │ \u001b[90mmissing\u001b[39m    │ \u001b[90mmissing\u001b[39m   │ \u001b[90mmissing\u001b[39m       │\n",
       "│ 12  │ 14     │ \u001b[90mmissing\u001b[39m │ \u001b[90mmissing\u001b[39m    │ \u001b[90mmissing\u001b[39m   │ \u001b[90mmissing\u001b[39m       │\n",
       "│ 13  │ 15     │ \u001b[90mmissing\u001b[39m │ \u001b[90mmissing\u001b[39m    │ \u001b[90mmissing\u001b[39m   │ \u001b[90mmissing\u001b[39m       │\n",
       "│ 14  │ 16     │ \u001b[90mmissing\u001b[39m │ \u001b[90mmissing\u001b[39m    │ \u001b[90mmissing\u001b[39m   │ \u001b[90mmissing\u001b[39m       │"
      ]
     },
     "execution_count": 9,
     "metadata": {},
     "output_type": "execute_result"
    }
   ],
   "source": [
    "join(dfLeft, dfRight, on=:Id, kind=:outer) # outer join, showing all entries from left and right DataFrame"
   ]
  },
  {
   "cell_type": "code",
   "execution_count": 10,
   "metadata": {},
   "outputs": [
    {
     "data": {
      "text/html": [
       "<table class=\"data-frame\"><thead><tr><th></th><th>Id</th><th>Name</th><th>Occupation</th><th>BirtPlace</th><th>PerEmail</th></tr><tr><th></th><th>Int64⍰</th><th>String⍰</th><th>String⍰</th><th>String⍰</th><th>String⍰</th></tr></thead><tbody><p>6 rows × 5 columns</p><tr><th>1</th><td>4</td><td>George</td><td>Doctor</td><td>Germany</td><td>george@y.com</td></tr><tr><th>2</th><td>5</td><td>Ali</td><td>Advocate</td><td>Turkey</td><td>ali@y.com</td></tr><tr><th>3</th><td>7</td><td>Susanna</td><td>Teacher</td><td>Germany</td><td>s@y.com</td></tr><tr><th>4</th><td>8</td><td>Laila</td><td>Doctor</td><td>Morocco</td><td>laila@y.com</td></tr><tr><th>5</th><td>9</td><td>Harry</td><td>Scientist</td><td>England</td><td>harry80@g.com</td></tr><tr><th>6</th><td>10</td><td>Mark</td><td>Doctor</td><td>Germany</td><td>mark@y.com</td></tr></tbody></table>"
      ],
      "text/latex": [
       "\\begin{tabular}{r|ccccc}\n",
       "\t& Id & Name & Occupation & BirtPlace & PerEmail\\\\\n",
       "\t\\hline\n",
       "\t& Int64⍰ & String⍰ & String⍰ & String⍰ & String⍰\\\\\n",
       "\t\\hline\n",
       "\t1 & 4 & George & Doctor & Germany & george@y.com \\\\\n",
       "\t2 & 5 & Ali & Advocate & Turkey & ali@y.com \\\\\n",
       "\t3 & 7 & Susanna & Teacher & Germany & s@y.com \\\\\n",
       "\t4 & 8 & Laila & Doctor & Morocco & laila@y.com \\\\\n",
       "\t5 & 9 & Harry & Scientist & England & harry80@g.com \\\\\n",
       "\t6 & 10 & Mark & Doctor & Germany & mark@y.com \\\\\n",
       "\\end{tabular}\n"
      ],
      "text/plain": [
       "6×5 DataFrame\n",
       "│ Row │ Id     │ Name    │ Occupation │ BirtPlace │ PerEmail      │\n",
       "│     │ \u001b[90mInt64⍰\u001b[39m │ \u001b[90mString⍰\u001b[39m │ \u001b[90mString⍰\u001b[39m    │ \u001b[90mString⍰\u001b[39m   │ \u001b[90mString⍰\u001b[39m       │\n",
       "├─────┼────────┼─────────┼────────────┼───────────┼───────────────┤\n",
       "│ 1   │ 4      │ George  │ Doctor     │ Germany   │ george@y.com  │\n",
       "│ 2   │ 5      │ Ali     │ Advocate   │ Turkey    │ ali@y.com     │\n",
       "│ 3   │ 7      │ Susanna │ Teacher    │ Germany   │ s@y.com       │\n",
       "│ 4   │ 8      │ Laila   │ Doctor     │ Morocco   │ laila@y.com   │\n",
       "│ 5   │ 9      │ Harry   │ Scientist  │ England   │ harry80@g.com │\n",
       "│ 6   │ 10     │ Mark    │ Doctor     │ Germany   │ mark@y.com    │"
      ]
     },
     "execution_count": 10,
     "metadata": {},
     "output_type": "execute_result"
    }
   ],
   "source": [
    "join(dfLeft, dfRight, on=:Id, kind=:semi) # semi join, rows from left dataframe having matches in right dataframe"
   ]
  },
  {
   "cell_type": "code",
   "execution_count": 11,
   "metadata": {},
   "outputs": [
    {
     "data": {
      "text/html": [
       "<table class=\"data-frame\"><thead><tr><th></th><th>Id</th><th>Name</th><th>Occupation</th><th>BirtPlace</th><th>PerEmail</th></tr><tr><th></th><th>Int64⍰</th><th>String⍰</th><th>String⍰</th><th>String⍰</th><th>String⍰</th></tr></thead><tbody><p>4 rows × 5 columns</p><tr><th>1</th><td>1</td><td>John</td><td>Engineer</td><td>USA</td><td>john@y.com</td></tr><tr><th>2</th><td>2</td><td>Mike</td><td>Teacher</td><td>Belgium</td><td>mike@g.com</td></tr><tr><th>3</th><td>3</td><td>Maggy</td><td>Nurse</td><td>France</td><td>maggy@y.com</td></tr><tr><th>4</th><td>6</td><td>Robert</td><td>Pilot</td><td>USA</td><td>robert@g.com</td></tr></tbody></table>"
      ],
      "text/latex": [
       "\\begin{tabular}{r|ccccc}\n",
       "\t& Id & Name & Occupation & BirtPlace & PerEmail\\\\\n",
       "\t\\hline\n",
       "\t& Int64⍰ & String⍰ & String⍰ & String⍰ & String⍰\\\\\n",
       "\t\\hline\n",
       "\t1 & 1 & John & Engineer & USA & john@y.com \\\\\n",
       "\t2 & 2 & Mike & Teacher & Belgium & mike@g.com \\\\\n",
       "\t3 & 3 & Maggy & Nurse & France & maggy@y.com \\\\\n",
       "\t4 & 6 & Robert & Pilot & USA & robert@g.com \\\\\n",
       "\\end{tabular}\n"
      ],
      "text/plain": [
       "4×5 DataFrame\n",
       "│ Row │ Id     │ Name    │ Occupation │ BirtPlace │ PerEmail     │\n",
       "│     │ \u001b[90mInt64⍰\u001b[39m │ \u001b[90mString⍰\u001b[39m │ \u001b[90mString⍰\u001b[39m    │ \u001b[90mString⍰\u001b[39m   │ \u001b[90mString⍰\u001b[39m      │\n",
       "├─────┼────────┼─────────┼────────────┼───────────┼──────────────┤\n",
       "│ 1   │ 1      │ John    │ Engineer   │ USA       │ john@y.com   │\n",
       "│ 2   │ 2      │ Mike    │ Teacher    │ Belgium   │ mike@g.com   │\n",
       "│ 3   │ 3      │ Maggy   │ Nurse      │ France    │ maggy@y.com  │\n",
       "│ 4   │ 6      │ Robert  │ Pilot      │ USA       │ robert@g.com │"
      ]
     },
     "execution_count": 11,
     "metadata": {},
     "output_type": "execute_result"
    }
   ],
   "source": [
    "join(dfLeft, dfRight, on=:Id, kind=:anti) # anti join, rows from left dataframe having no matches in right dataframe"
   ]
  },
  {
   "cell_type": "code",
   "execution_count": 12,
   "metadata": {},
   "outputs": [
    {
     "data": {
      "text/html": [
       "<table class=\"data-frame\"><thead><tr><th></th><th>Id</th><th>Name</th><th>Occupation</th><th>BirtPlace</th><th>PerEmail</th><th>Id_1</th><th>BussEmail</th><th>City</th></tr><tr><th></th><th>Int64⍰</th><th>String⍰</th><th>String⍰</th><th>String⍰</th><th>String⍰</th><th>Int64⍰</th><th>String⍰</th><th>String⍰</th></tr></thead><tbody><p>100 rows × 8 columns</p><tr><th>1</th><td>1</td><td>John</td><td>Engineer</td><td>USA</td><td>john@y.com</td><td>4</td><td>george@y.com</td><td>Berlin</td></tr><tr><th>2</th><td>1</td><td>John</td><td>Engineer</td><td>USA</td><td>john@y.com</td><td>5</td><td>ali@g.com</td><td>Istanbul</td></tr><tr><th>3</th><td>1</td><td>John</td><td>Engineer</td><td>USA</td><td>john@y.com</td><td>7</td><td>susanna@y.com</td><td>Hamburg</td></tr><tr><th>4</th><td>1</td><td>John</td><td>Engineer</td><td>USA</td><td>john@y.com</td><td>8</td><td>laila@y.com</td><td>Brussel</td></tr><tr><th>5</th><td>1</td><td>John</td><td>Engineer</td><td>USA</td><td>john@y.com</td><td>9</td><td>harry@g.com</td><td>London</td></tr><tr><th>6</th><td>1</td><td>John</td><td>Engineer</td><td>USA</td><td>john@y.com</td><td>10</td><td>mark@y.com</td><td>Dusseldorf</td></tr><tr><th>7</th><td>1</td><td>John</td><td>Engineer</td><td>USA</td><td>john@y.com</td><td>13</td><td>jim@y.com</td><td>Paris</td></tr><tr><th>8</th><td>1</td><td>John</td><td>Engineer</td><td>USA</td><td>john@y.com</td><td>14</td><td>garry@y.com</td><td>LosAngeles</td></tr><tr><th>9</th><td>1</td><td>John</td><td>Engineer</td><td>USA</td><td>john@y.com</td><td>15</td><td>jack@g.com</td><td>Prag</td></tr><tr><th>10</th><td>1</td><td>John</td><td>Engineer</td><td>USA</td><td>john@y.com</td><td>16</td><td>pam@g.com</td><td>London</td></tr><tr><th>11</th><td>2</td><td>Mike</td><td>Teacher</td><td>Belgium</td><td>mike@g.com</td><td>4</td><td>george@y.com</td><td>Berlin</td></tr><tr><th>12</th><td>2</td><td>Mike</td><td>Teacher</td><td>Belgium</td><td>mike@g.com</td><td>5</td><td>ali@g.com</td><td>Istanbul</td></tr><tr><th>13</th><td>2</td><td>Mike</td><td>Teacher</td><td>Belgium</td><td>mike@g.com</td><td>7</td><td>susanna@y.com</td><td>Hamburg</td></tr><tr><th>14</th><td>2</td><td>Mike</td><td>Teacher</td><td>Belgium</td><td>mike@g.com</td><td>8</td><td>laila@y.com</td><td>Brussel</td></tr><tr><th>15</th><td>2</td><td>Mike</td><td>Teacher</td><td>Belgium</td><td>mike@g.com</td><td>9</td><td>harry@g.com</td><td>London</td></tr><tr><th>16</th><td>2</td><td>Mike</td><td>Teacher</td><td>Belgium</td><td>mike@g.com</td><td>10</td><td>mark@y.com</td><td>Dusseldorf</td></tr><tr><th>17</th><td>2</td><td>Mike</td><td>Teacher</td><td>Belgium</td><td>mike@g.com</td><td>13</td><td>jim@y.com</td><td>Paris</td></tr><tr><th>18</th><td>2</td><td>Mike</td><td>Teacher</td><td>Belgium</td><td>mike@g.com</td><td>14</td><td>garry@y.com</td><td>LosAngeles</td></tr><tr><th>19</th><td>2</td><td>Mike</td><td>Teacher</td><td>Belgium</td><td>mike@g.com</td><td>15</td><td>jack@g.com</td><td>Prag</td></tr><tr><th>20</th><td>2</td><td>Mike</td><td>Teacher</td><td>Belgium</td><td>mike@g.com</td><td>16</td><td>pam@g.com</td><td>London</td></tr><tr><th>21</th><td>3</td><td>Maggy</td><td>Nurse</td><td>France</td><td>maggy@y.com</td><td>4</td><td>george@y.com</td><td>Berlin</td></tr><tr><th>22</th><td>3</td><td>Maggy</td><td>Nurse</td><td>France</td><td>maggy@y.com</td><td>5</td><td>ali@g.com</td><td>Istanbul</td></tr><tr><th>23</th><td>3</td><td>Maggy</td><td>Nurse</td><td>France</td><td>maggy@y.com</td><td>7</td><td>susanna@y.com</td><td>Hamburg</td></tr><tr><th>24</th><td>3</td><td>Maggy</td><td>Nurse</td><td>France</td><td>maggy@y.com</td><td>8</td><td>laila@y.com</td><td>Brussel</td></tr><tr><th>25</th><td>3</td><td>Maggy</td><td>Nurse</td><td>France</td><td>maggy@y.com</td><td>9</td><td>harry@g.com</td><td>London</td></tr><tr><th>26</th><td>3</td><td>Maggy</td><td>Nurse</td><td>France</td><td>maggy@y.com</td><td>10</td><td>mark@y.com</td><td>Dusseldorf</td></tr><tr><th>27</th><td>3</td><td>Maggy</td><td>Nurse</td><td>France</td><td>maggy@y.com</td><td>13</td><td>jim@y.com</td><td>Paris</td></tr><tr><th>28</th><td>3</td><td>Maggy</td><td>Nurse</td><td>France</td><td>maggy@y.com</td><td>14</td><td>garry@y.com</td><td>LosAngeles</td></tr><tr><th>29</th><td>3</td><td>Maggy</td><td>Nurse</td><td>France</td><td>maggy@y.com</td><td>15</td><td>jack@g.com</td><td>Prag</td></tr><tr><th>30</th><td>3</td><td>Maggy</td><td>Nurse</td><td>France</td><td>maggy@y.com</td><td>16</td><td>pam@g.com</td><td>London</td></tr><tr><th>&vellip;</th><td>&vellip;</td><td>&vellip;</td><td>&vellip;</td><td>&vellip;</td><td>&vellip;</td><td>&vellip;</td><td>&vellip;</td><td>&vellip;</td></tr></tbody></table>"
      ],
      "text/latex": [
       "\\begin{tabular}{r|cccccccc}\n",
       "\t& Id & Name & Occupation & BirtPlace & PerEmail & Id\\_1 & BussEmail & City\\\\\n",
       "\t\\hline\n",
       "\t& Int64⍰ & String⍰ & String⍰ & String⍰ & String⍰ & Int64⍰ & String⍰ & String⍰\\\\\n",
       "\t\\hline\n",
       "\t1 & 1 & John & Engineer & USA & john@y.com & 4 & george@y.com & Berlin \\\\\n",
       "\t2 & 1 & John & Engineer & USA & john@y.com & 5 & ali@g.com & Istanbul \\\\\n",
       "\t3 & 1 & John & Engineer & USA & john@y.com & 7 & susanna@y.com & Hamburg \\\\\n",
       "\t4 & 1 & John & Engineer & USA & john@y.com & 8 & laila@y.com & Brussel \\\\\n",
       "\t5 & 1 & John & Engineer & USA & john@y.com & 9 & harry@g.com & London \\\\\n",
       "\t6 & 1 & John & Engineer & USA & john@y.com & 10 & mark@y.com & Dusseldorf \\\\\n",
       "\t7 & 1 & John & Engineer & USA & john@y.com & 13 & jim@y.com & Paris \\\\\n",
       "\t8 & 1 & John & Engineer & USA & john@y.com & 14 & garry@y.com & LosAngeles \\\\\n",
       "\t9 & 1 & John & Engineer & USA & john@y.com & 15 & jack@g.com & Prag \\\\\n",
       "\t10 & 1 & John & Engineer & USA & john@y.com & 16 & pam@g.com & London \\\\\n",
       "\t11 & 2 & Mike & Teacher & Belgium & mike@g.com & 4 & george@y.com & Berlin \\\\\n",
       "\t12 & 2 & Mike & Teacher & Belgium & mike@g.com & 5 & ali@g.com & Istanbul \\\\\n",
       "\t13 & 2 & Mike & Teacher & Belgium & mike@g.com & 7 & susanna@y.com & Hamburg \\\\\n",
       "\t14 & 2 & Mike & Teacher & Belgium & mike@g.com & 8 & laila@y.com & Brussel \\\\\n",
       "\t15 & 2 & Mike & Teacher & Belgium & mike@g.com & 9 & harry@g.com & London \\\\\n",
       "\t16 & 2 & Mike & Teacher & Belgium & mike@g.com & 10 & mark@y.com & Dusseldorf \\\\\n",
       "\t17 & 2 & Mike & Teacher & Belgium & mike@g.com & 13 & jim@y.com & Paris \\\\\n",
       "\t18 & 2 & Mike & Teacher & Belgium & mike@g.com & 14 & garry@y.com & LosAngeles \\\\\n",
       "\t19 & 2 & Mike & Teacher & Belgium & mike@g.com & 15 & jack@g.com & Prag \\\\\n",
       "\t20 & 2 & Mike & Teacher & Belgium & mike@g.com & 16 & pam@g.com & London \\\\\n",
       "\t21 & 3 & Maggy & Nurse & France & maggy@y.com & 4 & george@y.com & Berlin \\\\\n",
       "\t22 & 3 & Maggy & Nurse & France & maggy@y.com & 5 & ali@g.com & Istanbul \\\\\n",
       "\t23 & 3 & Maggy & Nurse & France & maggy@y.com & 7 & susanna@y.com & Hamburg \\\\\n",
       "\t24 & 3 & Maggy & Nurse & France & maggy@y.com & 8 & laila@y.com & Brussel \\\\\n",
       "\t25 & 3 & Maggy & Nurse & France & maggy@y.com & 9 & harry@g.com & London \\\\\n",
       "\t26 & 3 & Maggy & Nurse & France & maggy@y.com & 10 & mark@y.com & Dusseldorf \\\\\n",
       "\t27 & 3 & Maggy & Nurse & France & maggy@y.com & 13 & jim@y.com & Paris \\\\\n",
       "\t28 & 3 & Maggy & Nurse & France & maggy@y.com & 14 & garry@y.com & LosAngeles \\\\\n",
       "\t29 & 3 & Maggy & Nurse & France & maggy@y.com & 15 & jack@g.com & Prag \\\\\n",
       "\t30 & 3 & Maggy & Nurse & France & maggy@y.com & 16 & pam@g.com & London \\\\\n",
       "\t$\\dots$ & $\\dots$ & $\\dots$ & $\\dots$ & $\\dots$ & $\\dots$ & $\\dots$ & $\\dots$ & $\\dots$ \\\\\n",
       "\\end{tabular}\n"
      ],
      "text/plain": [
       "100×8 DataFrame. Omitted printing of 2 columns\n",
       "│ Row │ Id     │ Name    │ Occupation │ BirtPlace │ PerEmail      │ Id_1   │\n",
       "│     │ \u001b[90mInt64⍰\u001b[39m │ \u001b[90mString⍰\u001b[39m │ \u001b[90mString⍰\u001b[39m    │ \u001b[90mString⍰\u001b[39m   │ \u001b[90mString⍰\u001b[39m       │ \u001b[90mInt64⍰\u001b[39m │\n",
       "├─────┼────────┼─────────┼────────────┼───────────┼───────────────┼────────┤\n",
       "│ 1   │ 1      │ John    │ Engineer   │ USA       │ john@y.com    │ 4      │\n",
       "│ 2   │ 1      │ John    │ Engineer   │ USA       │ john@y.com    │ 5      │\n",
       "│ 3   │ 1      │ John    │ Engineer   │ USA       │ john@y.com    │ 7      │\n",
       "│ 4   │ 1      │ John    │ Engineer   │ USA       │ john@y.com    │ 8      │\n",
       "│ 5   │ 1      │ John    │ Engineer   │ USA       │ john@y.com    │ 9      │\n",
       "│ 6   │ 1      │ John    │ Engineer   │ USA       │ john@y.com    │ 10     │\n",
       "│ 7   │ 1      │ John    │ Engineer   │ USA       │ john@y.com    │ 13     │\n",
       "│ 8   │ 1      │ John    │ Engineer   │ USA       │ john@y.com    │ 14     │\n",
       "│ 9   │ 1      │ John    │ Engineer   │ USA       │ john@y.com    │ 15     │\n",
       "│ 10  │ 1      │ John    │ Engineer   │ USA       │ john@y.com    │ 16     │\n",
       "⋮\n",
       "│ 90  │ 9      │ Harry   │ Scientist  │ England   │ harry80@g.com │ 16     │\n",
       "│ 91  │ 10     │ Mark    │ Doctor     │ Germany   │ mark@y.com    │ 4      │\n",
       "│ 92  │ 10     │ Mark    │ Doctor     │ Germany   │ mark@y.com    │ 5      │\n",
       "│ 93  │ 10     │ Mark    │ Doctor     │ Germany   │ mark@y.com    │ 7      │\n",
       "│ 94  │ 10     │ Mark    │ Doctor     │ Germany   │ mark@y.com    │ 8      │\n",
       "│ 95  │ 10     │ Mark    │ Doctor     │ Germany   │ mark@y.com    │ 9      │\n",
       "│ 96  │ 10     │ Mark    │ Doctor     │ Germany   │ mark@y.com    │ 10     │\n",
       "│ 97  │ 10     │ Mark    │ Doctor     │ Germany   │ mark@y.com    │ 13     │\n",
       "│ 98  │ 10     │ Mark    │ Doctor     │ Germany   │ mark@y.com    │ 14     │\n",
       "│ 99  │ 10     │ Mark    │ Doctor     │ Germany   │ mark@y.com    │ 15     │\n",
       "│ 100 │ 10     │ Mark    │ Doctor     │ Germany   │ mark@y.com    │ 16     │"
      ]
     },
     "execution_count": 12,
     "metadata": {},
     "output_type": "execute_result"
    }
   ],
   "source": [
    "join(dfLeft, dfRight, kind=:cross, makeunique=true)  # cross join, all possible combinations"
   ]
  },
  {
   "cell_type": "code",
   "execution_count": 13,
   "metadata": {},
   "outputs": [
    {
     "data": {
      "text/html": [
       "<table class=\"data-frame\"><thead><tr><th></th><th>Id</th><th>Name</th><th>Occupation</th><th>BirtPlace</th><th>email</th><th>City</th></tr><tr><th></th><th>Int64⍰</th><th>String⍰</th><th>String⍰</th><th>String⍰</th><th>String⍰</th><th>String⍰</th></tr></thead><tbody><p>3 rows × 6 columns</p><tr><th>1</th><td>4</td><td>George</td><td>Doctor</td><td>Germany</td><td>george@y.com</td><td>Berlin</td></tr><tr><th>2</th><td>8</td><td>Laila</td><td>Doctor</td><td>Morocco</td><td>laila@y.com</td><td>Brussel</td></tr><tr><th>3</th><td>10</td><td>Mark</td><td>Doctor</td><td>Germany</td><td>mark@y.com</td><td>Dusseldorf</td></tr></tbody></table>"
      ],
      "text/latex": [
       "\\begin{tabular}{r|cccccc}\n",
       "\t& Id & Name & Occupation & BirtPlace & email & City\\\\\n",
       "\t\\hline\n",
       "\t& Int64⍰ & String⍰ & String⍰ & String⍰ & String⍰ & String⍰\\\\\n",
       "\t\\hline\n",
       "\t1 & 4 & George & Doctor & Germany & george@y.com & Berlin \\\\\n",
       "\t2 & 8 & Laila & Doctor & Morocco & laila@y.com & Brussel \\\\\n",
       "\t3 & 10 & Mark & Doctor & Germany & mark@y.com & Dusseldorf \\\\\n",
       "\\end{tabular}\n"
      ],
      "text/plain": [
       "3×6 DataFrame\n",
       "│ Row │ Id     │ Name    │ Occupation │ BirtPlace │ email        │ City       │\n",
       "│     │ \u001b[90mInt64⍰\u001b[39m │ \u001b[90mString⍰\u001b[39m │ \u001b[90mString⍰\u001b[39m    │ \u001b[90mString⍰\u001b[39m   │ \u001b[90mString⍰\u001b[39m      │ \u001b[90mString⍰\u001b[39m    │\n",
       "├─────┼────────┼─────────┼────────────┼───────────┼──────────────┼────────────┤\n",
       "│ 1   │ 4      │ George  │ Doctor     │ Germany   │ george@y.com │ Berlin     │\n",
       "│ 2   │ 8      │ Laila   │ Doctor     │ Morocco   │ laila@y.com  │ Brussel    │\n",
       "│ 3   │ 10     │ Mark    │ Doctor     │ Germany   │ mark@y.com   │ Dusseldorf │"
      ]
     },
     "execution_count": 13,
     "metadata": {},
     "output_type": "execute_result"
    }
   ],
   "source": [
    "rename!(dfLeft,:PerEmail => :email);\n",
    "rename!(dfRight,:BussEmail => :email);\n",
    "join(dfLeft, dfRight, on=[:Id, :email])     # joining on two columns"
   ]
  },
  {
   "cell_type": "markdown",
   "metadata": {},
   "source": [
    "Melt / Stack"
   ]
  },
  {
   "cell_type": "code",
   "execution_count": 18,
   "metadata": {},
   "outputs": [
    {
     "data": {
      "text/html": [
       "<table class=\"data-frame\"><thead><tr><th></th><th>Key</th><th>Observed</th><th>Id</th></tr><tr><th></th><th>Symbol</th><th>String⍰</th><th>Int64⍰</th></tr></thead><tbody><p>20 rows × 3 columns</p><tr><th>1</th><td>Name</td><td>John</td><td>1</td></tr><tr><th>2</th><td>Name</td><td>Mike</td><td>2</td></tr><tr><th>3</th><td>Name</td><td>Maggy</td><td>3</td></tr><tr><th>4</th><td>Name</td><td>George</td><td>4</td></tr><tr><th>5</th><td>Name</td><td>Ali</td><td>5</td></tr><tr><th>6</th><td>Name</td><td>Robert</td><td>6</td></tr><tr><th>7</th><td>Name</td><td>Susanna</td><td>7</td></tr><tr><th>8</th><td>Name</td><td>Laila</td><td>8</td></tr><tr><th>9</th><td>Name</td><td>Harry</td><td>9</td></tr><tr><th>10</th><td>Name</td><td>Mark</td><td>10</td></tr><tr><th>11</th><td>email</td><td>john@y.com</td><td>1</td></tr><tr><th>12</th><td>email</td><td>mike@g.com</td><td>2</td></tr><tr><th>13</th><td>email</td><td>maggy@y.com</td><td>3</td></tr><tr><th>14</th><td>email</td><td>george@y.com</td><td>4</td></tr><tr><th>15</th><td>email</td><td>ali@y.com</td><td>5</td></tr><tr><th>16</th><td>email</td><td>robert@g.com</td><td>6</td></tr><tr><th>17</th><td>email</td><td>s@y.com</td><td>7</td></tr><tr><th>18</th><td>email</td><td>laila@y.com</td><td>8</td></tr><tr><th>19</th><td>email</td><td>harry80@g.com</td><td>9</td></tr><tr><th>20</th><td>email</td><td>mark@y.com</td><td>10</td></tr></tbody></table>"
      ],
      "text/latex": [
       "\\begin{tabular}{r|ccc}\n",
       "\t& Key & Observed & Id\\\\\n",
       "\t\\hline\n",
       "\t& Symbol & String⍰ & Int64⍰\\\\\n",
       "\t\\hline\n",
       "\t1 & Name & John & 1 \\\\\n",
       "\t2 & Name & Mike & 2 \\\\\n",
       "\t3 & Name & Maggy & 3 \\\\\n",
       "\t4 & Name & George & 4 \\\\\n",
       "\t5 & Name & Ali & 5 \\\\\n",
       "\t6 & Name & Robert & 6 \\\\\n",
       "\t7 & Name & Susanna & 7 \\\\\n",
       "\t8 & Name & Laila & 8 \\\\\n",
       "\t9 & Name & Harry & 9 \\\\\n",
       "\t10 & Name & Mark & 10 \\\\\n",
       "\t11 & email & john@y.com & 1 \\\\\n",
       "\t12 & email & mike@g.com & 2 \\\\\n",
       "\t13 & email & maggy@y.com & 3 \\\\\n",
       "\t14 & email & george@y.com & 4 \\\\\n",
       "\t15 & email & ali@y.com & 5 \\\\\n",
       "\t16 & email & robert@g.com & 6 \\\\\n",
       "\t17 & email & s@y.com & 7 \\\\\n",
       "\t18 & email & laila@y.com & 8 \\\\\n",
       "\t19 & email & harry80@g.com & 9 \\\\\n",
       "\t20 & email & mark@y.com & 10 \\\\\n",
       "\\end{tabular}\n"
      ],
      "text/plain": [
       "20×3 DataFrame\n",
       "│ Row │ Key    │ Observed      │ Id     │\n",
       "│     │ \u001b[90mSymbol\u001b[39m │ \u001b[90mString⍰\u001b[39m       │ \u001b[90mInt64⍰\u001b[39m │\n",
       "├─────┼────────┼───────────────┼────────┤\n",
       "│ 1   │ Name   │ John          │ 1      │\n",
       "│ 2   │ Name   │ Mike          │ 2      │\n",
       "│ 3   │ Name   │ Maggy         │ 3      │\n",
       "│ 4   │ Name   │ George        │ 4      │\n",
       "│ 5   │ Name   │ Ali           │ 5      │\n",
       "│ 6   │ Name   │ Robert        │ 6      │\n",
       "│ 7   │ Name   │ Susanna       │ 7      │\n",
       "│ 8   │ Name   │ Laila         │ 8      │\n",
       "│ 9   │ Name   │ Harry         │ 9      │\n",
       "│ 10  │ Name   │ Mark          │ 10     │\n",
       "│ 11  │ email  │ john@y.com    │ 1      │\n",
       "│ 12  │ email  │ mike@g.com    │ 2      │\n",
       "│ 13  │ email  │ maggy@y.com   │ 3      │\n",
       "│ 14  │ email  │ george@y.com  │ 4      │\n",
       "│ 15  │ email  │ ali@y.com     │ 5      │\n",
       "│ 16  │ email  │ robert@g.com  │ 6      │\n",
       "│ 17  │ email  │ s@y.com       │ 7      │\n",
       "│ 18  │ email  │ laila@y.com   │ 8      │\n",
       "│ 19  │ email  │ harry80@g.com │ 9      │\n",
       "│ 20  │ email  │ mark@y.com    │ 10     │"
      ]
     },
     "execution_count": 18,
     "metadata": {},
     "output_type": "execute_result"
    }
   ],
   "source": [
    "melt(dfLeft, :Id, [:Name, :email], variable_name=:Key, value_name=:Observed)     \n",
    "# stack(dfLeft, [:Name, :email], :Id, variable_name=:Key, value_name=:Observed)  is exactly same"
   ]
  },
  {
   "cell_type": "code",
   "execution_count": 16,
   "metadata": {},
   "outputs": [
    {
     "data": {
      "text/html": [
       "<table class=\"data-frame\"><thead><tr><th></th><th>variable</th><th>value</th><th>Id</th><th>Occupation</th></tr><tr><th></th><th>Symbol</th><th>String⍰</th><th>Int64⍰</th><th>String⍰</th></tr></thead><tbody><p>20 rows × 4 columns</p><tr><th>1</th><td>Name</td><td>John</td><td>1</td><td>Engineer</td></tr><tr><th>2</th><td>Name</td><td>Mike</td><td>2</td><td>Teacher</td></tr><tr><th>3</th><td>Name</td><td>Maggy</td><td>3</td><td>Nurse</td></tr><tr><th>4</th><td>Name</td><td>George</td><td>4</td><td>Doctor</td></tr><tr><th>5</th><td>Name</td><td>Ali</td><td>5</td><td>Advocate</td></tr><tr><th>6</th><td>Name</td><td>Robert</td><td>6</td><td>Pilot</td></tr><tr><th>7</th><td>Name</td><td>Susanna</td><td>7</td><td>Teacher</td></tr><tr><th>8</th><td>Name</td><td>Laila</td><td>8</td><td>Doctor</td></tr><tr><th>9</th><td>Name</td><td>Harry</td><td>9</td><td>Scientist</td></tr><tr><th>10</th><td>Name</td><td>Mark</td><td>10</td><td>Doctor</td></tr><tr><th>11</th><td>email</td><td>john@y.com</td><td>1</td><td>Engineer</td></tr><tr><th>12</th><td>email</td><td>mike@g.com</td><td>2</td><td>Teacher</td></tr><tr><th>13</th><td>email</td><td>maggy@y.com</td><td>3</td><td>Nurse</td></tr><tr><th>14</th><td>email</td><td>george@y.com</td><td>4</td><td>Doctor</td></tr><tr><th>15</th><td>email</td><td>ali@y.com</td><td>5</td><td>Advocate</td></tr><tr><th>16</th><td>email</td><td>robert@g.com</td><td>6</td><td>Pilot</td></tr><tr><th>17</th><td>email</td><td>s@y.com</td><td>7</td><td>Teacher</td></tr><tr><th>18</th><td>email</td><td>laila@y.com</td><td>8</td><td>Doctor</td></tr><tr><th>19</th><td>email</td><td>harry80@g.com</td><td>9</td><td>Scientist</td></tr><tr><th>20</th><td>email</td><td>mark@y.com</td><td>10</td><td>Doctor</td></tr></tbody></table>"
      ],
      "text/latex": [
       "\\begin{tabular}{r|cccc}\n",
       "\t& variable & value & Id & Occupation\\\\\n",
       "\t\\hline\n",
       "\t& Symbol & String⍰ & Int64⍰ & String⍰\\\\\n",
       "\t\\hline\n",
       "\t1 & Name & John & 1 & Engineer \\\\\n",
       "\t2 & Name & Mike & 2 & Teacher \\\\\n",
       "\t3 & Name & Maggy & 3 & Nurse \\\\\n",
       "\t4 & Name & George & 4 & Doctor \\\\\n",
       "\t5 & Name & Ali & 5 & Advocate \\\\\n",
       "\t6 & Name & Robert & 6 & Pilot \\\\\n",
       "\t7 & Name & Susanna & 7 & Teacher \\\\\n",
       "\t8 & Name & Laila & 8 & Doctor \\\\\n",
       "\t9 & Name & Harry & 9 & Scientist \\\\\n",
       "\t10 & Name & Mark & 10 & Doctor \\\\\n",
       "\t11 & email & john@y.com & 1 & Engineer \\\\\n",
       "\t12 & email & mike@g.com & 2 & Teacher \\\\\n",
       "\t13 & email & maggy@y.com & 3 & Nurse \\\\\n",
       "\t14 & email & george@y.com & 4 & Doctor \\\\\n",
       "\t15 & email & ali@y.com & 5 & Advocate \\\\\n",
       "\t16 & email & robert@g.com & 6 & Pilot \\\\\n",
       "\t17 & email & s@y.com & 7 & Teacher \\\\\n",
       "\t18 & email & laila@y.com & 8 & Doctor \\\\\n",
       "\t19 & email & harry80@g.com & 9 & Scientist \\\\\n",
       "\t20 & email & mark@y.com & 10 & Doctor \\\\\n",
       "\\end{tabular}\n"
      ],
      "text/plain": [
       "20×4 DataFrame\n",
       "│ Row │ variable │ value         │ Id     │ Occupation │\n",
       "│     │ \u001b[90mSymbol\u001b[39m   │ \u001b[90mString⍰\u001b[39m       │ \u001b[90mInt64⍰\u001b[39m │ \u001b[90mString⍰\u001b[39m    │\n",
       "├─────┼──────────┼───────────────┼────────┼────────────┤\n",
       "│ 1   │ Name     │ John          │ 1      │ Engineer   │\n",
       "│ 2   │ Name     │ Mike          │ 2      │ Teacher    │\n",
       "│ 3   │ Name     │ Maggy         │ 3      │ Nurse      │\n",
       "│ 4   │ Name     │ George        │ 4      │ Doctor     │\n",
       "│ 5   │ Name     │ Ali           │ 5      │ Advocate   │\n",
       "│ 6   │ Name     │ Robert        │ 6      │ Pilot      │\n",
       "│ 7   │ Name     │ Susanna       │ 7      │ Teacher    │\n",
       "│ 8   │ Name     │ Laila         │ 8      │ Doctor     │\n",
       "│ 9   │ Name     │ Harry         │ 9      │ Scientist  │\n",
       "│ 10  │ Name     │ Mark          │ 10     │ Doctor     │\n",
       "│ 11  │ email    │ john@y.com    │ 1      │ Engineer   │\n",
       "│ 12  │ email    │ mike@g.com    │ 2      │ Teacher    │\n",
       "│ 13  │ email    │ maggy@y.com   │ 3      │ Nurse      │\n",
       "│ 14  │ email    │ george@y.com  │ 4      │ Doctor     │\n",
       "│ 15  │ email    │ ali@y.com     │ 5      │ Advocate   │\n",
       "│ 16  │ email    │ robert@g.com  │ 6      │ Pilot      │\n",
       "│ 17  │ email    │ s@y.com       │ 7      │ Teacher    │\n",
       "│ 18  │ email    │ laila@y.com   │ 8      │ Doctor     │\n",
       "│ 19  │ email    │ harry80@g.com │ 9      │ Scientist  │\n",
       "│ 20  │ email    │ mark@y.com    │ 10     │ Doctor     │"
      ]
     },
     "execution_count": 16,
     "metadata": {},
     "output_type": "execute_result"
    }
   ],
   "source": [
    "melt(dfLeft, [:Id,:Occupation], [:Name, :email])"
   ]
  },
  {
   "cell_type": "code",
   "execution_count": 20,
   "metadata": {},
   "outputs": [
    {
     "data": {
      "text/html": [
       "<table class=\"data-frame\"><thead><tr><th></th><th>variable</th><th>value</th><th>Name</th><th>email</th></tr><tr><th></th><th>Symbol</th><th>Any</th><th>String⍰</th><th>String⍰</th></tr></thead><tbody><p>30 rows × 4 columns</p><tr><th>1</th><td>Id</td><td>1</td><td>John</td><td>john@y.com</td></tr><tr><th>2</th><td>Id</td><td>2</td><td>Mike</td><td>mike@g.com</td></tr><tr><th>3</th><td>Id</td><td>3</td><td>Maggy</td><td>maggy@y.com</td></tr><tr><th>4</th><td>Id</td><td>4</td><td>George</td><td>george@y.com</td></tr><tr><th>5</th><td>Id</td><td>5</td><td>Ali</td><td>ali@y.com</td></tr><tr><th>6</th><td>Id</td><td>6</td><td>Robert</td><td>robert@g.com</td></tr><tr><th>7</th><td>Id</td><td>7</td><td>Susanna</td><td>s@y.com</td></tr><tr><th>8</th><td>Id</td><td>8</td><td>Laila</td><td>laila@y.com</td></tr><tr><th>9</th><td>Id</td><td>9</td><td>Harry</td><td>harry80@g.com</td></tr><tr><th>10</th><td>Id</td><td>10</td><td>Mark</td><td>mark@y.com</td></tr><tr><th>11</th><td>Occupation</td><td>Engineer</td><td>John</td><td>john@y.com</td></tr><tr><th>12</th><td>Occupation</td><td>Teacher</td><td>Mike</td><td>mike@g.com</td></tr><tr><th>13</th><td>Occupation</td><td>Nurse</td><td>Maggy</td><td>maggy@y.com</td></tr><tr><th>14</th><td>Occupation</td><td>Doctor</td><td>George</td><td>george@y.com</td></tr><tr><th>15</th><td>Occupation</td><td>Advocate</td><td>Ali</td><td>ali@y.com</td></tr><tr><th>16</th><td>Occupation</td><td>Pilot</td><td>Robert</td><td>robert@g.com</td></tr><tr><th>17</th><td>Occupation</td><td>Teacher</td><td>Susanna</td><td>s@y.com</td></tr><tr><th>18</th><td>Occupation</td><td>Doctor</td><td>Laila</td><td>laila@y.com</td></tr><tr><th>19</th><td>Occupation</td><td>Scientist</td><td>Harry</td><td>harry80@g.com</td></tr><tr><th>20</th><td>Occupation</td><td>Doctor</td><td>Mark</td><td>mark@y.com</td></tr><tr><th>21</th><td>BirtPlace</td><td>USA</td><td>John</td><td>john@y.com</td></tr><tr><th>22</th><td>BirtPlace</td><td>Belgium</td><td>Mike</td><td>mike@g.com</td></tr><tr><th>23</th><td>BirtPlace</td><td>France</td><td>Maggy</td><td>maggy@y.com</td></tr><tr><th>24</th><td>BirtPlace</td><td>Germany</td><td>George</td><td>george@y.com</td></tr><tr><th>25</th><td>BirtPlace</td><td>Turkey</td><td>Ali</td><td>ali@y.com</td></tr><tr><th>26</th><td>BirtPlace</td><td>USA</td><td>Robert</td><td>robert@g.com</td></tr><tr><th>27</th><td>BirtPlace</td><td>Germany</td><td>Susanna</td><td>s@y.com</td></tr><tr><th>28</th><td>BirtPlace</td><td>Morocco</td><td>Laila</td><td>laila@y.com</td></tr><tr><th>29</th><td>BirtPlace</td><td>England</td><td>Harry</td><td>harry80@g.com</td></tr><tr><th>30</th><td>BirtPlace</td><td>Germany</td><td>Mark</td><td>mark@y.com</td></tr></tbody></table>"
      ],
      "text/latex": [
       "\\begin{tabular}{r|cccc}\n",
       "\t& variable & value & Name & email\\\\\n",
       "\t\\hline\n",
       "\t& Symbol & Any & String⍰ & String⍰\\\\\n",
       "\t\\hline\n",
       "\t1 & Id & 1 & John & john@y.com \\\\\n",
       "\t2 & Id & 2 & Mike & mike@g.com \\\\\n",
       "\t3 & Id & 3 & Maggy & maggy@y.com \\\\\n",
       "\t4 & Id & 4 & George & george@y.com \\\\\n",
       "\t5 & Id & 5 & Ali & ali@y.com \\\\\n",
       "\t6 & Id & 6 & Robert & robert@g.com \\\\\n",
       "\t7 & Id & 7 & Susanna & s@y.com \\\\\n",
       "\t8 & Id & 8 & Laila & laila@y.com \\\\\n",
       "\t9 & Id & 9 & Harry & harry80@g.com \\\\\n",
       "\t10 & Id & 10 & Mark & mark@y.com \\\\\n",
       "\t11 & Occupation & Engineer & John & john@y.com \\\\\n",
       "\t12 & Occupation & Teacher & Mike & mike@g.com \\\\\n",
       "\t13 & Occupation & Nurse & Maggy & maggy@y.com \\\\\n",
       "\t14 & Occupation & Doctor & George & george@y.com \\\\\n",
       "\t15 & Occupation & Advocate & Ali & ali@y.com \\\\\n",
       "\t16 & Occupation & Pilot & Robert & robert@g.com \\\\\n",
       "\t17 & Occupation & Teacher & Susanna & s@y.com \\\\\n",
       "\t18 & Occupation & Doctor & Laila & laila@y.com \\\\\n",
       "\t19 & Occupation & Scientist & Harry & harry80@g.com \\\\\n",
       "\t20 & Occupation & Doctor & Mark & mark@y.com \\\\\n",
       "\t21 & BirtPlace & USA & John & john@y.com \\\\\n",
       "\t22 & BirtPlace & Belgium & Mike & mike@g.com \\\\\n",
       "\t23 & BirtPlace & France & Maggy & maggy@y.com \\\\\n",
       "\t24 & BirtPlace & Germany & George & george@y.com \\\\\n",
       "\t25 & BirtPlace & Turkey & Ali & ali@y.com \\\\\n",
       "\t26 & BirtPlace & USA & Robert & robert@g.com \\\\\n",
       "\t27 & BirtPlace & Germany & Susanna & s@y.com \\\\\n",
       "\t28 & BirtPlace & Morocco & Laila & laila@y.com \\\\\n",
       "\t29 & BirtPlace & England & Harry & harry80@g.com \\\\\n",
       "\t30 & BirtPlace & Germany & Mark & mark@y.com \\\\\n",
       "\\end{tabular}\n"
      ],
      "text/plain": [
       "30×4 DataFrame\n",
       "│ Row │ variable   │ value   │ Name    │ email         │\n",
       "│     │ \u001b[90mSymbol\u001b[39m     │ \u001b[90mAny\u001b[39m     │ \u001b[90mString⍰\u001b[39m │ \u001b[90mString⍰\u001b[39m       │\n",
       "├─────┼────────────┼─────────┼─────────┼───────────────┤\n",
       "│ 1   │ Id         │ 1       │ John    │ john@y.com    │\n",
       "│ 2   │ Id         │ 2       │ Mike    │ mike@g.com    │\n",
       "│ 3   │ Id         │ 3       │ Maggy   │ maggy@y.com   │\n",
       "│ 4   │ Id         │ 4       │ George  │ george@y.com  │\n",
       "│ 5   │ Id         │ 5       │ Ali     │ ali@y.com     │\n",
       "│ 6   │ Id         │ 6       │ Robert  │ robert@g.com  │\n",
       "│ 7   │ Id         │ 7       │ Susanna │ s@y.com       │\n",
       "│ 8   │ Id         │ 8       │ Laila   │ laila@y.com   │\n",
       "│ 9   │ Id         │ 9       │ Harry   │ harry80@g.com │\n",
       "│ 10  │ Id         │ 10      │ Mark    │ mark@y.com    │\n",
       "⋮\n",
       "│ 20  │ Occupation │ Doctor  │ Mark    │ mark@y.com    │\n",
       "│ 21  │ BirtPlace  │ USA     │ John    │ john@y.com    │\n",
       "│ 22  │ BirtPlace  │ Belgium │ Mike    │ mike@g.com    │\n",
       "│ 23  │ BirtPlace  │ France  │ Maggy   │ maggy@y.com   │\n",
       "│ 24  │ BirtPlace  │ Germany │ George  │ george@y.com  │\n",
       "│ 25  │ BirtPlace  │ Turkey  │ Ali     │ ali@y.com     │\n",
       "│ 26  │ BirtPlace  │ USA     │ Robert  │ robert@g.com  │\n",
       "│ 27  │ BirtPlace  │ Germany │ Susanna │ s@y.com       │\n",
       "│ 28  │ BirtPlace  │ Morocco │ Laila   │ laila@y.com   │\n",
       "│ 29  │ BirtPlace  │ England │ Harry   │ harry80@g.com │\n",
       "│ 30  │ BirtPlace  │ Germany │ Mark    │ mark@y.com    │"
      ]
     },
     "execution_count": 20,
     "metadata": {},
     "output_type": "execute_result"
    }
   ],
   "source": [
    "melt(dfLeft, [:Name, :email]) #all remaining columns are assumed to be variable"
   ]
  },
  {
   "cell_type": "code",
   "execution_count": 23,
   "metadata": {},
   "outputs": [
    {
     "data": {
      "text/html": [
       "<table class=\"data-frame\"><thead><tr><th></th><th>Key</th><th>Observed</th><th>Id</th></tr><tr><th></th><th>Symbol</th><th>String⍰</th><th>Int64⍰</th></tr></thead><tbody><p>20 rows × 3 columns</p><tr><th>1</th><td>Name</td><td>John</td><td>1</td></tr><tr><th>2</th><td>Name</td><td>Mike</td><td>2</td></tr><tr><th>3</th><td>Name</td><td>Maggy</td><td>3</td></tr><tr><th>4</th><td>Name</td><td>George</td><td>4</td></tr><tr><th>5</th><td>Name</td><td>Ali</td><td>5</td></tr><tr><th>6</th><td>Name</td><td>Robert</td><td>6</td></tr><tr><th>7</th><td>Name</td><td>Susanna</td><td>7</td></tr><tr><th>8</th><td>Name</td><td>Laila</td><td>8</td></tr><tr><th>9</th><td>Name</td><td>Harry</td><td>9</td></tr><tr><th>10</th><td>Name</td><td>Mark</td><td>10</td></tr><tr><th>11</th><td>email</td><td>john@y.com</td><td>1</td></tr><tr><th>12</th><td>email</td><td>mike@g.com</td><td>2</td></tr><tr><th>13</th><td>email</td><td>maggy@y.com</td><td>3</td></tr><tr><th>14</th><td>email</td><td>george@y.com</td><td>4</td></tr><tr><th>15</th><td>email</td><td>ali@y.com</td><td>5</td></tr><tr><th>16</th><td>email</td><td>robert@g.com</td><td>6</td></tr><tr><th>17</th><td>email</td><td>s@y.com</td><td>7</td></tr><tr><th>18</th><td>email</td><td>laila@y.com</td><td>8</td></tr><tr><th>19</th><td>email</td><td>harry80@g.com</td><td>9</td></tr><tr><th>20</th><td>email</td><td>mark@y.com</td><td>10</td></tr></tbody></table>"
      ],
      "text/latex": [
       "\\begin{tabular}{r|ccc}\n",
       "\t& Key & Observed & Id\\\\\n",
       "\t\\hline\n",
       "\t& Symbol & String⍰ & Int64⍰\\\\\n",
       "\t\\hline\n",
       "\t1 & Name & John & 1 \\\\\n",
       "\t2 & Name & Mike & 2 \\\\\n",
       "\t3 & Name & Maggy & 3 \\\\\n",
       "\t4 & Name & George & 4 \\\\\n",
       "\t5 & Name & Ali & 5 \\\\\n",
       "\t6 & Name & Robert & 6 \\\\\n",
       "\t7 & Name & Susanna & 7 \\\\\n",
       "\t8 & Name & Laila & 8 \\\\\n",
       "\t9 & Name & Harry & 9 \\\\\n",
       "\t10 & Name & Mark & 10 \\\\\n",
       "\t11 & email & john@y.com & 1 \\\\\n",
       "\t12 & email & mike@g.com & 2 \\\\\n",
       "\t13 & email & maggy@y.com & 3 \\\\\n",
       "\t14 & email & george@y.com & 4 \\\\\n",
       "\t15 & email & ali@y.com & 5 \\\\\n",
       "\t16 & email & robert@g.com & 6 \\\\\n",
       "\t17 & email & s@y.com & 7 \\\\\n",
       "\t18 & email & laila@y.com & 8 \\\\\n",
       "\t19 & email & harry80@g.com & 9 \\\\\n",
       "\t20 & email & mark@y.com & 10 \\\\\n",
       "\\end{tabular}\n"
      ],
      "text/plain": [
       "20×3 DataFrame\n",
       "│ Row │ Key    │ Observed      │ Id     │\n",
       "│     │ \u001b[90mSymbol\u001b[39m │ \u001b[90mString⍰\u001b[39m       │ \u001b[90mInt64⍰\u001b[39m │\n",
       "├─────┼────────┼───────────────┼────────┤\n",
       "│ 1   │ Name   │ John          │ 1      │\n",
       "│ 2   │ Name   │ Mike          │ 2      │\n",
       "│ 3   │ Name   │ Maggy         │ 3      │\n",
       "│ 4   │ Name   │ George        │ 4      │\n",
       "│ 5   │ Name   │ Ali           │ 5      │\n",
       "│ 6   │ Name   │ Robert        │ 6      │\n",
       "│ 7   │ Name   │ Susanna       │ 7      │\n",
       "│ 8   │ Name   │ Laila         │ 8      │\n",
       "│ 9   │ Name   │ Harry         │ 9      │\n",
       "│ 10  │ Name   │ Mark          │ 10     │\n",
       "│ 11  │ email  │ john@y.com    │ 1      │\n",
       "│ 12  │ email  │ mike@g.com    │ 2      │\n",
       "│ 13  │ email  │ maggy@y.com   │ 3      │\n",
       "│ 14  │ email  │ george@y.com  │ 4      │\n",
       "│ 15  │ email  │ ali@y.com     │ 5      │\n",
       "│ 16  │ email  │ robert@g.com  │ 6      │\n",
       "│ 17  │ email  │ s@y.com       │ 7      │\n",
       "│ 18  │ email  │ laila@y.com   │ 8      │\n",
       "│ 19  │ email  │ harry80@g.com │ 9      │\n",
       "│ 20  │ email  │ mark@y.com    │ 10     │"
      ]
     },
     "execution_count": 23,
     "metadata": {},
     "output_type": "execute_result"
    }
   ],
   "source": [
    "# melfdf & stackdf creates view, creating views are faster\n",
    "meltdf(dfLeft, :Id, [:Name, :email], variable_name=:Key, value_name=:Observed) "
   ]
  },
  {
   "cell_type": "code",
   "execution_count": null,
   "metadata": {},
   "outputs": [],
   "source": []
  }
 ],
 "metadata": {
  "kernelspec": {
   "display_name": "Julia 1.1.0",
   "language": "julia",
   "name": "julia-1.1"
  },
  "language_info": {
   "file_extension": ".jl",
   "mimetype": "application/julia",
   "name": "julia",
   "version": "1.1.0"
  }
 },
 "nbformat": 4,
 "nbformat_minor": 2
}
