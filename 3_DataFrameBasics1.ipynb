{
 "cells": [
  {
   "cell_type": "markdown",
   "metadata": {},
   "source": [
    "DataFrame Basics 1"
   ]
  },
  {
   "cell_type": "markdown",
   "metadata": {},
   "source": [
    "To download a file on your local machine:"
   ]
  },
  {
   "cell_type": "code",
   "execution_count": 1,
   "metadata": {},
   "outputs": [],
   "source": [
    "using DataFrames\n",
    "#download(\"https://archive.ics.uci.edu/ml/machine-learning-databases/adult/adult.data\", \"adult.csv\")"
   ]
  },
  {
   "cell_type": "markdown",
   "metadata": {},
   "source": [
    "Create DataFrame from existing file:"
   ]
  },
  {
   "cell_type": "code",
   "execution_count": 2,
   "metadata": {},
   "outputs": [],
   "source": [
    "using CSV \n",
    "df = CSV.read(\"adult.csv\"; header=true); # read csv file as DataFramw\n",
    "# CSV.write(\"newfile.csv\", df)  # write your df as CSV file"
   ]
  },
  {
   "cell_type": "markdown",
   "metadata": {},
   "source": [
    "Basic Information about DataFrame"
   ]
  },
  {
   "cell_type": "code",
   "execution_count": 3,
   "metadata": {},
   "outputs": [
    {
     "data": {
      "text/plain": [
       "DataFrame"
      ]
     },
     "execution_count": 3,
     "metadata": {},
     "output_type": "execute_result"
    }
   ],
   "source": [
    "typeof(df)"
   ]
  },
  {
   "cell_type": "code",
   "execution_count": 4,
   "metadata": {},
   "outputs": [
    {
     "data": {
      "text/plain": [
       "(32561, 15)"
      ]
     },
     "execution_count": 4,
     "metadata": {},
     "output_type": "execute_result"
    }
   ],
   "source": [
    "size(df)"
   ]
  },
  {
   "cell_type": "code",
   "execution_count": 5,
   "metadata": {},
   "outputs": [
    {
     "data": {
      "text/plain": [
       "(32561, 32561)"
      ]
     },
     "execution_count": 5,
     "metadata": {},
     "output_type": "execute_result"
    }
   ],
   "source": [
    "size(df, 1), nrow(df)   # both gives number of rows"
   ]
  },
  {
   "cell_type": "code",
   "execution_count": 6,
   "metadata": {},
   "outputs": [
    {
     "data": {
      "text/plain": [
       "(15, 15)"
      ]
     },
     "execution_count": 6,
     "metadata": {},
     "output_type": "execute_result"
    }
   ],
   "source": [
    "size(df, 2), ncol(df) # both gives number of columns"
   ]
  },
  {
   "cell_type": "code",
   "execution_count": 7,
   "metadata": {},
   "outputs": [
    {
     "data": {
      "text/html": [
       "<table class=\"data-frame\"><thead><tr><th></th><th>age</th><th>workclass</th><th>fnlwgt</th><th>education</th><th>education-num</th><th>marital-status</th><th>occupation</th><th>relationship</th><th>race</th><th>sex</th><th>capital-gain</th><th>capital-loss</th><th>hours-per-week</th><th>native-country: </th><th>class</th></tr><tr><th></th><th>Int64⍰</th><th>String⍰</th><th>Int64⍰</th><th>String⍰</th><th>Int64⍰</th><th>String⍰</th><th>String⍰</th><th>String⍰</th><th>String⍰</th><th>String⍰</th><th>Int64⍰</th><th>Int64⍰</th><th>Int64⍰</th><th>String⍰</th><th>String⍰</th></tr></thead><tbody><p>5 rows × 15 columns</p><tr><th>1</th><td>39</td><td> State-gov</td><td>77516</td><td> Bachelors</td><td>13</td><td> Never-married</td><td> Adm-clerical</td><td> Not-in-family</td><td> White</td><td> Male</td><td>2174</td><td>0</td><td>40</td><td> United-States</td><td> &lt;=50K</td></tr><tr><th>2</th><td>50</td><td> Self-emp-not-inc</td><td>83311</td><td> Bachelors</td><td>13</td><td> Married-civ-spouse</td><td> Exec-managerial</td><td> Husband</td><td> White</td><td> Male</td><td>0</td><td>0</td><td>13</td><td> United-States</td><td> &lt;=50K</td></tr><tr><th>3</th><td>38</td><td> Private</td><td>215646</td><td> HS-grad</td><td>9</td><td> Divorced</td><td> Handlers-cleaners</td><td> Not-in-family</td><td> White</td><td> Male</td><td>0</td><td>0</td><td>40</td><td> United-States</td><td> &lt;=50K</td></tr><tr><th>4</th><td>53</td><td> Private</td><td>234721</td><td> 11th</td><td>7</td><td> Married-civ-spouse</td><td> Handlers-cleaners</td><td> Husband</td><td> Black</td><td> Male</td><td>0</td><td>0</td><td>40</td><td> United-States</td><td> &lt;=50K</td></tr><tr><th>5</th><td>28</td><td> Private</td><td>338409</td><td> Bachelors</td><td>13</td><td> Married-civ-spouse</td><td> Prof-specialty</td><td> Wife</td><td> Black</td><td> Female</td><td>0</td><td>0</td><td>40</td><td> Cuba</td><td> &lt;=50K</td></tr></tbody></table>"
      ],
      "text/latex": [
       "\\begin{tabular}{r|ccccccccccccccc}\n",
       "\t& age & workclass & fnlwgt & education & education-num & marital-status & occupation & relationship & race & sex & capital-gain & capital-loss & hours-per-week & native-country:  & class\\\\\n",
       "\t\\hline\n",
       "\t& Int64⍰ & String⍰ & Int64⍰ & String⍰ & Int64⍰ & String⍰ & String⍰ & String⍰ & String⍰ & String⍰ & Int64⍰ & Int64⍰ & Int64⍰ & String⍰ & String⍰\\\\\n",
       "\t\\hline\n",
       "\t1 & 39 &  State-gov & 77516 &  Bachelors & 13 &  Never-married &  Adm-clerical &  Not-in-family &  White &  Male & 2174 & 0 & 40 &  United-States &  <=50K \\\\\n",
       "\t2 & 50 &  Self-emp-not-inc & 83311 &  Bachelors & 13 &  Married-civ-spouse &  Exec-managerial &  Husband &  White &  Male & 0 & 0 & 13 &  United-States &  <=50K \\\\\n",
       "\t3 & 38 &  Private & 215646 &  HS-grad & 9 &  Divorced &  Handlers-cleaners &  Not-in-family &  White &  Male & 0 & 0 & 40 &  United-States &  <=50K \\\\\n",
       "\t4 & 53 &  Private & 234721 &  11th & 7 &  Married-civ-spouse &  Handlers-cleaners &  Husband &  Black &  Male & 0 & 0 & 40 &  United-States &  <=50K \\\\\n",
       "\t5 & 28 &  Private & 338409 &  Bachelors & 13 &  Married-civ-spouse &  Prof-specialty &  Wife &  Black &  Female & 0 & 0 & 40 &  Cuba &  <=50K \\\\\n",
       "\\end{tabular}\n"
      ],
      "text/plain": [
       "5×15 DataFrame. Omitted printing of 10 columns\n",
       "│ Row │ age    │ workclass         │ fnlwgt │ education  │ education-num │\n",
       "│     │ \u001b[90mInt64⍰\u001b[39m │ \u001b[90mString⍰\u001b[39m           │ \u001b[90mInt64⍰\u001b[39m │ \u001b[90mString⍰\u001b[39m    │ \u001b[90mInt64⍰\u001b[39m        │\n",
       "├─────┼────────┼───────────────────┼────────┼────────────┼───────────────┤\n",
       "│ 1   │ 39     │  State-gov        │ 77516  │  Bachelors │ 13            │\n",
       "│ 2   │ 50     │  Self-emp-not-inc │ 83311  │  Bachelors │ 13            │\n",
       "│ 3   │ 38     │  Private          │ 215646 │  HS-grad   │ 9             │\n",
       "│ 4   │ 53     │  Private          │ 234721 │  11th      │ 7             │\n",
       "│ 5   │ 28     │  Private          │ 338409 │  Bachelors │ 13            │"
      ]
     },
     "execution_count": 7,
     "metadata": {},
     "output_type": "execute_result"
    }
   ],
   "source": [
    "first(df,5)   # first 5 rows of dataframe"
   ]
  },
  {
   "cell_type": "code",
   "execution_count": 8,
   "metadata": {},
   "outputs": [
    {
     "data": {
      "text/html": [
       "<table class=\"data-frame\"><thead><tr><th></th><th>age</th><th>workclass</th><th>fnlwgt</th><th>education</th><th>education-num</th><th>marital-status</th><th>occupation</th><th>relationship</th><th>race</th><th>sex</th><th>capital-gain</th><th>capital-loss</th><th>hours-per-week</th><th>native-country: </th><th>class</th></tr><tr><th></th><th>Int64⍰</th><th>String⍰</th><th>Int64⍰</th><th>String⍰</th><th>Int64⍰</th><th>String⍰</th><th>String⍰</th><th>String⍰</th><th>String⍰</th><th>String⍰</th><th>Int64⍰</th><th>Int64⍰</th><th>Int64⍰</th><th>String⍰</th><th>String⍰</th></tr></thead><tbody><p>5 rows × 15 columns</p><tr><th>1</th><td>27</td><td> Private</td><td>257302</td><td> Assoc-acdm</td><td>12</td><td> Married-civ-spouse</td><td> Tech-support</td><td> Wife</td><td> White</td><td> Female</td><td>0</td><td>0</td><td>38</td><td> United-States</td><td> &lt;=50K</td></tr><tr><th>2</th><td>40</td><td> Private</td><td>154374</td><td> HS-grad</td><td>9</td><td> Married-civ-spouse</td><td> Machine-op-inspct</td><td> Husband</td><td> White</td><td> Male</td><td>0</td><td>0</td><td>40</td><td> United-States</td><td> &gt;50K</td></tr><tr><th>3</th><td>58</td><td> Private</td><td>151910</td><td> HS-grad</td><td>9</td><td> Widowed</td><td> Adm-clerical</td><td> Unmarried</td><td> White</td><td> Female</td><td>0</td><td>0</td><td>40</td><td> United-States</td><td> &lt;=50K</td></tr><tr><th>4</th><td>22</td><td> Private</td><td>201490</td><td> HS-grad</td><td>9</td><td> Never-married</td><td> Adm-clerical</td><td> Own-child</td><td> White</td><td> Male</td><td>0</td><td>0</td><td>20</td><td> United-States</td><td> &lt;=50K</td></tr><tr><th>5</th><td>52</td><td> Self-emp-inc</td><td>287927</td><td> HS-grad</td><td>9</td><td> Married-civ-spouse</td><td> Exec-managerial</td><td> Wife</td><td> White</td><td> Female</td><td>15024</td><td>0</td><td>40</td><td> United-States</td><td> &gt;50K</td></tr></tbody></table>"
      ],
      "text/latex": [
       "\\begin{tabular}{r|ccccccccccccccc}\n",
       "\t& age & workclass & fnlwgt & education & education-num & marital-status & occupation & relationship & race & sex & capital-gain & capital-loss & hours-per-week & native-country:  & class\\\\\n",
       "\t\\hline\n",
       "\t& Int64⍰ & String⍰ & Int64⍰ & String⍰ & Int64⍰ & String⍰ & String⍰ & String⍰ & String⍰ & String⍰ & Int64⍰ & Int64⍰ & Int64⍰ & String⍰ & String⍰\\\\\n",
       "\t\\hline\n",
       "\t1 & 27 &  Private & 257302 &  Assoc-acdm & 12 &  Married-civ-spouse &  Tech-support &  Wife &  White &  Female & 0 & 0 & 38 &  United-States &  <=50K \\\\\n",
       "\t2 & 40 &  Private & 154374 &  HS-grad & 9 &  Married-civ-spouse &  Machine-op-inspct &  Husband &  White &  Male & 0 & 0 & 40 &  United-States &  >50K \\\\\n",
       "\t3 & 58 &  Private & 151910 &  HS-grad & 9 &  Widowed &  Adm-clerical &  Unmarried &  White &  Female & 0 & 0 & 40 &  United-States &  <=50K \\\\\n",
       "\t4 & 22 &  Private & 201490 &  HS-grad & 9 &  Never-married &  Adm-clerical &  Own-child &  White &  Male & 0 & 0 & 20 &  United-States &  <=50K \\\\\n",
       "\t5 & 52 &  Self-emp-inc & 287927 &  HS-grad & 9 &  Married-civ-spouse &  Exec-managerial &  Wife &  White &  Female & 15024 & 0 & 40 &  United-States &  >50K \\\\\n",
       "\\end{tabular}\n"
      ],
      "text/plain": [
       "5×15 DataFrame. Omitted printing of 10 columns\n",
       "│ Row │ age    │ workclass     │ fnlwgt │ education   │ education-num │\n",
       "│     │ \u001b[90mInt64⍰\u001b[39m │ \u001b[90mString⍰\u001b[39m       │ \u001b[90mInt64⍰\u001b[39m │ \u001b[90mString⍰\u001b[39m     │ \u001b[90mInt64⍰\u001b[39m        │\n",
       "├─────┼────────┼───────────────┼────────┼─────────────┼───────────────┤\n",
       "│ 1   │ 27     │  Private      │ 257302 │  Assoc-acdm │ 12            │\n",
       "│ 2   │ 40     │  Private      │ 154374 │  HS-grad    │ 9             │\n",
       "│ 3   │ 58     │  Private      │ 151910 │  HS-grad    │ 9             │\n",
       "│ 4   │ 22     │  Private      │ 201490 │  HS-grad    │ 9             │\n",
       "│ 5   │ 52     │  Self-emp-inc │ 287927 │  HS-grad    │ 9             │"
      ]
     },
     "execution_count": 8,
     "metadata": {},
     "output_type": "execute_result"
    }
   ],
   "source": [
    "last(df,5)   # last 5 rows of dataframe"
   ]
  },
  {
   "cell_type": "code",
   "execution_count": 9,
   "metadata": {},
   "outputs": [
    {
     "data": {
      "text/plain": [
       "15-element Array{Symbol,1}:\n",
       " :age                      \n",
       " :workclass                \n",
       " :fnlwgt                   \n",
       " :education                \n",
       " Symbol(\"education-num\")   \n",
       " Symbol(\"marital-status\")  \n",
       " :occupation               \n",
       " :relationship             \n",
       " :race                     \n",
       " :sex                      \n",
       " Symbol(\"capital-gain\")    \n",
       " Symbol(\"capital-loss\")    \n",
       " Symbol(\"hours-per-week\")  \n",
       " Symbol(\"native-country: \")\n",
       " :class                    "
      ]
     },
     "execution_count": 9,
     "metadata": {},
     "output_type": "execute_result"
    }
   ],
   "source": [
    "names(df)  # names of all columns"
   ]
  },
  {
   "cell_type": "code",
   "execution_count": 10,
   "metadata": {},
   "outputs": [
    {
     "data": {
      "text/plain": [
       "15-element Array{Union,1}:\n",
       " Union{Missing, Int64} \n",
       " Union{Missing, String}\n",
       " Union{Missing, Int64} \n",
       " Union{Missing, String}\n",
       " Union{Missing, Int64} \n",
       " Union{Missing, String}\n",
       " Union{Missing, String}\n",
       " Union{Missing, String}\n",
       " Union{Missing, String}\n",
       " Union{Missing, String}\n",
       " Union{Missing, Int64} \n",
       " Union{Missing, Int64} \n",
       " Union{Missing, Int64} \n",
       " Union{Missing, String}\n",
       " Union{Missing, String}"
      ]
     },
     "execution_count": 10,
     "metadata": {},
     "output_type": "execute_result"
    }
   ],
   "source": [
    "eltypes(df)  # elemet types of all columns"
   ]
  },
  {
   "cell_type": "code",
   "execution_count": 11,
   "metadata": {},
   "outputs": [
    {
     "name": "stderr",
     "output_type": "stream",
     "text": [
      "┌ Warning: `showcols(df::AbstractDataFrame, all::Bool=false, values::Bool=true)` is deprecated, use `describe(df, stats=[:eltype, :nmissing, :first, :last])` instead.\n",
      "│   caller = showcols(::DataFrame) at deprecated.jl:56\n",
      "└ @ DataFrames .\\deprecated.jl:56\n"
     ]
    },
    {
     "data": {
      "text/html": [
       "<table class=\"data-frame\"><thead><tr><th></th><th>variable</th><th>eltype</th><th>nmissing</th><th>first</th><th>last</th></tr><tr><th></th><th>Symbol</th><th>DataType</th><th>Int64</th><th>Any</th><th>Any</th></tr></thead><tbody><p>15 rows × 5 columns</p><tr><th>1</th><td>age</td><td>Int64</td><td>0</td><td>39</td><td>52</td></tr><tr><th>2</th><td>workclass</td><td>String</td><td>0</td><td> State-gov</td><td> Self-emp-inc</td></tr><tr><th>3</th><td>fnlwgt</td><td>Int64</td><td>0</td><td>77516</td><td>287927</td></tr><tr><th>4</th><td>education</td><td>String</td><td>0</td><td> Bachelors</td><td> HS-grad</td></tr><tr><th>5</th><td>education-num</td><td>Int64</td><td>0</td><td>13</td><td>9</td></tr><tr><th>6</th><td>marital-status</td><td>String</td><td>0</td><td> Never-married</td><td> Married-civ-spouse</td></tr><tr><th>7</th><td>occupation</td><td>String</td><td>0</td><td> Adm-clerical</td><td> Exec-managerial</td></tr><tr><th>8</th><td>relationship</td><td>String</td><td>0</td><td> Not-in-family</td><td> Wife</td></tr><tr><th>9</th><td>race</td><td>String</td><td>0</td><td> White</td><td> White</td></tr><tr><th>10</th><td>sex</td><td>String</td><td>0</td><td> Male</td><td> Female</td></tr><tr><th>11</th><td>capital-gain</td><td>Int64</td><td>0</td><td>2174</td><td>15024</td></tr><tr><th>12</th><td>capital-loss</td><td>Int64</td><td>0</td><td>0</td><td>0</td></tr><tr><th>13</th><td>hours-per-week</td><td>Int64</td><td>0</td><td>40</td><td>40</td></tr><tr><th>14</th><td>native-country: </td><td>String</td><td>0</td><td> United-States</td><td> United-States</td></tr><tr><th>15</th><td>class</td><td>String</td><td>0</td><td> &lt;=50K</td><td> &gt;50K</td></tr></tbody></table>"
      ],
      "text/latex": [
       "\\begin{tabular}{r|ccccc}\n",
       "\t& variable & eltype & nmissing & first & last\\\\\n",
       "\t\\hline\n",
       "\t& Symbol & DataType & Int64 & Any & Any\\\\\n",
       "\t\\hline\n",
       "\t1 & age & Int64 & 0 & 39 & 52 \\\\\n",
       "\t2 & workclass & String & 0 &  State-gov &  Self-emp-inc \\\\\n",
       "\t3 & fnlwgt & Int64 & 0 & 77516 & 287927 \\\\\n",
       "\t4 & education & String & 0 &  Bachelors &  HS-grad \\\\\n",
       "\t5 & education-num & Int64 & 0 & 13 & 9 \\\\\n",
       "\t6 & marital-status & String & 0 &  Never-married &  Married-civ-spouse \\\\\n",
       "\t7 & occupation & String & 0 &  Adm-clerical &  Exec-managerial \\\\\n",
       "\t8 & relationship & String & 0 &  Not-in-family &  Wife \\\\\n",
       "\t9 & race & String & 0 &  White &  White \\\\\n",
       "\t10 & sex & String & 0 &  Male &  Female \\\\\n",
       "\t11 & capital-gain & Int64 & 0 & 2174 & 15024 \\\\\n",
       "\t12 & capital-loss & Int64 & 0 & 0 & 0 \\\\\n",
       "\t13 & hours-per-week & Int64 & 0 & 40 & 40 \\\\\n",
       "\t14 & native-country:  & String & 0 &  United-States &  United-States \\\\\n",
       "\t15 & class & String & 0 &  <=50K &  >50K \\\\\n",
       "\\end{tabular}\n"
      ],
      "text/plain": [
       "15×5 DataFrame. Omitted printing of 1 columns\n",
       "│ Row │ variable         │ eltype   │ nmissing │ first          │\n",
       "│     │ \u001b[90mSymbol\u001b[39m           │ \u001b[90mDataType\u001b[39m │ \u001b[90mInt64\u001b[39m    │ \u001b[90mAny\u001b[39m            │\n",
       "├─────┼──────────────────┼──────────┼──────────┼────────────────┤\n",
       "│ 1   │ age              │ Int64    │ 0        │ 39             │\n",
       "│ 2   │ workclass        │ String   │ 0        │  State-gov     │\n",
       "│ 3   │ fnlwgt           │ Int64    │ 0        │ 77516          │\n",
       "│ 4   │ education        │ String   │ 0        │  Bachelors     │\n",
       "│ 5   │ education-num    │ Int64    │ 0        │ 13             │\n",
       "│ 6   │ marital-status   │ String   │ 0        │  Never-married │\n",
       "│ 7   │ occupation       │ String   │ 0        │  Adm-clerical  │\n",
       "│ 8   │ relationship     │ String   │ 0        │  Not-in-family │\n",
       "│ 9   │ race             │ String   │ 0        │  White         │\n",
       "│ 10  │ sex              │ String   │ 0        │  Male          │\n",
       "│ 11  │ capital-gain     │ Int64    │ 0        │ 2174           │\n",
       "│ 12  │ capital-loss     │ Int64    │ 0        │ 0              │\n",
       "│ 13  │ hours-per-week   │ Int64    │ 0        │ 40             │\n",
       "│ 14  │ native-country:  │ String   │ 0        │  United-States │\n",
       "│ 15  │ class            │ String   │ 0        │  <=50K         │"
      ]
     },
     "execution_count": 11,
     "metadata": {},
     "output_type": "execute_result"
    }
   ],
   "source": [
    "showcols(df)  # informaton about columns"
   ]
  },
  {
   "cell_type": "code",
   "execution_count": 12,
   "metadata": {},
   "outputs": [
    {
     "data": {
      "text/html": [
       "<table class=\"data-frame\"><thead><tr><th></th><th>variable</th><th>mean</th><th>min</th><th>median</th><th>max</th><th>nunique</th><th>nmissing</th><th>eltype</th></tr><tr><th></th><th>Symbol</th><th>Union…</th><th>Any</th><th>Union…</th><th>Any</th><th>Union…</th><th>Int64</th><th>DataType</th></tr></thead><tbody><p>15 rows × 8 columns</p><tr><th>1</th><td>age</td><td>38.5816</td><td>17</td><td>37.0</td><td>90</td><td></td><td>0</td><td>Int64</td></tr><tr><th>2</th><td>workclass</td><td></td><td> ?</td><td></td><td> Without-pay</td><td>9</td><td>0</td><td>String</td></tr><tr><th>3</th><td>fnlwgt</td><td>1.89778e5</td><td>12285</td><td>178356.0</td><td>1484705</td><td></td><td>0</td><td>Int64</td></tr><tr><th>4</th><td>education</td><td></td><td> 10th</td><td></td><td> Some-college</td><td>16</td><td>0</td><td>String</td></tr><tr><th>5</th><td>education-num</td><td>10.0807</td><td>1</td><td>10.0</td><td>16</td><td></td><td>0</td><td>Int64</td></tr><tr><th>6</th><td>marital-status</td><td></td><td> Divorced</td><td></td><td> Widowed</td><td>7</td><td>0</td><td>String</td></tr><tr><th>7</th><td>occupation</td><td></td><td> ?</td><td></td><td> Transport-moving</td><td>15</td><td>0</td><td>String</td></tr><tr><th>8</th><td>relationship</td><td></td><td> Husband</td><td></td><td> Wife</td><td>6</td><td>0</td><td>String</td></tr><tr><th>9</th><td>race</td><td></td><td> Amer-Indian-Eskimo</td><td></td><td> White</td><td>5</td><td>0</td><td>String</td></tr><tr><th>10</th><td>sex</td><td></td><td> Female</td><td></td><td> Male</td><td>2</td><td>0</td><td>String</td></tr><tr><th>11</th><td>capital-gain</td><td>1077.65</td><td>0</td><td>0.0</td><td>99999</td><td></td><td>0</td><td>Int64</td></tr><tr><th>12</th><td>capital-loss</td><td>87.3038</td><td>0</td><td>0.0</td><td>4356</td><td></td><td>0</td><td>Int64</td></tr><tr><th>13</th><td>hours-per-week</td><td>40.4375</td><td>1</td><td>40.0</td><td>99</td><td></td><td>0</td><td>Int64</td></tr><tr><th>14</th><td>native-country: </td><td></td><td> ?</td><td></td><td> Yugoslavia</td><td>42</td><td>0</td><td>String</td></tr><tr><th>15</th><td>class</td><td></td><td> &lt;=50K</td><td></td><td> &gt;50K</td><td>2</td><td>0</td><td>String</td></tr></tbody></table>"
      ],
      "text/latex": [
       "\\begin{tabular}{r|cccccccc}\n",
       "\t& variable & mean & min & median & max & nunique & nmissing & eltype\\\\\n",
       "\t\\hline\n",
       "\t& Symbol & Union… & Any & Union… & Any & Union… & Int64 & DataType\\\\\n",
       "\t\\hline\n",
       "\t1 & age & 38.5816 & 17 & 37.0 & 90 &  & 0 & Int64 \\\\\n",
       "\t2 & workclass &  &  ? &  &  Without-pay & 9 & 0 & String \\\\\n",
       "\t3 & fnlwgt & 1.89778e5 & 12285 & 178356.0 & 1484705 &  & 0 & Int64 \\\\\n",
       "\t4 & education &  &  10th &  &  Some-college & 16 & 0 & String \\\\\n",
       "\t5 & education-num & 10.0807 & 1 & 10.0 & 16 &  & 0 & Int64 \\\\\n",
       "\t6 & marital-status &  &  Divorced &  &  Widowed & 7 & 0 & String \\\\\n",
       "\t7 & occupation &  &  ? &  &  Transport-moving & 15 & 0 & String \\\\\n",
       "\t8 & relationship &  &  Husband &  &  Wife & 6 & 0 & String \\\\\n",
       "\t9 & race &  &  Amer-Indian-Eskimo &  &  White & 5 & 0 & String \\\\\n",
       "\t10 & sex &  &  Female &  &  Male & 2 & 0 & String \\\\\n",
       "\t11 & capital-gain & 1077.65 & 0 & 0.0 & 99999 &  & 0 & Int64 \\\\\n",
       "\t12 & capital-loss & 87.3038 & 0 & 0.0 & 4356 &  & 0 & Int64 \\\\\n",
       "\t13 & hours-per-week & 40.4375 & 1 & 40.0 & 99 &  & 0 & Int64 \\\\\n",
       "\t14 & native-country:  &  &  ? &  &  Yugoslavia & 42 & 0 & String \\\\\n",
       "\t15 & class &  &  <=50K &  &  >50K & 2 & 0 & String \\\\\n",
       "\\end{tabular}\n"
      ],
      "text/plain": [
       "15×8 DataFrame. Omitted printing of 4 columns\n",
       "│ Row │ variable         │ mean      │ min                 │ median   │\n",
       "│     │ \u001b[90mSymbol\u001b[39m           │ \u001b[90mUnion…\u001b[39m    │ \u001b[90mAny\u001b[39m                 │ \u001b[90mUnion…\u001b[39m   │\n",
       "├─────┼──────────────────┼───────────┼─────────────────────┼──────────┤\n",
       "│ 1   │ age              │ 38.5816   │ 17                  │ 37.0     │\n",
       "│ 2   │ workclass        │           │  ?                  │          │\n",
       "│ 3   │ fnlwgt           │ 1.89778e5 │ 12285               │ 178356.0 │\n",
       "│ 4   │ education        │           │  10th               │          │\n",
       "│ 5   │ education-num    │ 10.0807   │ 1                   │ 10.0     │\n",
       "│ 6   │ marital-status   │           │  Divorced           │          │\n",
       "│ 7   │ occupation       │           │  ?                  │          │\n",
       "│ 8   │ relationship     │           │  Husband            │          │\n",
       "│ 9   │ race             │           │  Amer-Indian-Eskimo │          │\n",
       "│ 10  │ sex              │           │  Female             │          │\n",
       "│ 11  │ capital-gain     │ 1077.65   │ 0                   │ 0.0      │\n",
       "│ 12  │ capital-loss     │ 87.3038   │ 0                   │ 0.0      │\n",
       "│ 13  │ hours-per-week   │ 40.4375   │ 1                   │ 40.0     │\n",
       "│ 14  │ native-country:  │           │  ?                  │          │\n",
       "│ 15  │ class            │           │  <=50K              │          │"
      ]
     },
     "execution_count": 12,
     "metadata": {},
     "output_type": "execute_result"
    }
   ],
   "source": [
    "describe(df)  # basic summary statistics"
   ]
  },
  {
   "cell_type": "markdown",
   "metadata": {},
   "source": [
    "Extracting rows, columns, or some elements from DataFrame"
   ]
  },
  {
   "cell_type": "code",
   "execution_count": 13,
   "metadata": {},
   "outputs": [],
   "source": [
    "df[:age];     # grab one column as a Vector,  df[1], df[:, 1] give same array"
   ]
  },
  {
   "cell_type": "code",
   "execution_count": 14,
   "metadata": {},
   "outputs": [],
   "source": [
    "df[[:age]];     # grab one column as a DataFrame,  df[[1]], df[:, [1]] give same DataFrame"
   ]
  },
  {
   "cell_type": "code",
   "execution_count": 15,
   "metadata": {},
   "outputs": [],
   "source": [
    "df[[:age,:workclass]];    # grab multiple columns as a DataFrame,  df[[1,2]], df[:, [1,2]] give same DataFrame"
   ]
  },
  {
   "cell_type": "code",
   "execution_count": 16,
   "metadata": {},
   "outputs": [],
   "source": [
    "df[1:5];    # grab multiple columns as a DataFrame from 1st to 5th column"
   ]
  },
  {
   "cell_type": "code",
   "execution_count": 17,
   "metadata": {},
   "outputs": [],
   "source": [
    "df[[true, false, true, false, true, false, false,true, \n",
    "        false, true, false, true, false, false, false ]];    # grab colums using Boolean"
   ]
  },
  {
   "cell_type": "code",
   "execution_count": 18,
   "metadata": {},
   "outputs": [],
   "source": [
    "df[1, :];     # grab one row as a DataFrame"
   ]
  },
  {
   "cell_type": "code",
   "execution_count": 19,
   "metadata": {},
   "outputs": [],
   "source": [
    "df[1:5, :];     # grab multiple rows as a DataFrame from 1st to 5th row, df[[1,3,7,9], :] grab some rows"
   ]
  },
  {
   "cell_type": "code",
   "execution_count": 20,
   "metadata": {},
   "outputs": [
    {
     "data": {
      "text/plain": [
       "39"
      ]
     },
     "execution_count": 20,
     "metadata": {},
     "output_type": "execute_result"
    }
   ],
   "source": [
    "df[1, 1]    # grab one element"
   ]
  },
  {
   "cell_type": "code",
   "execution_count": 21,
   "metadata": {},
   "outputs": [
    {
     "data": {
      "text/html": [
       "<table class=\"data-frame\"><thead><tr><th></th><th>fnlwgt</th><th>education</th><th>education-num</th><th>marital-status</th><th>occupation</th><th>relationship</th><th>race</th><th>sex</th></tr><tr><th></th><th>Int64⍰</th><th>String⍰</th><th>Int64⍰</th><th>String⍰</th><th>String⍰</th><th>String⍰</th><th>String⍰</th><th>String⍰</th></tr></thead><tbody><p>5 rows × 8 columns</p><tr><th>1</th><td>77516</td><td> Bachelors</td><td>13</td><td> Never-married</td><td> Adm-clerical</td><td> Not-in-family</td><td> White</td><td> Male</td></tr><tr><th>2</th><td>83311</td><td> Bachelors</td><td>13</td><td> Married-civ-spouse</td><td> Exec-managerial</td><td> Husband</td><td> White</td><td> Male</td></tr><tr><th>3</th><td>215646</td><td> HS-grad</td><td>9</td><td> Divorced</td><td> Handlers-cleaners</td><td> Not-in-family</td><td> White</td><td> Male</td></tr><tr><th>4</th><td>234721</td><td> 11th</td><td>7</td><td> Married-civ-spouse</td><td> Handlers-cleaners</td><td> Husband</td><td> Black</td><td> Male</td></tr><tr><th>5</th><td>338409</td><td> Bachelors</td><td>13</td><td> Married-civ-spouse</td><td> Prof-specialty</td><td> Wife</td><td> Black</td><td> Female</td></tr></tbody></table>"
      ],
      "text/latex": [
       "\\begin{tabular}{r|cccccccc}\n",
       "\t& fnlwgt & education & education-num & marital-status & occupation & relationship & race & sex\\\\\n",
       "\t\\hline\n",
       "\t& Int64⍰ & String⍰ & Int64⍰ & String⍰ & String⍰ & String⍰ & String⍰ & String⍰\\\\\n",
       "\t\\hline\n",
       "\t1 & 77516 &  Bachelors & 13 &  Never-married &  Adm-clerical &  Not-in-family &  White &  Male \\\\\n",
       "\t2 & 83311 &  Bachelors & 13 &  Married-civ-spouse &  Exec-managerial &  Husband &  White &  Male \\\\\n",
       "\t3 & 215646 &  HS-grad & 9 &  Divorced &  Handlers-cleaners &  Not-in-family &  White &  Male \\\\\n",
       "\t4 & 234721 &  11th & 7 &  Married-civ-spouse &  Handlers-cleaners &  Husband &  Black &  Male \\\\\n",
       "\t5 & 338409 &  Bachelors & 13 &  Married-civ-spouse &  Prof-specialty &  Wife &  Black &  Female \\\\\n",
       "\\end{tabular}\n"
      ],
      "text/plain": [
       "5×8 DataFrame. Omitted printing of 4 columns\n",
       "│ Row │ fnlwgt │ education  │ education-num │ marital-status      │\n",
       "│     │ \u001b[90mInt64⍰\u001b[39m │ \u001b[90mString⍰\u001b[39m    │ \u001b[90mInt64⍰\u001b[39m        │ \u001b[90mString⍰\u001b[39m             │\n",
       "├─────┼────────┼────────────┼───────────────┼─────────────────────┤\n",
       "│ 1   │ 77516  │  Bachelors │ 13            │  Never-married      │\n",
       "│ 2   │ 83311  │  Bachelors │ 13            │  Married-civ-spouse │\n",
       "│ 3   │ 215646 │  HS-grad   │ 9             │  Divorced           │\n",
       "│ 4   │ 234721 │  11th      │ 7             │  Married-civ-spouse │\n",
       "│ 5   │ 338409 │  Bachelors │ 13            │  Married-civ-spouse │"
      ]
     },
     "execution_count": 21,
     "metadata": {},
     "output_type": "execute_result"
    }
   ],
   "source": [
    "df[1:5, 3:10]  # grap certain part"
   ]
  },
  {
   "cell_type": "markdown",
   "metadata": {},
   "source": [
    "Rename column names"
   ]
  },
  {
   "cell_type": "code",
   "execution_count": 22,
   "metadata": {},
   "outputs": [],
   "source": [
    "rename!(df, :sex => :Gender);   # renames column sex as Gender"
   ]
  },
  {
   "cell_type": "code",
   "execution_count": 23,
   "metadata": {},
   "outputs": [],
   "source": [
    "rename!(df,                                     # renames multiple columns\n",
    "    Symbol(\"capital-gain\") => :CapitalGain, \n",
    "    Symbol(\"native-country: \") => :NativeCountry);  "
   ]
  },
  {
   "cell_type": "code",
   "execution_count": 24,
   "metadata": {},
   "outputs": [],
   "source": [
    "new_col_nms = Dict(                              # rename colums using Dictionary\n",
    "    Symbol(\"marital-status\") => :MaritalStatus,\n",
    "    Symbol(\"education-num\") => :EducationNum,\n",
    "    Symbol(\"capital-loss\") => :CapitalLoss,\n",
    "    Symbol(\"hours-per-week\") => :HoursperWeek,\n",
    "    );\n",
    "rename!(df, new_col_nms);   "
   ]
  },
  {
   "cell_type": "code",
   "execution_count": 25,
   "metadata": {},
   "outputs": [
    {
     "data": {
      "text/plain": [
       "15-element Array{Symbol,1}:\n",
       " :age          \n",
       " :workclass    \n",
       " :fnlwgt       \n",
       " :education    \n",
       " :EducationNum \n",
       " :MaritalStatus\n",
       " :occupation   \n",
       " :relationship \n",
       " :race         \n",
       " :Gender       \n",
       " :CapitalGain  \n",
       " :CapitalLoss  \n",
       " :HoursperWeek \n",
       " :NativeCountry\n",
       " :class        "
      ]
     },
     "execution_count": 25,
     "metadata": {},
     "output_type": "execute_result"
    }
   ],
   "source": [
    "names(df)"
   ]
  },
  {
   "cell_type": "code",
   "execution_count": 26,
   "metadata": {},
   "outputs": [
    {
     "data": {
      "text/plain": [
       "true"
      ]
     },
     "execution_count": 26,
     "metadata": {},
     "output_type": "execute_result"
    }
   ],
   "source": [
    ":age in names(df)  # find column name in df"
   ]
  },
  {
   "cell_type": "code",
   "execution_count": 27,
   "metadata": {},
   "outputs": [
    {
     "data": {
      "text/plain": [
       "15-element Array{Symbol,1}:\n",
       " :age          \n",
       " :workclass    \n",
       " :fnlwgt       \n",
       " :education    \n",
       " :EducationNum \n",
       " :MaritalStatus\n",
       " :occupation   \n",
       " :relationship \n",
       " :race         \n",
       " :Gender       \n",
       " :CapitalGain  \n",
       " :CapitalLoss  \n",
       " :HoursperWeek \n",
       " :NativeCountry\n",
       " :class        "
      ]
     },
     "execution_count": 27,
     "metadata": {},
     "output_type": "execute_result"
    }
   ],
   "source": [
    "names(df)"
   ]
  },
  {
   "cell_type": "markdown",
   "metadata": {},
   "source": [
    "Create Dataframe"
   ]
  },
  {
   "cell_type": "code",
   "execution_count": 28,
   "metadata": {},
   "outputs": [
    {
     "data": {
      "text/html": [
       "<table class=\"data-frame\"><thead><tr><th></th></tr><tr><th></th></tr></thead><tbody><p>0 rows × 0 columns</p></tbody></table>"
      ],
      "text/latex": [
       "\\begin{tabular}{r|}\n",
       "\t& \\\\\n",
       "\t\\hline\n",
       "\t& \\\\\n",
       "\t\\hline\n",
       "\\end{tabular}\n"
      ],
      "text/plain": [
       "0×0 DataFrame\n"
      ]
     },
     "execution_count": 28,
     "metadata": {},
     "output_type": "execute_result"
    }
   ],
   "source": [
    "DataFrame()   # creates empty DataFrame"
   ]
  },
  {
   "cell_type": "code",
   "execution_count": 29,
   "metadata": {},
   "outputs": [
    {
     "data": {
      "text/html": [
       "<table class=\"data-frame\"><thead><tr><th></th><th>Id</th><th>Name</th><th>BirtDate</th><th>Height</th></tr><tr><th></th><th>Int32</th><th>String</th><th>Float64</th><th>Float64</th></tr></thead><tbody><p>0 rows × 4 columns</p></tbody></table>"
      ],
      "text/latex": [
       "\\begin{tabular}{r|cccc}\n",
       "\t& Id & Name & BirtDate & Height\\\\\n",
       "\t\\hline\n",
       "\t& Int32 & String & Float64 & Float64\\\\\n",
       "\t\\hline\n",
       "\\end{tabular}\n"
      ],
      "text/plain": [
       "0×4 DataFrame\n"
      ]
     },
     "execution_count": 29,
     "metadata": {},
     "output_type": "execute_result"
    }
   ],
   "source": [
    "DataFrame(          #creates empty DataFrame with specified column names and types\n",
    "    Id=Int32[],\n",
    "    Name=String[], \n",
    "    BirtDate=Float64[], \n",
    "    Height=Float64[])"
   ]
  },
  {
   "cell_type": "code",
   "execution_count": 30,
   "metadata": {},
   "outputs": [
    {
     "data": {
      "text/html": [
       "<table class=\"data-frame\"><thead><tr><th></th><th>A</th><th>B</th><th>C</th></tr><tr><th></th><th>Int64</th><th>Float64</th><th>String</th></tr></thead><tbody><p>3 rows × 3 columns</p><tr><th>1</th><td>1</td><td>0.637243</td><td>h5e</td></tr><tr><th>2</th><td>2</td><td>0.411649</td><td>aDG</td></tr><tr><th>3</th><td>3</td><td>0.221061</td><td>Irr</td></tr></tbody></table>"
      ],
      "text/latex": [
       "\\begin{tabular}{r|ccc}\n",
       "\t& A & B & C\\\\\n",
       "\t\\hline\n",
       "\t& Int64 & Float64 & String\\\\\n",
       "\t\\hline\n",
       "\t1 & 1 & 0.637243 & h5e \\\\\n",
       "\t2 & 2 & 0.411649 & aDG \\\\\n",
       "\t3 & 3 & 0.221061 & Irr \\\\\n",
       "\\end{tabular}\n"
      ],
      "text/plain": [
       "3×3 DataFrame\n",
       "│ Row │ A     │ B        │ C      │\n",
       "│     │ \u001b[90mInt64\u001b[39m │ \u001b[90mFloat64\u001b[39m  │ \u001b[90mString\u001b[39m │\n",
       "├─────┼───────┼──────────┼────────┤\n",
       "│ 1   │ 1     │ 0.637243 │ h5e    │\n",
       "│ 2   │ 2     │ 0.411649 │ aDG    │\n",
       "│ 3   │ 3     │ 0.221061 │ Irr    │"
      ]
     },
     "execution_count": 30,
     "metadata": {},
     "output_type": "execute_result"
    }
   ],
   "source": [
    "using Random\n",
    "DataFrame(A=1:3, B=rand(3), C=randstring.([3,3,3]))   # with column names and coumns as arrays\n",
    "# DataFrame([1:3, rand(3), randstring.([3,3,3])], [:A, :B, :C]) gives the same dataframe"
   ]
  },
  {
   "cell_type": "code",
   "execution_count": 31,
   "metadata": {},
   "outputs": [
    {
     "data": {
      "text/html": [
       "<table class=\"data-frame\"><thead><tr><th></th><th>A</th><th>B</th><th>C</th></tr><tr><th></th><th>Int64</th><th>Float64</th><th>String</th></tr></thead><tbody><p>0 rows × 3 columns</p></tbody></table>"
      ],
      "text/latex": [
       "\\begin{tabular}{r|ccc}\n",
       "\t& A & B & C\\\\\n",
       "\t\\hline\n",
       "\t& Int64 & Float64 & String\\\\\n",
       "\t\\hline\n",
       "\\end{tabular}\n"
      ],
      "text/plain": [
       "0×3 DataFrame\n"
      ]
     },
     "execution_count": 31,
     "metadata": {},
     "output_type": "execute_result"
    }
   ],
   "source": [
    "DataFrame([Int, Float64, String], [:A, :B, :C], 0) # DataFrame with type and column names, but no rows"
   ]
  },
  {
   "cell_type": "code",
   "execution_count": 32,
   "metadata": {},
   "outputs": [
    {
     "data": {
      "text/html": [
       "<table class=\"data-frame\"><thead><tr><th></th><th>x1</th><th>x2</th><th>x3</th></tr><tr><th></th><th>Float64</th><th>Float64</th><th>Float64</th></tr></thead><tbody><p>3 rows × 3 columns</p><tr><th>1</th><td>0.639685</td><td>0.365289</td><td>0.920752</td></tr><tr><th>2</th><td>0.34857</td><td>0.764721</td><td>0.132367</td></tr><tr><th>3</th><td>0.110229</td><td>0.769001</td><td>0.339456</td></tr></tbody></table>"
      ],
      "text/latex": [
       "\\begin{tabular}{r|ccc}\n",
       "\t& x1 & x2 & x3\\\\\n",
       "\t\\hline\n",
       "\t& Float64 & Float64 & Float64\\\\\n",
       "\t\\hline\n",
       "\t1 & 0.639685 & 0.365289 & 0.920752 \\\\\n",
       "\t2 & 0.34857 & 0.764721 & 0.132367 \\\\\n",
       "\t3 & 0.110229 & 0.769001 & 0.339456 \\\\\n",
       "\\end{tabular}\n"
      ],
      "text/plain": [
       "3×3 DataFrame\n",
       "│ Row │ x1       │ x2       │ x3       │\n",
       "│     │ \u001b[90mFloat64\u001b[39m  │ \u001b[90mFloat64\u001b[39m  │ \u001b[90mFloat64\u001b[39m  │\n",
       "├─────┼──────────┼──────────┼──────────┤\n",
       "│ 1   │ 0.639685 │ 0.365289 │ 0.920752 │\n",
       "│ 2   │ 0.34857  │ 0.764721 │ 0.132367 │\n",
       "│ 3   │ 0.110229 │ 0.769001 │ 0.339456 │"
      ]
     },
     "execution_count": 32,
     "metadata": {},
     "output_type": "execute_result"
    }
   ],
   "source": [
    "x = [rand(3) for i in 1:3];\n",
    "DataFrame(x)         # DataFrame from array, matrix"
   ]
  },
  {
   "cell_type": "code",
   "execution_count": 33,
   "metadata": {},
   "outputs": [
    {
     "data": {
      "text/html": [
       "<table class=\"data-frame\"><thead><tr><th></th><th>x1</th><th>x2</th><th>x3</th><th>x4</th><th>x5</th></tr><tr><th></th><th>Int64</th><th>Int64</th><th>Int64</th><th>Int64</th><th>Int64</th></tr></thead><tbody><p>3 rows × 5 columns</p><tr><th>1</th><td>21671189904</td><td>0</td><td>117031632</td><td>21671189904</td><td>137752144</td></tr><tr><th>2</th><td>21673290304</td><td>1</td><td>116341632</td><td>21673290304</td><td>137752176</td></tr><tr><th>3</th><td>123601136</td><td>0</td><td>116350808</td><td>123601136</td><td>123601136</td></tr></tbody></table>"
      ],
      "text/latex": [
       "\\begin{tabular}{r|ccccc}\n",
       "\t& x1 & x2 & x3 & x4 & x5\\\\\n",
       "\t\\hline\n",
       "\t& Int64 & Int64 & Int64 & Int64 & Int64\\\\\n",
       "\t\\hline\n",
       "\t1 & 21671189904 & 0 & 117031632 & 21671189904 & 137752144 \\\\\n",
       "\t2 & 21673290304 & 1 & 116341632 & 21673290304 & 137752176 \\\\\n",
       "\t3 & 123601136 & 0 & 116350808 & 123601136 & 123601136 \\\\\n",
       "\\end{tabular}\n"
      ],
      "text/plain": [
       "3×5 DataFrame\n",
       "│ Row │ x1          │ x2    │ x3        │ x4          │ x5        │\n",
       "│     │ \u001b[90mInt64\u001b[39m       │ \u001b[90mInt64\u001b[39m │ \u001b[90mInt64\u001b[39m     │ \u001b[90mInt64\u001b[39m       │ \u001b[90mInt64\u001b[39m     │\n",
       "├─────┼─────────────┼───────┼───────────┼─────────────┼───────────┤\n",
       "│ 1   │ 21671189904 │ 0     │ 117031632 │ 21671189904 │ 137752144 │\n",
       "│ 2   │ 21673290304 │ 1     │ 116341632 │ 21673290304 │ 137752176 │\n",
       "│ 3   │ 123601136   │ 0     │ 116350808 │ 123601136   │ 123601136 │"
      ]
     },
     "execution_count": 33,
     "metadata": {},
     "output_type": "execute_result"
    }
   ],
   "source": [
    "DataFrame(Int, 3, 5) #with type of all int and size of 3x5"
   ]
  },
  {
   "cell_type": "code",
   "execution_count": 34,
   "metadata": {},
   "outputs": [
    {
     "data": {
      "text/html": [
       "<table class=\"data-frame\"><thead><tr><th></th><th>A</th><th>B</th><th>C</th></tr><tr><th></th><th>Int64</th><th>Bool</th><th>Char</th></tr></thead><tbody><p>2 rows × 3 columns</p><tr><th>1</th><td>1</td><td>true</td><td>'a'</td></tr><tr><th>2</th><td>2</td><td>false</td><td>'b'</td></tr></tbody></table>"
      ],
      "text/latex": [
       "\\begin{tabular}{r|ccc}\n",
       "\t& A & B & C\\\\\n",
       "\t\\hline\n",
       "\t& Int64 & Bool & Char\\\\\n",
       "\t\\hline\n",
       "\t1 & 1 & true & 'a' \\\\\n",
       "\t2 & 2 & false & 'b' \\\\\n",
       "\\end{tabular}\n"
      ],
      "text/plain": [
       "2×3 DataFrame\n",
       "│ Row │ A     │ B     │ C    │\n",
       "│     │ \u001b[90mInt64\u001b[39m │ \u001b[90mBool\u001b[39m  │ \u001b[90mChar\u001b[39m │\n",
       "├─────┼───────┼───────┼──────┤\n",
       "│ 1   │ 1     │ true  │ 'a'  │\n",
       "│ 2   │ 2     │ false │ 'b'  │"
      ]
     },
     "execution_count": 34,
     "metadata": {},
     "output_type": "execute_result"
    }
   ],
   "source": [
    "x = Dict(\"A\" => [1,2], \"B\" => [true, false], \"C\" => ['a', 'b'])\n",
    "DataFrame(x)         # DataFrame from dictionary"
   ]
  },
  {
   "cell_type": "code",
   "execution_count": 35,
   "metadata": {},
   "outputs": [],
   "source": [
    "DataFrame(col1 = df[:education], col2 = df[:occupation]);   # DataFrame from another dataframe"
   ]
  },
  {
   "cell_type": "markdown",
   "metadata": {},
   "source": [
    "Modify DataFrame"
   ]
  },
  {
   "cell_type": "code",
   "execution_count": 36,
   "metadata": {},
   "outputs": [
    {
     "data": {
      "text/html": [
       "<table class=\"data-frame\"><thead><tr><th></th></tr><tr><th></th></tr></thead><tbody><p>0 rows × 0 columns</p></tbody></table>"
      ],
      "text/latex": [
       "\\begin{tabular}{r|}\n",
       "\t& \\\\\n",
       "\t\\hline\n",
       "\t& \\\\\n",
       "\t\\hline\n",
       "\\end{tabular}\n"
      ],
      "text/plain": [
       "0×0 DataFrame\n"
      ]
     },
     "execution_count": 36,
     "metadata": {},
     "output_type": "execute_result"
    }
   ],
   "source": [
    "df_new = df[1:100, 1:5];\n",
    "empty!(df_new)   # remove everything from a DataFrame"
   ]
  },
  {
   "cell_type": "code",
   "execution_count": 37,
   "metadata": {},
   "outputs": [],
   "source": [
    "df_new = df[1:100, 1:5];\n",
    "deletecols!(df_new, 3);       # delete 3rd column\n",
    "deletecols!(df_new, :age);   # delete column named age"
   ]
  },
  {
   "cell_type": "code",
   "execution_count": 38,
   "metadata": {},
   "outputs": [
    {
     "data": {
      "text/plain": [
       "1:100"
      ]
     },
     "execution_count": 38,
     "metadata": {},
     "output_type": "execute_result"
    }
   ],
   "source": [
    "df_new[:Id] = 1:100 # append new column "
   ]
  },
  {
   "cell_type": "markdown",
   "metadata": {},
   "source": [
    "Sorting, Reordering Rows"
   ]
  },
  {
   "cell_type": "code",
   "execution_count": 39,
   "metadata": {},
   "outputs": [
    {
     "data": {
      "text/plain": [
       "false"
      ]
     },
     "execution_count": 39,
     "metadata": {},
     "output_type": "execute_result"
    }
   ],
   "source": [
    "issorted(df)     # is sorted by first column?"
   ]
  },
  {
   "cell_type": "code",
   "execution_count": 40,
   "metadata": {},
   "outputs": [
    {
     "data": {
      "text/plain": [
       "false"
      ]
     },
     "execution_count": 40,
     "metadata": {},
     "output_type": "execute_result"
    }
   ],
   "source": [
    "issorted(df, :workclass)  # is sorted by column age?"
   ]
  },
  {
   "cell_type": "code",
   "execution_count": 41,
   "metadata": {},
   "outputs": [],
   "source": [
    "sort(df);    # sort by first column, to change df use sort!(df)"
   ]
  },
  {
   "cell_type": "code",
   "execution_count": 42,
   "metadata": {},
   "outputs": [],
   "source": [
    "sort(df,:workclass);  # sort by column workclass"
   ]
  },
  {
   "cell_type": "code",
   "execution_count": 43,
   "metadata": {},
   "outputs": [],
   "source": [
    "sort(df, (:age, :fnlwgt), rev=(true, false)); # sort by age and then by :fnlwgt, age decreasing, fnlwgt increasing "
   ]
  },
  {
   "cell_type": "code",
   "execution_count": 44,
   "metadata": {},
   "outputs": [],
   "source": [
    "sort(df, (order(:age, rev=true), :fnlwgt)); # the same as above"
   ]
  },
  {
   "cell_type": "code",
   "execution_count": 45,
   "metadata": {},
   "outputs": [],
   "source": [
    "df[shuffle(1:10), :];  # n=num of rows, shuffles rows (using Random)"
   ]
  },
  {
   "cell_type": "markdown",
   "metadata": {},
   "source": [
    "Concatenation/Merging DataFrames & Adding/Deleting Columns/Rows"
   ]
  },
  {
   "cell_type": "code",
   "execution_count": 46,
   "metadata": {},
   "outputs": [
    {
     "data": {
      "text/html": [
       "<table class=\"data-frame\"><thead><tr><th></th><th>Id</th><th>Code</th><th>Grade</th></tr><tr><th></th><th>Int64</th><th>Char</th><th>Int64</th></tr></thead><tbody><p>5 rows × 3 columns</p><tr><th>1</th><td>1</td><td>'a'</td><td>100</td></tr><tr><th>2</th><td>2</td><td>'b'</td><td>90</td></tr><tr><th>3</th><td>3</td><td>'c'</td><td>80</td></tr><tr><th>4</th><td>4</td><td>'d'</td><td>70</td></tr><tr><th>5</th><td>5</td><td>'e'</td><td>60</td></tr></tbody></table>"
      ],
      "text/latex": [
       "\\begin{tabular}{r|ccc}\n",
       "\t& Id & Code & Grade\\\\\n",
       "\t\\hline\n",
       "\t& Int64 & Char & Int64\\\\\n",
       "\t\\hline\n",
       "\t1 & 1 & 'a' & 100 \\\\\n",
       "\t2 & 2 & 'b' & 90 \\\\\n",
       "\t3 & 3 & 'c' & 80 \\\\\n",
       "\t4 & 4 & 'd' & 70 \\\\\n",
       "\t5 & 5 & 'e' & 60 \\\\\n",
       "\\end{tabular}\n"
      ],
      "text/plain": [
       "5×3 DataFrame\n",
       "│ Row │ Id    │ Code │ Grade │\n",
       "│     │ \u001b[90mInt64\u001b[39m │ \u001b[90mChar\u001b[39m │ \u001b[90mInt64\u001b[39m │\n",
       "├─────┼───────┼──────┼───────┤\n",
       "│ 1   │ 1     │ 'a'  │ 100   │\n",
       "│ 2   │ 2     │ 'b'  │ 90    │\n",
       "│ 3   │ 3     │ 'c'  │ 80    │\n",
       "│ 4   │ 4     │ 'd'  │ 70    │\n",
       "│ 5   │ 5     │ 'e'  │ 60    │"
      ]
     },
     "execution_count": 46,
     "metadata": {},
     "output_type": "execute_result"
    }
   ],
   "source": [
    "df1 = DataFrame(Id=1:5, Code='a':'e', Grade=100:-10:60)"
   ]
  },
  {
   "cell_type": "code",
   "execution_count": 47,
   "metadata": {},
   "outputs": [
    {
     "data": {
      "text/html": [
       "<table class=\"data-frame\"><thead><tr><th></th><th>Letter</th><th>Result</th></tr><tr><th></th><th>Char</th><th>Bool</th></tr></thead><tbody><p>5 rows × 2 columns</p><tr><th>1</th><td>'A'</td><td>true</td></tr><tr><th>2</th><td>'B'</td><td>false</td></tr><tr><th>3</th><td>'C'</td><td>true</td></tr><tr><th>4</th><td>'D'</td><td>true</td></tr><tr><th>5</th><td>'E'</td><td>false</td></tr></tbody></table>"
      ],
      "text/latex": [
       "\\begin{tabular}{r|cc}\n",
       "\t& Letter & Result\\\\\n",
       "\t\\hline\n",
       "\t& Char & Bool\\\\\n",
       "\t\\hline\n",
       "\t1 & 'A' & true \\\\\n",
       "\t2 & 'B' & false \\\\\n",
       "\t3 & 'C' & true \\\\\n",
       "\t4 & 'D' & true \\\\\n",
       "\t5 & 'E' & false \\\\\n",
       "\\end{tabular}\n"
      ],
      "text/plain": [
       "5×2 DataFrame\n",
       "│ Row │ Letter │ Result │\n",
       "│     │ \u001b[90mChar\u001b[39m   │ \u001b[90mBool\u001b[39m   │\n",
       "├─────┼────────┼────────┤\n",
       "│ 1   │ 'A'    │ true   │\n",
       "│ 2   │ 'B'    │ false  │\n",
       "│ 3   │ 'C'    │ true   │\n",
       "│ 4   │ 'D'    │ true   │\n",
       "│ 5   │ 'E'    │ false  │"
      ]
     },
     "execution_count": 47,
     "metadata": {},
     "output_type": "execute_result"
    }
   ],
   "source": [
    "df2 = DataFrame(Letter=['A','B','C','D','E'], Result=[true,false,true,true,false])"
   ]
  },
  {
   "cell_type": "code",
   "execution_count": 48,
   "metadata": {},
   "outputs": [
    {
     "data": {
      "text/html": [
       "<table class=\"data-frame\"><thead><tr><th></th><th>Id</th><th>Code</th><th>Grade</th><th>Letter</th><th>Result</th></tr><tr><th></th><th>Int64</th><th>Char</th><th>Int64</th><th>Char</th><th>Bool</th></tr></thead><tbody><p>5 rows × 5 columns</p><tr><th>1</th><td>1</td><td>'a'</td><td>100</td><td>'A'</td><td>true</td></tr><tr><th>2</th><td>2</td><td>'b'</td><td>90</td><td>'B'</td><td>false</td></tr><tr><th>3</th><td>3</td><td>'c'</td><td>80</td><td>'C'</td><td>true</td></tr><tr><th>4</th><td>4</td><td>'d'</td><td>70</td><td>'D'</td><td>true</td></tr><tr><th>5</th><td>5</td><td>'e'</td><td>60</td><td>'E'</td><td>false</td></tr></tbody></table>"
      ],
      "text/latex": [
       "\\begin{tabular}{r|ccccc}\n",
       "\t& Id & Code & Grade & Letter & Result\\\\\n",
       "\t\\hline\n",
       "\t& Int64 & Char & Int64 & Char & Bool\\\\\n",
       "\t\\hline\n",
       "\t1 & 1 & 'a' & 100 & 'A' & true \\\\\n",
       "\t2 & 2 & 'b' & 90 & 'B' & false \\\\\n",
       "\t3 & 3 & 'c' & 80 & 'C' & true \\\\\n",
       "\t4 & 4 & 'd' & 70 & 'D' & true \\\\\n",
       "\t5 & 5 & 'e' & 60 & 'E' & false \\\\\n",
       "\\end{tabular}\n"
      ],
      "text/plain": [
       "5×5 DataFrame\n",
       "│ Row │ Id    │ Code │ Grade │ Letter │ Result │\n",
       "│     │ \u001b[90mInt64\u001b[39m │ \u001b[90mChar\u001b[39m │ \u001b[90mInt64\u001b[39m │ \u001b[90mChar\u001b[39m   │ \u001b[90mBool\u001b[39m   │\n",
       "├─────┼───────┼──────┼───────┼────────┼────────┤\n",
       "│ 1   │ 1     │ 'a'  │ 100   │ 'A'    │ true   │\n",
       "│ 2   │ 2     │ 'b'  │ 90    │ 'B'    │ false  │\n",
       "│ 3   │ 3     │ 'c'  │ 80    │ 'C'    │ true   │\n",
       "│ 4   │ 4     │ 'd'  │ 70    │ 'D'    │ true   │\n",
       "│ 5   │ 5     │ 'e'  │ 60    │ 'E'    │ false  │"
      ]
     },
     "execution_count": 48,
     "metadata": {},
     "output_type": "execute_result"
    }
   ],
   "source": [
    "hcat(df1, df2)   # horizontal concatenation, or [df1 df2]"
   ]
  },
  {
   "cell_type": "code",
   "execution_count": 49,
   "metadata": {},
   "outputs": [],
   "source": [
    "df3 = DataFrame(Letter=['A','B','C','D','E'], Result=[true,false,true,true,false]);"
   ]
  },
  {
   "cell_type": "code",
   "execution_count": 50,
   "metadata": {},
   "outputs": [
    {
     "ename": "ArgumentError",
     "evalue": "ArgumentError: Duplicate variable names: :Letter and :Result. Pass makeunique=true to make them unique using a suffix automatically.",
     "output_type": "error",
     "traceback": [
      "ArgumentError: Duplicate variable names: :Letter and :Result. Pass makeunique=true to make them unique using a suffix automatically.",
      "",
      "Stacktrace:",
      " [1] #add_names#15(::Bool, ::Function, ::DataFrames.Index, ::DataFrames.Index) at C:\\Users\\zormu\\.julia\\packages\\DataFrames\\lyCjP\\src\\other\\index.jl:195",
      " [2] #add_names at .\\none:0 [inlined]",
      " [3] #hcat!#74(::Bool, ::Function, ::DataFrame, ::DataFrame) at C:\\Users\\zormu\\.julia\\packages\\DataFrames\\lyCjP\\src\\dataframe\\dataframe.jl:858",
      " [4] (::getfield(DataFrames, Symbol(\"#kw##hcat!\")))(::NamedTuple{(:makeunique,),Tuple{Bool}}, ::typeof(DataFrames.hcat!), ::DataFrame, ::DataFrame) at .\\none:0",
      " [5] #hcat#84 at C:\\Users\\zormu\\.julia\\packages\\DataFrames\\lyCjP\\src\\dataframe\\dataframe.jl:867 [inlined]",
      " [6] hcat(::DataFrame, ::DataFrame, ::DataFrame) at C:\\Users\\zormu\\.julia\\packages\\DataFrames\\lyCjP\\src\\dataframe\\dataframe.jl:892",
      " [7] top-level scope at In[50]:1"
     ]
    }
   ],
   "source": [
    "hcat(df1, df2, df3)   # error, same column names result error"
   ]
  },
  {
   "cell_type": "code",
   "execution_count": 51,
   "metadata": {},
   "outputs": [
    {
     "data": {
      "text/html": [
       "<table class=\"data-frame\"><thead><tr><th></th><th>Id</th><th>Code</th><th>Grade</th><th>Letter</th><th>Result</th><th>Letter_1</th><th>Result_1</th></tr><tr><th></th><th>Int64</th><th>Char</th><th>Int64</th><th>Char</th><th>Bool</th><th>Char</th><th>Bool</th></tr></thead><tbody><p>5 rows × 7 columns</p><tr><th>1</th><td>1</td><td>'a'</td><td>100</td><td>'A'</td><td>true</td><td>'A'</td><td>true</td></tr><tr><th>2</th><td>2</td><td>'b'</td><td>90</td><td>'B'</td><td>false</td><td>'B'</td><td>false</td></tr><tr><th>3</th><td>3</td><td>'c'</td><td>80</td><td>'C'</td><td>true</td><td>'C'</td><td>true</td></tr><tr><th>4</th><td>4</td><td>'d'</td><td>70</td><td>'D'</td><td>true</td><td>'D'</td><td>true</td></tr><tr><th>5</th><td>5</td><td>'e'</td><td>60</td><td>'E'</td><td>false</td><td>'E'</td><td>false</td></tr></tbody></table>"
      ],
      "text/latex": [
       "\\begin{tabular}{r|ccccccc}\n",
       "\t& Id & Code & Grade & Letter & Result & Letter\\_1 & Result\\_1\\\\\n",
       "\t\\hline\n",
       "\t& Int64 & Char & Int64 & Char & Bool & Char & Bool\\\\\n",
       "\t\\hline\n",
       "\t1 & 1 & 'a' & 100 & 'A' & true & 'A' & true \\\\\n",
       "\t2 & 2 & 'b' & 90 & 'B' & false & 'B' & false \\\\\n",
       "\t3 & 3 & 'c' & 80 & 'C' & true & 'C' & true \\\\\n",
       "\t4 & 4 & 'd' & 70 & 'D' & true & 'D' & true \\\\\n",
       "\t5 & 5 & 'e' & 60 & 'E' & false & 'E' & false \\\\\n",
       "\\end{tabular}\n"
      ],
      "text/plain": [
       "5×7 DataFrame\n",
       "│ Row │ Id    │ Code │ Grade │ Letter │ Result │ Letter_1 │ Result_1 │\n",
       "│     │ \u001b[90mInt64\u001b[39m │ \u001b[90mChar\u001b[39m │ \u001b[90mInt64\u001b[39m │ \u001b[90mChar\u001b[39m   │ \u001b[90mBool\u001b[39m   │ \u001b[90mChar\u001b[39m     │ \u001b[90mBool\u001b[39m     │\n",
       "├─────┼───────┼──────┼───────┼────────┼────────┼──────────┼──────────┤\n",
       "│ 1   │ 1     │ 'a'  │ 100   │ 'A'    │ true   │ 'A'      │ true     │\n",
       "│ 2   │ 2     │ 'b'  │ 90    │ 'B'    │ false  │ 'B'      │ false    │\n",
       "│ 3   │ 3     │ 'c'  │ 80    │ 'C'    │ true   │ 'C'      │ true     │\n",
       "│ 4   │ 4     │ 'd'  │ 70    │ 'D'    │ true   │ 'D'      │ true     │\n",
       "│ 5   │ 5     │ 'e'  │ 60    │ 'E'    │ false  │ 'E'      │ false    │"
      ]
     },
     "execution_count": 51,
     "metadata": {},
     "output_type": "execute_result"
    }
   ],
   "source": [
    "hcat(df1, df2, df3, makeunique=true) "
   ]
  },
  {
   "cell_type": "code",
   "execution_count": 52,
   "metadata": {},
   "outputs": [
    {
     "ename": "ErrorException",
     "evalue": "syntax: \"$\" expression outside quote",
     "output_type": "error",
     "traceback": [
      "syntax: \"$\" expression outside quote",
      ""
     ]
    }
   ],
   "source": [
    "[ $df1[1:2] $df2[1:2] $df1[3] ] # insert df2 into df1 "
   ]
  },
  {
   "cell_type": "code",
   "execution_count": 53,
   "metadata": {},
   "outputs": [
    {
     "data": {
      "text/html": [
       "<table class=\"data-frame\"><thead><tr><th></th><th>Letter</th><th>newcol</th><th>Result</th></tr><tr><th></th><th>Char</th><th>Int64</th><th>Bool</th></tr></thead><tbody><p>5 rows × 3 columns</p><tr><th>1</th><td>'A'</td><td>10</td><td>true</td></tr><tr><th>2</th><td>'B'</td><td>20</td><td>false</td></tr><tr><th>3</th><td>'C'</td><td>30</td><td>true</td></tr><tr><th>4</th><td>'D'</td><td>40</td><td>true</td></tr><tr><th>5</th><td>'E'</td><td>50</td><td>false</td></tr></tbody></table>"
      ],
      "text/latex": [
       "\\begin{tabular}{r|ccc}\n",
       "\t& Letter & newcol & Result\\\\\n",
       "\t\\hline\n",
       "\t& Char & Int64 & Bool\\\\\n",
       "\t\\hline\n",
       "\t1 & 'A' & 10 & true \\\\\n",
       "\t2 & 'B' & 20 & false \\\\\n",
       "\t3 & 'C' & 30 & true \\\\\n",
       "\t4 & 'D' & 40 & true \\\\\n",
       "\t5 & 'E' & 50 & false \\\\\n",
       "\\end{tabular}\n"
      ],
      "text/plain": [
       "5×3 DataFrame\n",
       "│ Row │ Letter │ newcol │ Result │\n",
       "│     │ \u001b[90mChar\u001b[39m   │ \u001b[90mInt64\u001b[39m  │ \u001b[90mBool\u001b[39m   │\n",
       "├─────┼────────┼────────┼────────┤\n",
       "│ 1   │ 'A'    │ 10     │ true   │\n",
       "│ 2   │ 'B'    │ 20     │ false  │\n",
       "│ 3   │ 'C'    │ 30     │ true   │\n",
       "│ 4   │ 'D'    │ 40     │ true   │\n",
       "│ 5   │ 'E'    │ 50     │ false  │"
      ]
     },
     "execution_count": 53,
     "metadata": {},
     "output_type": "execute_result"
    }
   ],
   "source": [
    "insertcols!(df2, 2, newcol=[10,20,30,40,50], makeunique=true)  # insert array in second column in df2\n",
    "#insertcols!(df2, 2, :newcol=>[1,2,3], makeunique=true)        # same"
   ]
  },
  {
   "cell_type": "code",
   "execution_count": 54,
   "metadata": {},
   "outputs": [
    {
     "data": {
      "text/html": [
       "<table class=\"data-frame\"><thead><tr><th></th><th>Letter</th><th>newcol</th><th>Result</th><th>A</th></tr><tr><th></th><th>Char</th><th>Int64</th><th>Bool</th><th>Float64</th></tr></thead><tbody><p>5 rows × 4 columns</p><tr><th>1</th><td>'A'</td><td>10</td><td>true</td><td>0.120765</td></tr><tr><th>2</th><td>'B'</td><td>20</td><td>false</td><td>0.67233</td></tr><tr><th>3</th><td>'C'</td><td>30</td><td>true</td><td>0.0453503</td></tr><tr><th>4</th><td>'D'</td><td>40</td><td>true</td><td>0.335699</td></tr><tr><th>5</th><td>'E'</td><td>50</td><td>false</td><td>0.15966</td></tr></tbody></table>"
      ],
      "text/latex": [
       "\\begin{tabular}{r|cccc}\n",
       "\t& Letter & newcol & Result & A\\\\\n",
       "\t\\hline\n",
       "\t& Char & Int64 & Bool & Float64\\\\\n",
       "\t\\hline\n",
       "\t1 & 'A' & 10 & true & 0.120765 \\\\\n",
       "\t2 & 'B' & 20 & false & 0.67233 \\\\\n",
       "\t3 & 'C' & 30 & true & 0.0453503 \\\\\n",
       "\t4 & 'D' & 40 & true & 0.335699 \\\\\n",
       "\t5 & 'E' & 50 & false & 0.15966 \\\\\n",
       "\\end{tabular}\n"
      ],
      "text/plain": [
       "5×4 DataFrame\n",
       "│ Row │ Letter │ newcol │ Result │ A         │\n",
       "│     │ \u001b[90mChar\u001b[39m   │ \u001b[90mInt64\u001b[39m  │ \u001b[90mBool\u001b[39m   │ \u001b[90mFloat64\u001b[39m   │\n",
       "├─────┼────────┼────────┼────────┼───────────┤\n",
       "│ 1   │ 'A'    │ 10     │ true   │ 0.120765  │\n",
       "│ 2   │ 'B'    │ 20     │ false  │ 0.67233   │\n",
       "│ 3   │ 'C'    │ 30     │ true   │ 0.0453503 │\n",
       "│ 4   │ 'D'    │ 40     │ true   │ 0.335699  │\n",
       "│ 5   │ 'E'    │ 50     │ false  │ 0.15966   │"
      ]
     },
     "execution_count": 54,
     "metadata": {},
     "output_type": "execute_result"
    }
   ],
   "source": [
    "insertcols!(df2, ncol(df2)+1, :A => rand(5) )   # append column "
   ]
  },
  {
   "cell_type": "code",
   "execution_count": 55,
   "metadata": {},
   "outputs": [
    {
     "data": {
      "text/html": [
       "<table class=\"data-frame\"><thead><tr><th></th><th>Id</th><th>Code</th><th>Grade</th></tr><tr><th></th><th>Int64</th><th>Char</th><th>Int64</th></tr></thead><tbody><p>5 rows × 3 columns</p><tr><th>1</th><td>6</td><td>'f'</td><td>50</td></tr><tr><th>2</th><td>7</td><td>'g'</td><td>40</td></tr><tr><th>3</th><td>8</td><td>'h'</td><td>30</td></tr><tr><th>4</th><td>9</td><td>'i'</td><td>20</td></tr><tr><th>5</th><td>10</td><td>'j'</td><td>10</td></tr></tbody></table>"
      ],
      "text/latex": [
       "\\begin{tabular}{r|ccc}\n",
       "\t& Id & Code & Grade\\\\\n",
       "\t\\hline\n",
       "\t& Int64 & Char & Int64\\\\\n",
       "\t\\hline\n",
       "\t1 & 6 & 'f' & 50 \\\\\n",
       "\t2 & 7 & 'g' & 40 \\\\\n",
       "\t3 & 8 & 'h' & 30 \\\\\n",
       "\t4 & 9 & 'i' & 20 \\\\\n",
       "\t5 & 10 & 'j' & 10 \\\\\n",
       "\\end{tabular}\n"
      ],
      "text/plain": [
       "5×3 DataFrame\n",
       "│ Row │ Id    │ Code │ Grade │\n",
       "│     │ \u001b[90mInt64\u001b[39m │ \u001b[90mChar\u001b[39m │ \u001b[90mInt64\u001b[39m │\n",
       "├─────┼───────┼──────┼───────┤\n",
       "│ 1   │ 6     │ 'f'  │ 50    │\n",
       "│ 2   │ 7     │ 'g'  │ 40    │\n",
       "│ 3   │ 8     │ 'h'  │ 30    │\n",
       "│ 4   │ 9     │ 'i'  │ 20    │\n",
       "│ 5   │ 10    │ 'j'  │ 10    │"
      ]
     },
     "execution_count": 55,
     "metadata": {},
     "output_type": "execute_result"
    }
   ],
   "source": [
    "df4 = DataFrame(Id=6:10, Code='f':'j', Grade=50:-10:10)"
   ]
  },
  {
   "cell_type": "code",
   "execution_count": 56,
   "metadata": {},
   "outputs": [
    {
     "data": {
      "text/html": [
       "<table class=\"data-frame\"><thead><tr><th></th><th>Id</th><th>Code</th><th>Grade</th></tr><tr><th></th><th>Int64</th><th>Char</th><th>Int64</th></tr></thead><tbody><p>10 rows × 3 columns</p><tr><th>1</th><td>1</td><td>'a'</td><td>100</td></tr><tr><th>2</th><td>2</td><td>'b'</td><td>90</td></tr><tr><th>3</th><td>3</td><td>'c'</td><td>80</td></tr><tr><th>4</th><td>4</td><td>'d'</td><td>70</td></tr><tr><th>5</th><td>5</td><td>'e'</td><td>60</td></tr><tr><th>6</th><td>6</td><td>'f'</td><td>50</td></tr><tr><th>7</th><td>7</td><td>'g'</td><td>40</td></tr><tr><th>8</th><td>8</td><td>'h'</td><td>30</td></tr><tr><th>9</th><td>9</td><td>'i'</td><td>20</td></tr><tr><th>10</th><td>10</td><td>'j'</td><td>10</td></tr></tbody></table>"
      ],
      "text/latex": [
       "\\begin{tabular}{r|ccc}\n",
       "\t& Id & Code & Grade\\\\\n",
       "\t\\hline\n",
       "\t& Int64 & Char & Int64\\\\\n",
       "\t\\hline\n",
       "\t1 & 1 & 'a' & 100 \\\\\n",
       "\t2 & 2 & 'b' & 90 \\\\\n",
       "\t3 & 3 & 'c' & 80 \\\\\n",
       "\t4 & 4 & 'd' & 70 \\\\\n",
       "\t5 & 5 & 'e' & 60 \\\\\n",
       "\t6 & 6 & 'f' & 50 \\\\\n",
       "\t7 & 7 & 'g' & 40 \\\\\n",
       "\t8 & 8 & 'h' & 30 \\\\\n",
       "\t9 & 9 & 'i' & 20 \\\\\n",
       "\t10 & 10 & 'j' & 10 \\\\\n",
       "\\end{tabular}\n"
      ],
      "text/plain": [
       "10×3 DataFrame\n",
       "│ Row │ Id    │ Code │ Grade │\n",
       "│     │ \u001b[90mInt64\u001b[39m │ \u001b[90mChar\u001b[39m │ \u001b[90mInt64\u001b[39m │\n",
       "├─────┼───────┼──────┼───────┤\n",
       "│ 1   │ 1     │ 'a'  │ 100   │\n",
       "│ 2   │ 2     │ 'b'  │ 90    │\n",
       "│ 3   │ 3     │ 'c'  │ 80    │\n",
       "│ 4   │ 4     │ 'd'  │ 70    │\n",
       "│ 5   │ 5     │ 'e'  │ 60    │\n",
       "│ 6   │ 6     │ 'f'  │ 50    │\n",
       "│ 7   │ 7     │ 'g'  │ 40    │\n",
       "│ 8   │ 8     │ 'h'  │ 30    │\n",
       "│ 9   │ 9     │ 'i'  │ 20    │\n",
       "│ 10  │ 10    │ 'j'  │ 10    │"
      ]
     },
     "execution_count": 56,
     "metadata": {},
     "output_type": "execute_result"
    }
   ],
   "source": [
    "vcat(df1, df4) # vertical concatenation, column names can be in different order "
   ]
  },
  {
   "cell_type": "code",
   "execution_count": 57,
   "metadata": {},
   "outputs": [
    {
     "data": {
      "text/html": [
       "<table class=\"data-frame\"><thead><tr><th></th><th>Id</th><th>Code</th><th>Grade</th></tr><tr><th></th><th>Int64</th><th>Char</th><th>Int64</th></tr></thead><tbody><p>10 rows × 3 columns</p><tr><th>1</th><td>1</td><td>'a'</td><td>100</td></tr><tr><th>2</th><td>2</td><td>'b'</td><td>90</td></tr><tr><th>3</th><td>3</td><td>'c'</td><td>80</td></tr><tr><th>4</th><td>4</td><td>'d'</td><td>70</td></tr><tr><th>5</th><td>5</td><td>'e'</td><td>60</td></tr><tr><th>6</th><td>6</td><td>'f'</td><td>50</td></tr><tr><th>7</th><td>7</td><td>'g'</td><td>40</td></tr><tr><th>8</th><td>8</td><td>'h'</td><td>30</td></tr><tr><th>9</th><td>9</td><td>'i'</td><td>20</td></tr><tr><th>10</th><td>10</td><td>'j'</td><td>10</td></tr></tbody></table>"
      ],
      "text/latex": [
       "\\begin{tabular}{r|ccc}\n",
       "\t& Id & Code & Grade\\\\\n",
       "\t\\hline\n",
       "\t& Int64 & Char & Int64\\\\\n",
       "\t\\hline\n",
       "\t1 & 1 & 'a' & 100 \\\\\n",
       "\t2 & 2 & 'b' & 90 \\\\\n",
       "\t3 & 3 & 'c' & 80 \\\\\n",
       "\t4 & 4 & 'd' & 70 \\\\\n",
       "\t5 & 5 & 'e' & 60 \\\\\n",
       "\t6 & 6 & 'f' & 50 \\\\\n",
       "\t7 & 7 & 'g' & 40 \\\\\n",
       "\t8 & 8 & 'h' & 30 \\\\\n",
       "\t9 & 9 & 'i' & 20 \\\\\n",
       "\t10 & 10 & 'j' & 10 \\\\\n",
       "\\end{tabular}\n"
      ],
      "text/plain": [
       "10×3 DataFrame\n",
       "│ Row │ Id    │ Code │ Grade │\n",
       "│     │ \u001b[90mInt64\u001b[39m │ \u001b[90mChar\u001b[39m │ \u001b[90mInt64\u001b[39m │\n",
       "├─────┼───────┼──────┼───────┤\n",
       "│ 1   │ 1     │ 'a'  │ 100   │\n",
       "│ 2   │ 2     │ 'b'  │ 90    │\n",
       "│ 3   │ 3     │ 'c'  │ 80    │\n",
       "│ 4   │ 4     │ 'd'  │ 70    │\n",
       "│ 5   │ 5     │ 'e'  │ 60    │\n",
       "│ 6   │ 6     │ 'f'  │ 50    │\n",
       "│ 7   │ 7     │ 'g'  │ 40    │\n",
       "│ 8   │ 8     │ 'h'  │ 30    │\n",
       "│ 9   │ 9     │ 'i'  │ 20    │\n",
       "│ 10  │ 10    │ 'j'  │ 10    │"
      ]
     },
     "execution_count": 57,
     "metadata": {},
     "output_type": "execute_result"
    }
   ],
   "source": [
    "[df1; df4] # # vertical concatenation, column names must be in same order"
   ]
  },
  {
   "cell_type": "code",
   "execution_count": 58,
   "metadata": {},
   "outputs": [
    {
     "data": {
      "text/html": [
       "<table class=\"data-frame\"><thead><tr><th></th><th>Id</th><th>Code</th><th>Grade</th></tr><tr><th></th><th>Int64</th><th>Char</th><th>Int64</th></tr></thead><tbody><p>10 rows × 3 columns</p><tr><th>1</th><td>1</td><td>'a'</td><td>100</td></tr><tr><th>2</th><td>2</td><td>'b'</td><td>90</td></tr><tr><th>3</th><td>3</td><td>'c'</td><td>80</td></tr><tr><th>4</th><td>4</td><td>'d'</td><td>70</td></tr><tr><th>5</th><td>5</td><td>'e'</td><td>60</td></tr><tr><th>6</th><td>6</td><td>'f'</td><td>50</td></tr><tr><th>7</th><td>7</td><td>'g'</td><td>40</td></tr><tr><th>8</th><td>8</td><td>'h'</td><td>30</td></tr><tr><th>9</th><td>9</td><td>'i'</td><td>20</td></tr><tr><th>10</th><td>10</td><td>'j'</td><td>10</td></tr></tbody></table>"
      ],
      "text/latex": [
       "\\begin{tabular}{r|ccc}\n",
       "\t& Id & Code & Grade\\\\\n",
       "\t\\hline\n",
       "\t& Int64 & Char & Int64\\\\\n",
       "\t\\hline\n",
       "\t1 & 1 & 'a' & 100 \\\\\n",
       "\t2 & 2 & 'b' & 90 \\\\\n",
       "\t3 & 3 & 'c' & 80 \\\\\n",
       "\t4 & 4 & 'd' & 70 \\\\\n",
       "\t5 & 5 & 'e' & 60 \\\\\n",
       "\t6 & 6 & 'f' & 50 \\\\\n",
       "\t7 & 7 & 'g' & 40 \\\\\n",
       "\t8 & 8 & 'h' & 30 \\\\\n",
       "\t9 & 9 & 'i' & 20 \\\\\n",
       "\t10 & 10 & 'j' & 10 \\\\\n",
       "\\end{tabular}\n"
      ],
      "text/plain": [
       "10×3 DataFrame\n",
       "│ Row │ Id    │ Code │ Grade │\n",
       "│     │ \u001b[90mInt64\u001b[39m │ \u001b[90mChar\u001b[39m │ \u001b[90mInt64\u001b[39m │\n",
       "├─────┼───────┼──────┼───────┤\n",
       "│ 1   │ 1     │ 'a'  │ 100   │\n",
       "│ 2   │ 2     │ 'b'  │ 90    │\n",
       "│ 3   │ 3     │ 'c'  │ 80    │\n",
       "│ 4   │ 4     │ 'd'  │ 70    │\n",
       "│ 5   │ 5     │ 'e'  │ 60    │\n",
       "│ 6   │ 6     │ 'f'  │ 50    │\n",
       "│ 7   │ 7     │ 'g'  │ 40    │\n",
       "│ 8   │ 8     │ 'h'  │ 30    │\n",
       "│ 9   │ 9     │ 'i'  │ 20    │\n",
       "│ 10  │ 10    │ 'j'  │ 10    │"
      ]
     },
     "execution_count": 58,
     "metadata": {},
     "output_type": "execute_result"
    }
   ],
   "source": [
    "append!(df1, df4)   # appends df4 to df1"
   ]
  },
  {
   "cell_type": "code",
   "execution_count": 59,
   "metadata": {},
   "outputs": [
    {
     "data": {
      "text/html": [
       "<table class=\"data-frame\"><thead><tr><th></th><th>Id</th><th>Code</th><th>Grade</th></tr><tr><th></th><th>Int64</th><th>Char</th><th>Int64</th></tr></thead><tbody><p>11 rows × 3 columns</p><tr><th>1</th><td>1</td><td>'a'</td><td>100</td></tr><tr><th>2</th><td>2</td><td>'b'</td><td>90</td></tr><tr><th>3</th><td>3</td><td>'c'</td><td>80</td></tr><tr><th>4</th><td>4</td><td>'d'</td><td>70</td></tr><tr><th>5</th><td>5</td><td>'e'</td><td>60</td></tr><tr><th>6</th><td>6</td><td>'f'</td><td>50</td></tr><tr><th>7</th><td>7</td><td>'g'</td><td>40</td></tr><tr><th>8</th><td>8</td><td>'h'</td><td>30</td></tr><tr><th>9</th><td>9</td><td>'i'</td><td>20</td></tr><tr><th>10</th><td>10</td><td>'j'</td><td>10</td></tr><tr><th>11</th><td>11</td><td>'k'</td><td>0</td></tr></tbody></table>"
      ],
      "text/latex": [
       "\\begin{tabular}{r|ccc}\n",
       "\t& Id & Code & Grade\\\\\n",
       "\t\\hline\n",
       "\t& Int64 & Char & Int64\\\\\n",
       "\t\\hline\n",
       "\t1 & 1 & 'a' & 100 \\\\\n",
       "\t2 & 2 & 'b' & 90 \\\\\n",
       "\t3 & 3 & 'c' & 80 \\\\\n",
       "\t4 & 4 & 'd' & 70 \\\\\n",
       "\t5 & 5 & 'e' & 60 \\\\\n",
       "\t6 & 6 & 'f' & 50 \\\\\n",
       "\t7 & 7 & 'g' & 40 \\\\\n",
       "\t8 & 8 & 'h' & 30 \\\\\n",
       "\t9 & 9 & 'i' & 20 \\\\\n",
       "\t10 & 10 & 'j' & 10 \\\\\n",
       "\t11 & 11 & 'k' & 0 \\\\\n",
       "\\end{tabular}\n"
      ],
      "text/plain": [
       "11×3 DataFrame\n",
       "│ Row │ Id    │ Code │ Grade │\n",
       "│     │ \u001b[90mInt64\u001b[39m │ \u001b[90mChar\u001b[39m │ \u001b[90mInt64\u001b[39m │\n",
       "├─────┼───────┼──────┼───────┤\n",
       "│ 1   │ 1     │ 'a'  │ 100   │\n",
       "│ 2   │ 2     │ 'b'  │ 90    │\n",
       "│ 3   │ 3     │ 'c'  │ 80    │\n",
       "│ 4   │ 4     │ 'd'  │ 70    │\n",
       "│ 5   │ 5     │ 'e'  │ 60    │\n",
       "│ 6   │ 6     │ 'f'  │ 50    │\n",
       "│ 7   │ 7     │ 'g'  │ 40    │\n",
       "│ 8   │ 8     │ 'h'  │ 30    │\n",
       "│ 9   │ 9     │ 'i'  │ 20    │\n",
       "│ 10  │ 10    │ 'j'  │ 10    │\n",
       "│ 11  │ 11    │ 'k'  │ 0     │"
      ]
     },
     "execution_count": 59,
     "metadata": {},
     "output_type": "execute_result"
    }
   ],
   "source": [
    "push!(df1, [11,'k',0])   # append matching array"
   ]
  },
  {
   "cell_type": "code",
   "execution_count": 60,
   "metadata": {},
   "outputs": [
    {
     "data": {
      "text/html": [
       "<table class=\"data-frame\"><thead><tr><th></th><th>Id</th><th>Code</th><th>Grade</th></tr><tr><th></th><th>Int64</th><th>Char</th><th>Int64</th></tr></thead><tbody><p>12 rows × 3 columns</p><tr><th>1</th><td>1</td><td>'a'</td><td>100</td></tr><tr><th>2</th><td>2</td><td>'b'</td><td>90</td></tr><tr><th>3</th><td>3</td><td>'c'</td><td>80</td></tr><tr><th>4</th><td>4</td><td>'d'</td><td>70</td></tr><tr><th>5</th><td>5</td><td>'e'</td><td>60</td></tr><tr><th>6</th><td>6</td><td>'f'</td><td>50</td></tr><tr><th>7</th><td>7</td><td>'g'</td><td>40</td></tr><tr><th>8</th><td>8</td><td>'h'</td><td>30</td></tr><tr><th>9</th><td>9</td><td>'i'</td><td>20</td></tr><tr><th>10</th><td>10</td><td>'j'</td><td>10</td></tr><tr><th>11</th><td>11</td><td>'k'</td><td>0</td></tr><tr><th>12</th><td>12</td><td>'m'</td><td>60</td></tr></tbody></table>"
      ],
      "text/latex": [
       "\\begin{tabular}{r|ccc}\n",
       "\t& Id & Code & Grade\\\\\n",
       "\t\\hline\n",
       "\t& Int64 & Char & Int64\\\\\n",
       "\t\\hline\n",
       "\t1 & 1 & 'a' & 100 \\\\\n",
       "\t2 & 2 & 'b' & 90 \\\\\n",
       "\t3 & 3 & 'c' & 80 \\\\\n",
       "\t4 & 4 & 'd' & 70 \\\\\n",
       "\t5 & 5 & 'e' & 60 \\\\\n",
       "\t6 & 6 & 'f' & 50 \\\\\n",
       "\t7 & 7 & 'g' & 40 \\\\\n",
       "\t8 & 8 & 'h' & 30 \\\\\n",
       "\t9 & 9 & 'i' & 20 \\\\\n",
       "\t10 & 10 & 'j' & 10 \\\\\n",
       "\t11 & 11 & 'k' & 0 \\\\\n",
       "\t12 & 12 & 'm' & 60 \\\\\n",
       "\\end{tabular}\n"
      ],
      "text/plain": [
       "12×3 DataFrame\n",
       "│ Row │ Id    │ Code │ Grade │\n",
       "│     │ \u001b[90mInt64\u001b[39m │ \u001b[90mChar\u001b[39m │ \u001b[90mInt64\u001b[39m │\n",
       "├─────┼───────┼──────┼───────┤\n",
       "│ 1   │ 1     │ 'a'  │ 100   │\n",
       "│ 2   │ 2     │ 'b'  │ 90    │\n",
       "│ 3   │ 3     │ 'c'  │ 80    │\n",
       "│ 4   │ 4     │ 'd'  │ 70    │\n",
       "│ 5   │ 5     │ 'e'  │ 60    │\n",
       "│ 6   │ 6     │ 'f'  │ 50    │\n",
       "│ 7   │ 7     │ 'g'  │ 40    │\n",
       "│ 8   │ 8     │ 'h'  │ 30    │\n",
       "│ 9   │ 9     │ 'i'  │ 20    │\n",
       "│ 10  │ 10    │ 'j'  │ 10    │\n",
       "│ 11  │ 11    │ 'k'  │ 0     │\n",
       "│ 12  │ 12    │ 'm'  │ 60    │"
      ]
     },
     "execution_count": 60,
     "metadata": {},
     "output_type": "execute_result"
    }
   ],
   "source": [
    "x = Dict(:Id=> 12, :Grade=> 60, :Code=> 'm'); # append matching(keys) dictionary\n",
    "push!(df1, x) "
   ]
  },
  {
   "cell_type": "code",
   "execution_count": 61,
   "metadata": {},
   "outputs": [
    {
     "data": {
      "text/html": [
       "<table class=\"data-frame\"><thead><tr><th></th><th>Id</th><th>Code</th><th>Grade</th></tr><tr><th></th><th>Int64</th><th>Char</th><th>Int64</th></tr></thead><tbody><p>11 rows × 3 columns</p><tr><th>1</th><td>1</td><td>'a'</td><td>100</td></tr><tr><th>2</th><td>2</td><td>'b'</td><td>90</td></tr><tr><th>3</th><td>3</td><td>'c'</td><td>80</td></tr><tr><th>4</th><td>4</td><td>'d'</td><td>70</td></tr><tr><th>5</th><td>5</td><td>'e'</td><td>60</td></tr><tr><th>6</th><td>6</td><td>'f'</td><td>50</td></tr><tr><th>7</th><td>7</td><td>'g'</td><td>40</td></tr><tr><th>8</th><td>8</td><td>'h'</td><td>30</td></tr><tr><th>9</th><td>9</td><td>'i'</td><td>20</td></tr><tr><th>10</th><td>10</td><td>'j'</td><td>10</td></tr><tr><th>11</th><td>12</td><td>'m'</td><td>60</td></tr></tbody></table>"
      ],
      "text/latex": [
       "\\begin{tabular}{r|ccc}\n",
       "\t& Id & Code & Grade\\\\\n",
       "\t\\hline\n",
       "\t& Int64 & Char & Int64\\\\\n",
       "\t\\hline\n",
       "\t1 & 1 & 'a' & 100 \\\\\n",
       "\t2 & 2 & 'b' & 90 \\\\\n",
       "\t3 & 3 & 'c' & 80 \\\\\n",
       "\t4 & 4 & 'd' & 70 \\\\\n",
       "\t5 & 5 & 'e' & 60 \\\\\n",
       "\t6 & 6 & 'f' & 50 \\\\\n",
       "\t7 & 7 & 'g' & 40 \\\\\n",
       "\t8 & 8 & 'h' & 30 \\\\\n",
       "\t9 & 9 & 'i' & 20 \\\\\n",
       "\t10 & 10 & 'j' & 10 \\\\\n",
       "\t11 & 12 & 'm' & 60 \\\\\n",
       "\\end{tabular}\n"
      ],
      "text/plain": [
       "11×3 DataFrame\n",
       "│ Row │ Id    │ Code │ Grade │\n",
       "│     │ \u001b[90mInt64\u001b[39m │ \u001b[90mChar\u001b[39m │ \u001b[90mInt64\u001b[39m │\n",
       "├─────┼───────┼──────┼───────┤\n",
       "│ 1   │ 1     │ 'a'  │ 100   │\n",
       "│ 2   │ 2     │ 'b'  │ 90    │\n",
       "│ 3   │ 3     │ 'c'  │ 80    │\n",
       "│ 4   │ 4     │ 'd'  │ 70    │\n",
       "│ 5   │ 5     │ 'e'  │ 60    │\n",
       "│ 6   │ 6     │ 'f'  │ 50    │\n",
       "│ 7   │ 7     │ 'g'  │ 40    │\n",
       "│ 8   │ 8     │ 'h'  │ 30    │\n",
       "│ 9   │ 9     │ 'i'  │ 20    │\n",
       "│ 10  │ 10    │ 'j'  │ 10    │\n",
       "│ 11  │ 12    │ 'm'  │ 60    │"
      ]
     },
     "execution_count": 61,
     "metadata": {},
     "output_type": "execute_result"
    }
   ],
   "source": [
    "deleterows!(df1, 11)    # delete one row, 11th row"
   ]
  },
  {
   "cell_type": "code",
   "execution_count": 62,
   "metadata": {},
   "outputs": [
    {
     "data": {
      "text/html": [
       "<table class=\"data-frame\"><thead><tr><th></th><th>Id</th><th>Code</th><th>Grade</th></tr><tr><th></th><th>Int64</th><th>Char</th><th>Int64</th></tr></thead><tbody><p>8 rows × 3 columns</p><tr><th>1</th><td>1</td><td>'a'</td><td>100</td></tr><tr><th>2</th><td>2</td><td>'b'</td><td>90</td></tr><tr><th>3</th><td>3</td><td>'c'</td><td>80</td></tr><tr><th>4</th><td>4</td><td>'d'</td><td>70</td></tr><tr><th>5</th><td>5</td><td>'e'</td><td>60</td></tr><tr><th>6</th><td>6</td><td>'f'</td><td>50</td></tr><tr><th>7</th><td>7</td><td>'g'</td><td>40</td></tr><tr><th>8</th><td>8</td><td>'h'</td><td>30</td></tr></tbody></table>"
      ],
      "text/latex": [
       "\\begin{tabular}{r|ccc}\n",
       "\t& Id & Code & Grade\\\\\n",
       "\t\\hline\n",
       "\t& Int64 & Char & Int64\\\\\n",
       "\t\\hline\n",
       "\t1 & 1 & 'a' & 100 \\\\\n",
       "\t2 & 2 & 'b' & 90 \\\\\n",
       "\t3 & 3 & 'c' & 80 \\\\\n",
       "\t4 & 4 & 'd' & 70 \\\\\n",
       "\t5 & 5 & 'e' & 60 \\\\\n",
       "\t6 & 6 & 'f' & 50 \\\\\n",
       "\t7 & 7 & 'g' & 40 \\\\\n",
       "\t8 & 8 & 'h' & 30 \\\\\n",
       "\\end{tabular}\n"
      ],
      "text/plain": [
       "8×3 DataFrame\n",
       "│ Row │ Id    │ Code │ Grade │\n",
       "│     │ \u001b[90mInt64\u001b[39m │ \u001b[90mChar\u001b[39m │ \u001b[90mInt64\u001b[39m │\n",
       "├─────┼───────┼──────┼───────┤\n",
       "│ 1   │ 1     │ 'a'  │ 100   │\n",
       "│ 2   │ 2     │ 'b'  │ 90    │\n",
       "│ 3   │ 3     │ 'c'  │ 80    │\n",
       "│ 4   │ 4     │ 'd'  │ 70    │\n",
       "│ 5   │ 5     │ 'e'  │ 60    │\n",
       "│ 6   │ 6     │ 'f'  │ 50    │\n",
       "│ 7   │ 7     │ 'g'  │ 40    │\n",
       "│ 8   │ 8     │ 'h'  │ 30    │"
      ]
     },
     "execution_count": 62,
     "metadata": {},
     "output_type": "execute_result"
    }
   ],
   "source": [
    "deleterows!(df1, 9:11)   #delete a collection of rows"
   ]
  },
  {
   "cell_type": "markdown",
   "metadata": {},
   "source": [
    "Filtering, Grouping"
   ]
  },
  {
   "cell_type": "code",
   "execution_count": 63,
   "metadata": {},
   "outputs": [],
   "source": [
    "df[ df[:age] .>= 60, :];  # fiter df wrt age, where age >= 60, display all columns"
   ]
  },
  {
   "cell_type": "code",
   "execution_count": 64,
   "metadata": {},
   "outputs": [],
   "source": [
    "df[ (df[:age] .>= 60) .& (df[:EducationNum] .>= 10) , :]; # filter by multiple conditions"
   ]
  },
  {
   "cell_type": "code",
   "execution_count": 65,
   "metadata": {},
   "outputs": [],
   "source": [
    "df[ (df[:age] .>= 60) .& (strip.(df[:Gender]) .== \"Male\") , :];  # string columns have space for each, strip removes it"
   ]
  },
  {
   "cell_type": "code",
   "execution_count": 66,
   "metadata": {},
   "outputs": [],
   "source": [
    "filter(r -> r[:age] >= 60, df);  # filtering func. on DataFrameRow, same with above"
   ]
  },
  {
   "cell_type": "code",
   "execution_count": 67,
   "metadata": {},
   "outputs": [],
   "source": [
    "grouped_df = groupby(df, :education);  # groups dataframe by workclass and returns sub dataframes"
   ]
  },
  {
   "cell_type": "code",
   "execution_count": 68,
   "metadata": {},
   "outputs": [
    {
     "data": {
      "text/plain": [
       "16"
      ]
     },
     "execution_count": 68,
     "metadata": {},
     "output_type": "execute_result"
    }
   ],
   "source": [
    "length(grouped_df)"
   ]
  },
  {
   "cell_type": "code",
   "execution_count": 69,
   "metadata": {},
   "outputs": [
    {
     "data": {
      "text/html": [
       "<table class=\"data-frame\"><thead><tr><th></th><th>age</th><th>workclass</th><th>fnlwgt</th><th>education</th><th>EducationNum</th><th>MaritalStatus</th><th>occupation</th><th>relationship</th><th>race</th><th>Gender</th><th>CapitalGain</th><th>CapitalLoss</th><th>HoursperWeek</th><th>NativeCountry</th><th>class</th></tr><tr><th></th><th>Int64⍰</th><th>String⍰</th><th>Int64⍰</th><th>String⍰</th><th>Int64⍰</th><th>String⍰</th><th>String⍰</th><th>String⍰</th><th>String⍰</th><th>String⍰</th><th>Int64⍰</th><th>Int64⍰</th><th>Int64⍰</th><th>String⍰</th><th>String⍰</th></tr></thead><tbody><p>5 rows × 15 columns</p><tr><th>1</th><td>39</td><td> State-gov</td><td>77516</td><td> Bachelors</td><td>13</td><td> Never-married</td><td> Adm-clerical</td><td> Not-in-family</td><td> White</td><td> Male</td><td>2174</td><td>0</td><td>40</td><td> United-States</td><td> &lt;=50K</td></tr><tr><th>2</th><td>50</td><td> Self-emp-not-inc</td><td>83311</td><td> Bachelors</td><td>13</td><td> Married-civ-spouse</td><td> Exec-managerial</td><td> Husband</td><td> White</td><td> Male</td><td>0</td><td>0</td><td>13</td><td> United-States</td><td> &lt;=50K</td></tr><tr><th>3</th><td>28</td><td> Private</td><td>338409</td><td> Bachelors</td><td>13</td><td> Married-civ-spouse</td><td> Prof-specialty</td><td> Wife</td><td> Black</td><td> Female</td><td>0</td><td>0</td><td>40</td><td> Cuba</td><td> &lt;=50K</td></tr><tr><th>4</th><td>42</td><td> Private</td><td>159449</td><td> Bachelors</td><td>13</td><td> Married-civ-spouse</td><td> Exec-managerial</td><td> Husband</td><td> White</td><td> Male</td><td>5178</td><td>0</td><td>40</td><td> United-States</td><td> &gt;50K</td></tr><tr><th>5</th><td>30</td><td> State-gov</td><td>141297</td><td> Bachelors</td><td>13</td><td> Married-civ-spouse</td><td> Prof-specialty</td><td> Husband</td><td> Asian-Pac-Islander</td><td> Male</td><td>0</td><td>0</td><td>40</td><td> India</td><td> &gt;50K</td></tr></tbody></table>"
      ],
      "text/latex": [
       "\\begin{tabular}{r|ccccccccccccccc}\n",
       "\t& age & workclass & fnlwgt & education & EducationNum & MaritalStatus & occupation & relationship & race & Gender & CapitalGain & CapitalLoss & HoursperWeek & NativeCountry & class\\\\\n",
       "\t\\hline\n",
       "\t& Int64⍰ & String⍰ & Int64⍰ & String⍰ & Int64⍰ & String⍰ & String⍰ & String⍰ & String⍰ & String⍰ & Int64⍰ & Int64⍰ & Int64⍰ & String⍰ & String⍰\\\\\n",
       "\t\\hline\n",
       "\t1 & 39 &  State-gov & 77516 &  Bachelors & 13 &  Never-married &  Adm-clerical &  Not-in-family &  White &  Male & 2174 & 0 & 40 &  United-States &  <=50K \\\\\n",
       "\t2 & 50 &  Self-emp-not-inc & 83311 &  Bachelors & 13 &  Married-civ-spouse &  Exec-managerial &  Husband &  White &  Male & 0 & 0 & 13 &  United-States &  <=50K \\\\\n",
       "\t3 & 28 &  Private & 338409 &  Bachelors & 13 &  Married-civ-spouse &  Prof-specialty &  Wife &  Black &  Female & 0 & 0 & 40 &  Cuba &  <=50K \\\\\n",
       "\t4 & 42 &  Private & 159449 &  Bachelors & 13 &  Married-civ-spouse &  Exec-managerial &  Husband &  White &  Male & 5178 & 0 & 40 &  United-States &  >50K \\\\\n",
       "\t5 & 30 &  State-gov & 141297 &  Bachelors & 13 &  Married-civ-spouse &  Prof-specialty &  Husband &  Asian-Pac-Islander &  Male & 0 & 0 & 40 &  India &  >50K \\\\\n",
       "\\end{tabular}\n"
      ],
      "text/plain": [
       "5×15 DataFrame. Omitted printing of 10 columns\n",
       "│ Row │ age    │ workclass         │ fnlwgt │ education  │ EducationNum │\n",
       "│     │ \u001b[90mInt64⍰\u001b[39m │ \u001b[90mString⍰\u001b[39m           │ \u001b[90mInt64⍰\u001b[39m │ \u001b[90mString⍰\u001b[39m    │ \u001b[90mInt64⍰\u001b[39m       │\n",
       "├─────┼────────┼───────────────────┼────────┼────────────┼──────────────┤\n",
       "│ 1   │ 39     │  State-gov        │ 77516  │  Bachelors │ 13           │\n",
       "│ 2   │ 50     │  Self-emp-not-inc │ 83311  │  Bachelors │ 13           │\n",
       "│ 3   │ 28     │  Private          │ 338409 │  Bachelors │ 13           │\n",
       "│ 4   │ 42     │  Private          │ 159449 │  Bachelors │ 13           │\n",
       "│ 5   │ 30     │  State-gov        │ 141297 │  Bachelors │ 13           │"
      ]
     },
     "execution_count": 69,
     "metadata": {},
     "output_type": "execute_result"
    }
   ],
   "source": [
    "first(grouped_df[1], 5)  # 1st group is education=Bachelor, see first 5 elements from this dataframe"
   ]
  },
  {
   "cell_type": "code",
   "execution_count": 70,
   "metadata": {},
   "outputs": [
    {
     "data": {
      "text/html": [
       "<table class=\"data-frame\"><thead><tr><th></th><th>age</th><th>workclass</th><th>fnlwgt</th><th>education</th><th>EducationNum</th><th>MaritalStatus</th><th>occupation</th><th>relationship</th><th>race</th><th>Gender</th><th>CapitalGain</th><th>CapitalLoss</th><th>HoursperWeek</th><th>NativeCountry</th><th>class</th></tr><tr><th></th><th>Int64⍰</th><th>String⍰</th><th>Int64⍰</th><th>String⍰</th><th>Int64⍰</th><th>String⍰</th><th>String⍰</th><th>String⍰</th><th>String⍰</th><th>String⍰</th><th>Int64⍰</th><th>Int64⍰</th><th>Int64⍰</th><th>String⍰</th><th>String⍰</th></tr></thead><tbody><p>5 rows × 15 columns</p><tr><th>1</th><td>35</td><td> Private</td><td>92440</td><td> 12th</td><td>8</td><td> Divorced</td><td> Craft-repair</td><td> Not-in-family</td><td> White</td><td> Male</td><td>0</td><td>0</td><td>50</td><td> United-States</td><td> &gt;50K</td></tr><tr><th>2</th><td>52</td><td> ?</td><td>271749</td><td> 12th</td><td>8</td><td> Never-married</td><td> ?</td><td> Other-relative</td><td> Black</td><td> Male</td><td>594</td><td>0</td><td>40</td><td> United-States</td><td> &lt;=50K</td></tr><tr><th>3</th><td>39</td><td> Local-gov</td><td>207853</td><td> 12th</td><td>8</td><td> Married-civ-spouse</td><td> Tech-support</td><td> Husband</td><td> White</td><td> Male</td><td>0</td><td>0</td><td>50</td><td> United-States</td><td> &lt;=50K</td></tr><tr><th>4</th><td>18</td><td> ?</td><td>165532</td><td> 12th</td><td>8</td><td> Never-married</td><td> ?</td><td> Own-child</td><td> White</td><td> Male</td><td>0</td><td>0</td><td>25</td><td> United-States</td><td> &lt;=50K</td></tr><tr><th>5</th><td>44</td><td> Self-emp-not-inc</td><td>335183</td><td> 12th</td><td>8</td><td> Married-civ-spouse</td><td> Handlers-cleaners</td><td> Husband</td><td> Black</td><td> Male</td><td>0</td><td>0</td><td>40</td><td> United-States</td><td> &gt;50K</td></tr></tbody></table>"
      ],
      "text/latex": [
       "\\begin{tabular}{r|ccccccccccccccc}\n",
       "\t& age & workclass & fnlwgt & education & EducationNum & MaritalStatus & occupation & relationship & race & Gender & CapitalGain & CapitalLoss & HoursperWeek & NativeCountry & class\\\\\n",
       "\t\\hline\n",
       "\t& Int64⍰ & String⍰ & Int64⍰ & String⍰ & Int64⍰ & String⍰ & String⍰ & String⍰ & String⍰ & String⍰ & Int64⍰ & Int64⍰ & Int64⍰ & String⍰ & String⍰\\\\\n",
       "\t\\hline\n",
       "\t1 & 35 &  Private & 92440 &  12th & 8 &  Divorced &  Craft-repair &  Not-in-family &  White &  Male & 0 & 0 & 50 &  United-States &  >50K \\\\\n",
       "\t2 & 52 &  ? & 271749 &  12th & 8 &  Never-married &  ? &  Other-relative &  Black &  Male & 594 & 0 & 40 &  United-States &  <=50K \\\\\n",
       "\t3 & 39 &  Local-gov & 207853 &  12th & 8 &  Married-civ-spouse &  Tech-support &  Husband &  White &  Male & 0 & 0 & 50 &  United-States &  <=50K \\\\\n",
       "\t4 & 18 &  ? & 165532 &  12th & 8 &  Never-married &  ? &  Own-child &  White &  Male & 0 & 0 & 25 &  United-States &  <=50K \\\\\n",
       "\t5 & 44 &  Self-emp-not-inc & 335183 &  12th & 8 &  Married-civ-spouse &  Handlers-cleaners &  Husband &  Black &  Male & 0 & 0 & 40 &  United-States &  >50K \\\\\n",
       "\\end{tabular}\n"
      ],
      "text/plain": [
       "5×15 DataFrame. Omitted printing of 10 columns\n",
       "│ Row │ age    │ workclass         │ fnlwgt │ education │ EducationNum │\n",
       "│     │ \u001b[90mInt64⍰\u001b[39m │ \u001b[90mString⍰\u001b[39m           │ \u001b[90mInt64⍰\u001b[39m │ \u001b[90mString⍰\u001b[39m   │ \u001b[90mInt64⍰\u001b[39m       │\n",
       "├─────┼────────┼───────────────────┼────────┼───────────┼──────────────┤\n",
       "│ 1   │ 35     │  Private          │ 92440  │  12th     │ 8            │\n",
       "│ 2   │ 52     │  ?                │ 271749 │  12th     │ 8            │\n",
       "│ 3   │ 39     │  Local-gov        │ 207853 │  12th     │ 8            │\n",
       "│ 4   │ 18     │  ?                │ 165532 │  12th     │ 8            │\n",
       "│ 5   │ 44     │  Self-emp-not-inc │ 335183 │  12th     │ 8            │"
      ]
     },
     "execution_count": 70,
     "metadata": {},
     "output_type": "execute_result"
    }
   ],
   "source": [
    "first(grouped_df[16],5) # last group is education=12th, see first 5 elements from this dataframe"
   ]
  },
  {
   "cell_type": "code",
   "execution_count": 71,
   "metadata": {},
   "outputs": [
    {
     "data": {
      "text/html": [
       "<table class=\"data-frame\"><thead><tr><th></th><th>workclass</th><th>x1</th></tr><tr><th></th><th>String⍰</th><th>Tuple…</th></tr></thead><tbody><p>9 rows × 2 columns</p><tr><th>1</th><td> State-gov</td><td>(1298, 15)</td></tr><tr><th>2</th><td> Self-emp-not-inc</td><td>(2541, 15)</td></tr><tr><th>3</th><td> Private</td><td>(22696, 15)</td></tr><tr><th>4</th><td> Federal-gov</td><td>(960, 15)</td></tr><tr><th>5</th><td> Local-gov</td><td>(2093, 15)</td></tr><tr><th>6</th><td> ?</td><td>(1836, 15)</td></tr><tr><th>7</th><td> Self-emp-inc</td><td>(1116, 15)</td></tr><tr><th>8</th><td> Without-pay</td><td>(14, 15)</td></tr><tr><th>9</th><td> Never-worked</td><td>(7, 15)</td></tr></tbody></table>"
      ],
      "text/latex": [
       "\\begin{tabular}{r|cc}\n",
       "\t& workclass & x1\\\\\n",
       "\t\\hline\n",
       "\t& String⍰ & Tuple…\\\\\n",
       "\t\\hline\n",
       "\t1 &  State-gov & (1298, 15) \\\\\n",
       "\t2 &  Self-emp-not-inc & (2541, 15) \\\\\n",
       "\t3 &  Private & (22696, 15) \\\\\n",
       "\t4 &  Federal-gov & (960, 15) \\\\\n",
       "\t5 &  Local-gov & (2093, 15) \\\\\n",
       "\t6 &  ? & (1836, 15) \\\\\n",
       "\t7 &  Self-emp-inc & (1116, 15) \\\\\n",
       "\t8 &  Without-pay & (14, 15) \\\\\n",
       "\t9 &  Never-worked & (7, 15) \\\\\n",
       "\\end{tabular}\n"
      ],
      "text/plain": [
       "9×2 DataFrame\n",
       "│ Row │ workclass         │ x1          │\n",
       "│     │ \u001b[90mString⍰\u001b[39m           │ \u001b[90mTuple…\u001b[39m      │\n",
       "├─────┼───────────────────┼─────────────┤\n",
       "│ 1   │  State-gov        │ (1298, 15)  │\n",
       "│ 2   │  Self-emp-not-inc │ (2541, 15)  │\n",
       "│ 3   │  Private          │ (22696, 15) │\n",
       "│ 4   │  Federal-gov      │ (960, 15)   │\n",
       "│ 5   │  Local-gov        │ (2093, 15)  │\n",
       "│ 6   │  ?                │ (1836, 15)  │\n",
       "│ 7   │  Self-emp-inc     │ (1116, 15)  │\n",
       "│ 8   │  Without-pay      │ (14, 15)    │\n",
       "│ 9   │  Never-worked     │ (7, 15)     │"
      ]
     },
     "execution_count": 71,
     "metadata": {},
     "output_type": "execute_result"
    }
   ],
   "source": [
    "by(df,:workclass, size)   # group df by column named ‘workclass’, and apply function (here counts each group)"
   ]
  },
  {
   "cell_type": "code",
   "execution_count": 72,
   "metadata": {},
   "outputs": [
    {
     "data": {
      "text/html": [
       "<table class=\"data-frame\"><thead><tr><th></th><th>workclass</th><th>x1</th></tr><tr><th></th><th>String⍰</th><th>Float64</th></tr></thead><tbody><p>9 rows × 2 columns</p><tr><th>1</th><td> State-gov</td><td>1.84137e5</td></tr><tr><th>2</th><td> Self-emp-not-inc</td><td>1.75609e5</td></tr><tr><th>3</th><td> Private</td><td>1.92764e5</td></tr><tr><th>4</th><td> Federal-gov</td><td>1.85221e5</td></tr><tr><th>5</th><td> Local-gov</td><td>1.8864e5</td></tr><tr><th>6</th><td> ?</td><td>1.88516e5</td></tr><tr><th>7</th><td> Self-emp-inc</td><td>1.75981e5</td></tr><tr><th>8</th><td> Without-pay</td><td>1.74268e5</td></tr><tr><th>9</th><td> Never-worked</td><td>2.2599e5</td></tr></tbody></table>"
      ],
      "text/latex": [
       "\\begin{tabular}{r|cc}\n",
       "\t& workclass & x1\\\\\n",
       "\t\\hline\n",
       "\t& String⍰ & Float64\\\\\n",
       "\t\\hline\n",
       "\t1 &  State-gov & 1.84137e5 \\\\\n",
       "\t2 &  Self-emp-not-inc & 1.75609e5 \\\\\n",
       "\t3 &  Private & 1.92764e5 \\\\\n",
       "\t4 &  Federal-gov & 1.85221e5 \\\\\n",
       "\t5 &  Local-gov & 1.8864e5 \\\\\n",
       "\t6 &  ? & 1.88516e5 \\\\\n",
       "\t7 &  Self-emp-inc & 1.75981e5 \\\\\n",
       "\t8 &  Without-pay & 1.74268e5 \\\\\n",
       "\t9 &  Never-worked & 2.2599e5 \\\\\n",
       "\\end{tabular}\n"
      ],
      "text/plain": [
       "9×2 DataFrame\n",
       "│ Row │ workclass         │ x1        │\n",
       "│     │ \u001b[90mString⍰\u001b[39m           │ \u001b[90mFloat64\u001b[39m   │\n",
       "├─────┼───────────────────┼───────────┤\n",
       "│ 1   │  State-gov        │ 1.84137e5 │\n",
       "│ 2   │  Self-emp-not-inc │ 1.75609e5 │\n",
       "│ 3   │  Private          │ 1.92764e5 │\n",
       "│ 4   │  Federal-gov      │ 1.85221e5 │\n",
       "│ 5   │  Local-gov        │ 1.8864e5  │\n",
       "│ 6   │  ?                │ 1.88516e5 │\n",
       "│ 7   │  Self-emp-inc     │ 1.75981e5 │\n",
       "│ 8   │  Without-pay      │ 1.74268e5 │\n",
       "│ 9   │  Never-worked     │ 2.2599e5  │"
      ]
     },
     "execution_count": 72,
     "metadata": {},
     "output_type": "execute_result"
    }
   ],
   "source": [
    "using Statistics\n",
    "by(df,:workclass, df->mean(df[:fnlwgt]))     # calculate mean fnlwgt of each workclass"
   ]
  }
 ],
 "metadata": {
  "kernelspec": {
   "display_name": "Julia 1.1.0",
   "language": "julia",
   "name": "julia-1.1"
  },
  "language_info": {
   "file_extension": ".jl",
   "mimetype": "application/julia",
   "name": "julia",
   "version": "1.1.0"
  }
 },
 "nbformat": 4,
 "nbformat_minor": 2
}
