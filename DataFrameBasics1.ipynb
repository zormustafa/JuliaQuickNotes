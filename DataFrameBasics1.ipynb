{
 "cells": [
  {
   "cell_type": "markdown",
   "metadata": {},
   "source": [
    "DataFrame Basics 1"
   ]
  },
  {
   "cell_type": "markdown",
   "metadata": {},
   "source": [
    "To download a file on your local machine:"
   ]
  },
  {
   "cell_type": "code",
   "execution_count": 1,
   "metadata": {},
   "outputs": [],
   "source": [
    "using DataFrames\n",
    "#download(\"https://archive.ics.uci.edu/ml/machine-learning-databases/adult/adult.data\", \"adult.csv\")"
   ]
  },
  {
   "cell_type": "markdown",
   "metadata": {},
   "source": [
    "Create DataFrame from existing file:"
   ]
  },
  {
   "cell_type": "code",
   "execution_count": 2,
   "metadata": {},
   "outputs": [
    {
     "data": {
      "text/html": [
       "<table class=\"data-frame\"><thead><tr><th></th><th>age</th><th>workclass</th><th>fnlwgt</th><th>education</th><th>education-num</th><th>marital-status</th><th>occupation</th><th>relationship</th><th>race</th><th>sex</th><th>capital-gain</th><th>capital-loss</th><th>hours-per-week</th><th>native-country: </th><th>class</th></tr><tr><th></th><th>Int64⍰</th><th>String⍰</th><th>Int64⍰</th><th>String⍰</th><th>Int64⍰</th><th>String⍰</th><th>String⍰</th><th>String⍰</th><th>String⍰</th><th>String⍰</th><th>Int64⍰</th><th>Int64⍰</th><th>Int64⍰</th><th>String⍰</th><th>String⍰</th></tr></thead><tbody><p>32,561 rows × 15 columns</p><tr><th>1</th><td>39</td><td> State-gov</td><td>77516</td><td> Bachelors</td><td>13</td><td> Never-married</td><td> Adm-clerical</td><td> Not-in-family</td><td> White</td><td> Male</td><td>2174</td><td>0</td><td>40</td><td> United-States</td><td> &lt;=50K</td></tr><tr><th>2</th><td>50</td><td> Self-emp-not-inc</td><td>83311</td><td> Bachelors</td><td>13</td><td> Married-civ-spouse</td><td> Exec-managerial</td><td> Husband</td><td> White</td><td> Male</td><td>0</td><td>0</td><td>13</td><td> United-States</td><td> &lt;=50K</td></tr><tr><th>3</th><td>38</td><td> Private</td><td>215646</td><td> HS-grad</td><td>9</td><td> Divorced</td><td> Handlers-cleaners</td><td> Not-in-family</td><td> White</td><td> Male</td><td>0</td><td>0</td><td>40</td><td> United-States</td><td> &lt;=50K</td></tr><tr><th>4</th><td>53</td><td> Private</td><td>234721</td><td> 11th</td><td>7</td><td> Married-civ-spouse</td><td> Handlers-cleaners</td><td> Husband</td><td> Black</td><td> Male</td><td>0</td><td>0</td><td>40</td><td> United-States</td><td> &lt;=50K</td></tr><tr><th>5</th><td>28</td><td> Private</td><td>338409</td><td> Bachelors</td><td>13</td><td> Married-civ-spouse</td><td> Prof-specialty</td><td> Wife</td><td> Black</td><td> Female</td><td>0</td><td>0</td><td>40</td><td> Cuba</td><td> &lt;=50K</td></tr><tr><th>6</th><td>37</td><td> Private</td><td>284582</td><td> Masters</td><td>14</td><td> Married-civ-spouse</td><td> Exec-managerial</td><td> Wife</td><td> White</td><td> Female</td><td>0</td><td>0</td><td>40</td><td> United-States</td><td> &lt;=50K</td></tr><tr><th>7</th><td>49</td><td> Private</td><td>160187</td><td> 9th</td><td>5</td><td> Married-spouse-absent</td><td> Other-service</td><td> Not-in-family</td><td> Black</td><td> Female</td><td>0</td><td>0</td><td>16</td><td> Jamaica</td><td> &lt;=50K</td></tr><tr><th>8</th><td>52</td><td> Self-emp-not-inc</td><td>209642</td><td> HS-grad</td><td>9</td><td> Married-civ-spouse</td><td> Exec-managerial</td><td> Husband</td><td> White</td><td> Male</td><td>0</td><td>0</td><td>45</td><td> United-States</td><td> &gt;50K</td></tr><tr><th>9</th><td>31</td><td> Private</td><td>45781</td><td> Masters</td><td>14</td><td> Never-married</td><td> Prof-specialty</td><td> Not-in-family</td><td> White</td><td> Female</td><td>14084</td><td>0</td><td>50</td><td> United-States</td><td> &gt;50K</td></tr><tr><th>10</th><td>42</td><td> Private</td><td>159449</td><td> Bachelors</td><td>13</td><td> Married-civ-spouse</td><td> Exec-managerial</td><td> Husband</td><td> White</td><td> Male</td><td>5178</td><td>0</td><td>40</td><td> United-States</td><td> &gt;50K</td></tr><tr><th>11</th><td>37</td><td> Private</td><td>280464</td><td> Some-college</td><td>10</td><td> Married-civ-spouse</td><td> Exec-managerial</td><td> Husband</td><td> Black</td><td> Male</td><td>0</td><td>0</td><td>80</td><td> United-States</td><td> &gt;50K</td></tr><tr><th>12</th><td>30</td><td> State-gov</td><td>141297</td><td> Bachelors</td><td>13</td><td> Married-civ-spouse</td><td> Prof-specialty</td><td> Husband</td><td> Asian-Pac-Islander</td><td> Male</td><td>0</td><td>0</td><td>40</td><td> India</td><td> &gt;50K</td></tr><tr><th>13</th><td>23</td><td> Private</td><td>122272</td><td> Bachelors</td><td>13</td><td> Never-married</td><td> Adm-clerical</td><td> Own-child</td><td> White</td><td> Female</td><td>0</td><td>0</td><td>30</td><td> United-States</td><td> &lt;=50K</td></tr><tr><th>14</th><td>32</td><td> Private</td><td>205019</td><td> Assoc-acdm</td><td>12</td><td> Never-married</td><td> Sales</td><td> Not-in-family</td><td> Black</td><td> Male</td><td>0</td><td>0</td><td>50</td><td> United-States</td><td> &lt;=50K</td></tr><tr><th>15</th><td>40</td><td> Private</td><td>121772</td><td> Assoc-voc</td><td>11</td><td> Married-civ-spouse</td><td> Craft-repair</td><td> Husband</td><td> Asian-Pac-Islander</td><td> Male</td><td>0</td><td>0</td><td>40</td><td> ?</td><td> &gt;50K</td></tr><tr><th>16</th><td>34</td><td> Private</td><td>245487</td><td> 7th-8th</td><td>4</td><td> Married-civ-spouse</td><td> Transport-moving</td><td> Husband</td><td> Amer-Indian-Eskimo</td><td> Male</td><td>0</td><td>0</td><td>45</td><td> Mexico</td><td> &lt;=50K</td></tr><tr><th>17</th><td>25</td><td> Self-emp-not-inc</td><td>176756</td><td> HS-grad</td><td>9</td><td> Never-married</td><td> Farming-fishing</td><td> Own-child</td><td> White</td><td> Male</td><td>0</td><td>0</td><td>35</td><td> United-States</td><td> &lt;=50K</td></tr><tr><th>18</th><td>32</td><td> Private</td><td>186824</td><td> HS-grad</td><td>9</td><td> Never-married</td><td> Machine-op-inspct</td><td> Unmarried</td><td> White</td><td> Male</td><td>0</td><td>0</td><td>40</td><td> United-States</td><td> &lt;=50K</td></tr><tr><th>19</th><td>38</td><td> Private</td><td>28887</td><td> 11th</td><td>7</td><td> Married-civ-spouse</td><td> Sales</td><td> Husband</td><td> White</td><td> Male</td><td>0</td><td>0</td><td>50</td><td> United-States</td><td> &lt;=50K</td></tr><tr><th>20</th><td>43</td><td> Self-emp-not-inc</td><td>292175</td><td> Masters</td><td>14</td><td> Divorced</td><td> Exec-managerial</td><td> Unmarried</td><td> White</td><td> Female</td><td>0</td><td>0</td><td>45</td><td> United-States</td><td> &gt;50K</td></tr><tr><th>21</th><td>40</td><td> Private</td><td>193524</td><td> Doctorate</td><td>16</td><td> Married-civ-spouse</td><td> Prof-specialty</td><td> Husband</td><td> White</td><td> Male</td><td>0</td><td>0</td><td>60</td><td> United-States</td><td> &gt;50K</td></tr><tr><th>22</th><td>54</td><td> Private</td><td>302146</td><td> HS-grad</td><td>9</td><td> Separated</td><td> Other-service</td><td> Unmarried</td><td> Black</td><td> Female</td><td>0</td><td>0</td><td>20</td><td> United-States</td><td> &lt;=50K</td></tr><tr><th>23</th><td>35</td><td> Federal-gov</td><td>76845</td><td> 9th</td><td>5</td><td> Married-civ-spouse</td><td> Farming-fishing</td><td> Husband</td><td> Black</td><td> Male</td><td>0</td><td>0</td><td>40</td><td> United-States</td><td> &lt;=50K</td></tr><tr><th>24</th><td>43</td><td> Private</td><td>117037</td><td> 11th</td><td>7</td><td> Married-civ-spouse</td><td> Transport-moving</td><td> Husband</td><td> White</td><td> Male</td><td>0</td><td>2042</td><td>40</td><td> United-States</td><td> &lt;=50K</td></tr><tr><th>25</th><td>59</td><td> Private</td><td>109015</td><td> HS-grad</td><td>9</td><td> Divorced</td><td> Tech-support</td><td> Unmarried</td><td> White</td><td> Female</td><td>0</td><td>0</td><td>40</td><td> United-States</td><td> &lt;=50K</td></tr><tr><th>26</th><td>56</td><td> Local-gov</td><td>216851</td><td> Bachelors</td><td>13</td><td> Married-civ-spouse</td><td> Tech-support</td><td> Husband</td><td> White</td><td> Male</td><td>0</td><td>0</td><td>40</td><td> United-States</td><td> &gt;50K</td></tr><tr><th>27</th><td>19</td><td> Private</td><td>168294</td><td> HS-grad</td><td>9</td><td> Never-married</td><td> Craft-repair</td><td> Own-child</td><td> White</td><td> Male</td><td>0</td><td>0</td><td>40</td><td> United-States</td><td> &lt;=50K</td></tr><tr><th>28</th><td>54</td><td> ?</td><td>180211</td><td> Some-college</td><td>10</td><td> Married-civ-spouse</td><td> ?</td><td> Husband</td><td> Asian-Pac-Islander</td><td> Male</td><td>0</td><td>0</td><td>60</td><td> South</td><td> &gt;50K</td></tr><tr><th>29</th><td>39</td><td> Private</td><td>367260</td><td> HS-grad</td><td>9</td><td> Divorced</td><td> Exec-managerial</td><td> Not-in-family</td><td> White</td><td> Male</td><td>0</td><td>0</td><td>80</td><td> United-States</td><td> &lt;=50K</td></tr><tr><th>30</th><td>49</td><td> Private</td><td>193366</td><td> HS-grad</td><td>9</td><td> Married-civ-spouse</td><td> Craft-repair</td><td> Husband</td><td> White</td><td> Male</td><td>0</td><td>0</td><td>40</td><td> United-States</td><td> &lt;=50K</td></tr><tr><th>&vellip;</th><td>&vellip;</td><td>&vellip;</td><td>&vellip;</td><td>&vellip;</td><td>&vellip;</td><td>&vellip;</td><td>&vellip;</td><td>&vellip;</td><td>&vellip;</td><td>&vellip;</td><td>&vellip;</td><td>&vellip;</td><td>&vellip;</td><td>&vellip;</td><td>&vellip;</td></tr></tbody></table>"
      ],
      "text/latex": [
       "\\begin{tabular}{r|ccccccccccccccc}\n",
       "\t& age & workclass & fnlwgt & education & education-num & marital-status & occupation & relationship & race & sex & capital-gain & capital-loss & hours-per-week & native-country:  & class\\\\\n",
       "\t\\hline\n",
       "\t& Int64⍰ & String⍰ & Int64⍰ & String⍰ & Int64⍰ & String⍰ & String⍰ & String⍰ & String⍰ & String⍰ & Int64⍰ & Int64⍰ & Int64⍰ & String⍰ & String⍰\\\\\n",
       "\t\\hline\n",
       "\t1 & 39 &  State-gov & 77516 &  Bachelors & 13 &  Never-married &  Adm-clerical &  Not-in-family &  White &  Male & 2174 & 0 & 40 &  United-States &  <=50K \\\\\n",
       "\t2 & 50 &  Self-emp-not-inc & 83311 &  Bachelors & 13 &  Married-civ-spouse &  Exec-managerial &  Husband &  White &  Male & 0 & 0 & 13 &  United-States &  <=50K \\\\\n",
       "\t3 & 38 &  Private & 215646 &  HS-grad & 9 &  Divorced &  Handlers-cleaners &  Not-in-family &  White &  Male & 0 & 0 & 40 &  United-States &  <=50K \\\\\n",
       "\t4 & 53 &  Private & 234721 &  11th & 7 &  Married-civ-spouse &  Handlers-cleaners &  Husband &  Black &  Male & 0 & 0 & 40 &  United-States &  <=50K \\\\\n",
       "\t5 & 28 &  Private & 338409 &  Bachelors & 13 &  Married-civ-spouse &  Prof-specialty &  Wife &  Black &  Female & 0 & 0 & 40 &  Cuba &  <=50K \\\\\n",
       "\t6 & 37 &  Private & 284582 &  Masters & 14 &  Married-civ-spouse &  Exec-managerial &  Wife &  White &  Female & 0 & 0 & 40 &  United-States &  <=50K \\\\\n",
       "\t7 & 49 &  Private & 160187 &  9th & 5 &  Married-spouse-absent &  Other-service &  Not-in-family &  Black &  Female & 0 & 0 & 16 &  Jamaica &  <=50K \\\\\n",
       "\t8 & 52 &  Self-emp-not-inc & 209642 &  HS-grad & 9 &  Married-civ-spouse &  Exec-managerial &  Husband &  White &  Male & 0 & 0 & 45 &  United-States &  >50K \\\\\n",
       "\t9 & 31 &  Private & 45781 &  Masters & 14 &  Never-married &  Prof-specialty &  Not-in-family &  White &  Female & 14084 & 0 & 50 &  United-States &  >50K \\\\\n",
       "\t10 & 42 &  Private & 159449 &  Bachelors & 13 &  Married-civ-spouse &  Exec-managerial &  Husband &  White &  Male & 5178 & 0 & 40 &  United-States &  >50K \\\\\n",
       "\t11 & 37 &  Private & 280464 &  Some-college & 10 &  Married-civ-spouse &  Exec-managerial &  Husband &  Black &  Male & 0 & 0 & 80 &  United-States &  >50K \\\\\n",
       "\t12 & 30 &  State-gov & 141297 &  Bachelors & 13 &  Married-civ-spouse &  Prof-specialty &  Husband &  Asian-Pac-Islander &  Male & 0 & 0 & 40 &  India &  >50K \\\\\n",
       "\t13 & 23 &  Private & 122272 &  Bachelors & 13 &  Never-married &  Adm-clerical &  Own-child &  White &  Female & 0 & 0 & 30 &  United-States &  <=50K \\\\\n",
       "\t14 & 32 &  Private & 205019 &  Assoc-acdm & 12 &  Never-married &  Sales &  Not-in-family &  Black &  Male & 0 & 0 & 50 &  United-States &  <=50K \\\\\n",
       "\t15 & 40 &  Private & 121772 &  Assoc-voc & 11 &  Married-civ-spouse &  Craft-repair &  Husband &  Asian-Pac-Islander &  Male & 0 & 0 & 40 &  ? &  >50K \\\\\n",
       "\t16 & 34 &  Private & 245487 &  7th-8th & 4 &  Married-civ-spouse &  Transport-moving &  Husband &  Amer-Indian-Eskimo &  Male & 0 & 0 & 45 &  Mexico &  <=50K \\\\\n",
       "\t17 & 25 &  Self-emp-not-inc & 176756 &  HS-grad & 9 &  Never-married &  Farming-fishing &  Own-child &  White &  Male & 0 & 0 & 35 &  United-States &  <=50K \\\\\n",
       "\t18 & 32 &  Private & 186824 &  HS-grad & 9 &  Never-married &  Machine-op-inspct &  Unmarried &  White &  Male & 0 & 0 & 40 &  United-States &  <=50K \\\\\n",
       "\t19 & 38 &  Private & 28887 &  11th & 7 &  Married-civ-spouse &  Sales &  Husband &  White &  Male & 0 & 0 & 50 &  United-States &  <=50K \\\\\n",
       "\t20 & 43 &  Self-emp-not-inc & 292175 &  Masters & 14 &  Divorced &  Exec-managerial &  Unmarried &  White &  Female & 0 & 0 & 45 &  United-States &  >50K \\\\\n",
       "\t21 & 40 &  Private & 193524 &  Doctorate & 16 &  Married-civ-spouse &  Prof-specialty &  Husband &  White &  Male & 0 & 0 & 60 &  United-States &  >50K \\\\\n",
       "\t22 & 54 &  Private & 302146 &  HS-grad & 9 &  Separated &  Other-service &  Unmarried &  Black &  Female & 0 & 0 & 20 &  United-States &  <=50K \\\\\n",
       "\t23 & 35 &  Federal-gov & 76845 &  9th & 5 &  Married-civ-spouse &  Farming-fishing &  Husband &  Black &  Male & 0 & 0 & 40 &  United-States &  <=50K \\\\\n",
       "\t24 & 43 &  Private & 117037 &  11th & 7 &  Married-civ-spouse &  Transport-moving &  Husband &  White &  Male & 0 & 2042 & 40 &  United-States &  <=50K \\\\\n",
       "\t25 & 59 &  Private & 109015 &  HS-grad & 9 &  Divorced &  Tech-support &  Unmarried &  White &  Female & 0 & 0 & 40 &  United-States &  <=50K \\\\\n",
       "\t26 & 56 &  Local-gov & 216851 &  Bachelors & 13 &  Married-civ-spouse &  Tech-support &  Husband &  White &  Male & 0 & 0 & 40 &  United-States &  >50K \\\\\n",
       "\t27 & 19 &  Private & 168294 &  HS-grad & 9 &  Never-married &  Craft-repair &  Own-child &  White &  Male & 0 & 0 & 40 &  United-States &  <=50K \\\\\n",
       "\t28 & 54 &  ? & 180211 &  Some-college & 10 &  Married-civ-spouse &  ? &  Husband &  Asian-Pac-Islander &  Male & 0 & 0 & 60 &  South &  >50K \\\\\n",
       "\t29 & 39 &  Private & 367260 &  HS-grad & 9 &  Divorced &  Exec-managerial &  Not-in-family &  White &  Male & 0 & 0 & 80 &  United-States &  <=50K \\\\\n",
       "\t30 & 49 &  Private & 193366 &  HS-grad & 9 &  Married-civ-spouse &  Craft-repair &  Husband &  White &  Male & 0 & 0 & 40 &  United-States &  <=50K \\\\\n",
       "\t$\\dots$ & $\\dots$ & $\\dots$ & $\\dots$ & $\\dots$ & $\\dots$ & $\\dots$ & $\\dots$ & $\\dots$ & $\\dots$ & $\\dots$ & $\\dots$ & $\\dots$ & $\\dots$ & $\\dots$ & $\\dots$ \\\\\n",
       "\\end{tabular}\n"
      ],
      "text/plain": [
       "32561×15 DataFrame. Omitted printing of 10 columns\n",
       "│ Row   │ age    │ workclass         │ fnlwgt │ education     │ education-num │\n",
       "│       │ \u001b[90mInt64⍰\u001b[39m │ \u001b[90mString⍰\u001b[39m           │ \u001b[90mInt64⍰\u001b[39m │ \u001b[90mString⍰\u001b[39m       │ \u001b[90mInt64⍰\u001b[39m        │\n",
       "├───────┼────────┼───────────────────┼────────┼───────────────┼───────────────┤\n",
       "│ 1     │ 39     │  State-gov        │ 77516  │  Bachelors    │ 13            │\n",
       "│ 2     │ 50     │  Self-emp-not-inc │ 83311  │  Bachelors    │ 13            │\n",
       "│ 3     │ 38     │  Private          │ 215646 │  HS-grad      │ 9             │\n",
       "│ 4     │ 53     │  Private          │ 234721 │  11th         │ 7             │\n",
       "│ 5     │ 28     │  Private          │ 338409 │  Bachelors    │ 13            │\n",
       "│ 6     │ 37     │  Private          │ 284582 │  Masters      │ 14            │\n",
       "│ 7     │ 49     │  Private          │ 160187 │  9th          │ 5             │\n",
       "│ 8     │ 52     │  Self-emp-not-inc │ 209642 │  HS-grad      │ 9             │\n",
       "│ 9     │ 31     │  Private          │ 45781  │  Masters      │ 14            │\n",
       "│ 10    │ 42     │  Private          │ 159449 │  Bachelors    │ 13            │\n",
       "⋮\n",
       "│ 32551 │ 43     │  Self-emp-not-inc │ 27242  │  Some-college │ 10            │\n",
       "│ 32552 │ 32     │  Private          │ 34066  │  10th         │ 6             │\n",
       "│ 32553 │ 43     │  Private          │ 84661  │  Assoc-voc    │ 11            │\n",
       "│ 32554 │ 32     │  Private          │ 116138 │  Masters      │ 14            │\n",
       "│ 32555 │ 53     │  Private          │ 321865 │  Masters      │ 14            │\n",
       "│ 32556 │ 22     │  Private          │ 310152 │  Some-college │ 10            │\n",
       "│ 32557 │ 27     │  Private          │ 257302 │  Assoc-acdm   │ 12            │\n",
       "│ 32558 │ 40     │  Private          │ 154374 │  HS-grad      │ 9             │\n",
       "│ 32559 │ 58     │  Private          │ 151910 │  HS-grad      │ 9             │\n",
       "│ 32560 │ 22     │  Private          │ 201490 │  HS-grad      │ 9             │\n",
       "│ 32561 │ 52     │  Self-emp-inc     │ 287927 │  HS-grad      │ 9             │"
      ]
     },
     "execution_count": 2,
     "metadata": {},
     "output_type": "execute_result"
    }
   ],
   "source": [
    "using CSV \n",
    "df = CSV.read(\"adult.csv\"; header=true); # read csv file as DataFramw\n",
    "# CSV.write(\"newfile.csv\", df)  # write your df as CSV file"
   ]
  },
  {
   "cell_type": "markdown",
   "metadata": {},
   "source": [
    "Basic Information about DataFrame"
   ]
  },
  {
   "cell_type": "code",
   "execution_count": 3,
   "metadata": {},
   "outputs": [
    {
     "data": {
      "text/plain": [
       "DataFrame"
      ]
     },
     "execution_count": 3,
     "metadata": {},
     "output_type": "execute_result"
    }
   ],
   "source": [
    "typeof(df)"
   ]
  },
  {
   "cell_type": "code",
   "execution_count": 4,
   "metadata": {},
   "outputs": [
    {
     "data": {
      "text/plain": [
       "(32561, 15)"
      ]
     },
     "execution_count": 4,
     "metadata": {},
     "output_type": "execute_result"
    }
   ],
   "source": [
    "size(df)"
   ]
  },
  {
   "cell_type": "code",
   "execution_count": 5,
   "metadata": {},
   "outputs": [
    {
     "data": {
      "text/plain": [
       "(32561, 32561)"
      ]
     },
     "execution_count": 5,
     "metadata": {},
     "output_type": "execute_result"
    }
   ],
   "source": [
    "size(df, 1), nrow(df)   # both gives number of rows"
   ]
  },
  {
   "cell_type": "code",
   "execution_count": 6,
   "metadata": {},
   "outputs": [
    {
     "data": {
      "text/plain": [
       "(15, 15)"
      ]
     },
     "execution_count": 6,
     "metadata": {},
     "output_type": "execute_result"
    }
   ],
   "source": [
    "size(df, 2), ncol(df) # both gives number of columns"
   ]
  },
  {
   "cell_type": "code",
   "execution_count": 7,
   "metadata": {},
   "outputs": [
    {
     "data": {
      "text/html": [
       "<table class=\"data-frame\"><thead><tr><th></th><th>age</th><th>workclass</th><th>fnlwgt</th><th>education</th><th>education-num</th><th>marital-status</th><th>occupation</th><th>relationship</th><th>race</th><th>sex</th><th>capital-gain</th><th>capital-loss</th><th>hours-per-week</th><th>native-country: </th><th>class</th></tr><tr><th></th><th>Int64⍰</th><th>String⍰</th><th>Int64⍰</th><th>String⍰</th><th>Int64⍰</th><th>String⍰</th><th>String⍰</th><th>String⍰</th><th>String⍰</th><th>String⍰</th><th>Int64⍰</th><th>Int64⍰</th><th>Int64⍰</th><th>String⍰</th><th>String⍰</th></tr></thead><tbody><p>5 rows × 15 columns</p><tr><th>1</th><td>39</td><td> State-gov</td><td>77516</td><td> Bachelors</td><td>13</td><td> Never-married</td><td> Adm-clerical</td><td> Not-in-family</td><td> White</td><td> Male</td><td>2174</td><td>0</td><td>40</td><td> United-States</td><td> &lt;=50K</td></tr><tr><th>2</th><td>50</td><td> Self-emp-not-inc</td><td>83311</td><td> Bachelors</td><td>13</td><td> Married-civ-spouse</td><td> Exec-managerial</td><td> Husband</td><td> White</td><td> Male</td><td>0</td><td>0</td><td>13</td><td> United-States</td><td> &lt;=50K</td></tr><tr><th>3</th><td>38</td><td> Private</td><td>215646</td><td> HS-grad</td><td>9</td><td> Divorced</td><td> Handlers-cleaners</td><td> Not-in-family</td><td> White</td><td> Male</td><td>0</td><td>0</td><td>40</td><td> United-States</td><td> &lt;=50K</td></tr><tr><th>4</th><td>53</td><td> Private</td><td>234721</td><td> 11th</td><td>7</td><td> Married-civ-spouse</td><td> Handlers-cleaners</td><td> Husband</td><td> Black</td><td> Male</td><td>0</td><td>0</td><td>40</td><td> United-States</td><td> &lt;=50K</td></tr><tr><th>5</th><td>28</td><td> Private</td><td>338409</td><td> Bachelors</td><td>13</td><td> Married-civ-spouse</td><td> Prof-specialty</td><td> Wife</td><td> Black</td><td> Female</td><td>0</td><td>0</td><td>40</td><td> Cuba</td><td> &lt;=50K</td></tr></tbody></table>"
      ],
      "text/latex": [
       "\\begin{tabular}{r|ccccccccccccccc}\n",
       "\t& age & workclass & fnlwgt & education & education-num & marital-status & occupation & relationship & race & sex & capital-gain & capital-loss & hours-per-week & native-country:  & class\\\\\n",
       "\t\\hline\n",
       "\t& Int64⍰ & String⍰ & Int64⍰ & String⍰ & Int64⍰ & String⍰ & String⍰ & String⍰ & String⍰ & String⍰ & Int64⍰ & Int64⍰ & Int64⍰ & String⍰ & String⍰\\\\\n",
       "\t\\hline\n",
       "\t1 & 39 &  State-gov & 77516 &  Bachelors & 13 &  Never-married &  Adm-clerical &  Not-in-family &  White &  Male & 2174 & 0 & 40 &  United-States &  <=50K \\\\\n",
       "\t2 & 50 &  Self-emp-not-inc & 83311 &  Bachelors & 13 &  Married-civ-spouse &  Exec-managerial &  Husband &  White &  Male & 0 & 0 & 13 &  United-States &  <=50K \\\\\n",
       "\t3 & 38 &  Private & 215646 &  HS-grad & 9 &  Divorced &  Handlers-cleaners &  Not-in-family &  White &  Male & 0 & 0 & 40 &  United-States &  <=50K \\\\\n",
       "\t4 & 53 &  Private & 234721 &  11th & 7 &  Married-civ-spouse &  Handlers-cleaners &  Husband &  Black &  Male & 0 & 0 & 40 &  United-States &  <=50K \\\\\n",
       "\t5 & 28 &  Private & 338409 &  Bachelors & 13 &  Married-civ-spouse &  Prof-specialty &  Wife &  Black &  Female & 0 & 0 & 40 &  Cuba &  <=50K \\\\\n",
       "\\end{tabular}\n"
      ],
      "text/plain": [
       "5×15 DataFrame. Omitted printing of 10 columns\n",
       "│ Row │ age    │ workclass         │ fnlwgt │ education  │ education-num │\n",
       "│     │ \u001b[90mInt64⍰\u001b[39m │ \u001b[90mString⍰\u001b[39m           │ \u001b[90mInt64⍰\u001b[39m │ \u001b[90mString⍰\u001b[39m    │ \u001b[90mInt64⍰\u001b[39m        │\n",
       "├─────┼────────┼───────────────────┼────────┼────────────┼───────────────┤\n",
       "│ 1   │ 39     │  State-gov        │ 77516  │  Bachelors │ 13            │\n",
       "│ 2   │ 50     │  Self-emp-not-inc │ 83311  │  Bachelors │ 13            │\n",
       "│ 3   │ 38     │  Private          │ 215646 │  HS-grad   │ 9             │\n",
       "│ 4   │ 53     │  Private          │ 234721 │  11th      │ 7             │\n",
       "│ 5   │ 28     │  Private          │ 338409 │  Bachelors │ 13            │"
      ]
     },
     "execution_count": 7,
     "metadata": {},
     "output_type": "execute_result"
    }
   ],
   "source": [
    "first(df,5)   # first 5 rows of dataframe"
   ]
  },
  {
   "cell_type": "code",
   "execution_count": 8,
   "metadata": {},
   "outputs": [
    {
     "data": {
      "text/html": [
       "<table class=\"data-frame\"><thead><tr><th></th><th>age</th><th>workclass</th><th>fnlwgt</th><th>education</th><th>education-num</th><th>marital-status</th><th>occupation</th><th>relationship</th><th>race</th><th>sex</th><th>capital-gain</th><th>capital-loss</th><th>hours-per-week</th><th>native-country: </th><th>class</th></tr><tr><th></th><th>Int64⍰</th><th>String⍰</th><th>Int64⍰</th><th>String⍰</th><th>Int64⍰</th><th>String⍰</th><th>String⍰</th><th>String⍰</th><th>String⍰</th><th>String⍰</th><th>Int64⍰</th><th>Int64⍰</th><th>Int64⍰</th><th>String⍰</th><th>String⍰</th></tr></thead><tbody><p>5 rows × 15 columns</p><tr><th>1</th><td>27</td><td> Private</td><td>257302</td><td> Assoc-acdm</td><td>12</td><td> Married-civ-spouse</td><td> Tech-support</td><td> Wife</td><td> White</td><td> Female</td><td>0</td><td>0</td><td>38</td><td> United-States</td><td> &lt;=50K</td></tr><tr><th>2</th><td>40</td><td> Private</td><td>154374</td><td> HS-grad</td><td>9</td><td> Married-civ-spouse</td><td> Machine-op-inspct</td><td> Husband</td><td> White</td><td> Male</td><td>0</td><td>0</td><td>40</td><td> United-States</td><td> &gt;50K</td></tr><tr><th>3</th><td>58</td><td> Private</td><td>151910</td><td> HS-grad</td><td>9</td><td> Widowed</td><td> Adm-clerical</td><td> Unmarried</td><td> White</td><td> Female</td><td>0</td><td>0</td><td>40</td><td> United-States</td><td> &lt;=50K</td></tr><tr><th>4</th><td>22</td><td> Private</td><td>201490</td><td> HS-grad</td><td>9</td><td> Never-married</td><td> Adm-clerical</td><td> Own-child</td><td> White</td><td> Male</td><td>0</td><td>0</td><td>20</td><td> United-States</td><td> &lt;=50K</td></tr><tr><th>5</th><td>52</td><td> Self-emp-inc</td><td>287927</td><td> HS-grad</td><td>9</td><td> Married-civ-spouse</td><td> Exec-managerial</td><td> Wife</td><td> White</td><td> Female</td><td>15024</td><td>0</td><td>40</td><td> United-States</td><td> &gt;50K</td></tr></tbody></table>"
      ],
      "text/latex": [
       "\\begin{tabular}{r|ccccccccccccccc}\n",
       "\t& age & workclass & fnlwgt & education & education-num & marital-status & occupation & relationship & race & sex & capital-gain & capital-loss & hours-per-week & native-country:  & class\\\\\n",
       "\t\\hline\n",
       "\t& Int64⍰ & String⍰ & Int64⍰ & String⍰ & Int64⍰ & String⍰ & String⍰ & String⍰ & String⍰ & String⍰ & Int64⍰ & Int64⍰ & Int64⍰ & String⍰ & String⍰\\\\\n",
       "\t\\hline\n",
       "\t1 & 27 &  Private & 257302 &  Assoc-acdm & 12 &  Married-civ-spouse &  Tech-support &  Wife &  White &  Female & 0 & 0 & 38 &  United-States &  <=50K \\\\\n",
       "\t2 & 40 &  Private & 154374 &  HS-grad & 9 &  Married-civ-spouse &  Machine-op-inspct &  Husband &  White &  Male & 0 & 0 & 40 &  United-States &  >50K \\\\\n",
       "\t3 & 58 &  Private & 151910 &  HS-grad & 9 &  Widowed &  Adm-clerical &  Unmarried &  White &  Female & 0 & 0 & 40 &  United-States &  <=50K \\\\\n",
       "\t4 & 22 &  Private & 201490 &  HS-grad & 9 &  Never-married &  Adm-clerical &  Own-child &  White &  Male & 0 & 0 & 20 &  United-States &  <=50K \\\\\n",
       "\t5 & 52 &  Self-emp-inc & 287927 &  HS-grad & 9 &  Married-civ-spouse &  Exec-managerial &  Wife &  White &  Female & 15024 & 0 & 40 &  United-States &  >50K \\\\\n",
       "\\end{tabular}\n"
      ],
      "text/plain": [
       "5×15 DataFrame. Omitted printing of 10 columns\n",
       "│ Row │ age    │ workclass     │ fnlwgt │ education   │ education-num │\n",
       "│     │ \u001b[90mInt64⍰\u001b[39m │ \u001b[90mString⍰\u001b[39m       │ \u001b[90mInt64⍰\u001b[39m │ \u001b[90mString⍰\u001b[39m     │ \u001b[90mInt64⍰\u001b[39m        │\n",
       "├─────┼────────┼───────────────┼────────┼─────────────┼───────────────┤\n",
       "│ 1   │ 27     │  Private      │ 257302 │  Assoc-acdm │ 12            │\n",
       "│ 2   │ 40     │  Private      │ 154374 │  HS-grad    │ 9             │\n",
       "│ 3   │ 58     │  Private      │ 151910 │  HS-grad    │ 9             │\n",
       "│ 4   │ 22     │  Private      │ 201490 │  HS-grad    │ 9             │\n",
       "│ 5   │ 52     │  Self-emp-inc │ 287927 │  HS-grad    │ 9             │"
      ]
     },
     "execution_count": 8,
     "metadata": {},
     "output_type": "execute_result"
    }
   ],
   "source": [
    "last(df,5)   # last 5 rows of dataframe"
   ]
  },
  {
   "cell_type": "code",
   "execution_count": 9,
   "metadata": {},
   "outputs": [
    {
     "data": {
      "text/plain": [
       "15-element Array{Symbol,1}:\n",
       " :age                      \n",
       " :workclass                \n",
       " :fnlwgt                   \n",
       " :education                \n",
       " Symbol(\"education-num\")   \n",
       " Symbol(\"marital-status\")  \n",
       " :occupation               \n",
       " :relationship             \n",
       " :race                     \n",
       " :sex                      \n",
       " Symbol(\"capital-gain\")    \n",
       " Symbol(\"capital-loss\")    \n",
       " Symbol(\"hours-per-week\")  \n",
       " Symbol(\"native-country: \")\n",
       " :class                    "
      ]
     },
     "execution_count": 9,
     "metadata": {},
     "output_type": "execute_result"
    }
   ],
   "source": [
    "names(df)  # names of all columns"
   ]
  },
  {
   "cell_type": "code",
   "execution_count": 10,
   "metadata": {},
   "outputs": [
    {
     "data": {
      "text/plain": [
       "15-element Array{Union,1}:\n",
       " Union{Missing, Int64} \n",
       " Union{Missing, String}\n",
       " Union{Missing, Int64} \n",
       " Union{Missing, String}\n",
       " Union{Missing, Int64} \n",
       " Union{Missing, String}\n",
       " Union{Missing, String}\n",
       " Union{Missing, String}\n",
       " Union{Missing, String}\n",
       " Union{Missing, String}\n",
       " Union{Missing, Int64} \n",
       " Union{Missing, Int64} \n",
       " Union{Missing, Int64} \n",
       " Union{Missing, String}\n",
       " Union{Missing, String}"
      ]
     },
     "execution_count": 10,
     "metadata": {},
     "output_type": "execute_result"
    }
   ],
   "source": [
    "eltypes(df)  # elemet types of all columns"
   ]
  },
  {
   "cell_type": "code",
   "execution_count": 11,
   "metadata": {},
   "outputs": [
    {
     "name": "stderr",
     "output_type": "stream",
     "text": [
      "┌ Warning: `showcols(df::AbstractDataFrame, all::Bool=false, values::Bool=true)` is deprecated, use `describe(df, stats=[:eltype, :nmissing, :first, :last])` instead.\n",
      "│   caller = showcols(::DataFrame) at deprecated.jl:56\n",
      "└ @ DataFrames .\\deprecated.jl:56\n"
     ]
    },
    {
     "data": {
      "text/html": [
       "<table class=\"data-frame\"><thead><tr><th></th><th>variable</th><th>eltype</th><th>nmissing</th><th>first</th><th>last</th></tr><tr><th></th><th>Symbol</th><th>DataType</th><th>Int64</th><th>Any</th><th>Any</th></tr></thead><tbody><p>15 rows × 5 columns</p><tr><th>1</th><td>age</td><td>Int64</td><td>0</td><td>39</td><td>52</td></tr><tr><th>2</th><td>workclass</td><td>String</td><td>0</td><td> State-gov</td><td> Self-emp-inc</td></tr><tr><th>3</th><td>fnlwgt</td><td>Int64</td><td>0</td><td>77516</td><td>287927</td></tr><tr><th>4</th><td>education</td><td>String</td><td>0</td><td> Bachelors</td><td> HS-grad</td></tr><tr><th>5</th><td>education-num</td><td>Int64</td><td>0</td><td>13</td><td>9</td></tr><tr><th>6</th><td>marital-status</td><td>String</td><td>0</td><td> Never-married</td><td> Married-civ-spouse</td></tr><tr><th>7</th><td>occupation</td><td>String</td><td>0</td><td> Adm-clerical</td><td> Exec-managerial</td></tr><tr><th>8</th><td>relationship</td><td>String</td><td>0</td><td> Not-in-family</td><td> Wife</td></tr><tr><th>9</th><td>race</td><td>String</td><td>0</td><td> White</td><td> White</td></tr><tr><th>10</th><td>sex</td><td>String</td><td>0</td><td> Male</td><td> Female</td></tr><tr><th>11</th><td>capital-gain</td><td>Int64</td><td>0</td><td>2174</td><td>15024</td></tr><tr><th>12</th><td>capital-loss</td><td>Int64</td><td>0</td><td>0</td><td>0</td></tr><tr><th>13</th><td>hours-per-week</td><td>Int64</td><td>0</td><td>40</td><td>40</td></tr><tr><th>14</th><td>native-country: </td><td>String</td><td>0</td><td> United-States</td><td> United-States</td></tr><tr><th>15</th><td>class</td><td>String</td><td>0</td><td> &lt;=50K</td><td> &gt;50K</td></tr></tbody></table>"
      ],
      "text/latex": [
       "\\begin{tabular}{r|ccccc}\n",
       "\t& variable & eltype & nmissing & first & last\\\\\n",
       "\t\\hline\n",
       "\t& Symbol & DataType & Int64 & Any & Any\\\\\n",
       "\t\\hline\n",
       "\t1 & age & Int64 & 0 & 39 & 52 \\\\\n",
       "\t2 & workclass & String & 0 &  State-gov &  Self-emp-inc \\\\\n",
       "\t3 & fnlwgt & Int64 & 0 & 77516 & 287927 \\\\\n",
       "\t4 & education & String & 0 &  Bachelors &  HS-grad \\\\\n",
       "\t5 & education-num & Int64 & 0 & 13 & 9 \\\\\n",
       "\t6 & marital-status & String & 0 &  Never-married &  Married-civ-spouse \\\\\n",
       "\t7 & occupation & String & 0 &  Adm-clerical &  Exec-managerial \\\\\n",
       "\t8 & relationship & String & 0 &  Not-in-family &  Wife \\\\\n",
       "\t9 & race & String & 0 &  White &  White \\\\\n",
       "\t10 & sex & String & 0 &  Male &  Female \\\\\n",
       "\t11 & capital-gain & Int64 & 0 & 2174 & 15024 \\\\\n",
       "\t12 & capital-loss & Int64 & 0 & 0 & 0 \\\\\n",
       "\t13 & hours-per-week & Int64 & 0 & 40 & 40 \\\\\n",
       "\t14 & native-country:  & String & 0 &  United-States &  United-States \\\\\n",
       "\t15 & class & String & 0 &  <=50K &  >50K \\\\\n",
       "\\end{tabular}\n"
      ],
      "text/plain": [
       "15×5 DataFrame. Omitted printing of 1 columns\n",
       "│ Row │ variable         │ eltype   │ nmissing │ first          │\n",
       "│     │ \u001b[90mSymbol\u001b[39m           │ \u001b[90mDataType\u001b[39m │ \u001b[90mInt64\u001b[39m    │ \u001b[90mAny\u001b[39m            │\n",
       "├─────┼──────────────────┼──────────┼──────────┼────────────────┤\n",
       "│ 1   │ age              │ Int64    │ 0        │ 39             │\n",
       "│ 2   │ workclass        │ String   │ 0        │  State-gov     │\n",
       "│ 3   │ fnlwgt           │ Int64    │ 0        │ 77516          │\n",
       "│ 4   │ education        │ String   │ 0        │  Bachelors     │\n",
       "│ 5   │ education-num    │ Int64    │ 0        │ 13             │\n",
       "│ 6   │ marital-status   │ String   │ 0        │  Never-married │\n",
       "│ 7   │ occupation       │ String   │ 0        │  Adm-clerical  │\n",
       "│ 8   │ relationship     │ String   │ 0        │  Not-in-family │\n",
       "│ 9   │ race             │ String   │ 0        │  White         │\n",
       "│ 10  │ sex              │ String   │ 0        │  Male          │\n",
       "│ 11  │ capital-gain     │ Int64    │ 0        │ 2174           │\n",
       "│ 12  │ capital-loss     │ Int64    │ 0        │ 0              │\n",
       "│ 13  │ hours-per-week   │ Int64    │ 0        │ 40             │\n",
       "│ 14  │ native-country:  │ String   │ 0        │  United-States │\n",
       "│ 15  │ class            │ String   │ 0        │  <=50K         │"
      ]
     },
     "execution_count": 11,
     "metadata": {},
     "output_type": "execute_result"
    }
   ],
   "source": [
    "showcols(df)  # informaton about columns"
   ]
  },
  {
   "cell_type": "code",
   "execution_count": 12,
   "metadata": {},
   "outputs": [
    {
     "data": {
      "text/html": [
       "<table class=\"data-frame\"><thead><tr><th></th><th>variable</th><th>mean</th><th>min</th><th>median</th><th>max</th><th>nunique</th><th>nmissing</th><th>eltype</th></tr><tr><th></th><th>Symbol</th><th>Union…</th><th>Any</th><th>Union…</th><th>Any</th><th>Union…</th><th>Int64</th><th>DataType</th></tr></thead><tbody><p>15 rows × 8 columns</p><tr><th>1</th><td>age</td><td>38.5816</td><td>17</td><td>37.0</td><td>90</td><td></td><td>0</td><td>Int64</td></tr><tr><th>2</th><td>workclass</td><td></td><td> ?</td><td></td><td> Without-pay</td><td>9</td><td>0</td><td>String</td></tr><tr><th>3</th><td>fnlwgt</td><td>1.89778e5</td><td>12285</td><td>178356.0</td><td>1484705</td><td></td><td>0</td><td>Int64</td></tr><tr><th>4</th><td>education</td><td></td><td> 10th</td><td></td><td> Some-college</td><td>16</td><td>0</td><td>String</td></tr><tr><th>5</th><td>education-num</td><td>10.0807</td><td>1</td><td>10.0</td><td>16</td><td></td><td>0</td><td>Int64</td></tr><tr><th>6</th><td>marital-status</td><td></td><td> Divorced</td><td></td><td> Widowed</td><td>7</td><td>0</td><td>String</td></tr><tr><th>7</th><td>occupation</td><td></td><td> ?</td><td></td><td> Transport-moving</td><td>15</td><td>0</td><td>String</td></tr><tr><th>8</th><td>relationship</td><td></td><td> Husband</td><td></td><td> Wife</td><td>6</td><td>0</td><td>String</td></tr><tr><th>9</th><td>race</td><td></td><td> Amer-Indian-Eskimo</td><td></td><td> White</td><td>5</td><td>0</td><td>String</td></tr><tr><th>10</th><td>sex</td><td></td><td> Female</td><td></td><td> Male</td><td>2</td><td>0</td><td>String</td></tr><tr><th>11</th><td>capital-gain</td><td>1077.65</td><td>0</td><td>0.0</td><td>99999</td><td></td><td>0</td><td>Int64</td></tr><tr><th>12</th><td>capital-loss</td><td>87.3038</td><td>0</td><td>0.0</td><td>4356</td><td></td><td>0</td><td>Int64</td></tr><tr><th>13</th><td>hours-per-week</td><td>40.4375</td><td>1</td><td>40.0</td><td>99</td><td></td><td>0</td><td>Int64</td></tr><tr><th>14</th><td>native-country: </td><td></td><td> ?</td><td></td><td> Yugoslavia</td><td>42</td><td>0</td><td>String</td></tr><tr><th>15</th><td>class</td><td></td><td> &lt;=50K</td><td></td><td> &gt;50K</td><td>2</td><td>0</td><td>String</td></tr></tbody></table>"
      ],
      "text/latex": [
       "\\begin{tabular}{r|cccccccc}\n",
       "\t& variable & mean & min & median & max & nunique & nmissing & eltype\\\\\n",
       "\t\\hline\n",
       "\t& Symbol & Union… & Any & Union… & Any & Union… & Int64 & DataType\\\\\n",
       "\t\\hline\n",
       "\t1 & age & 38.5816 & 17 & 37.0 & 90 &  & 0 & Int64 \\\\\n",
       "\t2 & workclass &  &  ? &  &  Without-pay & 9 & 0 & String \\\\\n",
       "\t3 & fnlwgt & 1.89778e5 & 12285 & 178356.0 & 1484705 &  & 0 & Int64 \\\\\n",
       "\t4 & education &  &  10th &  &  Some-college & 16 & 0 & String \\\\\n",
       "\t5 & education-num & 10.0807 & 1 & 10.0 & 16 &  & 0 & Int64 \\\\\n",
       "\t6 & marital-status &  &  Divorced &  &  Widowed & 7 & 0 & String \\\\\n",
       "\t7 & occupation &  &  ? &  &  Transport-moving & 15 & 0 & String \\\\\n",
       "\t8 & relationship &  &  Husband &  &  Wife & 6 & 0 & String \\\\\n",
       "\t9 & race &  &  Amer-Indian-Eskimo &  &  White & 5 & 0 & String \\\\\n",
       "\t10 & sex &  &  Female &  &  Male & 2 & 0 & String \\\\\n",
       "\t11 & capital-gain & 1077.65 & 0 & 0.0 & 99999 &  & 0 & Int64 \\\\\n",
       "\t12 & capital-loss & 87.3038 & 0 & 0.0 & 4356 &  & 0 & Int64 \\\\\n",
       "\t13 & hours-per-week & 40.4375 & 1 & 40.0 & 99 &  & 0 & Int64 \\\\\n",
       "\t14 & native-country:  &  &  ? &  &  Yugoslavia & 42 & 0 & String \\\\\n",
       "\t15 & class &  &  <=50K &  &  >50K & 2 & 0 & String \\\\\n",
       "\\end{tabular}\n"
      ],
      "text/plain": [
       "15×8 DataFrame. Omitted printing of 4 columns\n",
       "│ Row │ variable         │ mean      │ min                 │ median   │\n",
       "│     │ \u001b[90mSymbol\u001b[39m           │ \u001b[90mUnion…\u001b[39m    │ \u001b[90mAny\u001b[39m                 │ \u001b[90mUnion…\u001b[39m   │\n",
       "├─────┼──────────────────┼───────────┼─────────────────────┼──────────┤\n",
       "│ 1   │ age              │ 38.5816   │ 17                  │ 37.0     │\n",
       "│ 2   │ workclass        │           │  ?                  │          │\n",
       "│ 3   │ fnlwgt           │ 1.89778e5 │ 12285               │ 178356.0 │\n",
       "│ 4   │ education        │           │  10th               │          │\n",
       "│ 5   │ education-num    │ 10.0807   │ 1                   │ 10.0     │\n",
       "│ 6   │ marital-status   │           │  Divorced           │          │\n",
       "│ 7   │ occupation       │           │  ?                  │          │\n",
       "│ 8   │ relationship     │           │  Husband            │          │\n",
       "│ 9   │ race             │           │  Amer-Indian-Eskimo │          │\n",
       "│ 10  │ sex              │           │  Female             │          │\n",
       "│ 11  │ capital-gain     │ 1077.65   │ 0                   │ 0.0      │\n",
       "│ 12  │ capital-loss     │ 87.3038   │ 0                   │ 0.0      │\n",
       "│ 13  │ hours-per-week   │ 40.4375   │ 1                   │ 40.0     │\n",
       "│ 14  │ native-country:  │           │  ?                  │          │\n",
       "│ 15  │ class            │           │  <=50K              │          │"
      ]
     },
     "execution_count": 12,
     "metadata": {},
     "output_type": "execute_result"
    }
   ],
   "source": [
    "describe(df)  # basic summary statistics"
   ]
  },
  {
   "cell_type": "markdown",
   "metadata": {},
   "source": [
    "Extracting rows, columns, or some elements from DataFrame"
   ]
  },
  {
   "cell_type": "code",
   "execution_count": 13,
   "metadata": {},
   "outputs": [
    {
     "data": {
      "text/plain": [
       "32561-element Array{Union{Missing, Int64},1}:\n",
       " 39\n",
       " 50\n",
       " 38\n",
       " 53\n",
       " 28\n",
       " 37\n",
       " 49\n",
       " 52\n",
       " 31\n",
       " 42\n",
       " 37\n",
       " 30\n",
       " 23\n",
       "  ⋮\n",
       " 43\n",
       " 43\n",
       " 32\n",
       " 43\n",
       " 32\n",
       " 53\n",
       " 22\n",
       " 27\n",
       " 40\n",
       " 58\n",
       " 22\n",
       " 52"
      ]
     },
     "execution_count": 13,
     "metadata": {},
     "output_type": "execute_result"
    }
   ],
   "source": [
    "df[:age]     # grab one column as a Vector,  df[1], df[:, 1] give same array"
   ]
  },
  {
   "cell_type": "code",
   "execution_count": 14,
   "metadata": {},
   "outputs": [
    {
     "data": {
      "text/html": [
       "<table class=\"data-frame\"><thead><tr><th></th><th>age</th></tr><tr><th></th><th>Int64⍰</th></tr></thead><tbody><p>32,561 rows × 1 columns</p><tr><th>1</th><td>39</td></tr><tr><th>2</th><td>50</td></tr><tr><th>3</th><td>38</td></tr><tr><th>4</th><td>53</td></tr><tr><th>5</th><td>28</td></tr><tr><th>6</th><td>37</td></tr><tr><th>7</th><td>49</td></tr><tr><th>8</th><td>52</td></tr><tr><th>9</th><td>31</td></tr><tr><th>10</th><td>42</td></tr><tr><th>11</th><td>37</td></tr><tr><th>12</th><td>30</td></tr><tr><th>13</th><td>23</td></tr><tr><th>14</th><td>32</td></tr><tr><th>15</th><td>40</td></tr><tr><th>16</th><td>34</td></tr><tr><th>17</th><td>25</td></tr><tr><th>18</th><td>32</td></tr><tr><th>19</th><td>38</td></tr><tr><th>20</th><td>43</td></tr><tr><th>21</th><td>40</td></tr><tr><th>22</th><td>54</td></tr><tr><th>23</th><td>35</td></tr><tr><th>24</th><td>43</td></tr><tr><th>25</th><td>59</td></tr><tr><th>26</th><td>56</td></tr><tr><th>27</th><td>19</td></tr><tr><th>28</th><td>54</td></tr><tr><th>29</th><td>39</td></tr><tr><th>30</th><td>49</td></tr><tr><th>&vellip;</th><td>&vellip;</td></tr></tbody></table>"
      ],
      "text/latex": [
       "\\begin{tabular}{r|c}\n",
       "\t& age\\\\\n",
       "\t\\hline\n",
       "\t& Int64⍰\\\\\n",
       "\t\\hline\n",
       "\t1 & 39 \\\\\n",
       "\t2 & 50 \\\\\n",
       "\t3 & 38 \\\\\n",
       "\t4 & 53 \\\\\n",
       "\t5 & 28 \\\\\n",
       "\t6 & 37 \\\\\n",
       "\t7 & 49 \\\\\n",
       "\t8 & 52 \\\\\n",
       "\t9 & 31 \\\\\n",
       "\t10 & 42 \\\\\n",
       "\t11 & 37 \\\\\n",
       "\t12 & 30 \\\\\n",
       "\t13 & 23 \\\\\n",
       "\t14 & 32 \\\\\n",
       "\t15 & 40 \\\\\n",
       "\t16 & 34 \\\\\n",
       "\t17 & 25 \\\\\n",
       "\t18 & 32 \\\\\n",
       "\t19 & 38 \\\\\n",
       "\t20 & 43 \\\\\n",
       "\t21 & 40 \\\\\n",
       "\t22 & 54 \\\\\n",
       "\t23 & 35 \\\\\n",
       "\t24 & 43 \\\\\n",
       "\t25 & 59 \\\\\n",
       "\t26 & 56 \\\\\n",
       "\t27 & 19 \\\\\n",
       "\t28 & 54 \\\\\n",
       "\t29 & 39 \\\\\n",
       "\t30 & 49 \\\\\n",
       "\t$\\dots$ & $\\dots$ \\\\\n",
       "\\end{tabular}\n"
      ],
      "text/plain": [
       "32561×1 DataFrame\n",
       "│ Row   │ age    │\n",
       "│       │ \u001b[90mInt64⍰\u001b[39m │\n",
       "├───────┼────────┤\n",
       "│ 1     │ 39     │\n",
       "│ 2     │ 50     │\n",
       "│ 3     │ 38     │\n",
       "│ 4     │ 53     │\n",
       "│ 5     │ 28     │\n",
       "│ 6     │ 37     │\n",
       "│ 7     │ 49     │\n",
       "│ 8     │ 52     │\n",
       "│ 9     │ 31     │\n",
       "│ 10    │ 42     │\n",
       "⋮\n",
       "│ 32551 │ 43     │\n",
       "│ 32552 │ 32     │\n",
       "│ 32553 │ 43     │\n",
       "│ 32554 │ 32     │\n",
       "│ 32555 │ 53     │\n",
       "│ 32556 │ 22     │\n",
       "│ 32557 │ 27     │\n",
       "│ 32558 │ 40     │\n",
       "│ 32559 │ 58     │\n",
       "│ 32560 │ 22     │\n",
       "│ 32561 │ 52     │"
      ]
     },
     "execution_count": 14,
     "metadata": {},
     "output_type": "execute_result"
    }
   ],
   "source": [
    "df[[:age]]     # grab one column as a DataFrame,  df[[1]], df[:, [1]] give same DataFrame"
   ]
  },
  {
   "cell_type": "code",
   "execution_count": 15,
   "metadata": {},
   "outputs": [
    {
     "data": {
      "text/html": [
       "<table class=\"data-frame\"><thead><tr><th></th><th>age</th><th>workclass</th></tr><tr><th></th><th>Int64⍰</th><th>String⍰</th></tr></thead><tbody><p>32,561 rows × 2 columns</p><tr><th>1</th><td>39</td><td> State-gov</td></tr><tr><th>2</th><td>50</td><td> Self-emp-not-inc</td></tr><tr><th>3</th><td>38</td><td> Private</td></tr><tr><th>4</th><td>53</td><td> Private</td></tr><tr><th>5</th><td>28</td><td> Private</td></tr><tr><th>6</th><td>37</td><td> Private</td></tr><tr><th>7</th><td>49</td><td> Private</td></tr><tr><th>8</th><td>52</td><td> Self-emp-not-inc</td></tr><tr><th>9</th><td>31</td><td> Private</td></tr><tr><th>10</th><td>42</td><td> Private</td></tr><tr><th>11</th><td>37</td><td> Private</td></tr><tr><th>12</th><td>30</td><td> State-gov</td></tr><tr><th>13</th><td>23</td><td> Private</td></tr><tr><th>14</th><td>32</td><td> Private</td></tr><tr><th>15</th><td>40</td><td> Private</td></tr><tr><th>16</th><td>34</td><td> Private</td></tr><tr><th>17</th><td>25</td><td> Self-emp-not-inc</td></tr><tr><th>18</th><td>32</td><td> Private</td></tr><tr><th>19</th><td>38</td><td> Private</td></tr><tr><th>20</th><td>43</td><td> Self-emp-not-inc</td></tr><tr><th>21</th><td>40</td><td> Private</td></tr><tr><th>22</th><td>54</td><td> Private</td></tr><tr><th>23</th><td>35</td><td> Federal-gov</td></tr><tr><th>24</th><td>43</td><td> Private</td></tr><tr><th>25</th><td>59</td><td> Private</td></tr><tr><th>26</th><td>56</td><td> Local-gov</td></tr><tr><th>27</th><td>19</td><td> Private</td></tr><tr><th>28</th><td>54</td><td> ?</td></tr><tr><th>29</th><td>39</td><td> Private</td></tr><tr><th>30</th><td>49</td><td> Private</td></tr><tr><th>&vellip;</th><td>&vellip;</td><td>&vellip;</td></tr></tbody></table>"
      ],
      "text/latex": [
       "\\begin{tabular}{r|cc}\n",
       "\t& age & workclass\\\\\n",
       "\t\\hline\n",
       "\t& Int64⍰ & String⍰\\\\\n",
       "\t\\hline\n",
       "\t1 & 39 &  State-gov \\\\\n",
       "\t2 & 50 &  Self-emp-not-inc \\\\\n",
       "\t3 & 38 &  Private \\\\\n",
       "\t4 & 53 &  Private \\\\\n",
       "\t5 & 28 &  Private \\\\\n",
       "\t6 & 37 &  Private \\\\\n",
       "\t7 & 49 &  Private \\\\\n",
       "\t8 & 52 &  Self-emp-not-inc \\\\\n",
       "\t9 & 31 &  Private \\\\\n",
       "\t10 & 42 &  Private \\\\\n",
       "\t11 & 37 &  Private \\\\\n",
       "\t12 & 30 &  State-gov \\\\\n",
       "\t13 & 23 &  Private \\\\\n",
       "\t14 & 32 &  Private \\\\\n",
       "\t15 & 40 &  Private \\\\\n",
       "\t16 & 34 &  Private \\\\\n",
       "\t17 & 25 &  Self-emp-not-inc \\\\\n",
       "\t18 & 32 &  Private \\\\\n",
       "\t19 & 38 &  Private \\\\\n",
       "\t20 & 43 &  Self-emp-not-inc \\\\\n",
       "\t21 & 40 &  Private \\\\\n",
       "\t22 & 54 &  Private \\\\\n",
       "\t23 & 35 &  Federal-gov \\\\\n",
       "\t24 & 43 &  Private \\\\\n",
       "\t25 & 59 &  Private \\\\\n",
       "\t26 & 56 &  Local-gov \\\\\n",
       "\t27 & 19 &  Private \\\\\n",
       "\t28 & 54 &  ? \\\\\n",
       "\t29 & 39 &  Private \\\\\n",
       "\t30 & 49 &  Private \\\\\n",
       "\t$\\dots$ & $\\dots$ & $\\dots$ \\\\\n",
       "\\end{tabular}\n"
      ],
      "text/plain": [
       "32561×2 DataFrame\n",
       "│ Row   │ age    │ workclass         │\n",
       "│       │ \u001b[90mInt64⍰\u001b[39m │ \u001b[90mString⍰\u001b[39m           │\n",
       "├───────┼────────┼───────────────────┤\n",
       "│ 1     │ 39     │  State-gov        │\n",
       "│ 2     │ 50     │  Self-emp-not-inc │\n",
       "│ 3     │ 38     │  Private          │\n",
       "│ 4     │ 53     │  Private          │\n",
       "│ 5     │ 28     │  Private          │\n",
       "│ 6     │ 37     │  Private          │\n",
       "│ 7     │ 49     │  Private          │\n",
       "│ 8     │ 52     │  Self-emp-not-inc │\n",
       "│ 9     │ 31     │  Private          │\n",
       "│ 10    │ 42     │  Private          │\n",
       "⋮\n",
       "│ 32551 │ 43     │  Self-emp-not-inc │\n",
       "│ 32552 │ 32     │  Private          │\n",
       "│ 32553 │ 43     │  Private          │\n",
       "│ 32554 │ 32     │  Private          │\n",
       "│ 32555 │ 53     │  Private          │\n",
       "│ 32556 │ 22     │  Private          │\n",
       "│ 32557 │ 27     │  Private          │\n",
       "│ 32558 │ 40     │  Private          │\n",
       "│ 32559 │ 58     │  Private          │\n",
       "│ 32560 │ 22     │  Private          │\n",
       "│ 32561 │ 52     │  Self-emp-inc     │"
      ]
     },
     "execution_count": 15,
     "metadata": {},
     "output_type": "execute_result"
    }
   ],
   "source": [
    "df[[:age,:workclass]]    # grab multiple columns as a DataFrame,  df[[1,2]], df[:, [1,2]] give same DataFrame"
   ]
  },
  {
   "cell_type": "code",
   "execution_count": 16,
   "metadata": {},
   "outputs": [
    {
     "data": {
      "text/html": [
       "<table class=\"data-frame\"><thead><tr><th></th><th>age</th><th>workclass</th><th>fnlwgt</th><th>education</th><th>education-num</th></tr><tr><th></th><th>Int64⍰</th><th>String⍰</th><th>Int64⍰</th><th>String⍰</th><th>Int64⍰</th></tr></thead><tbody><p>32,561 rows × 5 columns</p><tr><th>1</th><td>39</td><td> State-gov</td><td>77516</td><td> Bachelors</td><td>13</td></tr><tr><th>2</th><td>50</td><td> Self-emp-not-inc</td><td>83311</td><td> Bachelors</td><td>13</td></tr><tr><th>3</th><td>38</td><td> Private</td><td>215646</td><td> HS-grad</td><td>9</td></tr><tr><th>4</th><td>53</td><td> Private</td><td>234721</td><td> 11th</td><td>7</td></tr><tr><th>5</th><td>28</td><td> Private</td><td>338409</td><td> Bachelors</td><td>13</td></tr><tr><th>6</th><td>37</td><td> Private</td><td>284582</td><td> Masters</td><td>14</td></tr><tr><th>7</th><td>49</td><td> Private</td><td>160187</td><td> 9th</td><td>5</td></tr><tr><th>8</th><td>52</td><td> Self-emp-not-inc</td><td>209642</td><td> HS-grad</td><td>9</td></tr><tr><th>9</th><td>31</td><td> Private</td><td>45781</td><td> Masters</td><td>14</td></tr><tr><th>10</th><td>42</td><td> Private</td><td>159449</td><td> Bachelors</td><td>13</td></tr><tr><th>11</th><td>37</td><td> Private</td><td>280464</td><td> Some-college</td><td>10</td></tr><tr><th>12</th><td>30</td><td> State-gov</td><td>141297</td><td> Bachelors</td><td>13</td></tr><tr><th>13</th><td>23</td><td> Private</td><td>122272</td><td> Bachelors</td><td>13</td></tr><tr><th>14</th><td>32</td><td> Private</td><td>205019</td><td> Assoc-acdm</td><td>12</td></tr><tr><th>15</th><td>40</td><td> Private</td><td>121772</td><td> Assoc-voc</td><td>11</td></tr><tr><th>16</th><td>34</td><td> Private</td><td>245487</td><td> 7th-8th</td><td>4</td></tr><tr><th>17</th><td>25</td><td> Self-emp-not-inc</td><td>176756</td><td> HS-grad</td><td>9</td></tr><tr><th>18</th><td>32</td><td> Private</td><td>186824</td><td> HS-grad</td><td>9</td></tr><tr><th>19</th><td>38</td><td> Private</td><td>28887</td><td> 11th</td><td>7</td></tr><tr><th>20</th><td>43</td><td> Self-emp-not-inc</td><td>292175</td><td> Masters</td><td>14</td></tr><tr><th>21</th><td>40</td><td> Private</td><td>193524</td><td> Doctorate</td><td>16</td></tr><tr><th>22</th><td>54</td><td> Private</td><td>302146</td><td> HS-grad</td><td>9</td></tr><tr><th>23</th><td>35</td><td> Federal-gov</td><td>76845</td><td> 9th</td><td>5</td></tr><tr><th>24</th><td>43</td><td> Private</td><td>117037</td><td> 11th</td><td>7</td></tr><tr><th>25</th><td>59</td><td> Private</td><td>109015</td><td> HS-grad</td><td>9</td></tr><tr><th>26</th><td>56</td><td> Local-gov</td><td>216851</td><td> Bachelors</td><td>13</td></tr><tr><th>27</th><td>19</td><td> Private</td><td>168294</td><td> HS-grad</td><td>9</td></tr><tr><th>28</th><td>54</td><td> ?</td><td>180211</td><td> Some-college</td><td>10</td></tr><tr><th>29</th><td>39</td><td> Private</td><td>367260</td><td> HS-grad</td><td>9</td></tr><tr><th>30</th><td>49</td><td> Private</td><td>193366</td><td> HS-grad</td><td>9</td></tr><tr><th>&vellip;</th><td>&vellip;</td><td>&vellip;</td><td>&vellip;</td><td>&vellip;</td><td>&vellip;</td></tr></tbody></table>"
      ],
      "text/latex": [
       "\\begin{tabular}{r|ccccc}\n",
       "\t& age & workclass & fnlwgt & education & education-num\\\\\n",
       "\t\\hline\n",
       "\t& Int64⍰ & String⍰ & Int64⍰ & String⍰ & Int64⍰\\\\\n",
       "\t\\hline\n",
       "\t1 & 39 &  State-gov & 77516 &  Bachelors & 13 \\\\\n",
       "\t2 & 50 &  Self-emp-not-inc & 83311 &  Bachelors & 13 \\\\\n",
       "\t3 & 38 &  Private & 215646 &  HS-grad & 9 \\\\\n",
       "\t4 & 53 &  Private & 234721 &  11th & 7 \\\\\n",
       "\t5 & 28 &  Private & 338409 &  Bachelors & 13 \\\\\n",
       "\t6 & 37 &  Private & 284582 &  Masters & 14 \\\\\n",
       "\t7 & 49 &  Private & 160187 &  9th & 5 \\\\\n",
       "\t8 & 52 &  Self-emp-not-inc & 209642 &  HS-grad & 9 \\\\\n",
       "\t9 & 31 &  Private & 45781 &  Masters & 14 \\\\\n",
       "\t10 & 42 &  Private & 159449 &  Bachelors & 13 \\\\\n",
       "\t11 & 37 &  Private & 280464 &  Some-college & 10 \\\\\n",
       "\t12 & 30 &  State-gov & 141297 &  Bachelors & 13 \\\\\n",
       "\t13 & 23 &  Private & 122272 &  Bachelors & 13 \\\\\n",
       "\t14 & 32 &  Private & 205019 &  Assoc-acdm & 12 \\\\\n",
       "\t15 & 40 &  Private & 121772 &  Assoc-voc & 11 \\\\\n",
       "\t16 & 34 &  Private & 245487 &  7th-8th & 4 \\\\\n",
       "\t17 & 25 &  Self-emp-not-inc & 176756 &  HS-grad & 9 \\\\\n",
       "\t18 & 32 &  Private & 186824 &  HS-grad & 9 \\\\\n",
       "\t19 & 38 &  Private & 28887 &  11th & 7 \\\\\n",
       "\t20 & 43 &  Self-emp-not-inc & 292175 &  Masters & 14 \\\\\n",
       "\t21 & 40 &  Private & 193524 &  Doctorate & 16 \\\\\n",
       "\t22 & 54 &  Private & 302146 &  HS-grad & 9 \\\\\n",
       "\t23 & 35 &  Federal-gov & 76845 &  9th & 5 \\\\\n",
       "\t24 & 43 &  Private & 117037 &  11th & 7 \\\\\n",
       "\t25 & 59 &  Private & 109015 &  HS-grad & 9 \\\\\n",
       "\t26 & 56 &  Local-gov & 216851 &  Bachelors & 13 \\\\\n",
       "\t27 & 19 &  Private & 168294 &  HS-grad & 9 \\\\\n",
       "\t28 & 54 &  ? & 180211 &  Some-college & 10 \\\\\n",
       "\t29 & 39 &  Private & 367260 &  HS-grad & 9 \\\\\n",
       "\t30 & 49 &  Private & 193366 &  HS-grad & 9 \\\\\n",
       "\t$\\dots$ & $\\dots$ & $\\dots$ & $\\dots$ & $\\dots$ & $\\dots$ \\\\\n",
       "\\end{tabular}\n"
      ],
      "text/plain": [
       "32561×5 DataFrame\n",
       "│ Row   │ age    │ workclass         │ fnlwgt │ education     │ education-num │\n",
       "│       │ \u001b[90mInt64⍰\u001b[39m │ \u001b[90mString⍰\u001b[39m           │ \u001b[90mInt64⍰\u001b[39m │ \u001b[90mString⍰\u001b[39m       │ \u001b[90mInt64⍰\u001b[39m        │\n",
       "├───────┼────────┼───────────────────┼────────┼───────────────┼───────────────┤\n",
       "│ 1     │ 39     │  State-gov        │ 77516  │  Bachelors    │ 13            │\n",
       "│ 2     │ 50     │  Self-emp-not-inc │ 83311  │  Bachelors    │ 13            │\n",
       "│ 3     │ 38     │  Private          │ 215646 │  HS-grad      │ 9             │\n",
       "│ 4     │ 53     │  Private          │ 234721 │  11th         │ 7             │\n",
       "│ 5     │ 28     │  Private          │ 338409 │  Bachelors    │ 13            │\n",
       "│ 6     │ 37     │  Private          │ 284582 │  Masters      │ 14            │\n",
       "│ 7     │ 49     │  Private          │ 160187 │  9th          │ 5             │\n",
       "│ 8     │ 52     │  Self-emp-not-inc │ 209642 │  HS-grad      │ 9             │\n",
       "│ 9     │ 31     │  Private          │ 45781  │  Masters      │ 14            │\n",
       "│ 10    │ 42     │  Private          │ 159449 │  Bachelors    │ 13            │\n",
       "⋮\n",
       "│ 32551 │ 43     │  Self-emp-not-inc │ 27242  │  Some-college │ 10            │\n",
       "│ 32552 │ 32     │  Private          │ 34066  │  10th         │ 6             │\n",
       "│ 32553 │ 43     │  Private          │ 84661  │  Assoc-voc    │ 11            │\n",
       "│ 32554 │ 32     │  Private          │ 116138 │  Masters      │ 14            │\n",
       "│ 32555 │ 53     │  Private          │ 321865 │  Masters      │ 14            │\n",
       "│ 32556 │ 22     │  Private          │ 310152 │  Some-college │ 10            │\n",
       "│ 32557 │ 27     │  Private          │ 257302 │  Assoc-acdm   │ 12            │\n",
       "│ 32558 │ 40     │  Private          │ 154374 │  HS-grad      │ 9             │\n",
       "│ 32559 │ 58     │  Private          │ 151910 │  HS-grad      │ 9             │\n",
       "│ 32560 │ 22     │  Private          │ 201490 │  HS-grad      │ 9             │\n",
       "│ 32561 │ 52     │  Self-emp-inc     │ 287927 │  HS-grad      │ 9             │"
      ]
     },
     "execution_count": 16,
     "metadata": {},
     "output_type": "execute_result"
    }
   ],
   "source": [
    "df[1:5]    # grab multiple columns as a DataFrame from 1st to 5th column"
   ]
  },
  {
   "cell_type": "code",
   "execution_count": 17,
   "metadata": {},
   "outputs": [
    {
     "data": {
      "text/html": [
       "<table class=\"data-frame\"><thead><tr><th></th><th>age</th><th>fnlwgt</th><th>education-num</th><th>relationship</th><th>sex</th><th>capital-loss</th></tr><tr><th></th><th>Int64⍰</th><th>Int64⍰</th><th>Int64⍰</th><th>String⍰</th><th>String⍰</th><th>Int64⍰</th></tr></thead><tbody><p>32,561 rows × 6 columns</p><tr><th>1</th><td>39</td><td>77516</td><td>13</td><td> Not-in-family</td><td> Male</td><td>0</td></tr><tr><th>2</th><td>50</td><td>83311</td><td>13</td><td> Husband</td><td> Male</td><td>0</td></tr><tr><th>3</th><td>38</td><td>215646</td><td>9</td><td> Not-in-family</td><td> Male</td><td>0</td></tr><tr><th>4</th><td>53</td><td>234721</td><td>7</td><td> Husband</td><td> Male</td><td>0</td></tr><tr><th>5</th><td>28</td><td>338409</td><td>13</td><td> Wife</td><td> Female</td><td>0</td></tr><tr><th>6</th><td>37</td><td>284582</td><td>14</td><td> Wife</td><td> Female</td><td>0</td></tr><tr><th>7</th><td>49</td><td>160187</td><td>5</td><td> Not-in-family</td><td> Female</td><td>0</td></tr><tr><th>8</th><td>52</td><td>209642</td><td>9</td><td> Husband</td><td> Male</td><td>0</td></tr><tr><th>9</th><td>31</td><td>45781</td><td>14</td><td> Not-in-family</td><td> Female</td><td>0</td></tr><tr><th>10</th><td>42</td><td>159449</td><td>13</td><td> Husband</td><td> Male</td><td>0</td></tr><tr><th>11</th><td>37</td><td>280464</td><td>10</td><td> Husband</td><td> Male</td><td>0</td></tr><tr><th>12</th><td>30</td><td>141297</td><td>13</td><td> Husband</td><td> Male</td><td>0</td></tr><tr><th>13</th><td>23</td><td>122272</td><td>13</td><td> Own-child</td><td> Female</td><td>0</td></tr><tr><th>14</th><td>32</td><td>205019</td><td>12</td><td> Not-in-family</td><td> Male</td><td>0</td></tr><tr><th>15</th><td>40</td><td>121772</td><td>11</td><td> Husband</td><td> Male</td><td>0</td></tr><tr><th>16</th><td>34</td><td>245487</td><td>4</td><td> Husband</td><td> Male</td><td>0</td></tr><tr><th>17</th><td>25</td><td>176756</td><td>9</td><td> Own-child</td><td> Male</td><td>0</td></tr><tr><th>18</th><td>32</td><td>186824</td><td>9</td><td> Unmarried</td><td> Male</td><td>0</td></tr><tr><th>19</th><td>38</td><td>28887</td><td>7</td><td> Husband</td><td> Male</td><td>0</td></tr><tr><th>20</th><td>43</td><td>292175</td><td>14</td><td> Unmarried</td><td> Female</td><td>0</td></tr><tr><th>21</th><td>40</td><td>193524</td><td>16</td><td> Husband</td><td> Male</td><td>0</td></tr><tr><th>22</th><td>54</td><td>302146</td><td>9</td><td> Unmarried</td><td> Female</td><td>0</td></tr><tr><th>23</th><td>35</td><td>76845</td><td>5</td><td> Husband</td><td> Male</td><td>0</td></tr><tr><th>24</th><td>43</td><td>117037</td><td>7</td><td> Husband</td><td> Male</td><td>2042</td></tr><tr><th>25</th><td>59</td><td>109015</td><td>9</td><td> Unmarried</td><td> Female</td><td>0</td></tr><tr><th>26</th><td>56</td><td>216851</td><td>13</td><td> Husband</td><td> Male</td><td>0</td></tr><tr><th>27</th><td>19</td><td>168294</td><td>9</td><td> Own-child</td><td> Male</td><td>0</td></tr><tr><th>28</th><td>54</td><td>180211</td><td>10</td><td> Husband</td><td> Male</td><td>0</td></tr><tr><th>29</th><td>39</td><td>367260</td><td>9</td><td> Not-in-family</td><td> Male</td><td>0</td></tr><tr><th>30</th><td>49</td><td>193366</td><td>9</td><td> Husband</td><td> Male</td><td>0</td></tr><tr><th>&vellip;</th><td>&vellip;</td><td>&vellip;</td><td>&vellip;</td><td>&vellip;</td><td>&vellip;</td><td>&vellip;</td></tr></tbody></table>"
      ],
      "text/latex": [
       "\\begin{tabular}{r|cccccc}\n",
       "\t& age & fnlwgt & education-num & relationship & sex & capital-loss\\\\\n",
       "\t\\hline\n",
       "\t& Int64⍰ & Int64⍰ & Int64⍰ & String⍰ & String⍰ & Int64⍰\\\\\n",
       "\t\\hline\n",
       "\t1 & 39 & 77516 & 13 &  Not-in-family &  Male & 0 \\\\\n",
       "\t2 & 50 & 83311 & 13 &  Husband &  Male & 0 \\\\\n",
       "\t3 & 38 & 215646 & 9 &  Not-in-family &  Male & 0 \\\\\n",
       "\t4 & 53 & 234721 & 7 &  Husband &  Male & 0 \\\\\n",
       "\t5 & 28 & 338409 & 13 &  Wife &  Female & 0 \\\\\n",
       "\t6 & 37 & 284582 & 14 &  Wife &  Female & 0 \\\\\n",
       "\t7 & 49 & 160187 & 5 &  Not-in-family &  Female & 0 \\\\\n",
       "\t8 & 52 & 209642 & 9 &  Husband &  Male & 0 \\\\\n",
       "\t9 & 31 & 45781 & 14 &  Not-in-family &  Female & 0 \\\\\n",
       "\t10 & 42 & 159449 & 13 &  Husband &  Male & 0 \\\\\n",
       "\t11 & 37 & 280464 & 10 &  Husband &  Male & 0 \\\\\n",
       "\t12 & 30 & 141297 & 13 &  Husband &  Male & 0 \\\\\n",
       "\t13 & 23 & 122272 & 13 &  Own-child &  Female & 0 \\\\\n",
       "\t14 & 32 & 205019 & 12 &  Not-in-family &  Male & 0 \\\\\n",
       "\t15 & 40 & 121772 & 11 &  Husband &  Male & 0 \\\\\n",
       "\t16 & 34 & 245487 & 4 &  Husband &  Male & 0 \\\\\n",
       "\t17 & 25 & 176756 & 9 &  Own-child &  Male & 0 \\\\\n",
       "\t18 & 32 & 186824 & 9 &  Unmarried &  Male & 0 \\\\\n",
       "\t19 & 38 & 28887 & 7 &  Husband &  Male & 0 \\\\\n",
       "\t20 & 43 & 292175 & 14 &  Unmarried &  Female & 0 \\\\\n",
       "\t21 & 40 & 193524 & 16 &  Husband &  Male & 0 \\\\\n",
       "\t22 & 54 & 302146 & 9 &  Unmarried &  Female & 0 \\\\\n",
       "\t23 & 35 & 76845 & 5 &  Husband &  Male & 0 \\\\\n",
       "\t24 & 43 & 117037 & 7 &  Husband &  Male & 2042 \\\\\n",
       "\t25 & 59 & 109015 & 9 &  Unmarried &  Female & 0 \\\\\n",
       "\t26 & 56 & 216851 & 13 &  Husband &  Male & 0 \\\\\n",
       "\t27 & 19 & 168294 & 9 &  Own-child &  Male & 0 \\\\\n",
       "\t28 & 54 & 180211 & 10 &  Husband &  Male & 0 \\\\\n",
       "\t29 & 39 & 367260 & 9 &  Not-in-family &  Male & 0 \\\\\n",
       "\t30 & 49 & 193366 & 9 &  Husband &  Male & 0 \\\\\n",
       "\t$\\dots$ & $\\dots$ & $\\dots$ & $\\dots$ & $\\dots$ & $\\dots$ & $\\dots$ \\\\\n",
       "\\end{tabular}\n"
      ],
      "text/plain": [
       "32561×6 DataFrame. Omitted printing of 1 columns\n",
       "│ Row   │ age    │ fnlwgt │ education-num │ relationship   │ sex     │\n",
       "│       │ \u001b[90mInt64⍰\u001b[39m │ \u001b[90mInt64⍰\u001b[39m │ \u001b[90mInt64⍰\u001b[39m        │ \u001b[90mString⍰\u001b[39m        │ \u001b[90mString⍰\u001b[39m │\n",
       "├───────┼────────┼────────┼───────────────┼────────────────┼─────────┤\n",
       "│ 1     │ 39     │ 77516  │ 13            │  Not-in-family │  Male   │\n",
       "│ 2     │ 50     │ 83311  │ 13            │  Husband       │  Male   │\n",
       "│ 3     │ 38     │ 215646 │ 9             │  Not-in-family │  Male   │\n",
       "│ 4     │ 53     │ 234721 │ 7             │  Husband       │  Male   │\n",
       "│ 5     │ 28     │ 338409 │ 13            │  Wife          │  Female │\n",
       "│ 6     │ 37     │ 284582 │ 14            │  Wife          │  Female │\n",
       "│ 7     │ 49     │ 160187 │ 5             │  Not-in-family │  Female │\n",
       "│ 8     │ 52     │ 209642 │ 9             │  Husband       │  Male   │\n",
       "│ 9     │ 31     │ 45781  │ 14            │  Not-in-family │  Female │\n",
       "│ 10    │ 42     │ 159449 │ 13            │  Husband       │  Male   │\n",
       "⋮\n",
       "│ 32551 │ 43     │ 27242  │ 10            │  Husband       │  Male   │\n",
       "│ 32552 │ 32     │ 34066  │ 6             │  Husband       │  Male   │\n",
       "│ 32553 │ 43     │ 84661  │ 11            │  Husband       │  Male   │\n",
       "│ 32554 │ 32     │ 116138 │ 14            │  Not-in-family │  Male   │\n",
       "│ 32555 │ 53     │ 321865 │ 14            │  Husband       │  Male   │\n",
       "│ 32556 │ 22     │ 310152 │ 10            │  Not-in-family │  Male   │\n",
       "│ 32557 │ 27     │ 257302 │ 12            │  Wife          │  Female │\n",
       "│ 32558 │ 40     │ 154374 │ 9             │  Husband       │  Male   │\n",
       "│ 32559 │ 58     │ 151910 │ 9             │  Unmarried     │  Female │\n",
       "│ 32560 │ 22     │ 201490 │ 9             │  Own-child     │  Male   │\n",
       "│ 32561 │ 52     │ 287927 │ 9             │  Wife          │  Female │"
      ]
     },
     "execution_count": 17,
     "metadata": {},
     "output_type": "execute_result"
    }
   ],
   "source": [
    "df[[true, false, true, false, true, false, false,true, \n",
    "        false, true, false, true, false, false, false ]]    # grab colums using Boolean"
   ]
  },
  {
   "cell_type": "code",
   "execution_count": 18,
   "metadata": {},
   "outputs": [
    {
     "data": {
      "text/html": [
       "<p>DataFrameRow</p><table class=\"data-frame\"><thead><tr><th></th><th>age</th><th>workclass</th><th>fnlwgt</th><th>education</th><th>education-num</th><th>marital-status</th><th>occupation</th><th>relationship</th><th>race</th><th>sex</th><th>capital-gain</th><th>capital-loss</th><th>hours-per-week</th><th>native-country: </th><th>class</th></tr><tr><th></th><th>Int64⍰</th><th>String⍰</th><th>Int64⍰</th><th>String⍰</th><th>Int64⍰</th><th>String⍰</th><th>String⍰</th><th>String⍰</th><th>String⍰</th><th>String⍰</th><th>Int64⍰</th><th>Int64⍰</th><th>Int64⍰</th><th>String⍰</th><th>String⍰</th></tr></thead><tbody><p>1 rows × 15 columns</p><tr><th>1</th><td>39</td><td> State-gov</td><td>77516</td><td> Bachelors</td><td>13</td><td> Never-married</td><td> Adm-clerical</td><td> Not-in-family</td><td> White</td><td> Male</td><td>2174</td><td>0</td><td>40</td><td> United-States</td><td> &lt;=50K</td></tr></tbody></table>"
      ],
      "text/latex": [
       "\\begin{tabular}{r|ccccccccccccccc}\n",
       "\t& age & workclass & fnlwgt & education & education-num & marital-status & occupation & relationship & race & sex & capital-gain & capital-loss & hours-per-week & native-country:  & class\\\\\n",
       "\t\\hline\n",
       "\t& Int64⍰ & String⍰ & Int64⍰ & String⍰ & Int64⍰ & String⍰ & String⍰ & String⍰ & String⍰ & String⍰ & Int64⍰ & Int64⍰ & Int64⍰ & String⍰ & String⍰\\\\\n",
       "\t\\hline\n",
       "\t1 & 39 &  State-gov & 77516 &  Bachelors & 13 &  Never-married &  Adm-clerical &  Not-in-family &  White &  Male & 2174 & 0 & 40 &  United-States &  <=50K \\\\\n",
       "\\end{tabular}\n"
      ],
      "text/plain": [
       "DataFrameRow. Omitted printing of 10 columns\n",
       "│ Row │ age    │ workclass  │ fnlwgt │ education  │ education-num │\n",
       "│     │ \u001b[90mInt64⍰\u001b[39m │ \u001b[90mString⍰\u001b[39m    │ \u001b[90mInt64⍰\u001b[39m │ \u001b[90mString⍰\u001b[39m    │ \u001b[90mInt64⍰\u001b[39m        │\n",
       "├─────┼────────┼────────────┼────────┼────────────┼───────────────┤\n",
       "│ 1   │ 39     │  State-gov │ 77516  │  Bachelors │ 13            │"
      ]
     },
     "execution_count": 18,
     "metadata": {},
     "output_type": "execute_result"
    }
   ],
   "source": [
    "df[1, :]     # grab one row as a DataFrame"
   ]
  },
  {
   "cell_type": "code",
   "execution_count": 19,
   "metadata": {},
   "outputs": [
    {
     "data": {
      "text/html": [
       "<table class=\"data-frame\"><thead><tr><th></th><th>age</th><th>workclass</th><th>fnlwgt</th><th>education</th><th>education-num</th><th>marital-status</th><th>occupation</th><th>relationship</th><th>race</th><th>sex</th><th>capital-gain</th><th>capital-loss</th><th>hours-per-week</th><th>native-country: </th><th>class</th></tr><tr><th></th><th>Int64⍰</th><th>String⍰</th><th>Int64⍰</th><th>String⍰</th><th>Int64⍰</th><th>String⍰</th><th>String⍰</th><th>String⍰</th><th>String⍰</th><th>String⍰</th><th>Int64⍰</th><th>Int64⍰</th><th>Int64⍰</th><th>String⍰</th><th>String⍰</th></tr></thead><tbody><p>5 rows × 15 columns</p><tr><th>1</th><td>39</td><td> State-gov</td><td>77516</td><td> Bachelors</td><td>13</td><td> Never-married</td><td> Adm-clerical</td><td> Not-in-family</td><td> White</td><td> Male</td><td>2174</td><td>0</td><td>40</td><td> United-States</td><td> &lt;=50K</td></tr><tr><th>2</th><td>50</td><td> Self-emp-not-inc</td><td>83311</td><td> Bachelors</td><td>13</td><td> Married-civ-spouse</td><td> Exec-managerial</td><td> Husband</td><td> White</td><td> Male</td><td>0</td><td>0</td><td>13</td><td> United-States</td><td> &lt;=50K</td></tr><tr><th>3</th><td>38</td><td> Private</td><td>215646</td><td> HS-grad</td><td>9</td><td> Divorced</td><td> Handlers-cleaners</td><td> Not-in-family</td><td> White</td><td> Male</td><td>0</td><td>0</td><td>40</td><td> United-States</td><td> &lt;=50K</td></tr><tr><th>4</th><td>53</td><td> Private</td><td>234721</td><td> 11th</td><td>7</td><td> Married-civ-spouse</td><td> Handlers-cleaners</td><td> Husband</td><td> Black</td><td> Male</td><td>0</td><td>0</td><td>40</td><td> United-States</td><td> &lt;=50K</td></tr><tr><th>5</th><td>28</td><td> Private</td><td>338409</td><td> Bachelors</td><td>13</td><td> Married-civ-spouse</td><td> Prof-specialty</td><td> Wife</td><td> Black</td><td> Female</td><td>0</td><td>0</td><td>40</td><td> Cuba</td><td> &lt;=50K</td></tr></tbody></table>"
      ],
      "text/latex": [
       "\\begin{tabular}{r|ccccccccccccccc}\n",
       "\t& age & workclass & fnlwgt & education & education-num & marital-status & occupation & relationship & race & sex & capital-gain & capital-loss & hours-per-week & native-country:  & class\\\\\n",
       "\t\\hline\n",
       "\t& Int64⍰ & String⍰ & Int64⍰ & String⍰ & Int64⍰ & String⍰ & String⍰ & String⍰ & String⍰ & String⍰ & Int64⍰ & Int64⍰ & Int64⍰ & String⍰ & String⍰\\\\\n",
       "\t\\hline\n",
       "\t1 & 39 &  State-gov & 77516 &  Bachelors & 13 &  Never-married &  Adm-clerical &  Not-in-family &  White &  Male & 2174 & 0 & 40 &  United-States &  <=50K \\\\\n",
       "\t2 & 50 &  Self-emp-not-inc & 83311 &  Bachelors & 13 &  Married-civ-spouse &  Exec-managerial &  Husband &  White &  Male & 0 & 0 & 13 &  United-States &  <=50K \\\\\n",
       "\t3 & 38 &  Private & 215646 &  HS-grad & 9 &  Divorced &  Handlers-cleaners &  Not-in-family &  White &  Male & 0 & 0 & 40 &  United-States &  <=50K \\\\\n",
       "\t4 & 53 &  Private & 234721 &  11th & 7 &  Married-civ-spouse &  Handlers-cleaners &  Husband &  Black &  Male & 0 & 0 & 40 &  United-States &  <=50K \\\\\n",
       "\t5 & 28 &  Private & 338409 &  Bachelors & 13 &  Married-civ-spouse &  Prof-specialty &  Wife &  Black &  Female & 0 & 0 & 40 &  Cuba &  <=50K \\\\\n",
       "\\end{tabular}\n"
      ],
      "text/plain": [
       "5×15 DataFrame. Omitted printing of 10 columns\n",
       "│ Row │ age    │ workclass         │ fnlwgt │ education  │ education-num │\n",
       "│     │ \u001b[90mInt64⍰\u001b[39m │ \u001b[90mString⍰\u001b[39m           │ \u001b[90mInt64⍰\u001b[39m │ \u001b[90mString⍰\u001b[39m    │ \u001b[90mInt64⍰\u001b[39m        │\n",
       "├─────┼────────┼───────────────────┼────────┼────────────┼───────────────┤\n",
       "│ 1   │ 39     │  State-gov        │ 77516  │  Bachelors │ 13            │\n",
       "│ 2   │ 50     │  Self-emp-not-inc │ 83311  │  Bachelors │ 13            │\n",
       "│ 3   │ 38     │  Private          │ 215646 │  HS-grad   │ 9             │\n",
       "│ 4   │ 53     │  Private          │ 234721 │  11th      │ 7             │\n",
       "│ 5   │ 28     │  Private          │ 338409 │  Bachelors │ 13            │"
      ]
     },
     "execution_count": 19,
     "metadata": {},
     "output_type": "execute_result"
    }
   ],
   "source": [
    "df[1:5, :]     # grab multiple rows as a DataFrame from 1st to 5th row, df[[1,3,7,9], :] grab some rows"
   ]
  },
  {
   "cell_type": "code",
   "execution_count": 20,
   "metadata": {},
   "outputs": [
    {
     "data": {
      "text/plain": [
       "39"
      ]
     },
     "execution_count": 20,
     "metadata": {},
     "output_type": "execute_result"
    }
   ],
   "source": [
    "df[1, 1]    # grab one element"
   ]
  },
  {
   "cell_type": "code",
   "execution_count": 21,
   "metadata": {},
   "outputs": [
    {
     "data": {
      "text/html": [
       "<table class=\"data-frame\"><thead><tr><th></th><th>fnlwgt</th><th>education</th><th>education-num</th><th>marital-status</th><th>occupation</th><th>relationship</th><th>race</th><th>sex</th></tr><tr><th></th><th>Int64⍰</th><th>String⍰</th><th>Int64⍰</th><th>String⍰</th><th>String⍰</th><th>String⍰</th><th>String⍰</th><th>String⍰</th></tr></thead><tbody><p>5 rows × 8 columns</p><tr><th>1</th><td>77516</td><td> Bachelors</td><td>13</td><td> Never-married</td><td> Adm-clerical</td><td> Not-in-family</td><td> White</td><td> Male</td></tr><tr><th>2</th><td>83311</td><td> Bachelors</td><td>13</td><td> Married-civ-spouse</td><td> Exec-managerial</td><td> Husband</td><td> White</td><td> Male</td></tr><tr><th>3</th><td>215646</td><td> HS-grad</td><td>9</td><td> Divorced</td><td> Handlers-cleaners</td><td> Not-in-family</td><td> White</td><td> Male</td></tr><tr><th>4</th><td>234721</td><td> 11th</td><td>7</td><td> Married-civ-spouse</td><td> Handlers-cleaners</td><td> Husband</td><td> Black</td><td> Male</td></tr><tr><th>5</th><td>338409</td><td> Bachelors</td><td>13</td><td> Married-civ-spouse</td><td> Prof-specialty</td><td> Wife</td><td> Black</td><td> Female</td></tr></tbody></table>"
      ],
      "text/latex": [
       "\\begin{tabular}{r|cccccccc}\n",
       "\t& fnlwgt & education & education-num & marital-status & occupation & relationship & race & sex\\\\\n",
       "\t\\hline\n",
       "\t& Int64⍰ & String⍰ & Int64⍰ & String⍰ & String⍰ & String⍰ & String⍰ & String⍰\\\\\n",
       "\t\\hline\n",
       "\t1 & 77516 &  Bachelors & 13 &  Never-married &  Adm-clerical &  Not-in-family &  White &  Male \\\\\n",
       "\t2 & 83311 &  Bachelors & 13 &  Married-civ-spouse &  Exec-managerial &  Husband &  White &  Male \\\\\n",
       "\t3 & 215646 &  HS-grad & 9 &  Divorced &  Handlers-cleaners &  Not-in-family &  White &  Male \\\\\n",
       "\t4 & 234721 &  11th & 7 &  Married-civ-spouse &  Handlers-cleaners &  Husband &  Black &  Male \\\\\n",
       "\t5 & 338409 &  Bachelors & 13 &  Married-civ-spouse &  Prof-specialty &  Wife &  Black &  Female \\\\\n",
       "\\end{tabular}\n"
      ],
      "text/plain": [
       "5×8 DataFrame. Omitted printing of 4 columns\n",
       "│ Row │ fnlwgt │ education  │ education-num │ marital-status      │\n",
       "│     │ \u001b[90mInt64⍰\u001b[39m │ \u001b[90mString⍰\u001b[39m    │ \u001b[90mInt64⍰\u001b[39m        │ \u001b[90mString⍰\u001b[39m             │\n",
       "├─────┼────────┼────────────┼───────────────┼─────────────────────┤\n",
       "│ 1   │ 77516  │  Bachelors │ 13            │  Never-married      │\n",
       "│ 2   │ 83311  │  Bachelors │ 13            │  Married-civ-spouse │\n",
       "│ 3   │ 215646 │  HS-grad   │ 9             │  Divorced           │\n",
       "│ 4   │ 234721 │  11th      │ 7             │  Married-civ-spouse │\n",
       "│ 5   │ 338409 │  Bachelors │ 13            │  Married-civ-spouse │"
      ]
     },
     "execution_count": 21,
     "metadata": {},
     "output_type": "execute_result"
    }
   ],
   "source": [
    "df[1:5, 3:10]  # grap certain part"
   ]
  },
  {
   "cell_type": "markdown",
   "metadata": {},
   "source": [
    "Rename column names"
   ]
  },
  {
   "cell_type": "code",
   "execution_count": 22,
   "metadata": {},
   "outputs": [],
   "source": [
    "rename!(df, :sex => :Gender);   # renames column sex as Gender"
   ]
  },
  {
   "cell_type": "code",
   "execution_count": 23,
   "metadata": {},
   "outputs": [],
   "source": [
    "rename!(df,                                     # renames multiple columns\n",
    "    Symbol(\"capital-gain\") => :CapitalGain, \n",
    "    Symbol(\"native-country: \") => :NativeCountry);  "
   ]
  },
  {
   "cell_type": "code",
   "execution_count": 24,
   "metadata": {},
   "outputs": [],
   "source": [
    "new_col_nms = Dict(                              # rename colums using Dictionary\n",
    "    Symbol(\"marital-status\") => :MaritalStatus,\n",
    "    Symbol(\"education-num\") => :EducationNum,\n",
    "    Symbol(\"capital-loss\") => :CapitalLoss,\n",
    "    Symbol(\"hours-per-week\") => :HoursperWeek,\n",
    "    );\n",
    "rename!(df, new_col_nms);   "
   ]
  },
  {
   "cell_type": "code",
   "execution_count": 25,
   "metadata": {},
   "outputs": [
    {
     "data": {
      "text/plain": [
       "15-element Array{Symbol,1}:\n",
       " :age          \n",
       " :workclass    \n",
       " :fnlwgt       \n",
       " :education    \n",
       " :EducationNum \n",
       " :MaritalStatus\n",
       " :occupation   \n",
       " :relationship \n",
       " :race         \n",
       " :Gender       \n",
       " :CapitalGain  \n",
       " :CapitalLoss  \n",
       " :HoursperWeek \n",
       " :NativeCountry\n",
       " :class        "
      ]
     },
     "execution_count": 25,
     "metadata": {},
     "output_type": "execute_result"
    }
   ],
   "source": [
    "names(df)"
   ]
  },
  {
   "cell_type": "code",
   "execution_count": 26,
   "metadata": {},
   "outputs": [
    {
     "data": {
      "text/plain": [
       "true"
      ]
     },
     "execution_count": 26,
     "metadata": {},
     "output_type": "execute_result"
    }
   ],
   "source": [
    ":age in names(df)  # find column name in df"
   ]
  },
  {
   "cell_type": "code",
   "execution_count": 27,
   "metadata": {},
   "outputs": [
    {
     "data": {
      "text/plain": [
       "15-element Array{Symbol,1}:\n",
       " :age          \n",
       " :workclass    \n",
       " :fnlwgt       \n",
       " :education    \n",
       " :EducationNum \n",
       " :MaritalStatus\n",
       " :occupation   \n",
       " :relationship \n",
       " :race         \n",
       " :Gender       \n",
       " :CapitalGain  \n",
       " :CapitalLoss  \n",
       " :HoursperWeek \n",
       " :NativeCountry\n",
       " :class        "
      ]
     },
     "execution_count": 27,
     "metadata": {},
     "output_type": "execute_result"
    }
   ],
   "source": [
    "names(df)"
   ]
  },
  {
   "cell_type": "markdown",
   "metadata": {},
   "source": [
    "Create Dataframe"
   ]
  },
  {
   "cell_type": "code",
   "execution_count": 28,
   "metadata": {},
   "outputs": [
    {
     "data": {
      "text/html": [
       "<table class=\"data-frame\"><thead><tr><th></th></tr><tr><th></th></tr></thead><tbody><p>0 rows × 0 columns</p></tbody></table>"
      ],
      "text/latex": [
       "\\begin{tabular}{r|}\n",
       "\t& \\\\\n",
       "\t\\hline\n",
       "\t& \\\\\n",
       "\t\\hline\n",
       "\\end{tabular}\n"
      ],
      "text/plain": [
       "0×0 DataFrame\n"
      ]
     },
     "execution_count": 28,
     "metadata": {},
     "output_type": "execute_result"
    }
   ],
   "source": [
    "DataFrame()   # creates empty DataFrame"
   ]
  },
  {
   "cell_type": "code",
   "execution_count": 29,
   "metadata": {},
   "outputs": [
    {
     "data": {
      "text/html": [
       "<table class=\"data-frame\"><thead><tr><th></th><th>Id</th><th>Name</th><th>BirtDate</th><th>Height</th></tr><tr><th></th><th>Int32</th><th>String</th><th>Float64</th><th>Float64</th></tr></thead><tbody><p>0 rows × 4 columns</p></tbody></table>"
      ],
      "text/latex": [
       "\\begin{tabular}{r|cccc}\n",
       "\t& Id & Name & BirtDate & Height\\\\\n",
       "\t\\hline\n",
       "\t& Int32 & String & Float64 & Float64\\\\\n",
       "\t\\hline\n",
       "\\end{tabular}\n"
      ],
      "text/plain": [
       "0×4 DataFrame\n"
      ]
     },
     "execution_count": 29,
     "metadata": {},
     "output_type": "execute_result"
    }
   ],
   "source": [
    "DataFrame(          #creates empty DataFrame with specified column names and types\n",
    "    Id=Int32[],\n",
    "    Name=String[], \n",
    "    BirtDate=Float64[], \n",
    "    Height=Float64[])"
   ]
  },
  {
   "cell_type": "code",
   "execution_count": 30,
   "metadata": {},
   "outputs": [
    {
     "data": {
      "text/html": [
       "<table class=\"data-frame\"><thead><tr><th></th><th>A</th><th>B</th><th>C</th></tr><tr><th></th><th>Int64</th><th>Float64</th><th>String</th></tr></thead><tbody><p>3 rows × 3 columns</p><tr><th>1</th><td>1</td><td>0.870394</td><td>YIs</td></tr><tr><th>2</th><td>2</td><td>0.927322</td><td>udL</td></tr><tr><th>3</th><td>3</td><td>0.313963</td><td>cBk</td></tr></tbody></table>"
      ],
      "text/latex": [
       "\\begin{tabular}{r|ccc}\n",
       "\t& A & B & C\\\\\n",
       "\t\\hline\n",
       "\t& Int64 & Float64 & String\\\\\n",
       "\t\\hline\n",
       "\t1 & 1 & 0.870394 & YIs \\\\\n",
       "\t2 & 2 & 0.927322 & udL \\\\\n",
       "\t3 & 3 & 0.313963 & cBk \\\\\n",
       "\\end{tabular}\n"
      ],
      "text/plain": [
       "3×3 DataFrame\n",
       "│ Row │ A     │ B        │ C      │\n",
       "│     │ \u001b[90mInt64\u001b[39m │ \u001b[90mFloat64\u001b[39m  │ \u001b[90mString\u001b[39m │\n",
       "├─────┼───────┼──────────┼────────┤\n",
       "│ 1   │ 1     │ 0.870394 │ YIs    │\n",
       "│ 2   │ 2     │ 0.927322 │ udL    │\n",
       "│ 3   │ 3     │ 0.313963 │ cBk    │"
      ]
     },
     "execution_count": 30,
     "metadata": {},
     "output_type": "execute_result"
    }
   ],
   "source": [
    "using Random\n",
    "DataFrame(A=1:3, B=rand(3), C=randstring.([3,3,3]))   # with column names and coumns as arrays\n",
    "# DataFrame([1:3, rand(3), randstring.([3,3,3])], [:A, :B, :C]) gives the same dataframe"
   ]
  },
  {
   "cell_type": "code",
   "execution_count": 31,
   "metadata": {},
   "outputs": [
    {
     "data": {
      "text/html": [
       "<table class=\"data-frame\"><thead><tr><th></th><th>A</th><th>B</th><th>C</th></tr><tr><th></th><th>Int64</th><th>Float64</th><th>String</th></tr></thead><tbody><p>0 rows × 3 columns</p></tbody></table>"
      ],
      "text/latex": [
       "\\begin{tabular}{r|ccc}\n",
       "\t& A & B & C\\\\\n",
       "\t\\hline\n",
       "\t& Int64 & Float64 & String\\\\\n",
       "\t\\hline\n",
       "\\end{tabular}\n"
      ],
      "text/plain": [
       "0×3 DataFrame\n"
      ]
     },
     "execution_count": 31,
     "metadata": {},
     "output_type": "execute_result"
    }
   ],
   "source": [
    "DataFrame([Int, Float64, String], [:A, :B, :C], 0) # DataFrame with type and column names, but no rows"
   ]
  },
  {
   "cell_type": "code",
   "execution_count": 32,
   "metadata": {},
   "outputs": [
    {
     "data": {
      "text/html": [
       "<table class=\"data-frame\"><thead><tr><th></th><th>x1</th><th>x2</th><th>x3</th></tr><tr><th></th><th>Float64</th><th>Float64</th><th>Float64</th></tr></thead><tbody><p>3 rows × 3 columns</p><tr><th>1</th><td>0.841483</td><td>0.783795</td><td>0.955234</td></tr><tr><th>2</th><td>0.850927</td><td>0.372474</td><td>0.91945</td></tr><tr><th>3</th><td>0.496094</td><td>0.976767</td><td>0.269698</td></tr></tbody></table>"
      ],
      "text/latex": [
       "\\begin{tabular}{r|ccc}\n",
       "\t& x1 & x2 & x3\\\\\n",
       "\t\\hline\n",
       "\t& Float64 & Float64 & Float64\\\\\n",
       "\t\\hline\n",
       "\t1 & 0.841483 & 0.783795 & 0.955234 \\\\\n",
       "\t2 & 0.850927 & 0.372474 & 0.91945 \\\\\n",
       "\t3 & 0.496094 & 0.976767 & 0.269698 \\\\\n",
       "\\end{tabular}\n"
      ],
      "text/plain": [
       "3×3 DataFrame\n",
       "│ Row │ x1       │ x2       │ x3       │\n",
       "│     │ \u001b[90mFloat64\u001b[39m  │ \u001b[90mFloat64\u001b[39m  │ \u001b[90mFloat64\u001b[39m  │\n",
       "├─────┼──────────┼──────────┼──────────┤\n",
       "│ 1   │ 0.841483 │ 0.783795 │ 0.955234 │\n",
       "│ 2   │ 0.850927 │ 0.372474 │ 0.91945  │\n",
       "│ 3   │ 0.496094 │ 0.976767 │ 0.269698 │"
      ]
     },
     "execution_count": 32,
     "metadata": {},
     "output_type": "execute_result"
    }
   ],
   "source": [
    "x = [rand(3) for i in 1:3];\n",
    "DataFrame(x)         # DataFrame from array, matrix"
   ]
  },
  {
   "cell_type": "code",
   "execution_count": 33,
   "metadata": {},
   "outputs": [
    {
     "data": {
      "text/html": [
       "<table class=\"data-frame\"><thead><tr><th></th><th>x1</th><th>x2</th><th>x3</th><th>x4</th><th>x5</th></tr><tr><th></th><th>Int64</th><th>Int64</th><th>Int64</th><th>Int64</th><th>Int64</th></tr></thead><tbody><p>3 rows × 5 columns</p><tr><th>1</th><td>21732257072</td><td>149398896</td><td>126552272</td><td>8589934593</td><td>134012240</td></tr><tr><th>2</th><td>193728128</td><td>149398960</td><td>21677468768</td><td>8589934594</td><td>134012272</td></tr><tr><th>3</th><td>193728192</td><td>149454896</td><td>126550592</td><td>2</td><td>134012304</td></tr></tbody></table>"
      ],
      "text/latex": [
       "\\begin{tabular}{r|ccccc}\n",
       "\t& x1 & x2 & x3 & x4 & x5\\\\\n",
       "\t\\hline\n",
       "\t& Int64 & Int64 & Int64 & Int64 & Int64\\\\\n",
       "\t\\hline\n",
       "\t1 & 21732257072 & 149398896 & 126552272 & 8589934593 & 134012240 \\\\\n",
       "\t2 & 193728128 & 149398960 & 21677468768 & 8589934594 & 134012272 \\\\\n",
       "\t3 & 193728192 & 149454896 & 126550592 & 2 & 134012304 \\\\\n",
       "\\end{tabular}\n"
      ],
      "text/plain": [
       "3×5 DataFrame\n",
       "│ Row │ x1          │ x2        │ x3          │ x4         │ x5        │\n",
       "│     │ \u001b[90mInt64\u001b[39m       │ \u001b[90mInt64\u001b[39m     │ \u001b[90mInt64\u001b[39m       │ \u001b[90mInt64\u001b[39m      │ \u001b[90mInt64\u001b[39m     │\n",
       "├─────┼─────────────┼───────────┼─────────────┼────────────┼───────────┤\n",
       "│ 1   │ 21732257072 │ 149398896 │ 126552272   │ 8589934593 │ 134012240 │\n",
       "│ 2   │ 193728128   │ 149398960 │ 21677468768 │ 8589934594 │ 134012272 │\n",
       "│ 3   │ 193728192   │ 149454896 │ 126550592   │ 2          │ 134012304 │"
      ]
     },
     "execution_count": 33,
     "metadata": {},
     "output_type": "execute_result"
    }
   ],
   "source": [
    "DataFrame(Int, 3, 5) #with type of all int and size of 3x5"
   ]
  },
  {
   "cell_type": "code",
   "execution_count": 34,
   "metadata": {},
   "outputs": [
    {
     "data": {
      "text/html": [
       "<table class=\"data-frame\"><thead><tr><th></th><th>A</th><th>B</th><th>C</th></tr><tr><th></th><th>Int64</th><th>Bool</th><th>Char</th></tr></thead><tbody><p>2 rows × 3 columns</p><tr><th>1</th><td>1</td><td>true</td><td>'a'</td></tr><tr><th>2</th><td>2</td><td>false</td><td>'b'</td></tr></tbody></table>"
      ],
      "text/latex": [
       "\\begin{tabular}{r|ccc}\n",
       "\t& A & B & C\\\\\n",
       "\t\\hline\n",
       "\t& Int64 & Bool & Char\\\\\n",
       "\t\\hline\n",
       "\t1 & 1 & true & 'a' \\\\\n",
       "\t2 & 2 & false & 'b' \\\\\n",
       "\\end{tabular}\n"
      ],
      "text/plain": [
       "2×3 DataFrame\n",
       "│ Row │ A     │ B     │ C    │\n",
       "│     │ \u001b[90mInt64\u001b[39m │ \u001b[90mBool\u001b[39m  │ \u001b[90mChar\u001b[39m │\n",
       "├─────┼───────┼───────┼──────┤\n",
       "│ 1   │ 1     │ true  │ 'a'  │\n",
       "│ 2   │ 2     │ false │ 'b'  │"
      ]
     },
     "execution_count": 34,
     "metadata": {},
     "output_type": "execute_result"
    }
   ],
   "source": [
    "x = Dict(\"A\" => [1,2], \"B\" => [true, false], \"C\" => ['a', 'b'])\n",
    "DataFrame(x)         # DataFrame from dictionary"
   ]
  },
  {
   "cell_type": "code",
   "execution_count": 35,
   "metadata": {},
   "outputs": [
    {
     "data": {
      "text/html": [
       "<table class=\"data-frame\"><thead><tr><th></th><th>col1</th><th>col2</th></tr><tr><th></th><th>String⍰</th><th>String⍰</th></tr></thead><tbody><p>32,561 rows × 2 columns</p><tr><th>1</th><td> Bachelors</td><td> Adm-clerical</td></tr><tr><th>2</th><td> Bachelors</td><td> Exec-managerial</td></tr><tr><th>3</th><td> HS-grad</td><td> Handlers-cleaners</td></tr><tr><th>4</th><td> 11th</td><td> Handlers-cleaners</td></tr><tr><th>5</th><td> Bachelors</td><td> Prof-specialty</td></tr><tr><th>6</th><td> Masters</td><td> Exec-managerial</td></tr><tr><th>7</th><td> 9th</td><td> Other-service</td></tr><tr><th>8</th><td> HS-grad</td><td> Exec-managerial</td></tr><tr><th>9</th><td> Masters</td><td> Prof-specialty</td></tr><tr><th>10</th><td> Bachelors</td><td> Exec-managerial</td></tr><tr><th>11</th><td> Some-college</td><td> Exec-managerial</td></tr><tr><th>12</th><td> Bachelors</td><td> Prof-specialty</td></tr><tr><th>13</th><td> Bachelors</td><td> Adm-clerical</td></tr><tr><th>14</th><td> Assoc-acdm</td><td> Sales</td></tr><tr><th>15</th><td> Assoc-voc</td><td> Craft-repair</td></tr><tr><th>16</th><td> 7th-8th</td><td> Transport-moving</td></tr><tr><th>17</th><td> HS-grad</td><td> Farming-fishing</td></tr><tr><th>18</th><td> HS-grad</td><td> Machine-op-inspct</td></tr><tr><th>19</th><td> 11th</td><td> Sales</td></tr><tr><th>20</th><td> Masters</td><td> Exec-managerial</td></tr><tr><th>21</th><td> Doctorate</td><td> Prof-specialty</td></tr><tr><th>22</th><td> HS-grad</td><td> Other-service</td></tr><tr><th>23</th><td> 9th</td><td> Farming-fishing</td></tr><tr><th>24</th><td> 11th</td><td> Transport-moving</td></tr><tr><th>25</th><td> HS-grad</td><td> Tech-support</td></tr><tr><th>26</th><td> Bachelors</td><td> Tech-support</td></tr><tr><th>27</th><td> HS-grad</td><td> Craft-repair</td></tr><tr><th>28</th><td> Some-college</td><td> ?</td></tr><tr><th>29</th><td> HS-grad</td><td> Exec-managerial</td></tr><tr><th>30</th><td> HS-grad</td><td> Craft-repair</td></tr><tr><th>&vellip;</th><td>&vellip;</td><td>&vellip;</td></tr></tbody></table>"
      ],
      "text/latex": [
       "\\begin{tabular}{r|cc}\n",
       "\t& col1 & col2\\\\\n",
       "\t\\hline\n",
       "\t& String⍰ & String⍰\\\\\n",
       "\t\\hline\n",
       "\t1 &  Bachelors &  Adm-clerical \\\\\n",
       "\t2 &  Bachelors &  Exec-managerial \\\\\n",
       "\t3 &  HS-grad &  Handlers-cleaners \\\\\n",
       "\t4 &  11th &  Handlers-cleaners \\\\\n",
       "\t5 &  Bachelors &  Prof-specialty \\\\\n",
       "\t6 &  Masters &  Exec-managerial \\\\\n",
       "\t7 &  9th &  Other-service \\\\\n",
       "\t8 &  HS-grad &  Exec-managerial \\\\\n",
       "\t9 &  Masters &  Prof-specialty \\\\\n",
       "\t10 &  Bachelors &  Exec-managerial \\\\\n",
       "\t11 &  Some-college &  Exec-managerial \\\\\n",
       "\t12 &  Bachelors &  Prof-specialty \\\\\n",
       "\t13 &  Bachelors &  Adm-clerical \\\\\n",
       "\t14 &  Assoc-acdm &  Sales \\\\\n",
       "\t15 &  Assoc-voc &  Craft-repair \\\\\n",
       "\t16 &  7th-8th &  Transport-moving \\\\\n",
       "\t17 &  HS-grad &  Farming-fishing \\\\\n",
       "\t18 &  HS-grad &  Machine-op-inspct \\\\\n",
       "\t19 &  11th &  Sales \\\\\n",
       "\t20 &  Masters &  Exec-managerial \\\\\n",
       "\t21 &  Doctorate &  Prof-specialty \\\\\n",
       "\t22 &  HS-grad &  Other-service \\\\\n",
       "\t23 &  9th &  Farming-fishing \\\\\n",
       "\t24 &  11th &  Transport-moving \\\\\n",
       "\t25 &  HS-grad &  Tech-support \\\\\n",
       "\t26 &  Bachelors &  Tech-support \\\\\n",
       "\t27 &  HS-grad &  Craft-repair \\\\\n",
       "\t28 &  Some-college &  ? \\\\\n",
       "\t29 &  HS-grad &  Exec-managerial \\\\\n",
       "\t30 &  HS-grad &  Craft-repair \\\\\n",
       "\t$\\dots$ & $\\dots$ & $\\dots$ \\\\\n",
       "\\end{tabular}\n"
      ],
      "text/plain": [
       "32561×2 DataFrame\n",
       "│ Row   │ col1          │ col2               │\n",
       "│       │ \u001b[90mString⍰\u001b[39m       │ \u001b[90mString⍰\u001b[39m            │\n",
       "├───────┼───────────────┼────────────────────┤\n",
       "│ 1     │  Bachelors    │  Adm-clerical      │\n",
       "│ 2     │  Bachelors    │  Exec-managerial   │\n",
       "│ 3     │  HS-grad      │  Handlers-cleaners │\n",
       "│ 4     │  11th         │  Handlers-cleaners │\n",
       "│ 5     │  Bachelors    │  Prof-specialty    │\n",
       "│ 6     │  Masters      │  Exec-managerial   │\n",
       "│ 7     │  9th          │  Other-service     │\n",
       "│ 8     │  HS-grad      │  Exec-managerial   │\n",
       "│ 9     │  Masters      │  Prof-specialty    │\n",
       "│ 10    │  Bachelors    │  Exec-managerial   │\n",
       "⋮\n",
       "│ 32551 │  Some-college │  Craft-repair      │\n",
       "│ 32552 │  10th         │  Handlers-cleaners │\n",
       "│ 32553 │  Assoc-voc    │  Sales             │\n",
       "│ 32554 │  Masters      │  Tech-support      │\n",
       "│ 32555 │  Masters      │  Exec-managerial   │\n",
       "│ 32556 │  Some-college │  Protective-serv   │\n",
       "│ 32557 │  Assoc-acdm   │  Tech-support      │\n",
       "│ 32558 │  HS-grad      │  Machine-op-inspct │\n",
       "│ 32559 │  HS-grad      │  Adm-clerical      │\n",
       "│ 32560 │  HS-grad      │  Adm-clerical      │\n",
       "│ 32561 │  HS-grad      │  Exec-managerial   │"
      ]
     },
     "execution_count": 35,
     "metadata": {},
     "output_type": "execute_result"
    }
   ],
   "source": [
    "DataFrame(col1 = df[:education], col2 = df[:occupation])   # DataFrame from another dataframe"
   ]
  },
  {
   "cell_type": "markdown",
   "metadata": {},
   "source": [
    "Modify DataFrame"
   ]
  },
  {
   "cell_type": "code",
   "execution_count": 36,
   "metadata": {},
   "outputs": [
    {
     "data": {
      "text/html": [
       "<table class=\"data-frame\"><thead><tr><th></th></tr><tr><th></th></tr></thead><tbody><p>0 rows × 0 columns</p></tbody></table>"
      ],
      "text/latex": [
       "\\begin{tabular}{r|}\n",
       "\t& \\\\\n",
       "\t\\hline\n",
       "\t& \\\\\n",
       "\t\\hline\n",
       "\\end{tabular}\n"
      ],
      "text/plain": [
       "0×0 DataFrame\n"
      ]
     },
     "execution_count": 36,
     "metadata": {},
     "output_type": "execute_result"
    }
   ],
   "source": [
    "df_new = df[1:100, 1:5];\n",
    "empty!(df_new)   # remove everything from a DataFrame"
   ]
  },
  {
   "cell_type": "code",
   "execution_count": 37,
   "metadata": {},
   "outputs": [
    {
     "data": {
      "text/html": [
       "<table class=\"data-frame\"><thead><tr><th></th><th>workclass</th><th>education</th><th>EducationNum</th></tr><tr><th></th><th>String⍰</th><th>String⍰</th><th>Int64⍰</th></tr></thead><tbody><p>100 rows × 3 columns</p><tr><th>1</th><td> State-gov</td><td> Bachelors</td><td>13</td></tr><tr><th>2</th><td> Self-emp-not-inc</td><td> Bachelors</td><td>13</td></tr><tr><th>3</th><td> Private</td><td> HS-grad</td><td>9</td></tr><tr><th>4</th><td> Private</td><td> 11th</td><td>7</td></tr><tr><th>5</th><td> Private</td><td> Bachelors</td><td>13</td></tr><tr><th>6</th><td> Private</td><td> Masters</td><td>14</td></tr><tr><th>7</th><td> Private</td><td> 9th</td><td>5</td></tr><tr><th>8</th><td> Self-emp-not-inc</td><td> HS-grad</td><td>9</td></tr><tr><th>9</th><td> Private</td><td> Masters</td><td>14</td></tr><tr><th>10</th><td> Private</td><td> Bachelors</td><td>13</td></tr><tr><th>11</th><td> Private</td><td> Some-college</td><td>10</td></tr><tr><th>12</th><td> State-gov</td><td> Bachelors</td><td>13</td></tr><tr><th>13</th><td> Private</td><td> Bachelors</td><td>13</td></tr><tr><th>14</th><td> Private</td><td> Assoc-acdm</td><td>12</td></tr><tr><th>15</th><td> Private</td><td> Assoc-voc</td><td>11</td></tr><tr><th>16</th><td> Private</td><td> 7th-8th</td><td>4</td></tr><tr><th>17</th><td> Self-emp-not-inc</td><td> HS-grad</td><td>9</td></tr><tr><th>18</th><td> Private</td><td> HS-grad</td><td>9</td></tr><tr><th>19</th><td> Private</td><td> 11th</td><td>7</td></tr><tr><th>20</th><td> Self-emp-not-inc</td><td> Masters</td><td>14</td></tr><tr><th>21</th><td> Private</td><td> Doctorate</td><td>16</td></tr><tr><th>22</th><td> Private</td><td> HS-grad</td><td>9</td></tr><tr><th>23</th><td> Federal-gov</td><td> 9th</td><td>5</td></tr><tr><th>24</th><td> Private</td><td> 11th</td><td>7</td></tr><tr><th>25</th><td> Private</td><td> HS-grad</td><td>9</td></tr><tr><th>26</th><td> Local-gov</td><td> Bachelors</td><td>13</td></tr><tr><th>27</th><td> Private</td><td> HS-grad</td><td>9</td></tr><tr><th>28</th><td> ?</td><td> Some-college</td><td>10</td></tr><tr><th>29</th><td> Private</td><td> HS-grad</td><td>9</td></tr><tr><th>30</th><td> Private</td><td> HS-grad</td><td>9</td></tr><tr><th>&vellip;</th><td>&vellip;</td><td>&vellip;</td><td>&vellip;</td></tr></tbody></table>"
      ],
      "text/latex": [
       "\\begin{tabular}{r|ccc}\n",
       "\t& workclass & education & EducationNum\\\\\n",
       "\t\\hline\n",
       "\t& String⍰ & String⍰ & Int64⍰\\\\\n",
       "\t\\hline\n",
       "\t1 &  State-gov &  Bachelors & 13 \\\\\n",
       "\t2 &  Self-emp-not-inc &  Bachelors & 13 \\\\\n",
       "\t3 &  Private &  HS-grad & 9 \\\\\n",
       "\t4 &  Private &  11th & 7 \\\\\n",
       "\t5 &  Private &  Bachelors & 13 \\\\\n",
       "\t6 &  Private &  Masters & 14 \\\\\n",
       "\t7 &  Private &  9th & 5 \\\\\n",
       "\t8 &  Self-emp-not-inc &  HS-grad & 9 \\\\\n",
       "\t9 &  Private &  Masters & 14 \\\\\n",
       "\t10 &  Private &  Bachelors & 13 \\\\\n",
       "\t11 &  Private &  Some-college & 10 \\\\\n",
       "\t12 &  State-gov &  Bachelors & 13 \\\\\n",
       "\t13 &  Private &  Bachelors & 13 \\\\\n",
       "\t14 &  Private &  Assoc-acdm & 12 \\\\\n",
       "\t15 &  Private &  Assoc-voc & 11 \\\\\n",
       "\t16 &  Private &  7th-8th & 4 \\\\\n",
       "\t17 &  Self-emp-not-inc &  HS-grad & 9 \\\\\n",
       "\t18 &  Private &  HS-grad & 9 \\\\\n",
       "\t19 &  Private &  11th & 7 \\\\\n",
       "\t20 &  Self-emp-not-inc &  Masters & 14 \\\\\n",
       "\t21 &  Private &  Doctorate & 16 \\\\\n",
       "\t22 &  Private &  HS-grad & 9 \\\\\n",
       "\t23 &  Federal-gov &  9th & 5 \\\\\n",
       "\t24 &  Private &  11th & 7 \\\\\n",
       "\t25 &  Private &  HS-grad & 9 \\\\\n",
       "\t26 &  Local-gov &  Bachelors & 13 \\\\\n",
       "\t27 &  Private &  HS-grad & 9 \\\\\n",
       "\t28 &  ? &  Some-college & 10 \\\\\n",
       "\t29 &  Private &  HS-grad & 9 \\\\\n",
       "\t30 &  Private &  HS-grad & 9 \\\\\n",
       "\t$\\dots$ & $\\dots$ & $\\dots$ & $\\dots$ \\\\\n",
       "\\end{tabular}\n"
      ],
      "text/plain": [
       "100×3 DataFrame\n",
       "│ Row │ workclass         │ education     │ EducationNum │\n",
       "│     │ \u001b[90mString⍰\u001b[39m           │ \u001b[90mString⍰\u001b[39m       │ \u001b[90mInt64⍰\u001b[39m       │\n",
       "├─────┼───────────────────┼───────────────┼──────────────┤\n",
       "│ 1   │  State-gov        │  Bachelors    │ 13           │\n",
       "│ 2   │  Self-emp-not-inc │  Bachelors    │ 13           │\n",
       "│ 3   │  Private          │  HS-grad      │ 9            │\n",
       "│ 4   │  Private          │  11th         │ 7            │\n",
       "│ 5   │  Private          │  Bachelors    │ 13           │\n",
       "│ 6   │  Private          │  Masters      │ 14           │\n",
       "│ 7   │  Private          │  9th          │ 5            │\n",
       "│ 8   │  Self-emp-not-inc │  HS-grad      │ 9            │\n",
       "│ 9   │  Private          │  Masters      │ 14           │\n",
       "│ 10  │  Private          │  Bachelors    │ 13           │\n",
       "⋮\n",
       "│ 90  │  Federal-gov      │  Doctorate    │ 16           │\n",
       "│ 91  │  Private          │  Assoc-voc    │ 11           │\n",
       "│ 92  │  Private          │  Some-college │ 10           │\n",
       "│ 93  │  Private          │  Some-college │ 10           │\n",
       "│ 94  │  Private          │  HS-grad      │ 9            │\n",
       "│ 95  │  Local-gov        │  Bachelors    │ 13           │\n",
       "│ 96  │  Local-gov        │  Some-college │ 10           │\n",
       "│ 97  │  Self-emp-not-inc │  Doctorate    │ 16           │\n",
       "│ 98  │  Private          │  Some-college │ 10           │\n",
       "│ 99  │  Private          │  Assoc-acdm   │ 12           │\n",
       "│ 100 │  Federal-gov      │  HS-grad      │ 9            │"
      ]
     },
     "execution_count": 37,
     "metadata": {},
     "output_type": "execute_result"
    }
   ],
   "source": [
    "df_new = df[1:100, 1:5];\n",
    "deletecols!(df_new, 3)       # delete 3rd column\n",
    "deletecols!(df_new, :age)    # delete column named age"
   ]
  },
  {
   "cell_type": "code",
   "execution_count": 38,
   "metadata": {},
   "outputs": [
    {
     "data": {
      "text/plain": [
       "1:100"
      ]
     },
     "execution_count": 38,
     "metadata": {},
     "output_type": "execute_result"
    }
   ],
   "source": [
    "df_new[:Id] = 1:100 # append new column "
   ]
  },
  {
   "cell_type": "markdown",
   "metadata": {},
   "source": [
    "Sorting, Reordering Rows"
   ]
  },
  {
   "cell_type": "code",
   "execution_count": 39,
   "metadata": {},
   "outputs": [
    {
     "data": {
      "text/plain": [
       "false"
      ]
     },
     "execution_count": 39,
     "metadata": {},
     "output_type": "execute_result"
    }
   ],
   "source": [
    "issorted(df)     # is sorted by first column?"
   ]
  },
  {
   "cell_type": "code",
   "execution_count": 40,
   "metadata": {},
   "outputs": [
    {
     "data": {
      "text/plain": [
       "false"
      ]
     },
     "execution_count": 40,
     "metadata": {},
     "output_type": "execute_result"
    }
   ],
   "source": [
    "issorted(df, :workclass)  # is sorted by column age?"
   ]
  },
  {
   "cell_type": "code",
   "execution_count": 41,
   "metadata": {},
   "outputs": [
    {
     "data": {
      "text/html": [
       "<table class=\"data-frame\"><thead><tr><th></th><th>age</th><th>workclass</th><th>fnlwgt</th><th>education</th><th>EducationNum</th><th>MaritalStatus</th><th>occupation</th><th>relationship</th><th>race</th><th>Gender</th><th>CapitalGain</th><th>CapitalLoss</th><th>HoursperWeek</th><th>NativeCountry</th><th>class</th></tr><tr><th></th><th>Int64⍰</th><th>String⍰</th><th>Int64⍰</th><th>String⍰</th><th>Int64⍰</th><th>String⍰</th><th>String⍰</th><th>String⍰</th><th>String⍰</th><th>String⍰</th><th>Int64⍰</th><th>Int64⍰</th><th>Int64⍰</th><th>String⍰</th><th>String⍰</th></tr></thead><tbody><p>32,561 rows × 15 columns</p><tr><th>1</th><td>17</td><td> ?</td><td>34019</td><td> 10th</td><td>6</td><td> Never-married</td><td> ?</td><td> Own-child</td><td> White</td><td> Male</td><td>0</td><td>0</td><td>20</td><td> United-States</td><td> &lt;=50K</td></tr><tr><th>2</th><td>17</td><td> ?</td><td>34088</td><td> 12th</td><td>8</td><td> Never-married</td><td> ?</td><td> Own-child</td><td> White</td><td> Female</td><td>0</td><td>0</td><td>25</td><td> United-States</td><td> &lt;=50K</td></tr><tr><th>3</th><td>17</td><td> ?</td><td>41643</td><td> 11th</td><td>7</td><td> Never-married</td><td> ?</td><td> Own-child</td><td> White</td><td> Female</td><td>0</td><td>0</td><td>15</td><td> United-States</td><td> &lt;=50K</td></tr><tr><th>4</th><td>17</td><td> ?</td><td>47407</td><td> 11th</td><td>7</td><td> Never-married</td><td> ?</td><td> Own-child</td><td> White</td><td> Male</td><td>0</td><td>0</td><td>10</td><td> United-States</td><td> &lt;=50K</td></tr><tr><th>5</th><td>17</td><td> ?</td><td>48703</td><td> 11th</td><td>7</td><td> Never-married</td><td> ?</td><td> Own-child</td><td> White</td><td> Female</td><td>0</td><td>0</td><td>30</td><td> United-States</td><td> &lt;=50K</td></tr><tr><th>6</th><td>17</td><td> ?</td><td>48751</td><td> 11th</td><td>7</td><td> Never-married</td><td> ?</td><td> Own-child</td><td> Black</td><td> Female</td><td>0</td><td>0</td><td>40</td><td> United-States</td><td> &lt;=50K</td></tr><tr><th>7</th><td>17</td><td> ?</td><td>64785</td><td> 10th</td><td>6</td><td> Never-married</td><td> ?</td><td> Own-child</td><td> White</td><td> Male</td><td>0</td><td>0</td><td>30</td><td> United-States</td><td> &lt;=50K</td></tr><tr><th>8</th><td>17</td><td> ?</td><td>67808</td><td> 10th</td><td>6</td><td> Never-married</td><td> ?</td><td> Own-child</td><td> White</td><td> Male</td><td>0</td><td>0</td><td>40</td><td> United-States</td><td> &lt;=50K</td></tr><tr><th>9</th><td>17</td><td> ?</td><td>80077</td><td> 11th</td><td>7</td><td> Never-married</td><td> ?</td><td> Own-child</td><td> White</td><td> Female</td><td>0</td><td>0</td><td>20</td><td> United-States</td><td> &lt;=50K</td></tr><tr><th>10</th><td>17</td><td> ?</td><td>86786</td><td> 10th</td><td>6</td><td> Never-married</td><td> ?</td><td> Own-child</td><td> White</td><td> Female</td><td>0</td><td>0</td><td>40</td><td> United-States</td><td> &lt;=50K</td></tr><tr><th>11</th><td>17</td><td> ?</td><td>89870</td><td> 10th</td><td>6</td><td> Never-married</td><td> ?</td><td> Own-child</td><td> White</td><td> Male</td><td>0</td><td>0</td><td>40</td><td> United-States</td><td> &lt;=50K</td></tr><tr><th>12</th><td>17</td><td> ?</td><td>94366</td><td> 10th</td><td>6</td><td> Never-married</td><td> ?</td><td> Other-relative</td><td> White</td><td> Male</td><td>0</td><td>0</td><td>6</td><td> United-States</td><td> &lt;=50K</td></tr><tr><th>13</th><td>17</td><td> ?</td><td>103810</td><td> 12th</td><td>8</td><td> Never-married</td><td> ?</td><td> Own-child</td><td> White</td><td> Male</td><td>0</td><td>0</td><td>40</td><td> United-States</td><td> &lt;=50K</td></tr><tr><th>14</th><td>17</td><td> ?</td><td>104025</td><td> 11th</td><td>7</td><td> Never-married</td><td> ?</td><td> Own-child</td><td> White</td><td> Male</td><td>0</td><td>0</td><td>18</td><td> United-States</td><td> &lt;=50K</td></tr><tr><th>15</th><td>17</td><td> ?</td><td>110998</td><td> Some-college</td><td>10</td><td> Never-married</td><td> ?</td><td> Own-child</td><td> Asian-Pac-Islander</td><td> Female</td><td>0</td><td>0</td><td>40</td><td> Philippines</td><td> &lt;=50K</td></tr><tr><th>16</th><td>17</td><td> ?</td><td>112942</td><td> 10th</td><td>6</td><td> Never-married</td><td> ?</td><td> Own-child</td><td> White</td><td> Male</td><td>0</td><td>0</td><td>40</td><td> United-States</td><td> &lt;=50K</td></tr><tr><th>17</th><td>17</td><td> ?</td><td>114798</td><td> 11th</td><td>7</td><td> Never-married</td><td> ?</td><td> Own-child</td><td> White</td><td> Female</td><td>0</td><td>0</td><td>18</td><td> United-States</td><td> &lt;=50K</td></tr><tr><th>18</th><td>17</td><td> ?</td><td>127003</td><td> 9th</td><td>5</td><td> Never-married</td><td> ?</td><td> Own-child</td><td> Black</td><td> Male</td><td>0</td><td>0</td><td>40</td><td> United-States</td><td> &lt;=50K</td></tr><tr><th>19</th><td>17</td><td> ?</td><td>138507</td><td> 10th</td><td>6</td><td> Never-married</td><td> ?</td><td> Own-child</td><td> White</td><td> Male</td><td>0</td><td>0</td><td>20</td><td> United-States</td><td> &lt;=50K</td></tr><tr><th>20</th><td>17</td><td> ?</td><td>139183</td><td> 10th</td><td>6</td><td> Never-married</td><td> ?</td><td> Own-child</td><td> White</td><td> Female</td><td>0</td><td>0</td><td>15</td><td> United-States</td><td> &lt;=50K</td></tr><tr><th>21</th><td>17</td><td> ?</td><td>144114</td><td> 10th</td><td>6</td><td> Never-married</td><td> ?</td><td> Own-child</td><td> White</td><td> Male</td><td>0</td><td>0</td><td>40</td><td> United-States</td><td> &lt;=50K</td></tr><tr><th>22</th><td>17</td><td> ?</td><td>145258</td><td> 11th</td><td>7</td><td> Never-married</td><td> ?</td><td> Other-relative</td><td> White</td><td> Female</td><td>0</td><td>0</td><td>25</td><td> United-States</td><td> &lt;=50K</td></tr><tr><th>23</th><td>17</td><td> ?</td><td>145886</td><td> 11th</td><td>7</td><td> Never-married</td><td> ?</td><td> Own-child</td><td> White</td><td> Female</td><td>0</td><td>0</td><td>30</td><td> United-States</td><td> &lt;=50K</td></tr><tr><th>24</th><td>17</td><td> ?</td><td>148769</td><td> HS-grad</td><td>9</td><td> Never-married</td><td> ?</td><td> Own-child</td><td> Black</td><td> Male</td><td>0</td><td>0</td><td>40</td><td> United-States</td><td> &lt;=50K</td></tr><tr><th>25</th><td>17</td><td> ?</td><td>151141</td><td> 10th</td><td>6</td><td> Never-married</td><td> ?</td><td> Own-child</td><td> White</td><td> Male</td><td>0</td><td>0</td><td>30</td><td> United-States</td><td> &lt;=50K</td></tr><tr><th>26</th><td>17</td><td> ?</td><td>158762</td><td> 10th</td><td>6</td><td> Never-married</td><td> ?</td><td> Own-child</td><td> White</td><td> Female</td><td>0</td><td>0</td><td>20</td><td> United-States</td><td> &lt;=50K</td></tr><tr><th>27</th><td>17</td><td> ?</td><td>161259</td><td> 10th</td><td>6</td><td> Never-married</td><td> ?</td><td> Other-relative</td><td> White</td><td> Male</td><td>0</td><td>0</td><td>12</td><td> United-States</td><td> &lt;=50K</td></tr><tr><th>28</th><td>17</td><td> ?</td><td>161981</td><td> 10th</td><td>6</td><td> Never-married</td><td> ?</td><td> Own-child</td><td> White</td><td> Male</td><td>0</td><td>0</td><td>40</td><td> United-States</td><td> &lt;=50K</td></tr><tr><th>29</th><td>17</td><td> ?</td><td>166759</td><td> 12th</td><td>8</td><td> Never-married</td><td> ?</td><td> Own-child</td><td> White</td><td> Female</td><td>0</td><td>0</td><td>40</td><td> United-States</td><td> &lt;=50K</td></tr><tr><th>30</th><td>17</td><td> ?</td><td>170320</td><td> 11th</td><td>7</td><td> Never-married</td><td> ?</td><td> Own-child</td><td> White</td><td> Female</td><td>0</td><td>0</td><td>8</td><td> United-States</td><td> &lt;=50K</td></tr><tr><th>&vellip;</th><td>&vellip;</td><td>&vellip;</td><td>&vellip;</td><td>&vellip;</td><td>&vellip;</td><td>&vellip;</td><td>&vellip;</td><td>&vellip;</td><td>&vellip;</td><td>&vellip;</td><td>&vellip;</td><td>&vellip;</td><td>&vellip;</td><td>&vellip;</td><td>&vellip;</td></tr></tbody></table>"
      ],
      "text/latex": [
       "\\begin{tabular}{r|ccccccccccccccc}\n",
       "\t& age & workclass & fnlwgt & education & EducationNum & MaritalStatus & occupation & relationship & race & Gender & CapitalGain & CapitalLoss & HoursperWeek & NativeCountry & class\\\\\n",
       "\t\\hline\n",
       "\t& Int64⍰ & String⍰ & Int64⍰ & String⍰ & Int64⍰ & String⍰ & String⍰ & String⍰ & String⍰ & String⍰ & Int64⍰ & Int64⍰ & Int64⍰ & String⍰ & String⍰\\\\\n",
       "\t\\hline\n",
       "\t1 & 17 &  ? & 34019 &  10th & 6 &  Never-married &  ? &  Own-child &  White &  Male & 0 & 0 & 20 &  United-States &  <=50K \\\\\n",
       "\t2 & 17 &  ? & 34088 &  12th & 8 &  Never-married &  ? &  Own-child &  White &  Female & 0 & 0 & 25 &  United-States &  <=50K \\\\\n",
       "\t3 & 17 &  ? & 41643 &  11th & 7 &  Never-married &  ? &  Own-child &  White &  Female & 0 & 0 & 15 &  United-States &  <=50K \\\\\n",
       "\t4 & 17 &  ? & 47407 &  11th & 7 &  Never-married &  ? &  Own-child &  White &  Male & 0 & 0 & 10 &  United-States &  <=50K \\\\\n",
       "\t5 & 17 &  ? & 48703 &  11th & 7 &  Never-married &  ? &  Own-child &  White &  Female & 0 & 0 & 30 &  United-States &  <=50K \\\\\n",
       "\t6 & 17 &  ? & 48751 &  11th & 7 &  Never-married &  ? &  Own-child &  Black &  Female & 0 & 0 & 40 &  United-States &  <=50K \\\\\n",
       "\t7 & 17 &  ? & 64785 &  10th & 6 &  Never-married &  ? &  Own-child &  White &  Male & 0 & 0 & 30 &  United-States &  <=50K \\\\\n",
       "\t8 & 17 &  ? & 67808 &  10th & 6 &  Never-married &  ? &  Own-child &  White &  Male & 0 & 0 & 40 &  United-States &  <=50K \\\\\n",
       "\t9 & 17 &  ? & 80077 &  11th & 7 &  Never-married &  ? &  Own-child &  White &  Female & 0 & 0 & 20 &  United-States &  <=50K \\\\\n",
       "\t10 & 17 &  ? & 86786 &  10th & 6 &  Never-married &  ? &  Own-child &  White &  Female & 0 & 0 & 40 &  United-States &  <=50K \\\\\n",
       "\t11 & 17 &  ? & 89870 &  10th & 6 &  Never-married &  ? &  Own-child &  White &  Male & 0 & 0 & 40 &  United-States &  <=50K \\\\\n",
       "\t12 & 17 &  ? & 94366 &  10th & 6 &  Never-married &  ? &  Other-relative &  White &  Male & 0 & 0 & 6 &  United-States &  <=50K \\\\\n",
       "\t13 & 17 &  ? & 103810 &  12th & 8 &  Never-married &  ? &  Own-child &  White &  Male & 0 & 0 & 40 &  United-States &  <=50K \\\\\n",
       "\t14 & 17 &  ? & 104025 &  11th & 7 &  Never-married &  ? &  Own-child &  White &  Male & 0 & 0 & 18 &  United-States &  <=50K \\\\\n",
       "\t15 & 17 &  ? & 110998 &  Some-college & 10 &  Never-married &  ? &  Own-child &  Asian-Pac-Islander &  Female & 0 & 0 & 40 &  Philippines &  <=50K \\\\\n",
       "\t16 & 17 &  ? & 112942 &  10th & 6 &  Never-married &  ? &  Own-child &  White &  Male & 0 & 0 & 40 &  United-States &  <=50K \\\\\n",
       "\t17 & 17 &  ? & 114798 &  11th & 7 &  Never-married &  ? &  Own-child &  White &  Female & 0 & 0 & 18 &  United-States &  <=50K \\\\\n",
       "\t18 & 17 &  ? & 127003 &  9th & 5 &  Never-married &  ? &  Own-child &  Black &  Male & 0 & 0 & 40 &  United-States &  <=50K \\\\\n",
       "\t19 & 17 &  ? & 138507 &  10th & 6 &  Never-married &  ? &  Own-child &  White &  Male & 0 & 0 & 20 &  United-States &  <=50K \\\\\n",
       "\t20 & 17 &  ? & 139183 &  10th & 6 &  Never-married &  ? &  Own-child &  White &  Female & 0 & 0 & 15 &  United-States &  <=50K \\\\\n",
       "\t21 & 17 &  ? & 144114 &  10th & 6 &  Never-married &  ? &  Own-child &  White &  Male & 0 & 0 & 40 &  United-States &  <=50K \\\\\n",
       "\t22 & 17 &  ? & 145258 &  11th & 7 &  Never-married &  ? &  Other-relative &  White &  Female & 0 & 0 & 25 &  United-States &  <=50K \\\\\n",
       "\t23 & 17 &  ? & 145886 &  11th & 7 &  Never-married &  ? &  Own-child &  White &  Female & 0 & 0 & 30 &  United-States &  <=50K \\\\\n",
       "\t24 & 17 &  ? & 148769 &  HS-grad & 9 &  Never-married &  ? &  Own-child &  Black &  Male & 0 & 0 & 40 &  United-States &  <=50K \\\\\n",
       "\t25 & 17 &  ? & 151141 &  10th & 6 &  Never-married &  ? &  Own-child &  White &  Male & 0 & 0 & 30 &  United-States &  <=50K \\\\\n",
       "\t26 & 17 &  ? & 158762 &  10th & 6 &  Never-married &  ? &  Own-child &  White &  Female & 0 & 0 & 20 &  United-States &  <=50K \\\\\n",
       "\t27 & 17 &  ? & 161259 &  10th & 6 &  Never-married &  ? &  Other-relative &  White &  Male & 0 & 0 & 12 &  United-States &  <=50K \\\\\n",
       "\t28 & 17 &  ? & 161981 &  10th & 6 &  Never-married &  ? &  Own-child &  White &  Male & 0 & 0 & 40 &  United-States &  <=50K \\\\\n",
       "\t29 & 17 &  ? & 166759 &  12th & 8 &  Never-married &  ? &  Own-child &  White &  Female & 0 & 0 & 40 &  United-States &  <=50K \\\\\n",
       "\t30 & 17 &  ? & 170320 &  11th & 7 &  Never-married &  ? &  Own-child &  White &  Female & 0 & 0 & 8 &  United-States &  <=50K \\\\\n",
       "\t$\\dots$ & $\\dots$ & $\\dots$ & $\\dots$ & $\\dots$ & $\\dots$ & $\\dots$ & $\\dots$ & $\\dots$ & $\\dots$ & $\\dots$ & $\\dots$ & $\\dots$ & $\\dots$ & $\\dots$ & $\\dots$ \\\\\n",
       "\\end{tabular}\n"
      ],
      "text/plain": [
       "32561×15 DataFrame. Omitted printing of 10 columns\n",
       "│ Row   │ age    │ workclass         │ fnlwgt │ education     │ EducationNum │\n",
       "│       │ \u001b[90mInt64⍰\u001b[39m │ \u001b[90mString⍰\u001b[39m           │ \u001b[90mInt64⍰\u001b[39m │ \u001b[90mString⍰\u001b[39m       │ \u001b[90mInt64⍰\u001b[39m       │\n",
       "├───────┼────────┼───────────────────┼────────┼───────────────┼──────────────┤\n",
       "│ 1     │ 17     │  ?                │ 34019  │  10th         │ 6            │\n",
       "│ 2     │ 17     │  ?                │ 34088  │  12th         │ 8            │\n",
       "│ 3     │ 17     │  ?                │ 41643  │  11th         │ 7            │\n",
       "│ 4     │ 17     │  ?                │ 47407  │  11th         │ 7            │\n",
       "│ 5     │ 17     │  ?                │ 48703  │  11th         │ 7            │\n",
       "│ 6     │ 17     │  ?                │ 48751  │  11th         │ 7            │\n",
       "│ 7     │ 17     │  ?                │ 64785  │  10th         │ 6            │\n",
       "│ 8     │ 17     │  ?                │ 67808  │  10th         │ 6            │\n",
       "│ 9     │ 17     │  ?                │ 80077  │  11th         │ 7            │\n",
       "│ 10    │ 17     │  ?                │ 86786  │  10th         │ 6            │\n",
       "⋮\n",
       "│ 32551 │ 90     │  Private          │ 221832 │  Bachelors    │ 13           │\n",
       "│ 32552 │ 90     │  Private          │ 226968 │  7th-8th      │ 4            │\n",
       "│ 32553 │ 90     │  Private          │ 250832 │  10th         │ 6            │\n",
       "│ 32554 │ 90     │  Private          │ 311184 │  Bachelors    │ 13           │\n",
       "│ 32555 │ 90     │  Private          │ 313749 │  Bachelors    │ 13           │\n",
       "│ 32556 │ 90     │  Private          │ 313749 │  HS-grad      │ 9            │\n",
       "│ 32557 │ 90     │  Private          │ 313986 │  11th         │ 7            │\n",
       "│ 32558 │ 90     │  Private          │ 313986 │  11th         │ 7            │\n",
       "│ 32559 │ 90     │  Self-emp-not-inc │ 82628  │  HS-grad      │ 9            │\n",
       "│ 32560 │ 90     │  Self-emp-not-inc │ 155981 │  Bachelors    │ 13           │\n",
       "│ 32561 │ 90     │  Self-emp-not-inc │ 282095 │  Some-college │ 10           │"
      ]
     },
     "execution_count": 41,
     "metadata": {},
     "output_type": "execute_result"
    }
   ],
   "source": [
    "sort(df)    # sort by first column, to change df use sort!(df)"
   ]
  },
  {
   "cell_type": "code",
   "execution_count": 42,
   "metadata": {},
   "outputs": [
    {
     "data": {
      "text/html": [
       "<table class=\"data-frame\"><thead><tr><th></th><th>age</th><th>workclass</th><th>fnlwgt</th><th>education</th><th>EducationNum</th><th>MaritalStatus</th><th>occupation</th><th>relationship</th><th>race</th><th>Gender</th><th>CapitalGain</th><th>CapitalLoss</th><th>HoursperWeek</th><th>NativeCountry</th><th>class</th></tr><tr><th></th><th>Int64⍰</th><th>String⍰</th><th>Int64⍰</th><th>String⍰</th><th>Int64⍰</th><th>String⍰</th><th>String⍰</th><th>String⍰</th><th>String⍰</th><th>String⍰</th><th>Int64⍰</th><th>Int64⍰</th><th>Int64⍰</th><th>String⍰</th><th>String⍰</th></tr></thead><tbody><p>32,561 rows × 15 columns</p><tr><th>1</th><td>54</td><td> ?</td><td>180211</td><td> Some-college</td><td>10</td><td> Married-civ-spouse</td><td> ?</td><td> Husband</td><td> Asian-Pac-Islander</td><td> Male</td><td>0</td><td>0</td><td>60</td><td> South</td><td> &gt;50K</td></tr><tr><th>2</th><td>32</td><td> ?</td><td>293936</td><td> 7th-8th</td><td>4</td><td> Married-spouse-absent</td><td> ?</td><td> Not-in-family</td><td> White</td><td> Male</td><td>0</td><td>0</td><td>40</td><td> ?</td><td> &lt;=50K</td></tr><tr><th>3</th><td>25</td><td> ?</td><td>200681</td><td> Some-college</td><td>10</td><td> Never-married</td><td> ?</td><td> Own-child</td><td> White</td><td> Male</td><td>0</td><td>0</td><td>40</td><td> United-States</td><td> &lt;=50K</td></tr><tr><th>4</th><td>67</td><td> ?</td><td>212759</td><td> 10th</td><td>6</td><td> Married-civ-spouse</td><td> ?</td><td> Husband</td><td> White</td><td> Male</td><td>0</td><td>0</td><td>2</td><td> United-States</td><td> &lt;=50K</td></tr><tr><th>5</th><td>17</td><td> ?</td><td>304873</td><td> 10th</td><td>6</td><td> Never-married</td><td> ?</td><td> Own-child</td><td> White</td><td> Female</td><td>34095</td><td>0</td><td>32</td><td> United-States</td><td> &lt;=50K</td></tr><tr><th>6</th><td>35</td><td> ?</td><td>129305</td><td> HS-grad</td><td>9</td><td> Married-civ-spouse</td><td> ?</td><td> Husband</td><td> White</td><td> Male</td><td>0</td><td>0</td><td>40</td><td> United-States</td><td> &lt;=50K</td></tr><tr><th>7</th><td>43</td><td> ?</td><td>174662</td><td> Some-college</td><td>10</td><td> Divorced</td><td> ?</td><td> Not-in-family</td><td> White</td><td> Female</td><td>0</td><td>0</td><td>40</td><td> United-States</td><td> &lt;=50K</td></tr><tr><th>8</th><td>52</td><td> ?</td><td>252903</td><td> HS-grad</td><td>9</td><td> Divorced</td><td> ?</td><td> Not-in-family</td><td> White</td><td> Male</td><td>0</td><td>0</td><td>45</td><td> United-States</td><td> &gt;50K</td></tr><tr><th>9</th><td>68</td><td> ?</td><td>38317</td><td> 1st-4th</td><td>2</td><td> Divorced</td><td> ?</td><td> Not-in-family</td><td> White</td><td> Female</td><td>0</td><td>0</td><td>20</td><td> United-States</td><td> &lt;=50K</td></tr><tr><th>10</th><td>53</td><td> ?</td><td>135105</td><td> Bachelors</td><td>13</td><td> Divorced</td><td> ?</td><td> Not-in-family</td><td> White</td><td> Female</td><td>0</td><td>0</td><td>50</td><td> United-States</td><td> &lt;=50K</td></tr><tr><th>11</th><td>19</td><td> ?</td><td>170653</td><td> HS-grad</td><td>9</td><td> Never-married</td><td> ?</td><td> Own-child</td><td> White</td><td> Male</td><td>0</td><td>0</td><td>40</td><td> Italy</td><td> &lt;=50K</td></tr><tr><th>12</th><td>64</td><td> ?</td><td>187656</td><td> 1st-4th</td><td>2</td><td> Divorced</td><td> ?</td><td> Not-in-family</td><td> White</td><td> Male</td><td>0</td><td>0</td><td>40</td><td> United-States</td><td> &lt;=50K</td></tr><tr><th>13</th><td>60</td><td> ?</td><td>24215</td><td> 10th</td><td>6</td><td> Divorced</td><td> ?</td><td> Not-in-family</td><td> Amer-Indian-Eskimo</td><td> Female</td><td>0</td><td>0</td><td>10</td><td> United-States</td><td> &lt;=50K</td></tr><tr><th>14</th><td>20</td><td> ?</td><td>119156</td><td> Some-college</td><td>10</td><td> Never-married</td><td> ?</td><td> Own-child</td><td> White</td><td> Male</td><td>0</td><td>0</td><td>20</td><td> United-States</td><td> &lt;=50K</td></tr><tr><th>15</th><td>19</td><td> ?</td><td>218956</td><td> Some-college</td><td>10</td><td> Never-married</td><td> ?</td><td> Own-child</td><td> White</td><td> Male</td><td>0</td><td>0</td><td>24</td><td> Canada</td><td> &lt;=50K</td></tr><tr><th>16</th><td>39</td><td> ?</td><td>157443</td><td> Masters</td><td>14</td><td> Married-civ-spouse</td><td> ?</td><td> Wife</td><td> Asian-Pac-Islander</td><td> Female</td><td>3464</td><td>0</td><td>40</td><td> ?</td><td> &lt;=50K</td></tr><tr><th>17</th><td>19</td><td> ?</td><td>860348</td><td> Some-college</td><td>10</td><td> Never-married</td><td> ?</td><td> Own-child</td><td> Black</td><td> Female</td><td>0</td><td>0</td><td>25</td><td> United-States</td><td> &lt;=50K</td></tr><tr><th>18</th><td>23</td><td> ?</td><td>211601</td><td> Assoc-voc</td><td>11</td><td> Never-married</td><td> ?</td><td> Own-child</td><td> Black</td><td> Female</td><td>0</td><td>0</td><td>15</td><td> United-States</td><td> &lt;=50K</td></tr><tr><th>19</th><td>67</td><td> ?</td><td>36135</td><td> 11th</td><td>7</td><td> Married-civ-spouse</td><td> ?</td><td> Husband</td><td> White</td><td> Male</td><td>0</td><td>0</td><td>8</td><td> United-States</td><td> &lt;=50K</td></tr><tr><th>20</th><td>30</td><td> ?</td><td>151989</td><td> Assoc-voc</td><td>11</td><td> Divorced</td><td> ?</td><td> Unmarried</td><td> White</td><td> Female</td><td>0</td><td>0</td><td>40</td><td> United-States</td><td> &lt;=50K</td></tr><tr><th>21</th><td>59</td><td> ?</td><td>372020</td><td> Bachelors</td><td>13</td><td> Married-civ-spouse</td><td> ?</td><td> Husband</td><td> White</td><td> Male</td><td>0</td><td>0</td><td>40</td><td> United-States</td><td> &gt;50K</td></tr><tr><th>22</th><td>20</td><td> ?</td><td>137300</td><td> HS-grad</td><td>9</td><td> Never-married</td><td> ?</td><td> Other-relative</td><td> White</td><td> Female</td><td>0</td><td>0</td><td>35</td><td> United-States</td><td> &lt;=50K</td></tr><tr><th>23</th><td>28</td><td> ?</td><td>123147</td><td> Some-college</td><td>10</td><td> Married-civ-spouse</td><td> ?</td><td> Wife</td><td> White</td><td> Female</td><td>0</td><td>1887</td><td>40</td><td> United-States</td><td> &gt;50K</td></tr><tr><th>24</th><td>80</td><td> ?</td><td>107762</td><td> HS-grad</td><td>9</td><td> Widowed</td><td> ?</td><td> Not-in-family</td><td> White</td><td> Male</td><td>0</td><td>0</td><td>24</td><td> United-States</td><td> &lt;=50K</td></tr><tr><th>25</th><td>17</td><td> ?</td><td>202521</td><td> 11th</td><td>7</td><td> Never-married</td><td> ?</td><td> Own-child</td><td> White</td><td> Male</td><td>0</td><td>0</td><td>40</td><td> United-States</td><td> &lt;=50K</td></tr><tr><th>26</th><td>17</td><td> ?</td><td>258872</td><td> 11th</td><td>7</td><td> Never-married</td><td> ?</td><td> Own-child</td><td> White</td><td> Female</td><td>0</td><td>0</td><td>5</td><td> United-States</td><td> &lt;=50K</td></tr><tr><th>27</th><td>32</td><td> ?</td><td>115745</td><td> Some-college</td><td>10</td><td> Married-civ-spouse</td><td> ?</td><td> Husband</td><td> White</td><td> Male</td><td>0</td><td>0</td><td>40</td><td> United-States</td><td> &lt;=50K</td></tr><tr><th>28</th><td>22</td><td> ?</td><td>139883</td><td> Some-college</td><td>10</td><td> Never-married</td><td> ?</td><td> Own-child</td><td> White</td><td> Male</td><td>0</td><td>0</td><td>40</td><td> United-States</td><td> &lt;=50K</td></tr><tr><th>29</th><td>52</td><td> ?</td><td>271749</td><td> 12th</td><td>8</td><td> Never-married</td><td> ?</td><td> Other-relative</td><td> Black</td><td> Male</td><td>594</td><td>0</td><td>40</td><td> United-States</td><td> &lt;=50K</td></tr><tr><th>30</th><td>63</td><td> ?</td><td>401531</td><td> 1st-4th</td><td>2</td><td> Married-civ-spouse</td><td> ?</td><td> Husband</td><td> White</td><td> Male</td><td>0</td><td>0</td><td>35</td><td> United-States</td><td> &lt;=50K</td></tr><tr><th>&vellip;</th><td>&vellip;</td><td>&vellip;</td><td>&vellip;</td><td>&vellip;</td><td>&vellip;</td><td>&vellip;</td><td>&vellip;</td><td>&vellip;</td><td>&vellip;</td><td>&vellip;</td><td>&vellip;</td><td>&vellip;</td><td>&vellip;</td><td>&vellip;</td><td>&vellip;</td></tr></tbody></table>"
      ],
      "text/latex": [
       "\\begin{tabular}{r|ccccccccccccccc}\n",
       "\t& age & workclass & fnlwgt & education & EducationNum & MaritalStatus & occupation & relationship & race & Gender & CapitalGain & CapitalLoss & HoursperWeek & NativeCountry & class\\\\\n",
       "\t\\hline\n",
       "\t& Int64⍰ & String⍰ & Int64⍰ & String⍰ & Int64⍰ & String⍰ & String⍰ & String⍰ & String⍰ & String⍰ & Int64⍰ & Int64⍰ & Int64⍰ & String⍰ & String⍰\\\\\n",
       "\t\\hline\n",
       "\t1 & 54 &  ? & 180211 &  Some-college & 10 &  Married-civ-spouse &  ? &  Husband &  Asian-Pac-Islander &  Male & 0 & 0 & 60 &  South &  >50K \\\\\n",
       "\t2 & 32 &  ? & 293936 &  7th-8th & 4 &  Married-spouse-absent &  ? &  Not-in-family &  White &  Male & 0 & 0 & 40 &  ? &  <=50K \\\\\n",
       "\t3 & 25 &  ? & 200681 &  Some-college & 10 &  Never-married &  ? &  Own-child &  White &  Male & 0 & 0 & 40 &  United-States &  <=50K \\\\\n",
       "\t4 & 67 &  ? & 212759 &  10th & 6 &  Married-civ-spouse &  ? &  Husband &  White &  Male & 0 & 0 & 2 &  United-States &  <=50K \\\\\n",
       "\t5 & 17 &  ? & 304873 &  10th & 6 &  Never-married &  ? &  Own-child &  White &  Female & 34095 & 0 & 32 &  United-States &  <=50K \\\\\n",
       "\t6 & 35 &  ? & 129305 &  HS-grad & 9 &  Married-civ-spouse &  ? &  Husband &  White &  Male & 0 & 0 & 40 &  United-States &  <=50K \\\\\n",
       "\t7 & 43 &  ? & 174662 &  Some-college & 10 &  Divorced &  ? &  Not-in-family &  White &  Female & 0 & 0 & 40 &  United-States &  <=50K \\\\\n",
       "\t8 & 52 &  ? & 252903 &  HS-grad & 9 &  Divorced &  ? &  Not-in-family &  White &  Male & 0 & 0 & 45 &  United-States &  >50K \\\\\n",
       "\t9 & 68 &  ? & 38317 &  1st-4th & 2 &  Divorced &  ? &  Not-in-family &  White &  Female & 0 & 0 & 20 &  United-States &  <=50K \\\\\n",
       "\t10 & 53 &  ? & 135105 &  Bachelors & 13 &  Divorced &  ? &  Not-in-family &  White &  Female & 0 & 0 & 50 &  United-States &  <=50K \\\\\n",
       "\t11 & 19 &  ? & 170653 &  HS-grad & 9 &  Never-married &  ? &  Own-child &  White &  Male & 0 & 0 & 40 &  Italy &  <=50K \\\\\n",
       "\t12 & 64 &  ? & 187656 &  1st-4th & 2 &  Divorced &  ? &  Not-in-family &  White &  Male & 0 & 0 & 40 &  United-States &  <=50K \\\\\n",
       "\t13 & 60 &  ? & 24215 &  10th & 6 &  Divorced &  ? &  Not-in-family &  Amer-Indian-Eskimo &  Female & 0 & 0 & 10 &  United-States &  <=50K \\\\\n",
       "\t14 & 20 &  ? & 119156 &  Some-college & 10 &  Never-married &  ? &  Own-child &  White &  Male & 0 & 0 & 20 &  United-States &  <=50K \\\\\n",
       "\t15 & 19 &  ? & 218956 &  Some-college & 10 &  Never-married &  ? &  Own-child &  White &  Male & 0 & 0 & 24 &  Canada &  <=50K \\\\\n",
       "\t16 & 39 &  ? & 157443 &  Masters & 14 &  Married-civ-spouse &  ? &  Wife &  Asian-Pac-Islander &  Female & 3464 & 0 & 40 &  ? &  <=50K \\\\\n",
       "\t17 & 19 &  ? & 860348 &  Some-college & 10 &  Never-married &  ? &  Own-child &  Black &  Female & 0 & 0 & 25 &  United-States &  <=50K \\\\\n",
       "\t18 & 23 &  ? & 211601 &  Assoc-voc & 11 &  Never-married &  ? &  Own-child &  Black &  Female & 0 & 0 & 15 &  United-States &  <=50K \\\\\n",
       "\t19 & 67 &  ? & 36135 &  11th & 7 &  Married-civ-spouse &  ? &  Husband &  White &  Male & 0 & 0 & 8 &  United-States &  <=50K \\\\\n",
       "\t20 & 30 &  ? & 151989 &  Assoc-voc & 11 &  Divorced &  ? &  Unmarried &  White &  Female & 0 & 0 & 40 &  United-States &  <=50K \\\\\n",
       "\t21 & 59 &  ? & 372020 &  Bachelors & 13 &  Married-civ-spouse &  ? &  Husband &  White &  Male & 0 & 0 & 40 &  United-States &  >50K \\\\\n",
       "\t22 & 20 &  ? & 137300 &  HS-grad & 9 &  Never-married &  ? &  Other-relative &  White &  Female & 0 & 0 & 35 &  United-States &  <=50K \\\\\n",
       "\t23 & 28 &  ? & 123147 &  Some-college & 10 &  Married-civ-spouse &  ? &  Wife &  White &  Female & 0 & 1887 & 40 &  United-States &  >50K \\\\\n",
       "\t24 & 80 &  ? & 107762 &  HS-grad & 9 &  Widowed &  ? &  Not-in-family &  White &  Male & 0 & 0 & 24 &  United-States &  <=50K \\\\\n",
       "\t25 & 17 &  ? & 202521 &  11th & 7 &  Never-married &  ? &  Own-child &  White &  Male & 0 & 0 & 40 &  United-States &  <=50K \\\\\n",
       "\t26 & 17 &  ? & 258872 &  11th & 7 &  Never-married &  ? &  Own-child &  White &  Female & 0 & 0 & 5 &  United-States &  <=50K \\\\\n",
       "\t27 & 32 &  ? & 115745 &  Some-college & 10 &  Married-civ-spouse &  ? &  Husband &  White &  Male & 0 & 0 & 40 &  United-States &  <=50K \\\\\n",
       "\t28 & 22 &  ? & 139883 &  Some-college & 10 &  Never-married &  ? &  Own-child &  White &  Male & 0 & 0 & 40 &  United-States &  <=50K \\\\\n",
       "\t29 & 52 &  ? & 271749 &  12th & 8 &  Never-married &  ? &  Other-relative &  Black &  Male & 594 & 0 & 40 &  United-States &  <=50K \\\\\n",
       "\t30 & 63 &  ? & 401531 &  1st-4th & 2 &  Married-civ-spouse &  ? &  Husband &  White &  Male & 0 & 0 & 35 &  United-States &  <=50K \\\\\n",
       "\t$\\dots$ & $\\dots$ & $\\dots$ & $\\dots$ & $\\dots$ & $\\dots$ & $\\dots$ & $\\dots$ & $\\dots$ & $\\dots$ & $\\dots$ & $\\dots$ & $\\dots$ & $\\dots$ & $\\dots$ & $\\dots$ \\\\\n",
       "\\end{tabular}\n"
      ],
      "text/plain": [
       "32561×15 DataFrame. Omitted printing of 10 columns\n",
       "│ Row   │ age    │ workclass    │ fnlwgt │ education     │ EducationNum │\n",
       "│       │ \u001b[90mInt64⍰\u001b[39m │ \u001b[90mString⍰\u001b[39m      │ \u001b[90mInt64⍰\u001b[39m │ \u001b[90mString⍰\u001b[39m       │ \u001b[90mInt64⍰\u001b[39m       │\n",
       "├───────┼────────┼──────────────┼────────┼───────────────┼──────────────┤\n",
       "│ 1     │ 54     │  ?           │ 180211 │  Some-college │ 10           │\n",
       "│ 2     │ 32     │  ?           │ 293936 │  7th-8th      │ 4            │\n",
       "│ 3     │ 25     │  ?           │ 200681 │  Some-college │ 10           │\n",
       "│ 4     │ 67     │  ?           │ 212759 │  10th         │ 6            │\n",
       "│ 5     │ 17     │  ?           │ 304873 │  10th         │ 6            │\n",
       "│ 6     │ 35     │  ?           │ 129305 │  HS-grad      │ 9            │\n",
       "│ 7     │ 43     │  ?           │ 174662 │  Some-college │ 10           │\n",
       "│ 8     │ 52     │  ?           │ 252903 │  HS-grad      │ 9            │\n",
       "│ 9     │ 68     │  ?           │ 38317  │  1st-4th      │ 2            │\n",
       "│ 10    │ 53     │  ?           │ 135105 │  Bachelors    │ 13           │\n",
       "⋮\n",
       "│ 32551 │ 22     │  Without-pay │ 302347 │  HS-grad      │ 9            │\n",
       "│ 32552 │ 46     │  Without-pay │ 142210 │  HS-grad      │ 9            │\n",
       "│ 32553 │ 65     │  Without-pay │ 172949 │  HS-grad      │ 9            │\n",
       "│ 32554 │ 52     │  Without-pay │ 198262 │  HS-grad      │ 9            │\n",
       "│ 32555 │ 19     │  Without-pay │ 43887  │  HS-grad      │ 9            │\n",
       "│ 32556 │ 62     │  Without-pay │ 170114 │  Assoc-acdm   │ 12           │\n",
       "│ 32557 │ 29     │  Without-pay │ 212588 │  Some-college │ 10           │\n",
       "│ 32558 │ 72     │  Without-pay │ 121004 │  HS-grad      │ 9            │\n",
       "│ 32559 │ 68     │  Without-pay │ 174695 │  Some-college │ 10           │\n",
       "│ 32560 │ 67     │  Without-pay │ 137192 │  HS-grad      │ 9            │\n",
       "│ 32561 │ 62     │  Without-pay │ 159908 │  Some-college │ 10           │"
      ]
     },
     "execution_count": 42,
     "metadata": {},
     "output_type": "execute_result"
    }
   ],
   "source": [
    "sort(df,:workclass)  # sort by column workclass"
   ]
  },
  {
   "cell_type": "code",
   "execution_count": 43,
   "metadata": {},
   "outputs": [
    {
     "data": {
      "text/html": [
       "<table class=\"data-frame\"><thead><tr><th></th><th>age</th><th>workclass</th><th>fnlwgt</th><th>education</th><th>EducationNum</th><th>MaritalStatus</th><th>occupation</th><th>relationship</th><th>race</th><th>Gender</th><th>CapitalGain</th><th>CapitalLoss</th><th>HoursperWeek</th><th>NativeCountry</th><th>class</th></tr><tr><th></th><th>Int64⍰</th><th>String⍰</th><th>Int64⍰</th><th>String⍰</th><th>Int64⍰</th><th>String⍰</th><th>String⍰</th><th>String⍰</th><th>String⍰</th><th>String⍰</th><th>Int64⍰</th><th>Int64⍰</th><th>Int64⍰</th><th>String⍰</th><th>String⍰</th></tr></thead><tbody><p>32,561 rows × 15 columns</p><tr><th>1</th><td>90</td><td> ?</td><td>39824</td><td> HS-grad</td><td>9</td><td> Widowed</td><td> ?</td><td> Not-in-family</td><td> White</td><td> Male</td><td>401</td><td>0</td><td>4</td><td> United-States</td><td> &lt;=50K</td></tr><tr><th>2</th><td>90</td><td> Private</td><td>40388</td><td> Bachelors</td><td>13</td><td> Never-married</td><td> Exec-managerial</td><td> Not-in-family</td><td> White</td><td> Male</td><td>0</td><td>0</td><td>55</td><td> United-States</td><td> &lt;=50K</td></tr><tr><th>3</th><td>90</td><td> Private</td><td>46786</td><td> Bachelors</td><td>13</td><td> Married-civ-spouse</td><td> Sales</td><td> Husband</td><td> White</td><td> Male</td><td>9386</td><td>0</td><td>15</td><td> United-States</td><td> &gt;50K</td></tr><tr><th>4</th><td>90</td><td> Private</td><td>47929</td><td> HS-grad</td><td>9</td><td> Married-civ-spouse</td><td> Machine-op-inspct</td><td> Husband</td><td> White</td><td> Male</td><td>0</td><td>0</td><td>40</td><td> United-States</td><td> &lt;=50K</td></tr><tr><th>5</th><td>90</td><td> Private</td><td>51744</td><td> HS-grad</td><td>9</td><td> Never-married</td><td> Other-service</td><td> Not-in-family</td><td> Black</td><td> Male</td><td>0</td><td>2206</td><td>40</td><td> United-States</td><td> &lt;=50K</td></tr><tr><th>6</th><td>90</td><td> Private</td><td>51744</td><td> Masters</td><td>14</td><td> Never-married</td><td> Exec-managerial</td><td> Not-in-family</td><td> Black</td><td> Male</td><td>0</td><td>0</td><td>50</td><td> United-States</td><td> &gt;50K</td></tr><tr><th>7</th><td>90</td><td> Private</td><td>52386</td><td> Some-college</td><td>10</td><td> Never-married</td><td> Other-service</td><td> Not-in-family</td><td> Asian-Pac-Islander</td><td> Male</td><td>0</td><td>0</td><td>35</td><td> United-States</td><td> &lt;=50K</td></tr><tr><th>8</th><td>90</td><td> Private</td><td>52386</td><td> Some-college</td><td>10</td><td> Never-married</td><td> Other-service</td><td> Not-in-family</td><td> Asian-Pac-Islander</td><td> Male</td><td>0</td><td>0</td><td>35</td><td> United-States</td><td> &lt;=50K</td></tr><tr><th>9</th><td>90</td><td> Private</td><td>52386</td><td> Bachelors</td><td>13</td><td> Never-married</td><td> Prof-specialty</td><td> Not-in-family</td><td> Asian-Pac-Islander</td><td> Male</td><td>0</td><td>0</td><td>40</td><td> United-States</td><td> &lt;=50K</td></tr><tr><th>10</th><td>90</td><td> ?</td><td>77053</td><td> HS-grad</td><td>9</td><td> Widowed</td><td> ?</td><td> Not-in-family</td><td> White</td><td> Female</td><td>0</td><td>4356</td><td>40</td><td> United-States</td><td> &lt;=50K</td></tr><tr><th>11</th><td>90</td><td> Self-emp-not-inc</td><td>82628</td><td> HS-grad</td><td>9</td><td> Never-married</td><td> Exec-managerial</td><td> Not-in-family</td><td> White</td><td> Male</td><td>2964</td><td>0</td><td>12</td><td> United-States</td><td> &lt;=50K</td></tr><tr><th>12</th><td>90</td><td> Private</td><td>84553</td><td> HS-grad</td><td>9</td><td> Married-civ-spouse</td><td> Machine-op-inspct</td><td> Husband</td><td> White</td><td> Male</td><td>0</td><td>0</td><td>40</td><td> United-States</td><td> &lt;=50K</td></tr><tr><th>13</th><td>90</td><td> Private</td><td>87285</td><td> HS-grad</td><td>9</td><td> Never-married</td><td> Other-service</td><td> Own-child</td><td> White</td><td> Female</td><td>0</td><td>0</td><td>24</td><td> United-States</td><td> &lt;=50K</td></tr><tr><th>14</th><td>90</td><td> Private</td><td>87372</td><td> Prof-school</td><td>15</td><td> Married-civ-spouse</td><td> Prof-specialty</td><td> Husband</td><td> White</td><td> Male</td><td>20051</td><td>0</td><td>72</td><td> United-States</td><td> &gt;50K</td></tr><tr><th>15</th><td>90</td><td> Private</td><td>88991</td><td> Bachelors</td><td>13</td><td> Married-civ-spouse</td><td> Exec-managerial</td><td> Wife</td><td> White</td><td> Female</td><td>0</td><td>0</td><td>40</td><td> England</td><td> &gt;50K</td></tr><tr><th>16</th><td>90</td><td> Private</td><td>90523</td><td> HS-grad</td><td>9</td><td> Widowed</td><td> Transport-moving</td><td> Unmarried</td><td> White</td><td> Male</td><td>0</td><td>0</td><td>99</td><td> United-States</td><td> &lt;=50K</td></tr><tr><th>17</th><td>90</td><td> Private</td><td>115306</td><td> Masters</td><td>14</td><td> Never-married</td><td> Exec-managerial</td><td> Own-child</td><td> White</td><td> Female</td><td>0</td><td>0</td><td>40</td><td> United-States</td><td> &lt;=50K</td></tr><tr><th>18</th><td>90</td><td> Private</td><td>137018</td><td> HS-grad</td><td>9</td><td> Never-married</td><td> Other-service</td><td> Not-in-family</td><td> White</td><td> Female</td><td>0</td><td>0</td><td>40</td><td> United-States</td><td> &lt;=50K</td></tr><tr><th>19</th><td>90</td><td> Private</td><td>139660</td><td> Some-college</td><td>10</td><td> Divorced</td><td> Sales</td><td> Unmarried</td><td> Black</td><td> Female</td><td>0</td><td>0</td><td>37</td><td> United-States</td><td> &lt;=50K</td></tr><tr><th>20</th><td>90</td><td> Private</td><td>141758</td><td> 9th</td><td>5</td><td> Never-married</td><td> Adm-clerical</td><td> Not-in-family</td><td> White</td><td> Female</td><td>0</td><td>0</td><td>40</td><td> United-States</td><td> &lt;=50K</td></tr><tr><th>21</th><td>90</td><td> Local-gov</td><td>153602</td><td> HS-grad</td><td>9</td><td> Married-civ-spouse</td><td> Other-service</td><td> Husband</td><td> White</td><td> Male</td><td>6767</td><td>0</td><td>40</td><td> United-States</td><td> &lt;=50K</td></tr><tr><th>22</th><td>90</td><td> Self-emp-not-inc</td><td>155981</td><td> Bachelors</td><td>13</td><td> Married-civ-spouse</td><td> Prof-specialty</td><td> Husband</td><td> White</td><td> Male</td><td>10566</td><td>0</td><td>50</td><td> United-States</td><td> &lt;=50K</td></tr><tr><th>23</th><td>90</td><td> ?</td><td>166343</td><td> 1st-4th</td><td>2</td><td> Widowed</td><td> ?</td><td> Not-in-family</td><td> Black</td><td> Female</td><td>0</td><td>0</td><td>40</td><td> United-States</td><td> &lt;=50K</td></tr><tr><th>24</th><td>90</td><td> Private</td><td>171956</td><td> Some-college</td><td>10</td><td> Separated</td><td> Adm-clerical</td><td> Own-child</td><td> White</td><td> Female</td><td>0</td><td>0</td><td>40</td><td> Puerto-Rico</td><td> &lt;=50K</td></tr><tr><th>25</th><td>90</td><td> ?</td><td>175444</td><td> 7th-8th</td><td>4</td><td> Separated</td><td> ?</td><td> Not-in-family</td><td> White</td><td> Female</td><td>0</td><td>0</td><td>15</td><td> United-States</td><td> &lt;=50K</td></tr><tr><th>26</th><td>90</td><td> Private</td><td>175491</td><td> HS-grad</td><td>9</td><td> Married-civ-spouse</td><td> Craft-repair</td><td> Husband</td><td> White</td><td> Male</td><td>9386</td><td>0</td><td>50</td><td> Ecuador</td><td> &gt;50K</td></tr><tr><th>27</th><td>90</td><td> Local-gov</td><td>187749</td><td> Assoc-acdm</td><td>12</td><td> Married-civ-spouse</td><td> Adm-clerical</td><td> Husband</td><td> Asian-Pac-Islander</td><td> Male</td><td>0</td><td>0</td><td>20</td><td> Philippines</td><td> &lt;=50K</td></tr><tr><th>28</th><td>90</td><td> Federal-gov</td><td>195433</td><td> HS-grad</td><td>9</td><td> Married-civ-spouse</td><td> Craft-repair</td><td> Husband</td><td> White</td><td> Male</td><td>0</td><td>0</td><td>30</td><td> United-States</td><td> &lt;=50K</td></tr><tr><th>29</th><td>90</td><td> Private</td><td>206667</td><td> Masters</td><td>14</td><td> Married-civ-spouse</td><td> Prof-specialty</td><td> Wife</td><td> White</td><td> Female</td><td>0</td><td>0</td><td>40</td><td> United-States</td><td> &gt;50K</td></tr><tr><th>30</th><td>90</td><td> Local-gov</td><td>214594</td><td> 7th-8th</td><td>4</td><td> Married-civ-spouse</td><td> Protective-serv</td><td> Husband</td><td> White</td><td> Male</td><td>2653</td><td>0</td><td>40</td><td> United-States</td><td> &lt;=50K</td></tr><tr><th>&vellip;</th><td>&vellip;</td><td>&vellip;</td><td>&vellip;</td><td>&vellip;</td><td>&vellip;</td><td>&vellip;</td><td>&vellip;</td><td>&vellip;</td><td>&vellip;</td><td>&vellip;</td><td>&vellip;</td><td>&vellip;</td><td>&vellip;</td><td>&vellip;</td><td>&vellip;</td></tr></tbody></table>"
      ],
      "text/latex": [
       "\\begin{tabular}{r|ccccccccccccccc}\n",
       "\t& age & workclass & fnlwgt & education & EducationNum & MaritalStatus & occupation & relationship & race & Gender & CapitalGain & CapitalLoss & HoursperWeek & NativeCountry & class\\\\\n",
       "\t\\hline\n",
       "\t& Int64⍰ & String⍰ & Int64⍰ & String⍰ & Int64⍰ & String⍰ & String⍰ & String⍰ & String⍰ & String⍰ & Int64⍰ & Int64⍰ & Int64⍰ & String⍰ & String⍰\\\\\n",
       "\t\\hline\n",
       "\t1 & 90 &  ? & 39824 &  HS-grad & 9 &  Widowed &  ? &  Not-in-family &  White &  Male & 401 & 0 & 4 &  United-States &  <=50K \\\\\n",
       "\t2 & 90 &  Private & 40388 &  Bachelors & 13 &  Never-married &  Exec-managerial &  Not-in-family &  White &  Male & 0 & 0 & 55 &  United-States &  <=50K \\\\\n",
       "\t3 & 90 &  Private & 46786 &  Bachelors & 13 &  Married-civ-spouse &  Sales &  Husband &  White &  Male & 9386 & 0 & 15 &  United-States &  >50K \\\\\n",
       "\t4 & 90 &  Private & 47929 &  HS-grad & 9 &  Married-civ-spouse &  Machine-op-inspct &  Husband &  White &  Male & 0 & 0 & 40 &  United-States &  <=50K \\\\\n",
       "\t5 & 90 &  Private & 51744 &  HS-grad & 9 &  Never-married &  Other-service &  Not-in-family &  Black &  Male & 0 & 2206 & 40 &  United-States &  <=50K \\\\\n",
       "\t6 & 90 &  Private & 51744 &  Masters & 14 &  Never-married &  Exec-managerial &  Not-in-family &  Black &  Male & 0 & 0 & 50 &  United-States &  >50K \\\\\n",
       "\t7 & 90 &  Private & 52386 &  Some-college & 10 &  Never-married &  Other-service &  Not-in-family &  Asian-Pac-Islander &  Male & 0 & 0 & 35 &  United-States &  <=50K \\\\\n",
       "\t8 & 90 &  Private & 52386 &  Some-college & 10 &  Never-married &  Other-service &  Not-in-family &  Asian-Pac-Islander &  Male & 0 & 0 & 35 &  United-States &  <=50K \\\\\n",
       "\t9 & 90 &  Private & 52386 &  Bachelors & 13 &  Never-married &  Prof-specialty &  Not-in-family &  Asian-Pac-Islander &  Male & 0 & 0 & 40 &  United-States &  <=50K \\\\\n",
       "\t10 & 90 &  ? & 77053 &  HS-grad & 9 &  Widowed &  ? &  Not-in-family &  White &  Female & 0 & 4356 & 40 &  United-States &  <=50K \\\\\n",
       "\t11 & 90 &  Self-emp-not-inc & 82628 &  HS-grad & 9 &  Never-married &  Exec-managerial &  Not-in-family &  White &  Male & 2964 & 0 & 12 &  United-States &  <=50K \\\\\n",
       "\t12 & 90 &  Private & 84553 &  HS-grad & 9 &  Married-civ-spouse &  Machine-op-inspct &  Husband &  White &  Male & 0 & 0 & 40 &  United-States &  <=50K \\\\\n",
       "\t13 & 90 &  Private & 87285 &  HS-grad & 9 &  Never-married &  Other-service &  Own-child &  White &  Female & 0 & 0 & 24 &  United-States &  <=50K \\\\\n",
       "\t14 & 90 &  Private & 87372 &  Prof-school & 15 &  Married-civ-spouse &  Prof-specialty &  Husband &  White &  Male & 20051 & 0 & 72 &  United-States &  >50K \\\\\n",
       "\t15 & 90 &  Private & 88991 &  Bachelors & 13 &  Married-civ-spouse &  Exec-managerial &  Wife &  White &  Female & 0 & 0 & 40 &  England &  >50K \\\\\n",
       "\t16 & 90 &  Private & 90523 &  HS-grad & 9 &  Widowed &  Transport-moving &  Unmarried &  White &  Male & 0 & 0 & 99 &  United-States &  <=50K \\\\\n",
       "\t17 & 90 &  Private & 115306 &  Masters & 14 &  Never-married &  Exec-managerial &  Own-child &  White &  Female & 0 & 0 & 40 &  United-States &  <=50K \\\\\n",
       "\t18 & 90 &  Private & 137018 &  HS-grad & 9 &  Never-married &  Other-service &  Not-in-family &  White &  Female & 0 & 0 & 40 &  United-States &  <=50K \\\\\n",
       "\t19 & 90 &  Private & 139660 &  Some-college & 10 &  Divorced &  Sales &  Unmarried &  Black &  Female & 0 & 0 & 37 &  United-States &  <=50K \\\\\n",
       "\t20 & 90 &  Private & 141758 &  9th & 5 &  Never-married &  Adm-clerical &  Not-in-family &  White &  Female & 0 & 0 & 40 &  United-States &  <=50K \\\\\n",
       "\t21 & 90 &  Local-gov & 153602 &  HS-grad & 9 &  Married-civ-spouse &  Other-service &  Husband &  White &  Male & 6767 & 0 & 40 &  United-States &  <=50K \\\\\n",
       "\t22 & 90 &  Self-emp-not-inc & 155981 &  Bachelors & 13 &  Married-civ-spouse &  Prof-specialty &  Husband &  White &  Male & 10566 & 0 & 50 &  United-States &  <=50K \\\\\n",
       "\t23 & 90 &  ? & 166343 &  1st-4th & 2 &  Widowed &  ? &  Not-in-family &  Black &  Female & 0 & 0 & 40 &  United-States &  <=50K \\\\\n",
       "\t24 & 90 &  Private & 171956 &  Some-college & 10 &  Separated &  Adm-clerical &  Own-child &  White &  Female & 0 & 0 & 40 &  Puerto-Rico &  <=50K \\\\\n",
       "\t25 & 90 &  ? & 175444 &  7th-8th & 4 &  Separated &  ? &  Not-in-family &  White &  Female & 0 & 0 & 15 &  United-States &  <=50K \\\\\n",
       "\t26 & 90 &  Private & 175491 &  HS-grad & 9 &  Married-civ-spouse &  Craft-repair &  Husband &  White &  Male & 9386 & 0 & 50 &  Ecuador &  >50K \\\\\n",
       "\t27 & 90 &  Local-gov & 187749 &  Assoc-acdm & 12 &  Married-civ-spouse &  Adm-clerical &  Husband &  Asian-Pac-Islander &  Male & 0 & 0 & 20 &  Philippines &  <=50K \\\\\n",
       "\t28 & 90 &  Federal-gov & 195433 &  HS-grad & 9 &  Married-civ-spouse &  Craft-repair &  Husband &  White &  Male & 0 & 0 & 30 &  United-States &  <=50K \\\\\n",
       "\t29 & 90 &  Private & 206667 &  Masters & 14 &  Married-civ-spouse &  Prof-specialty &  Wife &  White &  Female & 0 & 0 & 40 &  United-States &  >50K \\\\\n",
       "\t30 & 90 &  Local-gov & 214594 &  7th-8th & 4 &  Married-civ-spouse &  Protective-serv &  Husband &  White &  Male & 2653 & 0 & 40 &  United-States &  <=50K \\\\\n",
       "\t$\\dots$ & $\\dots$ & $\\dots$ & $\\dots$ & $\\dots$ & $\\dots$ & $\\dots$ & $\\dots$ & $\\dots$ & $\\dots$ & $\\dots$ & $\\dots$ & $\\dots$ & $\\dots$ & $\\dots$ & $\\dots$ \\\\\n",
       "\\end{tabular}\n"
      ],
      "text/plain": [
       "32561×15 DataFrame. Omitted printing of 10 columns\n",
       "│ Row   │ age    │ workclass     │ fnlwgt │ education     │ EducationNum │\n",
       "│       │ \u001b[90mInt64⍰\u001b[39m │ \u001b[90mString⍰\u001b[39m       │ \u001b[90mInt64⍰\u001b[39m │ \u001b[90mString⍰\u001b[39m       │ \u001b[90mInt64⍰\u001b[39m       │\n",
       "├───────┼────────┼───────────────┼────────┼───────────────┼──────────────┤\n",
       "│ 1     │ 90     │  ?            │ 39824  │  HS-grad      │ 9            │\n",
       "│ 2     │ 90     │  Private      │ 40388  │  Bachelors    │ 13           │\n",
       "│ 3     │ 90     │  Private      │ 46786  │  Bachelors    │ 13           │\n",
       "│ 4     │ 90     │  Private      │ 47929  │  HS-grad      │ 9            │\n",
       "│ 5     │ 90     │  Private      │ 51744  │  HS-grad      │ 9            │\n",
       "│ 6     │ 90     │  Private      │ 51744  │  Masters      │ 14           │\n",
       "│ 7     │ 90     │  Private      │ 52386  │  Some-college │ 10           │\n",
       "│ 8     │ 90     │  Private      │ 52386  │  Some-college │ 10           │\n",
       "│ 9     │ 90     │  Private      │ 52386  │  Bachelors    │ 13           │\n",
       "│ 10    │ 90     │  ?            │ 77053  │  HS-grad      │ 9            │\n",
       "⋮\n",
       "│ 32551 │ 17     │  ?            │ 406920 │  10th         │ 6            │\n",
       "│ 32552 │ 17     │  Private      │ 413557 │  11th         │ 7            │\n",
       "│ 32553 │ 17     │  Self-emp-inc │ 413557 │  9th          │ 5            │\n",
       "│ 32554 │ 17     │  Private      │ 438996 │  10th         │ 6            │\n",
       "│ 32555 │ 17     │  Private      │ 452406 │  11th         │ 7            │\n",
       "│ 32556 │ 17     │  ?            │ 454614 │  11th         │ 7            │\n",
       "│ 32557 │ 17     │  Private      │ 566049 │  10th         │ 6            │\n",
       "│ 32558 │ 17     │  ?            │ 634226 │  10th         │ 6            │\n",
       "│ 32559 │ 17     │  ?            │ 659273 │  11th         │ 7            │\n",
       "│ 32560 │ 17     │  Private      │ 721712 │  10th         │ 6            │\n",
       "│ 32561 │ 17     │  ?            │ 806316 │  11th         │ 7            │"
      ]
     },
     "execution_count": 43,
     "metadata": {},
     "output_type": "execute_result"
    }
   ],
   "source": [
    "sort(df, (:age, :fnlwgt), rev=(true, false)) # sort by age and then by :fnlwgt, age decreasing, fnlwgt increasing "
   ]
  },
  {
   "cell_type": "code",
   "execution_count": 44,
   "metadata": {},
   "outputs": [
    {
     "data": {
      "text/html": [
       "<table class=\"data-frame\"><thead><tr><th></th><th>age</th><th>workclass</th><th>fnlwgt</th><th>education</th><th>EducationNum</th><th>MaritalStatus</th><th>occupation</th><th>relationship</th><th>race</th><th>Gender</th><th>CapitalGain</th><th>CapitalLoss</th><th>HoursperWeek</th><th>NativeCountry</th><th>class</th></tr><tr><th></th><th>Int64⍰</th><th>String⍰</th><th>Int64⍰</th><th>String⍰</th><th>Int64⍰</th><th>String⍰</th><th>String⍰</th><th>String⍰</th><th>String⍰</th><th>String⍰</th><th>Int64⍰</th><th>Int64⍰</th><th>Int64⍰</th><th>String⍰</th><th>String⍰</th></tr></thead><tbody><p>32,561 rows × 15 columns</p><tr><th>1</th><td>90</td><td> ?</td><td>39824</td><td> HS-grad</td><td>9</td><td> Widowed</td><td> ?</td><td> Not-in-family</td><td> White</td><td> Male</td><td>401</td><td>0</td><td>4</td><td> United-States</td><td> &lt;=50K</td></tr><tr><th>2</th><td>90</td><td> Private</td><td>40388</td><td> Bachelors</td><td>13</td><td> Never-married</td><td> Exec-managerial</td><td> Not-in-family</td><td> White</td><td> Male</td><td>0</td><td>0</td><td>55</td><td> United-States</td><td> &lt;=50K</td></tr><tr><th>3</th><td>90</td><td> Private</td><td>46786</td><td> Bachelors</td><td>13</td><td> Married-civ-spouse</td><td> Sales</td><td> Husband</td><td> White</td><td> Male</td><td>9386</td><td>0</td><td>15</td><td> United-States</td><td> &gt;50K</td></tr><tr><th>4</th><td>90</td><td> Private</td><td>47929</td><td> HS-grad</td><td>9</td><td> Married-civ-spouse</td><td> Machine-op-inspct</td><td> Husband</td><td> White</td><td> Male</td><td>0</td><td>0</td><td>40</td><td> United-States</td><td> &lt;=50K</td></tr><tr><th>5</th><td>90</td><td> Private</td><td>51744</td><td> HS-grad</td><td>9</td><td> Never-married</td><td> Other-service</td><td> Not-in-family</td><td> Black</td><td> Male</td><td>0</td><td>2206</td><td>40</td><td> United-States</td><td> &lt;=50K</td></tr><tr><th>6</th><td>90</td><td> Private</td><td>51744</td><td> Masters</td><td>14</td><td> Never-married</td><td> Exec-managerial</td><td> Not-in-family</td><td> Black</td><td> Male</td><td>0</td><td>0</td><td>50</td><td> United-States</td><td> &gt;50K</td></tr><tr><th>7</th><td>90</td><td> Private</td><td>52386</td><td> Some-college</td><td>10</td><td> Never-married</td><td> Other-service</td><td> Not-in-family</td><td> Asian-Pac-Islander</td><td> Male</td><td>0</td><td>0</td><td>35</td><td> United-States</td><td> &lt;=50K</td></tr><tr><th>8</th><td>90</td><td> Private</td><td>52386</td><td> Some-college</td><td>10</td><td> Never-married</td><td> Other-service</td><td> Not-in-family</td><td> Asian-Pac-Islander</td><td> Male</td><td>0</td><td>0</td><td>35</td><td> United-States</td><td> &lt;=50K</td></tr><tr><th>9</th><td>90</td><td> Private</td><td>52386</td><td> Bachelors</td><td>13</td><td> Never-married</td><td> Prof-specialty</td><td> Not-in-family</td><td> Asian-Pac-Islander</td><td> Male</td><td>0</td><td>0</td><td>40</td><td> United-States</td><td> &lt;=50K</td></tr><tr><th>10</th><td>90</td><td> ?</td><td>77053</td><td> HS-grad</td><td>9</td><td> Widowed</td><td> ?</td><td> Not-in-family</td><td> White</td><td> Female</td><td>0</td><td>4356</td><td>40</td><td> United-States</td><td> &lt;=50K</td></tr><tr><th>11</th><td>90</td><td> Self-emp-not-inc</td><td>82628</td><td> HS-grad</td><td>9</td><td> Never-married</td><td> Exec-managerial</td><td> Not-in-family</td><td> White</td><td> Male</td><td>2964</td><td>0</td><td>12</td><td> United-States</td><td> &lt;=50K</td></tr><tr><th>12</th><td>90</td><td> Private</td><td>84553</td><td> HS-grad</td><td>9</td><td> Married-civ-spouse</td><td> Machine-op-inspct</td><td> Husband</td><td> White</td><td> Male</td><td>0</td><td>0</td><td>40</td><td> United-States</td><td> &lt;=50K</td></tr><tr><th>13</th><td>90</td><td> Private</td><td>87285</td><td> HS-grad</td><td>9</td><td> Never-married</td><td> Other-service</td><td> Own-child</td><td> White</td><td> Female</td><td>0</td><td>0</td><td>24</td><td> United-States</td><td> &lt;=50K</td></tr><tr><th>14</th><td>90</td><td> Private</td><td>87372</td><td> Prof-school</td><td>15</td><td> Married-civ-spouse</td><td> Prof-specialty</td><td> Husband</td><td> White</td><td> Male</td><td>20051</td><td>0</td><td>72</td><td> United-States</td><td> &gt;50K</td></tr><tr><th>15</th><td>90</td><td> Private</td><td>88991</td><td> Bachelors</td><td>13</td><td> Married-civ-spouse</td><td> Exec-managerial</td><td> Wife</td><td> White</td><td> Female</td><td>0</td><td>0</td><td>40</td><td> England</td><td> &gt;50K</td></tr><tr><th>16</th><td>90</td><td> Private</td><td>90523</td><td> HS-grad</td><td>9</td><td> Widowed</td><td> Transport-moving</td><td> Unmarried</td><td> White</td><td> Male</td><td>0</td><td>0</td><td>99</td><td> United-States</td><td> &lt;=50K</td></tr><tr><th>17</th><td>90</td><td> Private</td><td>115306</td><td> Masters</td><td>14</td><td> Never-married</td><td> Exec-managerial</td><td> Own-child</td><td> White</td><td> Female</td><td>0</td><td>0</td><td>40</td><td> United-States</td><td> &lt;=50K</td></tr><tr><th>18</th><td>90</td><td> Private</td><td>137018</td><td> HS-grad</td><td>9</td><td> Never-married</td><td> Other-service</td><td> Not-in-family</td><td> White</td><td> Female</td><td>0</td><td>0</td><td>40</td><td> United-States</td><td> &lt;=50K</td></tr><tr><th>19</th><td>90</td><td> Private</td><td>139660</td><td> Some-college</td><td>10</td><td> Divorced</td><td> Sales</td><td> Unmarried</td><td> Black</td><td> Female</td><td>0</td><td>0</td><td>37</td><td> United-States</td><td> &lt;=50K</td></tr><tr><th>20</th><td>90</td><td> Private</td><td>141758</td><td> 9th</td><td>5</td><td> Never-married</td><td> Adm-clerical</td><td> Not-in-family</td><td> White</td><td> Female</td><td>0</td><td>0</td><td>40</td><td> United-States</td><td> &lt;=50K</td></tr><tr><th>21</th><td>90</td><td> Local-gov</td><td>153602</td><td> HS-grad</td><td>9</td><td> Married-civ-spouse</td><td> Other-service</td><td> Husband</td><td> White</td><td> Male</td><td>6767</td><td>0</td><td>40</td><td> United-States</td><td> &lt;=50K</td></tr><tr><th>22</th><td>90</td><td> Self-emp-not-inc</td><td>155981</td><td> Bachelors</td><td>13</td><td> Married-civ-spouse</td><td> Prof-specialty</td><td> Husband</td><td> White</td><td> Male</td><td>10566</td><td>0</td><td>50</td><td> United-States</td><td> &lt;=50K</td></tr><tr><th>23</th><td>90</td><td> ?</td><td>166343</td><td> 1st-4th</td><td>2</td><td> Widowed</td><td> ?</td><td> Not-in-family</td><td> Black</td><td> Female</td><td>0</td><td>0</td><td>40</td><td> United-States</td><td> &lt;=50K</td></tr><tr><th>24</th><td>90</td><td> Private</td><td>171956</td><td> Some-college</td><td>10</td><td> Separated</td><td> Adm-clerical</td><td> Own-child</td><td> White</td><td> Female</td><td>0</td><td>0</td><td>40</td><td> Puerto-Rico</td><td> &lt;=50K</td></tr><tr><th>25</th><td>90</td><td> ?</td><td>175444</td><td> 7th-8th</td><td>4</td><td> Separated</td><td> ?</td><td> Not-in-family</td><td> White</td><td> Female</td><td>0</td><td>0</td><td>15</td><td> United-States</td><td> &lt;=50K</td></tr><tr><th>26</th><td>90</td><td> Private</td><td>175491</td><td> HS-grad</td><td>9</td><td> Married-civ-spouse</td><td> Craft-repair</td><td> Husband</td><td> White</td><td> Male</td><td>9386</td><td>0</td><td>50</td><td> Ecuador</td><td> &gt;50K</td></tr><tr><th>27</th><td>90</td><td> Local-gov</td><td>187749</td><td> Assoc-acdm</td><td>12</td><td> Married-civ-spouse</td><td> Adm-clerical</td><td> Husband</td><td> Asian-Pac-Islander</td><td> Male</td><td>0</td><td>0</td><td>20</td><td> Philippines</td><td> &lt;=50K</td></tr><tr><th>28</th><td>90</td><td> Federal-gov</td><td>195433</td><td> HS-grad</td><td>9</td><td> Married-civ-spouse</td><td> Craft-repair</td><td> Husband</td><td> White</td><td> Male</td><td>0</td><td>0</td><td>30</td><td> United-States</td><td> &lt;=50K</td></tr><tr><th>29</th><td>90</td><td> Private</td><td>206667</td><td> Masters</td><td>14</td><td> Married-civ-spouse</td><td> Prof-specialty</td><td> Wife</td><td> White</td><td> Female</td><td>0</td><td>0</td><td>40</td><td> United-States</td><td> &gt;50K</td></tr><tr><th>30</th><td>90</td><td> Local-gov</td><td>214594</td><td> 7th-8th</td><td>4</td><td> Married-civ-spouse</td><td> Protective-serv</td><td> Husband</td><td> White</td><td> Male</td><td>2653</td><td>0</td><td>40</td><td> United-States</td><td> &lt;=50K</td></tr><tr><th>&vellip;</th><td>&vellip;</td><td>&vellip;</td><td>&vellip;</td><td>&vellip;</td><td>&vellip;</td><td>&vellip;</td><td>&vellip;</td><td>&vellip;</td><td>&vellip;</td><td>&vellip;</td><td>&vellip;</td><td>&vellip;</td><td>&vellip;</td><td>&vellip;</td><td>&vellip;</td></tr></tbody></table>"
      ],
      "text/latex": [
       "\\begin{tabular}{r|ccccccccccccccc}\n",
       "\t& age & workclass & fnlwgt & education & EducationNum & MaritalStatus & occupation & relationship & race & Gender & CapitalGain & CapitalLoss & HoursperWeek & NativeCountry & class\\\\\n",
       "\t\\hline\n",
       "\t& Int64⍰ & String⍰ & Int64⍰ & String⍰ & Int64⍰ & String⍰ & String⍰ & String⍰ & String⍰ & String⍰ & Int64⍰ & Int64⍰ & Int64⍰ & String⍰ & String⍰\\\\\n",
       "\t\\hline\n",
       "\t1 & 90 &  ? & 39824 &  HS-grad & 9 &  Widowed &  ? &  Not-in-family &  White &  Male & 401 & 0 & 4 &  United-States &  <=50K \\\\\n",
       "\t2 & 90 &  Private & 40388 &  Bachelors & 13 &  Never-married &  Exec-managerial &  Not-in-family &  White &  Male & 0 & 0 & 55 &  United-States &  <=50K \\\\\n",
       "\t3 & 90 &  Private & 46786 &  Bachelors & 13 &  Married-civ-spouse &  Sales &  Husband &  White &  Male & 9386 & 0 & 15 &  United-States &  >50K \\\\\n",
       "\t4 & 90 &  Private & 47929 &  HS-grad & 9 &  Married-civ-spouse &  Machine-op-inspct &  Husband &  White &  Male & 0 & 0 & 40 &  United-States &  <=50K \\\\\n",
       "\t5 & 90 &  Private & 51744 &  HS-grad & 9 &  Never-married &  Other-service &  Not-in-family &  Black &  Male & 0 & 2206 & 40 &  United-States &  <=50K \\\\\n",
       "\t6 & 90 &  Private & 51744 &  Masters & 14 &  Never-married &  Exec-managerial &  Not-in-family &  Black &  Male & 0 & 0 & 50 &  United-States &  >50K \\\\\n",
       "\t7 & 90 &  Private & 52386 &  Some-college & 10 &  Never-married &  Other-service &  Not-in-family &  Asian-Pac-Islander &  Male & 0 & 0 & 35 &  United-States &  <=50K \\\\\n",
       "\t8 & 90 &  Private & 52386 &  Some-college & 10 &  Never-married &  Other-service &  Not-in-family &  Asian-Pac-Islander &  Male & 0 & 0 & 35 &  United-States &  <=50K \\\\\n",
       "\t9 & 90 &  Private & 52386 &  Bachelors & 13 &  Never-married &  Prof-specialty &  Not-in-family &  Asian-Pac-Islander &  Male & 0 & 0 & 40 &  United-States &  <=50K \\\\\n",
       "\t10 & 90 &  ? & 77053 &  HS-grad & 9 &  Widowed &  ? &  Not-in-family &  White &  Female & 0 & 4356 & 40 &  United-States &  <=50K \\\\\n",
       "\t11 & 90 &  Self-emp-not-inc & 82628 &  HS-grad & 9 &  Never-married &  Exec-managerial &  Not-in-family &  White &  Male & 2964 & 0 & 12 &  United-States &  <=50K \\\\\n",
       "\t12 & 90 &  Private & 84553 &  HS-grad & 9 &  Married-civ-spouse &  Machine-op-inspct &  Husband &  White &  Male & 0 & 0 & 40 &  United-States &  <=50K \\\\\n",
       "\t13 & 90 &  Private & 87285 &  HS-grad & 9 &  Never-married &  Other-service &  Own-child &  White &  Female & 0 & 0 & 24 &  United-States &  <=50K \\\\\n",
       "\t14 & 90 &  Private & 87372 &  Prof-school & 15 &  Married-civ-spouse &  Prof-specialty &  Husband &  White &  Male & 20051 & 0 & 72 &  United-States &  >50K \\\\\n",
       "\t15 & 90 &  Private & 88991 &  Bachelors & 13 &  Married-civ-spouse &  Exec-managerial &  Wife &  White &  Female & 0 & 0 & 40 &  England &  >50K \\\\\n",
       "\t16 & 90 &  Private & 90523 &  HS-grad & 9 &  Widowed &  Transport-moving &  Unmarried &  White &  Male & 0 & 0 & 99 &  United-States &  <=50K \\\\\n",
       "\t17 & 90 &  Private & 115306 &  Masters & 14 &  Never-married &  Exec-managerial &  Own-child &  White &  Female & 0 & 0 & 40 &  United-States &  <=50K \\\\\n",
       "\t18 & 90 &  Private & 137018 &  HS-grad & 9 &  Never-married &  Other-service &  Not-in-family &  White &  Female & 0 & 0 & 40 &  United-States &  <=50K \\\\\n",
       "\t19 & 90 &  Private & 139660 &  Some-college & 10 &  Divorced &  Sales &  Unmarried &  Black &  Female & 0 & 0 & 37 &  United-States &  <=50K \\\\\n",
       "\t20 & 90 &  Private & 141758 &  9th & 5 &  Never-married &  Adm-clerical &  Not-in-family &  White &  Female & 0 & 0 & 40 &  United-States &  <=50K \\\\\n",
       "\t21 & 90 &  Local-gov & 153602 &  HS-grad & 9 &  Married-civ-spouse &  Other-service &  Husband &  White &  Male & 6767 & 0 & 40 &  United-States &  <=50K \\\\\n",
       "\t22 & 90 &  Self-emp-not-inc & 155981 &  Bachelors & 13 &  Married-civ-spouse &  Prof-specialty &  Husband &  White &  Male & 10566 & 0 & 50 &  United-States &  <=50K \\\\\n",
       "\t23 & 90 &  ? & 166343 &  1st-4th & 2 &  Widowed &  ? &  Not-in-family &  Black &  Female & 0 & 0 & 40 &  United-States &  <=50K \\\\\n",
       "\t24 & 90 &  Private & 171956 &  Some-college & 10 &  Separated &  Adm-clerical &  Own-child &  White &  Female & 0 & 0 & 40 &  Puerto-Rico &  <=50K \\\\\n",
       "\t25 & 90 &  ? & 175444 &  7th-8th & 4 &  Separated &  ? &  Not-in-family &  White &  Female & 0 & 0 & 15 &  United-States &  <=50K \\\\\n",
       "\t26 & 90 &  Private & 175491 &  HS-grad & 9 &  Married-civ-spouse &  Craft-repair &  Husband &  White &  Male & 9386 & 0 & 50 &  Ecuador &  >50K \\\\\n",
       "\t27 & 90 &  Local-gov & 187749 &  Assoc-acdm & 12 &  Married-civ-spouse &  Adm-clerical &  Husband &  Asian-Pac-Islander &  Male & 0 & 0 & 20 &  Philippines &  <=50K \\\\\n",
       "\t28 & 90 &  Federal-gov & 195433 &  HS-grad & 9 &  Married-civ-spouse &  Craft-repair &  Husband &  White &  Male & 0 & 0 & 30 &  United-States &  <=50K \\\\\n",
       "\t29 & 90 &  Private & 206667 &  Masters & 14 &  Married-civ-spouse &  Prof-specialty &  Wife &  White &  Female & 0 & 0 & 40 &  United-States &  >50K \\\\\n",
       "\t30 & 90 &  Local-gov & 214594 &  7th-8th & 4 &  Married-civ-spouse &  Protective-serv &  Husband &  White &  Male & 2653 & 0 & 40 &  United-States &  <=50K \\\\\n",
       "\t$\\dots$ & $\\dots$ & $\\dots$ & $\\dots$ & $\\dots$ & $\\dots$ & $\\dots$ & $\\dots$ & $\\dots$ & $\\dots$ & $\\dots$ & $\\dots$ & $\\dots$ & $\\dots$ & $\\dots$ & $\\dots$ \\\\\n",
       "\\end{tabular}\n"
      ],
      "text/plain": [
       "32561×15 DataFrame. Omitted printing of 10 columns\n",
       "│ Row   │ age    │ workclass     │ fnlwgt │ education     │ EducationNum │\n",
       "│       │ \u001b[90mInt64⍰\u001b[39m │ \u001b[90mString⍰\u001b[39m       │ \u001b[90mInt64⍰\u001b[39m │ \u001b[90mString⍰\u001b[39m       │ \u001b[90mInt64⍰\u001b[39m       │\n",
       "├───────┼────────┼───────────────┼────────┼───────────────┼──────────────┤\n",
       "│ 1     │ 90     │  ?            │ 39824  │  HS-grad      │ 9            │\n",
       "│ 2     │ 90     │  Private      │ 40388  │  Bachelors    │ 13           │\n",
       "│ 3     │ 90     │  Private      │ 46786  │  Bachelors    │ 13           │\n",
       "│ 4     │ 90     │  Private      │ 47929  │  HS-grad      │ 9            │\n",
       "│ 5     │ 90     │  Private      │ 51744  │  HS-grad      │ 9            │\n",
       "│ 6     │ 90     │  Private      │ 51744  │  Masters      │ 14           │\n",
       "│ 7     │ 90     │  Private      │ 52386  │  Some-college │ 10           │\n",
       "│ 8     │ 90     │  Private      │ 52386  │  Some-college │ 10           │\n",
       "│ 9     │ 90     │  Private      │ 52386  │  Bachelors    │ 13           │\n",
       "│ 10    │ 90     │  ?            │ 77053  │  HS-grad      │ 9            │\n",
       "⋮\n",
       "│ 32551 │ 17     │  ?            │ 406920 │  10th         │ 6            │\n",
       "│ 32552 │ 17     │  Private      │ 413557 │  11th         │ 7            │\n",
       "│ 32553 │ 17     │  Self-emp-inc │ 413557 │  9th          │ 5            │\n",
       "│ 32554 │ 17     │  Private      │ 438996 │  10th         │ 6            │\n",
       "│ 32555 │ 17     │  Private      │ 452406 │  11th         │ 7            │\n",
       "│ 32556 │ 17     │  ?            │ 454614 │  11th         │ 7            │\n",
       "│ 32557 │ 17     │  Private      │ 566049 │  10th         │ 6            │\n",
       "│ 32558 │ 17     │  ?            │ 634226 │  10th         │ 6            │\n",
       "│ 32559 │ 17     │  ?            │ 659273 │  11th         │ 7            │\n",
       "│ 32560 │ 17     │  Private      │ 721712 │  10th         │ 6            │\n",
       "│ 32561 │ 17     │  ?            │ 806316 │  11th         │ 7            │"
      ]
     },
     "execution_count": 44,
     "metadata": {},
     "output_type": "execute_result"
    }
   ],
   "source": [
    "sort(df, (order(:age, rev=true), :fnlwgt)) # the same as above"
   ]
  },
  {
   "cell_type": "code",
   "execution_count": 45,
   "metadata": {},
   "outputs": [
    {
     "data": {
      "text/html": [
       "<table class=\"data-frame\"><thead><tr><th></th><th>age</th><th>workclass</th><th>fnlwgt</th><th>education</th><th>EducationNum</th><th>MaritalStatus</th><th>occupation</th><th>relationship</th><th>race</th><th>Gender</th><th>CapitalGain</th><th>CapitalLoss</th><th>HoursperWeek</th><th>NativeCountry</th><th>class</th></tr><tr><th></th><th>Int64⍰</th><th>String⍰</th><th>Int64⍰</th><th>String⍰</th><th>Int64⍰</th><th>String⍰</th><th>String⍰</th><th>String⍰</th><th>String⍰</th><th>String⍰</th><th>Int64⍰</th><th>Int64⍰</th><th>Int64⍰</th><th>String⍰</th><th>String⍰</th></tr></thead><tbody><p>10 rows × 15 columns</p><tr><th>1</th><td>31</td><td> Private</td><td>45781</td><td> Masters</td><td>14</td><td> Never-married</td><td> Prof-specialty</td><td> Not-in-family</td><td> White</td><td> Female</td><td>14084</td><td>0</td><td>50</td><td> United-States</td><td> &gt;50K</td></tr><tr><th>2</th><td>53</td><td> Private</td><td>234721</td><td> 11th</td><td>7</td><td> Married-civ-spouse</td><td> Handlers-cleaners</td><td> Husband</td><td> Black</td><td> Male</td><td>0</td><td>0</td><td>40</td><td> United-States</td><td> &lt;=50K</td></tr><tr><th>3</th><td>49</td><td> Private</td><td>160187</td><td> 9th</td><td>5</td><td> Married-spouse-absent</td><td> Other-service</td><td> Not-in-family</td><td> Black</td><td> Female</td><td>0</td><td>0</td><td>16</td><td> Jamaica</td><td> &lt;=50K</td></tr><tr><th>4</th><td>28</td><td> Private</td><td>338409</td><td> Bachelors</td><td>13</td><td> Married-civ-spouse</td><td> Prof-specialty</td><td> Wife</td><td> Black</td><td> Female</td><td>0</td><td>0</td><td>40</td><td> Cuba</td><td> &lt;=50K</td></tr><tr><th>5</th><td>52</td><td> Self-emp-not-inc</td><td>209642</td><td> HS-grad</td><td>9</td><td> Married-civ-spouse</td><td> Exec-managerial</td><td> Husband</td><td> White</td><td> Male</td><td>0</td><td>0</td><td>45</td><td> United-States</td><td> &gt;50K</td></tr><tr><th>6</th><td>39</td><td> State-gov</td><td>77516</td><td> Bachelors</td><td>13</td><td> Never-married</td><td> Adm-clerical</td><td> Not-in-family</td><td> White</td><td> Male</td><td>2174</td><td>0</td><td>40</td><td> United-States</td><td> &lt;=50K</td></tr><tr><th>7</th><td>42</td><td> Private</td><td>159449</td><td> Bachelors</td><td>13</td><td> Married-civ-spouse</td><td> Exec-managerial</td><td> Husband</td><td> White</td><td> Male</td><td>5178</td><td>0</td><td>40</td><td> United-States</td><td> &gt;50K</td></tr><tr><th>8</th><td>38</td><td> Private</td><td>215646</td><td> HS-grad</td><td>9</td><td> Divorced</td><td> Handlers-cleaners</td><td> Not-in-family</td><td> White</td><td> Male</td><td>0</td><td>0</td><td>40</td><td> United-States</td><td> &lt;=50K</td></tr><tr><th>9</th><td>50</td><td> Self-emp-not-inc</td><td>83311</td><td> Bachelors</td><td>13</td><td> Married-civ-spouse</td><td> Exec-managerial</td><td> Husband</td><td> White</td><td> Male</td><td>0</td><td>0</td><td>13</td><td> United-States</td><td> &lt;=50K</td></tr><tr><th>10</th><td>37</td><td> Private</td><td>284582</td><td> Masters</td><td>14</td><td> Married-civ-spouse</td><td> Exec-managerial</td><td> Wife</td><td> White</td><td> Female</td><td>0</td><td>0</td><td>40</td><td> United-States</td><td> &lt;=50K</td></tr></tbody></table>"
      ],
      "text/latex": [
       "\\begin{tabular}{r|ccccccccccccccc}\n",
       "\t& age & workclass & fnlwgt & education & EducationNum & MaritalStatus & occupation & relationship & race & Gender & CapitalGain & CapitalLoss & HoursperWeek & NativeCountry & class\\\\\n",
       "\t\\hline\n",
       "\t& Int64⍰ & String⍰ & Int64⍰ & String⍰ & Int64⍰ & String⍰ & String⍰ & String⍰ & String⍰ & String⍰ & Int64⍰ & Int64⍰ & Int64⍰ & String⍰ & String⍰\\\\\n",
       "\t\\hline\n",
       "\t1 & 31 &  Private & 45781 &  Masters & 14 &  Never-married &  Prof-specialty &  Not-in-family &  White &  Female & 14084 & 0 & 50 &  United-States &  >50K \\\\\n",
       "\t2 & 53 &  Private & 234721 &  11th & 7 &  Married-civ-spouse &  Handlers-cleaners &  Husband &  Black &  Male & 0 & 0 & 40 &  United-States &  <=50K \\\\\n",
       "\t3 & 49 &  Private & 160187 &  9th & 5 &  Married-spouse-absent &  Other-service &  Not-in-family &  Black &  Female & 0 & 0 & 16 &  Jamaica &  <=50K \\\\\n",
       "\t4 & 28 &  Private & 338409 &  Bachelors & 13 &  Married-civ-spouse &  Prof-specialty &  Wife &  Black &  Female & 0 & 0 & 40 &  Cuba &  <=50K \\\\\n",
       "\t5 & 52 &  Self-emp-not-inc & 209642 &  HS-grad & 9 &  Married-civ-spouse &  Exec-managerial &  Husband &  White &  Male & 0 & 0 & 45 &  United-States &  >50K \\\\\n",
       "\t6 & 39 &  State-gov & 77516 &  Bachelors & 13 &  Never-married &  Adm-clerical &  Not-in-family &  White &  Male & 2174 & 0 & 40 &  United-States &  <=50K \\\\\n",
       "\t7 & 42 &  Private & 159449 &  Bachelors & 13 &  Married-civ-spouse &  Exec-managerial &  Husband &  White &  Male & 5178 & 0 & 40 &  United-States &  >50K \\\\\n",
       "\t8 & 38 &  Private & 215646 &  HS-grad & 9 &  Divorced &  Handlers-cleaners &  Not-in-family &  White &  Male & 0 & 0 & 40 &  United-States &  <=50K \\\\\n",
       "\t9 & 50 &  Self-emp-not-inc & 83311 &  Bachelors & 13 &  Married-civ-spouse &  Exec-managerial &  Husband &  White &  Male & 0 & 0 & 13 &  United-States &  <=50K \\\\\n",
       "\t10 & 37 &  Private & 284582 &  Masters & 14 &  Married-civ-spouse &  Exec-managerial &  Wife &  White &  Female & 0 & 0 & 40 &  United-States &  <=50K \\\\\n",
       "\\end{tabular}\n"
      ],
      "text/plain": [
       "10×15 DataFrame. Omitted printing of 10 columns\n",
       "│ Row │ age    │ workclass         │ fnlwgt │ education  │ EducationNum │\n",
       "│     │ \u001b[90mInt64⍰\u001b[39m │ \u001b[90mString⍰\u001b[39m           │ \u001b[90mInt64⍰\u001b[39m │ \u001b[90mString⍰\u001b[39m    │ \u001b[90mInt64⍰\u001b[39m       │\n",
       "├─────┼────────┼───────────────────┼────────┼────────────┼──────────────┤\n",
       "│ 1   │ 31     │  Private          │ 45781  │  Masters   │ 14           │\n",
       "│ 2   │ 53     │  Private          │ 234721 │  11th      │ 7            │\n",
       "│ 3   │ 49     │  Private          │ 160187 │  9th       │ 5            │\n",
       "│ 4   │ 28     │  Private          │ 338409 │  Bachelors │ 13           │\n",
       "│ 5   │ 52     │  Self-emp-not-inc │ 209642 │  HS-grad   │ 9            │\n",
       "│ 6   │ 39     │  State-gov        │ 77516  │  Bachelors │ 13           │\n",
       "│ 7   │ 42     │  Private          │ 159449 │  Bachelors │ 13           │\n",
       "│ 8   │ 38     │  Private          │ 215646 │  HS-grad   │ 9            │\n",
       "│ 9   │ 50     │  Self-emp-not-inc │ 83311  │  Bachelors │ 13           │\n",
       "│ 10  │ 37     │  Private          │ 284582 │  Masters   │ 14           │"
      ]
     },
     "execution_count": 45,
     "metadata": {},
     "output_type": "execute_result"
    }
   ],
   "source": [
    "df[shuffle(1:10), :]  # n=num of rows, shuffles rows (using Random)"
   ]
  },
  {
   "cell_type": "markdown",
   "metadata": {},
   "source": [
    "Concatenation/Merging DataFrames & Adding/Deleting Columns/Rows"
   ]
  },
  {
   "cell_type": "code",
   "execution_count": 46,
   "metadata": {},
   "outputs": [
    {
     "data": {
      "text/html": [
       "<table class=\"data-frame\"><thead><tr><th></th><th>Id</th><th>Code</th><th>Grade</th></tr><tr><th></th><th>Int64</th><th>Char</th><th>Int64</th></tr></thead><tbody><p>5 rows × 3 columns</p><tr><th>1</th><td>1</td><td>'a'</td><td>100</td></tr><tr><th>2</th><td>2</td><td>'b'</td><td>90</td></tr><tr><th>3</th><td>3</td><td>'c'</td><td>80</td></tr><tr><th>4</th><td>4</td><td>'d'</td><td>70</td></tr><tr><th>5</th><td>5</td><td>'e'</td><td>60</td></tr></tbody></table>"
      ],
      "text/latex": [
       "\\begin{tabular}{r|ccc}\n",
       "\t& Id & Code & Grade\\\\\n",
       "\t\\hline\n",
       "\t& Int64 & Char & Int64\\\\\n",
       "\t\\hline\n",
       "\t1 & 1 & 'a' & 100 \\\\\n",
       "\t2 & 2 & 'b' & 90 \\\\\n",
       "\t3 & 3 & 'c' & 80 \\\\\n",
       "\t4 & 4 & 'd' & 70 \\\\\n",
       "\t5 & 5 & 'e' & 60 \\\\\n",
       "\\end{tabular}\n"
      ],
      "text/plain": [
       "5×3 DataFrame\n",
       "│ Row │ Id    │ Code │ Grade │\n",
       "│     │ \u001b[90mInt64\u001b[39m │ \u001b[90mChar\u001b[39m │ \u001b[90mInt64\u001b[39m │\n",
       "├─────┼───────┼──────┼───────┤\n",
       "│ 1   │ 1     │ 'a'  │ 100   │\n",
       "│ 2   │ 2     │ 'b'  │ 90    │\n",
       "│ 3   │ 3     │ 'c'  │ 80    │\n",
       "│ 4   │ 4     │ 'd'  │ 70    │\n",
       "│ 5   │ 5     │ 'e'  │ 60    │"
      ]
     },
     "execution_count": 46,
     "metadata": {},
     "output_type": "execute_result"
    }
   ],
   "source": [
    "df1 = DataFrame(Id=1:5, Code='a':'e', Grade=100:-10:60)"
   ]
  },
  {
   "cell_type": "code",
   "execution_count": 47,
   "metadata": {},
   "outputs": [
    {
     "data": {
      "text/html": [
       "<table class=\"data-frame\"><thead><tr><th></th><th>Letter</th><th>Result</th></tr><tr><th></th><th>Char</th><th>Bool</th></tr></thead><tbody><p>5 rows × 2 columns</p><tr><th>1</th><td>'A'</td><td>true</td></tr><tr><th>2</th><td>'B'</td><td>false</td></tr><tr><th>3</th><td>'C'</td><td>true</td></tr><tr><th>4</th><td>'D'</td><td>true</td></tr><tr><th>5</th><td>'E'</td><td>false</td></tr></tbody></table>"
      ],
      "text/latex": [
       "\\begin{tabular}{r|cc}\n",
       "\t& Letter & Result\\\\\n",
       "\t\\hline\n",
       "\t& Char & Bool\\\\\n",
       "\t\\hline\n",
       "\t1 & 'A' & true \\\\\n",
       "\t2 & 'B' & false \\\\\n",
       "\t3 & 'C' & true \\\\\n",
       "\t4 & 'D' & true \\\\\n",
       "\t5 & 'E' & false \\\\\n",
       "\\end{tabular}\n"
      ],
      "text/plain": [
       "5×2 DataFrame\n",
       "│ Row │ Letter │ Result │\n",
       "│     │ \u001b[90mChar\u001b[39m   │ \u001b[90mBool\u001b[39m   │\n",
       "├─────┼────────┼────────┤\n",
       "│ 1   │ 'A'    │ true   │\n",
       "│ 2   │ 'B'    │ false  │\n",
       "│ 3   │ 'C'    │ true   │\n",
       "│ 4   │ 'D'    │ true   │\n",
       "│ 5   │ 'E'    │ false  │"
      ]
     },
     "execution_count": 47,
     "metadata": {},
     "output_type": "execute_result"
    }
   ],
   "source": [
    "df2 = DataFrame(Letter=['A','B','C','D','E'], Result=[true,false,true,true,false])"
   ]
  },
  {
   "cell_type": "code",
   "execution_count": 48,
   "metadata": {},
   "outputs": [
    {
     "data": {
      "text/html": [
       "<table class=\"data-frame\"><thead><tr><th></th><th>Id</th><th>Code</th><th>Grade</th><th>Letter</th><th>Result</th></tr><tr><th></th><th>Int64</th><th>Char</th><th>Int64</th><th>Char</th><th>Bool</th></tr></thead><tbody><p>5 rows × 5 columns</p><tr><th>1</th><td>1</td><td>'a'</td><td>100</td><td>'A'</td><td>true</td></tr><tr><th>2</th><td>2</td><td>'b'</td><td>90</td><td>'B'</td><td>false</td></tr><tr><th>3</th><td>3</td><td>'c'</td><td>80</td><td>'C'</td><td>true</td></tr><tr><th>4</th><td>4</td><td>'d'</td><td>70</td><td>'D'</td><td>true</td></tr><tr><th>5</th><td>5</td><td>'e'</td><td>60</td><td>'E'</td><td>false</td></tr></tbody></table>"
      ],
      "text/latex": [
       "\\begin{tabular}{r|ccccc}\n",
       "\t& Id & Code & Grade & Letter & Result\\\\\n",
       "\t\\hline\n",
       "\t& Int64 & Char & Int64 & Char & Bool\\\\\n",
       "\t\\hline\n",
       "\t1 & 1 & 'a' & 100 & 'A' & true \\\\\n",
       "\t2 & 2 & 'b' & 90 & 'B' & false \\\\\n",
       "\t3 & 3 & 'c' & 80 & 'C' & true \\\\\n",
       "\t4 & 4 & 'd' & 70 & 'D' & true \\\\\n",
       "\t5 & 5 & 'e' & 60 & 'E' & false \\\\\n",
       "\\end{tabular}\n"
      ],
      "text/plain": [
       "5×5 DataFrame\n",
       "│ Row │ Id    │ Code │ Grade │ Letter │ Result │\n",
       "│     │ \u001b[90mInt64\u001b[39m │ \u001b[90mChar\u001b[39m │ \u001b[90mInt64\u001b[39m │ \u001b[90mChar\u001b[39m   │ \u001b[90mBool\u001b[39m   │\n",
       "├─────┼───────┼──────┼───────┼────────┼────────┤\n",
       "│ 1   │ 1     │ 'a'  │ 100   │ 'A'    │ true   │\n",
       "│ 2   │ 2     │ 'b'  │ 90    │ 'B'    │ false  │\n",
       "│ 3   │ 3     │ 'c'  │ 80    │ 'C'    │ true   │\n",
       "│ 4   │ 4     │ 'd'  │ 70    │ 'D'    │ true   │\n",
       "│ 5   │ 5     │ 'e'  │ 60    │ 'E'    │ false  │"
      ]
     },
     "execution_count": 48,
     "metadata": {},
     "output_type": "execute_result"
    }
   ],
   "source": [
    "hcat(df1, df2)   # horizontal concatenation, or [df1 df2]"
   ]
  },
  {
   "cell_type": "code",
   "execution_count": 49,
   "metadata": {},
   "outputs": [],
   "source": [
    "df3 = DataFrame(Letter=['A','B','C','D','E'], Result=[true,false,true,true,false]);"
   ]
  },
  {
   "cell_type": "code",
   "execution_count": 50,
   "metadata": {},
   "outputs": [
    {
     "ename": "ArgumentError",
     "evalue": "ArgumentError: Duplicate variable names: :Letter and :Result. Pass makeunique=true to make them unique using a suffix automatically.",
     "output_type": "error",
     "traceback": [
      "ArgumentError: Duplicate variable names: :Letter and :Result. Pass makeunique=true to make them unique using a suffix automatically.",
      "",
      "Stacktrace:",
      " [1] #add_names#15(::Bool, ::Function, ::DataFrames.Index, ::DataFrames.Index) at C:\\Users\\zormu\\.julia\\packages\\DataFrames\\lyCjP\\src\\other\\index.jl:195",
      " [2] #add_names at .\\none:0 [inlined]",
      " [3] #hcat!#74(::Bool, ::Function, ::DataFrame, ::DataFrame) at C:\\Users\\zormu\\.julia\\packages\\DataFrames\\lyCjP\\src\\dataframe\\dataframe.jl:858",
      " [4] (::getfield(DataFrames, Symbol(\"#kw##hcat!\")))(::NamedTuple{(:makeunique,),Tuple{Bool}}, ::typeof(DataFrames.hcat!), ::DataFrame, ::DataFrame) at .\\none:0",
      " [5] #hcat#84 at C:\\Users\\zormu\\.julia\\packages\\DataFrames\\lyCjP\\src\\dataframe\\dataframe.jl:867 [inlined]",
      " [6] hcat(::DataFrame, ::DataFrame, ::DataFrame) at C:\\Users\\zormu\\.julia\\packages\\DataFrames\\lyCjP\\src\\dataframe\\dataframe.jl:892",
      " [7] top-level scope at In[50]:1"
     ]
    }
   ],
   "source": [
    "hcat(df1, df2, df3)   # error, same column names result error"
   ]
  },
  {
   "cell_type": "code",
   "execution_count": 51,
   "metadata": {},
   "outputs": [
    {
     "data": {
      "text/html": [
       "<table class=\"data-frame\"><thead><tr><th></th><th>Id</th><th>Code</th><th>Grade</th><th>Letter</th><th>Result</th><th>Letter_1</th><th>Result_1</th></tr><tr><th></th><th>Int64</th><th>Char</th><th>Int64</th><th>Char</th><th>Bool</th><th>Char</th><th>Bool</th></tr></thead><tbody><p>5 rows × 7 columns</p><tr><th>1</th><td>1</td><td>'a'</td><td>100</td><td>'A'</td><td>true</td><td>'A'</td><td>true</td></tr><tr><th>2</th><td>2</td><td>'b'</td><td>90</td><td>'B'</td><td>false</td><td>'B'</td><td>false</td></tr><tr><th>3</th><td>3</td><td>'c'</td><td>80</td><td>'C'</td><td>true</td><td>'C'</td><td>true</td></tr><tr><th>4</th><td>4</td><td>'d'</td><td>70</td><td>'D'</td><td>true</td><td>'D'</td><td>true</td></tr><tr><th>5</th><td>5</td><td>'e'</td><td>60</td><td>'E'</td><td>false</td><td>'E'</td><td>false</td></tr></tbody></table>"
      ],
      "text/latex": [
       "\\begin{tabular}{r|ccccccc}\n",
       "\t& Id & Code & Grade & Letter & Result & Letter\\_1 & Result\\_1\\\\\n",
       "\t\\hline\n",
       "\t& Int64 & Char & Int64 & Char & Bool & Char & Bool\\\\\n",
       "\t\\hline\n",
       "\t1 & 1 & 'a' & 100 & 'A' & true & 'A' & true \\\\\n",
       "\t2 & 2 & 'b' & 90 & 'B' & false & 'B' & false \\\\\n",
       "\t3 & 3 & 'c' & 80 & 'C' & true & 'C' & true \\\\\n",
       "\t4 & 4 & 'd' & 70 & 'D' & true & 'D' & true \\\\\n",
       "\t5 & 5 & 'e' & 60 & 'E' & false & 'E' & false \\\\\n",
       "\\end{tabular}\n"
      ],
      "text/plain": [
       "5×7 DataFrame\n",
       "│ Row │ Id    │ Code │ Grade │ Letter │ Result │ Letter_1 │ Result_1 │\n",
       "│     │ \u001b[90mInt64\u001b[39m │ \u001b[90mChar\u001b[39m │ \u001b[90mInt64\u001b[39m │ \u001b[90mChar\u001b[39m   │ \u001b[90mBool\u001b[39m   │ \u001b[90mChar\u001b[39m     │ \u001b[90mBool\u001b[39m     │\n",
       "├─────┼───────┼──────┼───────┼────────┼────────┼──────────┼──────────┤\n",
       "│ 1   │ 1     │ 'a'  │ 100   │ 'A'    │ true   │ 'A'      │ true     │\n",
       "│ 2   │ 2     │ 'b'  │ 90    │ 'B'    │ false  │ 'B'      │ false    │\n",
       "│ 3   │ 3     │ 'c'  │ 80    │ 'C'    │ true   │ 'C'      │ true     │\n",
       "│ 4   │ 4     │ 'd'  │ 70    │ 'D'    │ true   │ 'D'      │ true     │\n",
       "│ 5   │ 5     │ 'e'  │ 60    │ 'E'    │ false  │ 'E'      │ false    │"
      ]
     },
     "execution_count": 51,
     "metadata": {},
     "output_type": "execute_result"
    }
   ],
   "source": [
    "hcat(df1, df2, df3, makeunique=true) "
   ]
  },
  {
   "cell_type": "code",
   "execution_count": 52,
   "metadata": {},
   "outputs": [
    {
     "ename": "ErrorException",
     "evalue": "syntax: \"$\" expression outside quote",
     "output_type": "error",
     "traceback": [
      "syntax: \"$\" expression outside quote",
      ""
     ]
    }
   ],
   "source": [
    "[ $df1[1:2] $df2[1:2] $df1[3] ] # insert df2 into df1 "
   ]
  },
  {
   "cell_type": "code",
   "execution_count": 53,
   "metadata": {},
   "outputs": [
    {
     "data": {
      "text/html": [
       "<table class=\"data-frame\"><thead><tr><th></th><th>Letter</th><th>newcol</th><th>Result</th></tr><tr><th></th><th>Char</th><th>Int64</th><th>Bool</th></tr></thead><tbody><p>5 rows × 3 columns</p><tr><th>1</th><td>'A'</td><td>10</td><td>true</td></tr><tr><th>2</th><td>'B'</td><td>20</td><td>false</td></tr><tr><th>3</th><td>'C'</td><td>30</td><td>true</td></tr><tr><th>4</th><td>'D'</td><td>40</td><td>true</td></tr><tr><th>5</th><td>'E'</td><td>50</td><td>false</td></tr></tbody></table>"
      ],
      "text/latex": [
       "\\begin{tabular}{r|ccc}\n",
       "\t& Letter & newcol & Result\\\\\n",
       "\t\\hline\n",
       "\t& Char & Int64 & Bool\\\\\n",
       "\t\\hline\n",
       "\t1 & 'A' & 10 & true \\\\\n",
       "\t2 & 'B' & 20 & false \\\\\n",
       "\t3 & 'C' & 30 & true \\\\\n",
       "\t4 & 'D' & 40 & true \\\\\n",
       "\t5 & 'E' & 50 & false \\\\\n",
       "\\end{tabular}\n"
      ],
      "text/plain": [
       "5×3 DataFrame\n",
       "│ Row │ Letter │ newcol │ Result │\n",
       "│     │ \u001b[90mChar\u001b[39m   │ \u001b[90mInt64\u001b[39m  │ \u001b[90mBool\u001b[39m   │\n",
       "├─────┼────────┼────────┼────────┤\n",
       "│ 1   │ 'A'    │ 10     │ true   │\n",
       "│ 2   │ 'B'    │ 20     │ false  │\n",
       "│ 3   │ 'C'    │ 30     │ true   │\n",
       "│ 4   │ 'D'    │ 40     │ true   │\n",
       "│ 5   │ 'E'    │ 50     │ false  │"
      ]
     },
     "execution_count": 53,
     "metadata": {},
     "output_type": "execute_result"
    }
   ],
   "source": [
    "insertcols!(df2, 2, newcol=[10,20,30,40,50], makeunique=true)  # insert array in second column in df2\n",
    "#insertcols!(df2, 2, :newcol=>[1,2,3], makeunique=true)        # same"
   ]
  },
  {
   "cell_type": "code",
   "execution_count": 54,
   "metadata": {},
   "outputs": [
    {
     "data": {
      "text/html": [
       "<table class=\"data-frame\"><thead><tr><th></th><th>Letter</th><th>newcol</th><th>Result</th><th>A</th></tr><tr><th></th><th>Char</th><th>Int64</th><th>Bool</th><th>Float64</th></tr></thead><tbody><p>5 rows × 4 columns</p><tr><th>1</th><td>'A'</td><td>10</td><td>true</td><td>0.701424</td></tr><tr><th>2</th><td>'B'</td><td>20</td><td>false</td><td>0.14296</td></tr><tr><th>3</th><td>'C'</td><td>30</td><td>true</td><td>0.64351</td></tr><tr><th>4</th><td>'D'</td><td>40</td><td>true</td><td>0.663145</td></tr><tr><th>5</th><td>'E'</td><td>50</td><td>false</td><td>0.374629</td></tr></tbody></table>"
      ],
      "text/latex": [
       "\\begin{tabular}{r|cccc}\n",
       "\t& Letter & newcol & Result & A\\\\\n",
       "\t\\hline\n",
       "\t& Char & Int64 & Bool & Float64\\\\\n",
       "\t\\hline\n",
       "\t1 & 'A' & 10 & true & 0.701424 \\\\\n",
       "\t2 & 'B' & 20 & false & 0.14296 \\\\\n",
       "\t3 & 'C' & 30 & true & 0.64351 \\\\\n",
       "\t4 & 'D' & 40 & true & 0.663145 \\\\\n",
       "\t5 & 'E' & 50 & false & 0.374629 \\\\\n",
       "\\end{tabular}\n"
      ],
      "text/plain": [
       "5×4 DataFrame\n",
       "│ Row │ Letter │ newcol │ Result │ A        │\n",
       "│     │ \u001b[90mChar\u001b[39m   │ \u001b[90mInt64\u001b[39m  │ \u001b[90mBool\u001b[39m   │ \u001b[90mFloat64\u001b[39m  │\n",
       "├─────┼────────┼────────┼────────┼──────────┤\n",
       "│ 1   │ 'A'    │ 10     │ true   │ 0.701424 │\n",
       "│ 2   │ 'B'    │ 20     │ false  │ 0.14296  │\n",
       "│ 3   │ 'C'    │ 30     │ true   │ 0.64351  │\n",
       "│ 4   │ 'D'    │ 40     │ true   │ 0.663145 │\n",
       "│ 5   │ 'E'    │ 50     │ false  │ 0.374629 │"
      ]
     },
     "execution_count": 54,
     "metadata": {},
     "output_type": "execute_result"
    }
   ],
   "source": [
    "insertcols!(df2, ncol(df2)+1, :A => rand(5) )   # append column "
   ]
  },
  {
   "cell_type": "code",
   "execution_count": 55,
   "metadata": {},
   "outputs": [
    {
     "data": {
      "text/html": [
       "<table class=\"data-frame\"><thead><tr><th></th><th>Id</th><th>Code</th><th>Grade</th></tr><tr><th></th><th>Int64</th><th>Char</th><th>Int64</th></tr></thead><tbody><p>5 rows × 3 columns</p><tr><th>1</th><td>6</td><td>'f'</td><td>50</td></tr><tr><th>2</th><td>7</td><td>'g'</td><td>40</td></tr><tr><th>3</th><td>8</td><td>'h'</td><td>30</td></tr><tr><th>4</th><td>9</td><td>'i'</td><td>20</td></tr><tr><th>5</th><td>10</td><td>'j'</td><td>10</td></tr></tbody></table>"
      ],
      "text/latex": [
       "\\begin{tabular}{r|ccc}\n",
       "\t& Id & Code & Grade\\\\\n",
       "\t\\hline\n",
       "\t& Int64 & Char & Int64\\\\\n",
       "\t\\hline\n",
       "\t1 & 6 & 'f' & 50 \\\\\n",
       "\t2 & 7 & 'g' & 40 \\\\\n",
       "\t3 & 8 & 'h' & 30 \\\\\n",
       "\t4 & 9 & 'i' & 20 \\\\\n",
       "\t5 & 10 & 'j' & 10 \\\\\n",
       "\\end{tabular}\n"
      ],
      "text/plain": [
       "5×3 DataFrame\n",
       "│ Row │ Id    │ Code │ Grade │\n",
       "│     │ \u001b[90mInt64\u001b[39m │ \u001b[90mChar\u001b[39m │ \u001b[90mInt64\u001b[39m │\n",
       "├─────┼───────┼──────┼───────┤\n",
       "│ 1   │ 6     │ 'f'  │ 50    │\n",
       "│ 2   │ 7     │ 'g'  │ 40    │\n",
       "│ 3   │ 8     │ 'h'  │ 30    │\n",
       "│ 4   │ 9     │ 'i'  │ 20    │\n",
       "│ 5   │ 10    │ 'j'  │ 10    │"
      ]
     },
     "execution_count": 55,
     "metadata": {},
     "output_type": "execute_result"
    }
   ],
   "source": [
    "df4 = DataFrame(Id=6:10, Code='f':'j', Grade=50:-10:10)"
   ]
  },
  {
   "cell_type": "code",
   "execution_count": 56,
   "metadata": {},
   "outputs": [
    {
     "data": {
      "text/html": [
       "<table class=\"data-frame\"><thead><tr><th></th><th>Id</th><th>Code</th><th>Grade</th></tr><tr><th></th><th>Int64</th><th>Char</th><th>Int64</th></tr></thead><tbody><p>10 rows × 3 columns</p><tr><th>1</th><td>1</td><td>'a'</td><td>100</td></tr><tr><th>2</th><td>2</td><td>'b'</td><td>90</td></tr><tr><th>3</th><td>3</td><td>'c'</td><td>80</td></tr><tr><th>4</th><td>4</td><td>'d'</td><td>70</td></tr><tr><th>5</th><td>5</td><td>'e'</td><td>60</td></tr><tr><th>6</th><td>6</td><td>'f'</td><td>50</td></tr><tr><th>7</th><td>7</td><td>'g'</td><td>40</td></tr><tr><th>8</th><td>8</td><td>'h'</td><td>30</td></tr><tr><th>9</th><td>9</td><td>'i'</td><td>20</td></tr><tr><th>10</th><td>10</td><td>'j'</td><td>10</td></tr></tbody></table>"
      ],
      "text/latex": [
       "\\begin{tabular}{r|ccc}\n",
       "\t& Id & Code & Grade\\\\\n",
       "\t\\hline\n",
       "\t& Int64 & Char & Int64\\\\\n",
       "\t\\hline\n",
       "\t1 & 1 & 'a' & 100 \\\\\n",
       "\t2 & 2 & 'b' & 90 \\\\\n",
       "\t3 & 3 & 'c' & 80 \\\\\n",
       "\t4 & 4 & 'd' & 70 \\\\\n",
       "\t5 & 5 & 'e' & 60 \\\\\n",
       "\t6 & 6 & 'f' & 50 \\\\\n",
       "\t7 & 7 & 'g' & 40 \\\\\n",
       "\t8 & 8 & 'h' & 30 \\\\\n",
       "\t9 & 9 & 'i' & 20 \\\\\n",
       "\t10 & 10 & 'j' & 10 \\\\\n",
       "\\end{tabular}\n"
      ],
      "text/plain": [
       "10×3 DataFrame\n",
       "│ Row │ Id    │ Code │ Grade │\n",
       "│     │ \u001b[90mInt64\u001b[39m │ \u001b[90mChar\u001b[39m │ \u001b[90mInt64\u001b[39m │\n",
       "├─────┼───────┼──────┼───────┤\n",
       "│ 1   │ 1     │ 'a'  │ 100   │\n",
       "│ 2   │ 2     │ 'b'  │ 90    │\n",
       "│ 3   │ 3     │ 'c'  │ 80    │\n",
       "│ 4   │ 4     │ 'd'  │ 70    │\n",
       "│ 5   │ 5     │ 'e'  │ 60    │\n",
       "│ 6   │ 6     │ 'f'  │ 50    │\n",
       "│ 7   │ 7     │ 'g'  │ 40    │\n",
       "│ 8   │ 8     │ 'h'  │ 30    │\n",
       "│ 9   │ 9     │ 'i'  │ 20    │\n",
       "│ 10  │ 10    │ 'j'  │ 10    │"
      ]
     },
     "execution_count": 56,
     "metadata": {},
     "output_type": "execute_result"
    }
   ],
   "source": [
    "vcat(df1, df4) # vertical concatenation, column names can be in different order "
   ]
  },
  {
   "cell_type": "code",
   "execution_count": 57,
   "metadata": {},
   "outputs": [
    {
     "data": {
      "text/html": [
       "<table class=\"data-frame\"><thead><tr><th></th><th>Id</th><th>Code</th><th>Grade</th></tr><tr><th></th><th>Int64</th><th>Char</th><th>Int64</th></tr></thead><tbody><p>10 rows × 3 columns</p><tr><th>1</th><td>1</td><td>'a'</td><td>100</td></tr><tr><th>2</th><td>2</td><td>'b'</td><td>90</td></tr><tr><th>3</th><td>3</td><td>'c'</td><td>80</td></tr><tr><th>4</th><td>4</td><td>'d'</td><td>70</td></tr><tr><th>5</th><td>5</td><td>'e'</td><td>60</td></tr><tr><th>6</th><td>6</td><td>'f'</td><td>50</td></tr><tr><th>7</th><td>7</td><td>'g'</td><td>40</td></tr><tr><th>8</th><td>8</td><td>'h'</td><td>30</td></tr><tr><th>9</th><td>9</td><td>'i'</td><td>20</td></tr><tr><th>10</th><td>10</td><td>'j'</td><td>10</td></tr></tbody></table>"
      ],
      "text/latex": [
       "\\begin{tabular}{r|ccc}\n",
       "\t& Id & Code & Grade\\\\\n",
       "\t\\hline\n",
       "\t& Int64 & Char & Int64\\\\\n",
       "\t\\hline\n",
       "\t1 & 1 & 'a' & 100 \\\\\n",
       "\t2 & 2 & 'b' & 90 \\\\\n",
       "\t3 & 3 & 'c' & 80 \\\\\n",
       "\t4 & 4 & 'd' & 70 \\\\\n",
       "\t5 & 5 & 'e' & 60 \\\\\n",
       "\t6 & 6 & 'f' & 50 \\\\\n",
       "\t7 & 7 & 'g' & 40 \\\\\n",
       "\t8 & 8 & 'h' & 30 \\\\\n",
       "\t9 & 9 & 'i' & 20 \\\\\n",
       "\t10 & 10 & 'j' & 10 \\\\\n",
       "\\end{tabular}\n"
      ],
      "text/plain": [
       "10×3 DataFrame\n",
       "│ Row │ Id    │ Code │ Grade │\n",
       "│     │ \u001b[90mInt64\u001b[39m │ \u001b[90mChar\u001b[39m │ \u001b[90mInt64\u001b[39m │\n",
       "├─────┼───────┼──────┼───────┤\n",
       "│ 1   │ 1     │ 'a'  │ 100   │\n",
       "│ 2   │ 2     │ 'b'  │ 90    │\n",
       "│ 3   │ 3     │ 'c'  │ 80    │\n",
       "│ 4   │ 4     │ 'd'  │ 70    │\n",
       "│ 5   │ 5     │ 'e'  │ 60    │\n",
       "│ 6   │ 6     │ 'f'  │ 50    │\n",
       "│ 7   │ 7     │ 'g'  │ 40    │\n",
       "│ 8   │ 8     │ 'h'  │ 30    │\n",
       "│ 9   │ 9     │ 'i'  │ 20    │\n",
       "│ 10  │ 10    │ 'j'  │ 10    │"
      ]
     },
     "execution_count": 57,
     "metadata": {},
     "output_type": "execute_result"
    }
   ],
   "source": [
    "[df1; df4] # # vertical concatenation, column names must be in same order"
   ]
  },
  {
   "cell_type": "code",
   "execution_count": 58,
   "metadata": {},
   "outputs": [
    {
     "data": {
      "text/html": [
       "<table class=\"data-frame\"><thead><tr><th></th><th>Id</th><th>Code</th><th>Grade</th></tr><tr><th></th><th>Int64</th><th>Char</th><th>Int64</th></tr></thead><tbody><p>10 rows × 3 columns</p><tr><th>1</th><td>1</td><td>'a'</td><td>100</td></tr><tr><th>2</th><td>2</td><td>'b'</td><td>90</td></tr><tr><th>3</th><td>3</td><td>'c'</td><td>80</td></tr><tr><th>4</th><td>4</td><td>'d'</td><td>70</td></tr><tr><th>5</th><td>5</td><td>'e'</td><td>60</td></tr><tr><th>6</th><td>6</td><td>'f'</td><td>50</td></tr><tr><th>7</th><td>7</td><td>'g'</td><td>40</td></tr><tr><th>8</th><td>8</td><td>'h'</td><td>30</td></tr><tr><th>9</th><td>9</td><td>'i'</td><td>20</td></tr><tr><th>10</th><td>10</td><td>'j'</td><td>10</td></tr></tbody></table>"
      ],
      "text/latex": [
       "\\begin{tabular}{r|ccc}\n",
       "\t& Id & Code & Grade\\\\\n",
       "\t\\hline\n",
       "\t& Int64 & Char & Int64\\\\\n",
       "\t\\hline\n",
       "\t1 & 1 & 'a' & 100 \\\\\n",
       "\t2 & 2 & 'b' & 90 \\\\\n",
       "\t3 & 3 & 'c' & 80 \\\\\n",
       "\t4 & 4 & 'd' & 70 \\\\\n",
       "\t5 & 5 & 'e' & 60 \\\\\n",
       "\t6 & 6 & 'f' & 50 \\\\\n",
       "\t7 & 7 & 'g' & 40 \\\\\n",
       "\t8 & 8 & 'h' & 30 \\\\\n",
       "\t9 & 9 & 'i' & 20 \\\\\n",
       "\t10 & 10 & 'j' & 10 \\\\\n",
       "\\end{tabular}\n"
      ],
      "text/plain": [
       "10×3 DataFrame\n",
       "│ Row │ Id    │ Code │ Grade │\n",
       "│     │ \u001b[90mInt64\u001b[39m │ \u001b[90mChar\u001b[39m │ \u001b[90mInt64\u001b[39m │\n",
       "├─────┼───────┼──────┼───────┤\n",
       "│ 1   │ 1     │ 'a'  │ 100   │\n",
       "│ 2   │ 2     │ 'b'  │ 90    │\n",
       "│ 3   │ 3     │ 'c'  │ 80    │\n",
       "│ 4   │ 4     │ 'd'  │ 70    │\n",
       "│ 5   │ 5     │ 'e'  │ 60    │\n",
       "│ 6   │ 6     │ 'f'  │ 50    │\n",
       "│ 7   │ 7     │ 'g'  │ 40    │\n",
       "│ 8   │ 8     │ 'h'  │ 30    │\n",
       "│ 9   │ 9     │ 'i'  │ 20    │\n",
       "│ 10  │ 10    │ 'j'  │ 10    │"
      ]
     },
     "execution_count": 58,
     "metadata": {},
     "output_type": "execute_result"
    }
   ],
   "source": [
    "append!(df1, df4)   # appends df4 to df1"
   ]
  },
  {
   "cell_type": "code",
   "execution_count": 59,
   "metadata": {},
   "outputs": [
    {
     "data": {
      "text/html": [
       "<table class=\"data-frame\"><thead><tr><th></th><th>Id</th><th>Code</th><th>Grade</th></tr><tr><th></th><th>Int64</th><th>Char</th><th>Int64</th></tr></thead><tbody><p>11 rows × 3 columns</p><tr><th>1</th><td>1</td><td>'a'</td><td>100</td></tr><tr><th>2</th><td>2</td><td>'b'</td><td>90</td></tr><tr><th>3</th><td>3</td><td>'c'</td><td>80</td></tr><tr><th>4</th><td>4</td><td>'d'</td><td>70</td></tr><tr><th>5</th><td>5</td><td>'e'</td><td>60</td></tr><tr><th>6</th><td>6</td><td>'f'</td><td>50</td></tr><tr><th>7</th><td>7</td><td>'g'</td><td>40</td></tr><tr><th>8</th><td>8</td><td>'h'</td><td>30</td></tr><tr><th>9</th><td>9</td><td>'i'</td><td>20</td></tr><tr><th>10</th><td>10</td><td>'j'</td><td>10</td></tr><tr><th>11</th><td>11</td><td>'k'</td><td>0</td></tr></tbody></table>"
      ],
      "text/latex": [
       "\\begin{tabular}{r|ccc}\n",
       "\t& Id & Code & Grade\\\\\n",
       "\t\\hline\n",
       "\t& Int64 & Char & Int64\\\\\n",
       "\t\\hline\n",
       "\t1 & 1 & 'a' & 100 \\\\\n",
       "\t2 & 2 & 'b' & 90 \\\\\n",
       "\t3 & 3 & 'c' & 80 \\\\\n",
       "\t4 & 4 & 'd' & 70 \\\\\n",
       "\t5 & 5 & 'e' & 60 \\\\\n",
       "\t6 & 6 & 'f' & 50 \\\\\n",
       "\t7 & 7 & 'g' & 40 \\\\\n",
       "\t8 & 8 & 'h' & 30 \\\\\n",
       "\t9 & 9 & 'i' & 20 \\\\\n",
       "\t10 & 10 & 'j' & 10 \\\\\n",
       "\t11 & 11 & 'k' & 0 \\\\\n",
       "\\end{tabular}\n"
      ],
      "text/plain": [
       "11×3 DataFrame\n",
       "│ Row │ Id    │ Code │ Grade │\n",
       "│     │ \u001b[90mInt64\u001b[39m │ \u001b[90mChar\u001b[39m │ \u001b[90mInt64\u001b[39m │\n",
       "├─────┼───────┼──────┼───────┤\n",
       "│ 1   │ 1     │ 'a'  │ 100   │\n",
       "│ 2   │ 2     │ 'b'  │ 90    │\n",
       "│ 3   │ 3     │ 'c'  │ 80    │\n",
       "│ 4   │ 4     │ 'd'  │ 70    │\n",
       "│ 5   │ 5     │ 'e'  │ 60    │\n",
       "│ 6   │ 6     │ 'f'  │ 50    │\n",
       "│ 7   │ 7     │ 'g'  │ 40    │\n",
       "│ 8   │ 8     │ 'h'  │ 30    │\n",
       "│ 9   │ 9     │ 'i'  │ 20    │\n",
       "│ 10  │ 10    │ 'j'  │ 10    │\n",
       "│ 11  │ 11    │ 'k'  │ 0     │"
      ]
     },
     "execution_count": 59,
     "metadata": {},
     "output_type": "execute_result"
    }
   ],
   "source": [
    "push!(df1, [11,'k',0])   # append matching array"
   ]
  },
  {
   "cell_type": "code",
   "execution_count": 60,
   "metadata": {},
   "outputs": [
    {
     "data": {
      "text/html": [
       "<table class=\"data-frame\"><thead><tr><th></th><th>Id</th><th>Code</th><th>Grade</th></tr><tr><th></th><th>Int64</th><th>Char</th><th>Int64</th></tr></thead><tbody><p>12 rows × 3 columns</p><tr><th>1</th><td>1</td><td>'a'</td><td>100</td></tr><tr><th>2</th><td>2</td><td>'b'</td><td>90</td></tr><tr><th>3</th><td>3</td><td>'c'</td><td>80</td></tr><tr><th>4</th><td>4</td><td>'d'</td><td>70</td></tr><tr><th>5</th><td>5</td><td>'e'</td><td>60</td></tr><tr><th>6</th><td>6</td><td>'f'</td><td>50</td></tr><tr><th>7</th><td>7</td><td>'g'</td><td>40</td></tr><tr><th>8</th><td>8</td><td>'h'</td><td>30</td></tr><tr><th>9</th><td>9</td><td>'i'</td><td>20</td></tr><tr><th>10</th><td>10</td><td>'j'</td><td>10</td></tr><tr><th>11</th><td>11</td><td>'k'</td><td>0</td></tr><tr><th>12</th><td>12</td><td>'m'</td><td>60</td></tr></tbody></table>"
      ],
      "text/latex": [
       "\\begin{tabular}{r|ccc}\n",
       "\t& Id & Code & Grade\\\\\n",
       "\t\\hline\n",
       "\t& Int64 & Char & Int64\\\\\n",
       "\t\\hline\n",
       "\t1 & 1 & 'a' & 100 \\\\\n",
       "\t2 & 2 & 'b' & 90 \\\\\n",
       "\t3 & 3 & 'c' & 80 \\\\\n",
       "\t4 & 4 & 'd' & 70 \\\\\n",
       "\t5 & 5 & 'e' & 60 \\\\\n",
       "\t6 & 6 & 'f' & 50 \\\\\n",
       "\t7 & 7 & 'g' & 40 \\\\\n",
       "\t8 & 8 & 'h' & 30 \\\\\n",
       "\t9 & 9 & 'i' & 20 \\\\\n",
       "\t10 & 10 & 'j' & 10 \\\\\n",
       "\t11 & 11 & 'k' & 0 \\\\\n",
       "\t12 & 12 & 'm' & 60 \\\\\n",
       "\\end{tabular}\n"
      ],
      "text/plain": [
       "12×3 DataFrame\n",
       "│ Row │ Id    │ Code │ Grade │\n",
       "│     │ \u001b[90mInt64\u001b[39m │ \u001b[90mChar\u001b[39m │ \u001b[90mInt64\u001b[39m │\n",
       "├─────┼───────┼──────┼───────┤\n",
       "│ 1   │ 1     │ 'a'  │ 100   │\n",
       "│ 2   │ 2     │ 'b'  │ 90    │\n",
       "│ 3   │ 3     │ 'c'  │ 80    │\n",
       "│ 4   │ 4     │ 'd'  │ 70    │\n",
       "│ 5   │ 5     │ 'e'  │ 60    │\n",
       "│ 6   │ 6     │ 'f'  │ 50    │\n",
       "│ 7   │ 7     │ 'g'  │ 40    │\n",
       "│ 8   │ 8     │ 'h'  │ 30    │\n",
       "│ 9   │ 9     │ 'i'  │ 20    │\n",
       "│ 10  │ 10    │ 'j'  │ 10    │\n",
       "│ 11  │ 11    │ 'k'  │ 0     │\n",
       "│ 12  │ 12    │ 'm'  │ 60    │"
      ]
     },
     "execution_count": 60,
     "metadata": {},
     "output_type": "execute_result"
    }
   ],
   "source": [
    "x = Dict(:Id=> 12, :Grade=> 60, :Code=> 'm'); # append matching(keys) dictionary\n",
    "push!(df1, x) "
   ]
  },
  {
   "cell_type": "code",
   "execution_count": 61,
   "metadata": {},
   "outputs": [
    {
     "data": {
      "text/html": [
       "<table class=\"data-frame\"><thead><tr><th></th><th>Id</th><th>Code</th><th>Grade</th></tr><tr><th></th><th>Int64</th><th>Char</th><th>Int64</th></tr></thead><tbody><p>11 rows × 3 columns</p><tr><th>1</th><td>1</td><td>'a'</td><td>100</td></tr><tr><th>2</th><td>2</td><td>'b'</td><td>90</td></tr><tr><th>3</th><td>3</td><td>'c'</td><td>80</td></tr><tr><th>4</th><td>4</td><td>'d'</td><td>70</td></tr><tr><th>5</th><td>5</td><td>'e'</td><td>60</td></tr><tr><th>6</th><td>6</td><td>'f'</td><td>50</td></tr><tr><th>7</th><td>7</td><td>'g'</td><td>40</td></tr><tr><th>8</th><td>8</td><td>'h'</td><td>30</td></tr><tr><th>9</th><td>9</td><td>'i'</td><td>20</td></tr><tr><th>10</th><td>10</td><td>'j'</td><td>10</td></tr><tr><th>11</th><td>12</td><td>'m'</td><td>60</td></tr></tbody></table>"
      ],
      "text/latex": [
       "\\begin{tabular}{r|ccc}\n",
       "\t& Id & Code & Grade\\\\\n",
       "\t\\hline\n",
       "\t& Int64 & Char & Int64\\\\\n",
       "\t\\hline\n",
       "\t1 & 1 & 'a' & 100 \\\\\n",
       "\t2 & 2 & 'b' & 90 \\\\\n",
       "\t3 & 3 & 'c' & 80 \\\\\n",
       "\t4 & 4 & 'd' & 70 \\\\\n",
       "\t5 & 5 & 'e' & 60 \\\\\n",
       "\t6 & 6 & 'f' & 50 \\\\\n",
       "\t7 & 7 & 'g' & 40 \\\\\n",
       "\t8 & 8 & 'h' & 30 \\\\\n",
       "\t9 & 9 & 'i' & 20 \\\\\n",
       "\t10 & 10 & 'j' & 10 \\\\\n",
       "\t11 & 12 & 'm' & 60 \\\\\n",
       "\\end{tabular}\n"
      ],
      "text/plain": [
       "11×3 DataFrame\n",
       "│ Row │ Id    │ Code │ Grade │\n",
       "│     │ \u001b[90mInt64\u001b[39m │ \u001b[90mChar\u001b[39m │ \u001b[90mInt64\u001b[39m │\n",
       "├─────┼───────┼──────┼───────┤\n",
       "│ 1   │ 1     │ 'a'  │ 100   │\n",
       "│ 2   │ 2     │ 'b'  │ 90    │\n",
       "│ 3   │ 3     │ 'c'  │ 80    │\n",
       "│ 4   │ 4     │ 'd'  │ 70    │\n",
       "│ 5   │ 5     │ 'e'  │ 60    │\n",
       "│ 6   │ 6     │ 'f'  │ 50    │\n",
       "│ 7   │ 7     │ 'g'  │ 40    │\n",
       "│ 8   │ 8     │ 'h'  │ 30    │\n",
       "│ 9   │ 9     │ 'i'  │ 20    │\n",
       "│ 10  │ 10    │ 'j'  │ 10    │\n",
       "│ 11  │ 12    │ 'm'  │ 60    │"
      ]
     },
     "execution_count": 61,
     "metadata": {},
     "output_type": "execute_result"
    }
   ],
   "source": [
    "deleterows!(df1, 11)    # delete one row, 11th row"
   ]
  },
  {
   "cell_type": "code",
   "execution_count": 62,
   "metadata": {},
   "outputs": [
    {
     "data": {
      "text/html": [
       "<table class=\"data-frame\"><thead><tr><th></th><th>Id</th><th>Code</th><th>Grade</th></tr><tr><th></th><th>Int64</th><th>Char</th><th>Int64</th></tr></thead><tbody><p>8 rows × 3 columns</p><tr><th>1</th><td>1</td><td>'a'</td><td>100</td></tr><tr><th>2</th><td>2</td><td>'b'</td><td>90</td></tr><tr><th>3</th><td>3</td><td>'c'</td><td>80</td></tr><tr><th>4</th><td>4</td><td>'d'</td><td>70</td></tr><tr><th>5</th><td>5</td><td>'e'</td><td>60</td></tr><tr><th>6</th><td>6</td><td>'f'</td><td>50</td></tr><tr><th>7</th><td>7</td><td>'g'</td><td>40</td></tr><tr><th>8</th><td>8</td><td>'h'</td><td>30</td></tr></tbody></table>"
      ],
      "text/latex": [
       "\\begin{tabular}{r|ccc}\n",
       "\t& Id & Code & Grade\\\\\n",
       "\t\\hline\n",
       "\t& Int64 & Char & Int64\\\\\n",
       "\t\\hline\n",
       "\t1 & 1 & 'a' & 100 \\\\\n",
       "\t2 & 2 & 'b' & 90 \\\\\n",
       "\t3 & 3 & 'c' & 80 \\\\\n",
       "\t4 & 4 & 'd' & 70 \\\\\n",
       "\t5 & 5 & 'e' & 60 \\\\\n",
       "\t6 & 6 & 'f' & 50 \\\\\n",
       "\t7 & 7 & 'g' & 40 \\\\\n",
       "\t8 & 8 & 'h' & 30 \\\\\n",
       "\\end{tabular}\n"
      ],
      "text/plain": [
       "8×3 DataFrame\n",
       "│ Row │ Id    │ Code │ Grade │\n",
       "│     │ \u001b[90mInt64\u001b[39m │ \u001b[90mChar\u001b[39m │ \u001b[90mInt64\u001b[39m │\n",
       "├─────┼───────┼──────┼───────┤\n",
       "│ 1   │ 1     │ 'a'  │ 100   │\n",
       "│ 2   │ 2     │ 'b'  │ 90    │\n",
       "│ 3   │ 3     │ 'c'  │ 80    │\n",
       "│ 4   │ 4     │ 'd'  │ 70    │\n",
       "│ 5   │ 5     │ 'e'  │ 60    │\n",
       "│ 6   │ 6     │ 'f'  │ 50    │\n",
       "│ 7   │ 7     │ 'g'  │ 40    │\n",
       "│ 8   │ 8     │ 'h'  │ 30    │"
      ]
     },
     "execution_count": 62,
     "metadata": {},
     "output_type": "execute_result"
    }
   ],
   "source": [
    "deleterows!(df1, 9:11)   #delete a collection of rows"
   ]
  },
  {
   "cell_type": "markdown",
   "metadata": {},
   "source": [
    "Filtering, Grouping"
   ]
  },
  {
   "cell_type": "code",
   "execution_count": 63,
   "metadata": {},
   "outputs": [
    {
     "data": {
      "text/html": [
       "<table class=\"data-frame\"><thead><tr><th></th><th>age</th><th>workclass</th><th>fnlwgt</th><th>education</th><th>EducationNum</th><th>MaritalStatus</th><th>occupation</th><th>relationship</th><th>race</th><th>Gender</th><th>CapitalGain</th><th>CapitalLoss</th><th>HoursperWeek</th><th>NativeCountry</th><th>class</th></tr><tr><th></th><th>Int64⍰</th><th>String⍰</th><th>Int64⍰</th><th>String⍰</th><th>Int64⍰</th><th>String⍰</th><th>String⍰</th><th>String⍰</th><th>String⍰</th><th>String⍰</th><th>Int64⍰</th><th>Int64⍰</th><th>Int64⍰</th><th>String⍰</th><th>String⍰</th></tr></thead><tbody><p>2,644 rows × 15 columns</p><tr><th>1</th><td>79</td><td> Private</td><td>124744</td><td> Some-college</td><td>10</td><td> Married-civ-spouse</td><td> Prof-specialty</td><td> Other-relative</td><td> White</td><td> Male</td><td>0</td><td>0</td><td>20</td><td> United-States</td><td> &lt;=50K</td></tr><tr><th>2</th><td>67</td><td> ?</td><td>212759</td><td> 10th</td><td>6</td><td> Married-civ-spouse</td><td> ?</td><td> Husband</td><td> White</td><td> Male</td><td>0</td><td>0</td><td>2</td><td> United-States</td><td> &lt;=50K</td></tr><tr><th>3</th><td>76</td><td> Private</td><td>124191</td><td> Masters</td><td>14</td><td> Married-civ-spouse</td><td> Exec-managerial</td><td> Husband</td><td> White</td><td> Male</td><td>0</td><td>0</td><td>40</td><td> United-States</td><td> &gt;50K</td></tr><tr><th>4</th><td>61</td><td> Self-emp-inc</td><td>66614</td><td> HS-grad</td><td>9</td><td> Married-civ-spouse</td><td> Craft-repair</td><td> Husband</td><td> White</td><td> Male</td><td>0</td><td>0</td><td>40</td><td> United-States</td><td> &lt;=50K</td></tr><tr><th>5</th><td>70</td><td> Private</td><td>105376</td><td> Some-college</td><td>10</td><td> Never-married</td><td> Tech-support</td><td> Other-relative</td><td> White</td><td> Male</td><td>0</td><td>0</td><td>40</td><td> United-States</td><td> &lt;=50K</td></tr><tr><th>6</th><td>64</td><td> Private</td><td>181232</td><td> 11th</td><td>7</td><td> Married-civ-spouse</td><td> Craft-repair</td><td> Husband</td><td> White</td><td> Male</td><td>0</td><td>2179</td><td>40</td><td> United-States</td><td> &lt;=50K</td></tr><tr><th>7</th><td>71</td><td> Self-emp-not-inc</td><td>494223</td><td> Some-college</td><td>10</td><td> Separated</td><td> Sales</td><td> Unmarried</td><td> Black</td><td> Male</td><td>0</td><td>1816</td><td>2</td><td> United-States</td><td> &lt;=50K</td></tr><tr><th>8</th><td>68</td><td> ?</td><td>38317</td><td> 1st-4th</td><td>2</td><td> Divorced</td><td> ?</td><td> Not-in-family</td><td> White</td><td> Female</td><td>0</td><td>0</td><td>20</td><td> United-States</td><td> &lt;=50K</td></tr><tr><th>9</th><td>66</td><td> Local-gov</td><td>54826</td><td> Assoc-voc</td><td>11</td><td> Widowed</td><td> Prof-specialty</td><td> Not-in-family</td><td> White</td><td> Female</td><td>0</td><td>0</td><td>20</td><td> United-States</td><td> &lt;=50K</td></tr><tr><th>10</th><td>60</td><td> Private</td><td>85815</td><td> HS-grad</td><td>9</td><td> Married-civ-spouse</td><td> Craft-repair</td><td> Husband</td><td> Asian-Pac-Islander</td><td> Male</td><td>0</td><td>0</td><td>40</td><td> United-States</td><td> &lt;=50K</td></tr><tr><th>11</th><td>64</td><td> ?</td><td>187656</td><td> 1st-4th</td><td>2</td><td> Divorced</td><td> ?</td><td> Not-in-family</td><td> White</td><td> Male</td><td>0</td><td>0</td><td>40</td><td> United-States</td><td> &lt;=50K</td></tr><tr><th>12</th><td>90</td><td> Private</td><td>51744</td><td> HS-grad</td><td>9</td><td> Never-married</td><td> Other-service</td><td> Not-in-family</td><td> Black</td><td> Male</td><td>0</td><td>2206</td><td>40</td><td> United-States</td><td> &lt;=50K</td></tr><tr><th>13</th><td>60</td><td> ?</td><td>24215</td><td> 10th</td><td>6</td><td> Divorced</td><td> ?</td><td> Not-in-family</td><td> Amer-Indian-Eskimo</td><td> Female</td><td>0</td><td>0</td><td>10</td><td> United-States</td><td> &lt;=50K</td></tr><tr><th>14</th><td>66</td><td> Self-emp-not-inc</td><td>167687</td><td> HS-grad</td><td>9</td><td> Married-civ-spouse</td><td> Farming-fishing</td><td> Husband</td><td> White</td><td> Male</td><td>1409</td><td>0</td><td>50</td><td> United-States</td><td> &lt;=50K</td></tr><tr><th>15</th><td>75</td><td> Private</td><td>314209</td><td> Assoc-voc</td><td>11</td><td> Widowed</td><td> Adm-clerical</td><td> Not-in-family</td><td> White</td><td> Female</td><td>0</td><td>0</td><td>20</td><td> Columbia</td><td> &lt;=50K</td></tr><tr><th>16</th><td>65</td><td> Private</td><td>176796</td><td> HS-grad</td><td>9</td><td> Divorced</td><td> Adm-clerical</td><td> Not-in-family</td><td> White</td><td> Female</td><td>0</td><td>0</td><td>40</td><td> United-States</td><td> &lt;=50K</td></tr><tr><th>17</th><td>64</td><td> Private</td><td>21174</td><td> HS-grad</td><td>9</td><td> Married-civ-spouse</td><td> Exec-managerial</td><td> Husband</td><td> White</td><td> Male</td><td>0</td><td>0</td><td>40</td><td> United-States</td><td> &gt;50K</td></tr><tr><th>18</th><td>61</td><td> Private</td><td>69867</td><td> HS-grad</td><td>9</td><td> Married-civ-spouse</td><td> Exec-managerial</td><td> Husband</td><td> White</td><td> Male</td><td>0</td><td>0</td><td>40</td><td> United-States</td><td> &gt;50K</td></tr><tr><th>19</th><td>60</td><td> Private</td><td>173960</td><td> Bachelors</td><td>13</td><td> Divorced</td><td> Prof-specialty</td><td> Not-in-family</td><td> White</td><td> Female</td><td>0</td><td>0</td><td>42</td><td> United-States</td><td> &lt;=50K</td></tr><tr><th>20</th><td>65</td><td> Private</td><td>111095</td><td> HS-grad</td><td>9</td><td> Married-civ-spouse</td><td> Transport-moving</td><td> Husband</td><td> White</td><td> Male</td><td>0</td><td>0</td><td>16</td><td> United-States</td><td> &lt;=50K</td></tr><tr><th>21</th><td>77</td><td> Self-emp-not-inc</td><td>138714</td><td> Some-college</td><td>10</td><td> Married-civ-spouse</td><td> Sales</td><td> Husband</td><td> White</td><td> Male</td><td>0</td><td>0</td><td>40</td><td> United-States</td><td> &lt;=50K</td></tr><tr><th>22</th><td>62</td><td> Private</td><td>159841</td><td> HS-grad</td><td>9</td><td> Widowed</td><td> Other-service</td><td> Not-in-family</td><td> White</td><td> Female</td><td>0</td><td>0</td><td>24</td><td> United-States</td><td> &lt;=50K</td></tr><tr><th>23</th><td>76</td><td> Self-emp-not-inc</td><td>174309</td><td> Masters</td><td>14</td><td> Married-civ-spouse</td><td> Craft-repair</td><td> Husband</td><td> White</td><td> Male</td><td>0</td><td>0</td><td>10</td><td> United-States</td><td> &lt;=50K</td></tr><tr><th>24</th><td>63</td><td> Self-emp-not-inc</td><td>78383</td><td> HS-grad</td><td>9</td><td> Married-civ-spouse</td><td> Farming-fishing</td><td> Husband</td><td> White</td><td> Male</td><td>0</td><td>0</td><td>45</td><td> United-States</td><td> &lt;=50K</td></tr><tr><th>25</th><td>66</td><td> Private</td><td>127921</td><td> HS-grad</td><td>9</td><td> Never-married</td><td> Transport-moving</td><td> Not-in-family</td><td> White</td><td> Male</td><td>2050</td><td>0</td><td>55</td><td> United-States</td><td> &lt;=50K</td></tr><tr><th>26</th><td>67</td><td> ?</td><td>36135</td><td> 11th</td><td>7</td><td> Married-civ-spouse</td><td> ?</td><td> Husband</td><td> White</td><td> Male</td><td>0</td><td>0</td><td>8</td><td> United-States</td><td> &lt;=50K</td></tr><tr><th>27</th><td>65</td><td> Private</td><td>161400</td><td> 11th</td><td>7</td><td> Widowed</td><td> Other-service</td><td> Unmarried</td><td> Other</td><td> Male</td><td>0</td><td>0</td><td>40</td><td> United-States</td><td> &lt;=50K</td></tr><tr><th>28</th><td>62</td><td> Private</td><td>270092</td><td> Masters</td><td>14</td><td> Married-civ-spouse</td><td> Prof-specialty</td><td> Husband</td><td> White</td><td> Male</td><td>0</td><td>0</td><td>40</td><td> United-States</td><td> &gt;50K</td></tr><tr><th>29</th><td>63</td><td> Self-emp-inc</td><td>222289</td><td> HS-grad</td><td>9</td><td> Married-civ-spouse</td><td> Exec-managerial</td><td> Husband</td><td> White</td><td> Male</td><td>0</td><td>0</td><td>40</td><td> United-States</td><td> &gt;50K</td></tr><tr><th>30</th><td>80</td><td> ?</td><td>107762</td><td> HS-grad</td><td>9</td><td> Widowed</td><td> ?</td><td> Not-in-family</td><td> White</td><td> Male</td><td>0</td><td>0</td><td>24</td><td> United-States</td><td> &lt;=50K</td></tr><tr><th>&vellip;</th><td>&vellip;</td><td>&vellip;</td><td>&vellip;</td><td>&vellip;</td><td>&vellip;</td><td>&vellip;</td><td>&vellip;</td><td>&vellip;</td><td>&vellip;</td><td>&vellip;</td><td>&vellip;</td><td>&vellip;</td><td>&vellip;</td><td>&vellip;</td><td>&vellip;</td></tr></tbody></table>"
      ],
      "text/latex": [
       "\\begin{tabular}{r|ccccccccccccccc}\n",
       "\t& age & workclass & fnlwgt & education & EducationNum & MaritalStatus & occupation & relationship & race & Gender & CapitalGain & CapitalLoss & HoursperWeek & NativeCountry & class\\\\\n",
       "\t\\hline\n",
       "\t& Int64⍰ & String⍰ & Int64⍰ & String⍰ & Int64⍰ & String⍰ & String⍰ & String⍰ & String⍰ & String⍰ & Int64⍰ & Int64⍰ & Int64⍰ & String⍰ & String⍰\\\\\n",
       "\t\\hline\n",
       "\t1 & 79 &  Private & 124744 &  Some-college & 10 &  Married-civ-spouse &  Prof-specialty &  Other-relative &  White &  Male & 0 & 0 & 20 &  United-States &  <=50K \\\\\n",
       "\t2 & 67 &  ? & 212759 &  10th & 6 &  Married-civ-spouse &  ? &  Husband &  White &  Male & 0 & 0 & 2 &  United-States &  <=50K \\\\\n",
       "\t3 & 76 &  Private & 124191 &  Masters & 14 &  Married-civ-spouse &  Exec-managerial &  Husband &  White &  Male & 0 & 0 & 40 &  United-States &  >50K \\\\\n",
       "\t4 & 61 &  Self-emp-inc & 66614 &  HS-grad & 9 &  Married-civ-spouse &  Craft-repair &  Husband &  White &  Male & 0 & 0 & 40 &  United-States &  <=50K \\\\\n",
       "\t5 & 70 &  Private & 105376 &  Some-college & 10 &  Never-married &  Tech-support &  Other-relative &  White &  Male & 0 & 0 & 40 &  United-States &  <=50K \\\\\n",
       "\t6 & 64 &  Private & 181232 &  11th & 7 &  Married-civ-spouse &  Craft-repair &  Husband &  White &  Male & 0 & 2179 & 40 &  United-States &  <=50K \\\\\n",
       "\t7 & 71 &  Self-emp-not-inc & 494223 &  Some-college & 10 &  Separated &  Sales &  Unmarried &  Black &  Male & 0 & 1816 & 2 &  United-States &  <=50K \\\\\n",
       "\t8 & 68 &  ? & 38317 &  1st-4th & 2 &  Divorced &  ? &  Not-in-family &  White &  Female & 0 & 0 & 20 &  United-States &  <=50K \\\\\n",
       "\t9 & 66 &  Local-gov & 54826 &  Assoc-voc & 11 &  Widowed &  Prof-specialty &  Not-in-family &  White &  Female & 0 & 0 & 20 &  United-States &  <=50K \\\\\n",
       "\t10 & 60 &  Private & 85815 &  HS-grad & 9 &  Married-civ-spouse &  Craft-repair &  Husband &  Asian-Pac-Islander &  Male & 0 & 0 & 40 &  United-States &  <=50K \\\\\n",
       "\t11 & 64 &  ? & 187656 &  1st-4th & 2 &  Divorced &  ? &  Not-in-family &  White &  Male & 0 & 0 & 40 &  United-States &  <=50K \\\\\n",
       "\t12 & 90 &  Private & 51744 &  HS-grad & 9 &  Never-married &  Other-service &  Not-in-family &  Black &  Male & 0 & 2206 & 40 &  United-States &  <=50K \\\\\n",
       "\t13 & 60 &  ? & 24215 &  10th & 6 &  Divorced &  ? &  Not-in-family &  Amer-Indian-Eskimo &  Female & 0 & 0 & 10 &  United-States &  <=50K \\\\\n",
       "\t14 & 66 &  Self-emp-not-inc & 167687 &  HS-grad & 9 &  Married-civ-spouse &  Farming-fishing &  Husband &  White &  Male & 1409 & 0 & 50 &  United-States &  <=50K \\\\\n",
       "\t15 & 75 &  Private & 314209 &  Assoc-voc & 11 &  Widowed &  Adm-clerical &  Not-in-family &  White &  Female & 0 & 0 & 20 &  Columbia &  <=50K \\\\\n",
       "\t16 & 65 &  Private & 176796 &  HS-grad & 9 &  Divorced &  Adm-clerical &  Not-in-family &  White &  Female & 0 & 0 & 40 &  United-States &  <=50K \\\\\n",
       "\t17 & 64 &  Private & 21174 &  HS-grad & 9 &  Married-civ-spouse &  Exec-managerial &  Husband &  White &  Male & 0 & 0 & 40 &  United-States &  >50K \\\\\n",
       "\t18 & 61 &  Private & 69867 &  HS-grad & 9 &  Married-civ-spouse &  Exec-managerial &  Husband &  White &  Male & 0 & 0 & 40 &  United-States &  >50K \\\\\n",
       "\t19 & 60 &  Private & 173960 &  Bachelors & 13 &  Divorced &  Prof-specialty &  Not-in-family &  White &  Female & 0 & 0 & 42 &  United-States &  <=50K \\\\\n",
       "\t20 & 65 &  Private & 111095 &  HS-grad & 9 &  Married-civ-spouse &  Transport-moving &  Husband &  White &  Male & 0 & 0 & 16 &  United-States &  <=50K \\\\\n",
       "\t21 & 77 &  Self-emp-not-inc & 138714 &  Some-college & 10 &  Married-civ-spouse &  Sales &  Husband &  White &  Male & 0 & 0 & 40 &  United-States &  <=50K \\\\\n",
       "\t22 & 62 &  Private & 159841 &  HS-grad & 9 &  Widowed &  Other-service &  Not-in-family &  White &  Female & 0 & 0 & 24 &  United-States &  <=50K \\\\\n",
       "\t23 & 76 &  Self-emp-not-inc & 174309 &  Masters & 14 &  Married-civ-spouse &  Craft-repair &  Husband &  White &  Male & 0 & 0 & 10 &  United-States &  <=50K \\\\\n",
       "\t24 & 63 &  Self-emp-not-inc & 78383 &  HS-grad & 9 &  Married-civ-spouse &  Farming-fishing &  Husband &  White &  Male & 0 & 0 & 45 &  United-States &  <=50K \\\\\n",
       "\t25 & 66 &  Private & 127921 &  HS-grad & 9 &  Never-married &  Transport-moving &  Not-in-family &  White &  Male & 2050 & 0 & 55 &  United-States &  <=50K \\\\\n",
       "\t26 & 67 &  ? & 36135 &  11th & 7 &  Married-civ-spouse &  ? &  Husband &  White &  Male & 0 & 0 & 8 &  United-States &  <=50K \\\\\n",
       "\t27 & 65 &  Private & 161400 &  11th & 7 &  Widowed &  Other-service &  Unmarried &  Other &  Male & 0 & 0 & 40 &  United-States &  <=50K \\\\\n",
       "\t28 & 62 &  Private & 270092 &  Masters & 14 &  Married-civ-spouse &  Prof-specialty &  Husband &  White &  Male & 0 & 0 & 40 &  United-States &  >50K \\\\\n",
       "\t29 & 63 &  Self-emp-inc & 222289 &  HS-grad & 9 &  Married-civ-spouse &  Exec-managerial &  Husband &  White &  Male & 0 & 0 & 40 &  United-States &  >50K \\\\\n",
       "\t30 & 80 &  ? & 107762 &  HS-grad & 9 &  Widowed &  ? &  Not-in-family &  White &  Male & 0 & 0 & 24 &  United-States &  <=50K \\\\\n",
       "\t$\\dots$ & $\\dots$ & $\\dots$ & $\\dots$ & $\\dots$ & $\\dots$ & $\\dots$ & $\\dots$ & $\\dots$ & $\\dots$ & $\\dots$ & $\\dots$ & $\\dots$ & $\\dots$ & $\\dots$ & $\\dots$ \\\\\n",
       "\\end{tabular}\n"
      ],
      "text/plain": [
       "2644×15 DataFrame. Omitted printing of 10 columns\n",
       "│ Row  │ age    │ workclass         │ fnlwgt │ education     │ EducationNum │\n",
       "│      │ \u001b[90mInt64⍰\u001b[39m │ \u001b[90mString⍰\u001b[39m           │ \u001b[90mInt64⍰\u001b[39m │ \u001b[90mString⍰\u001b[39m       │ \u001b[90mInt64⍰\u001b[39m       │\n",
       "├──────┼────────┼───────────────────┼────────┼───────────────┼──────────────┤\n",
       "│ 1    │ 79     │  Private          │ 124744 │  Some-college │ 10           │\n",
       "│ 2    │ 67     │  ?                │ 212759 │  10th         │ 6            │\n",
       "│ 3    │ 76     │  Private          │ 124191 │  Masters      │ 14           │\n",
       "│ 4    │ 61     │  Self-emp-inc     │ 66614  │  HS-grad      │ 9            │\n",
       "│ 5    │ 70     │  Private          │ 105376 │  Some-college │ 10           │\n",
       "│ 6    │ 64     │  Private          │ 181232 │  11th         │ 7            │\n",
       "│ 7    │ 71     │  Self-emp-not-inc │ 494223 │  Some-college │ 10           │\n",
       "│ 8    │ 68     │  ?                │ 38317  │  1st-4th      │ 2            │\n",
       "│ 9    │ 66     │  Local-gov        │ 54826  │  Assoc-voc    │ 11           │\n",
       "│ 10   │ 60     │  Private          │ 85815  │  HS-grad      │ 9            │\n",
       "⋮\n",
       "│ 2634 │ 66     │  Private          │ 269665 │  HS-grad      │ 9            │\n",
       "│ 2635 │ 64     │  State-gov        │ 222966 │  7th-8th      │ 4            │\n",
       "│ 2636 │ 61     │  Private          │ 355645 │  HS-grad      │ 9            │\n",
       "│ 2637 │ 60     │  ?                │ 134152 │  9th          │ 5            │\n",
       "│ 2638 │ 82     │  ?                │ 403910 │  HS-grad      │ 9            │\n",
       "│ 2639 │ 71     │  Private          │ 138145 │  9th          │ 5            │\n",
       "│ 2640 │ 66     │  Federal-gov      │ 47358  │  10th         │ 6            │\n",
       "│ 2641 │ 81     │  ?                │ 120478 │  Assoc-voc    │ 11           │\n",
       "│ 2642 │ 71     │  ?                │ 287372 │  Doctorate    │ 16           │\n",
       "│ 2643 │ 72     │  ?                │ 129912 │  HS-grad      │ 9            │\n",
       "│ 2644 │ 65     │  Self-emp-not-inc │ 99359  │  Prof-school  │ 15           │"
      ]
     },
     "execution_count": 63,
     "metadata": {},
     "output_type": "execute_result"
    }
   ],
   "source": [
    "df[ df[:age] .>= 60, :]  # fiter df wrt age, where age >= 60, display all columns"
   ]
  },
  {
   "cell_type": "code",
   "execution_count": 64,
   "metadata": {},
   "outputs": [
    {
     "data": {
      "text/html": [
       "<table class=\"data-frame\"><thead><tr><th></th><th>age</th><th>workclass</th><th>fnlwgt</th><th>education</th><th>EducationNum</th><th>MaritalStatus</th><th>occupation</th><th>relationship</th><th>race</th><th>Gender</th><th>CapitalGain</th><th>CapitalLoss</th><th>HoursperWeek</th><th>NativeCountry</th><th>class</th></tr><tr><th></th><th>Int64⍰</th><th>String⍰</th><th>Int64⍰</th><th>String⍰</th><th>Int64⍰</th><th>String⍰</th><th>String⍰</th><th>String⍰</th><th>String⍰</th><th>String⍰</th><th>Int64⍰</th><th>Int64⍰</th><th>Int64⍰</th><th>String⍰</th><th>String⍰</th></tr></thead><tbody><p>1,172 rows × 15 columns</p><tr><th>1</th><td>79</td><td> Private</td><td>124744</td><td> Some-college</td><td>10</td><td> Married-civ-spouse</td><td> Prof-specialty</td><td> Other-relative</td><td> White</td><td> Male</td><td>0</td><td>0</td><td>20</td><td> United-States</td><td> &lt;=50K</td></tr><tr><th>2</th><td>76</td><td> Private</td><td>124191</td><td> Masters</td><td>14</td><td> Married-civ-spouse</td><td> Exec-managerial</td><td> Husband</td><td> White</td><td> Male</td><td>0</td><td>0</td><td>40</td><td> United-States</td><td> &gt;50K</td></tr><tr><th>3</th><td>70</td><td> Private</td><td>105376</td><td> Some-college</td><td>10</td><td> Never-married</td><td> Tech-support</td><td> Other-relative</td><td> White</td><td> Male</td><td>0</td><td>0</td><td>40</td><td> United-States</td><td> &lt;=50K</td></tr><tr><th>4</th><td>71</td><td> Self-emp-not-inc</td><td>494223</td><td> Some-college</td><td>10</td><td> Separated</td><td> Sales</td><td> Unmarried</td><td> Black</td><td> Male</td><td>0</td><td>1816</td><td>2</td><td> United-States</td><td> &lt;=50K</td></tr><tr><th>5</th><td>66</td><td> Local-gov</td><td>54826</td><td> Assoc-voc</td><td>11</td><td> Widowed</td><td> Prof-specialty</td><td> Not-in-family</td><td> White</td><td> Female</td><td>0</td><td>0</td><td>20</td><td> United-States</td><td> &lt;=50K</td></tr><tr><th>6</th><td>75</td><td> Private</td><td>314209</td><td> Assoc-voc</td><td>11</td><td> Widowed</td><td> Adm-clerical</td><td> Not-in-family</td><td> White</td><td> Female</td><td>0</td><td>0</td><td>20</td><td> Columbia</td><td> &lt;=50K</td></tr><tr><th>7</th><td>60</td><td> Private</td><td>173960</td><td> Bachelors</td><td>13</td><td> Divorced</td><td> Prof-specialty</td><td> Not-in-family</td><td> White</td><td> Female</td><td>0</td><td>0</td><td>42</td><td> United-States</td><td> &lt;=50K</td></tr><tr><th>8</th><td>77</td><td> Self-emp-not-inc</td><td>138714</td><td> Some-college</td><td>10</td><td> Married-civ-spouse</td><td> Sales</td><td> Husband</td><td> White</td><td> Male</td><td>0</td><td>0</td><td>40</td><td> United-States</td><td> &lt;=50K</td></tr><tr><th>9</th><td>76</td><td> Self-emp-not-inc</td><td>174309</td><td> Masters</td><td>14</td><td> Married-civ-spouse</td><td> Craft-repair</td><td> Husband</td><td> White</td><td> Male</td><td>0</td><td>0</td><td>10</td><td> United-States</td><td> &lt;=50K</td></tr><tr><th>10</th><td>62</td><td> Private</td><td>270092</td><td> Masters</td><td>14</td><td> Married-civ-spouse</td><td> Prof-specialty</td><td> Husband</td><td> White</td><td> Male</td><td>0</td><td>0</td><td>40</td><td> United-States</td><td> &gt;50K</td></tr><tr><th>11</th><td>60</td><td> Private</td><td>201965</td><td> Some-college</td><td>10</td><td> Never-married</td><td> Prof-specialty</td><td> Unmarried</td><td> White</td><td> Male</td><td>0</td><td>0</td><td>40</td><td> United-States</td><td> &gt;50K</td></tr><tr><th>12</th><td>67</td><td> Private</td><td>49401</td><td> Assoc-voc</td><td>11</td><td> Divorced</td><td> Other-service</td><td> Not-in-family</td><td> White</td><td> Female</td><td>0</td><td>0</td><td>24</td><td> United-States</td><td> &lt;=50K</td></tr><tr><th>13</th><td>74</td><td> Private</td><td>99183</td><td> Some-college</td><td>10</td><td> Divorced</td><td> Adm-clerical</td><td> Not-in-family</td><td> White</td><td> Female</td><td>0</td><td>0</td><td>9</td><td> United-States</td><td> &lt;=50K</td></tr><tr><th>14</th><td>67</td><td> Private</td><td>231559</td><td> Prof-school</td><td>15</td><td> Married-civ-spouse</td><td> Prof-specialty</td><td> Husband</td><td> White</td><td> Male</td><td>20051</td><td>0</td><td>48</td><td> United-States</td><td> &gt;50K</td></tr><tr><th>15</th><td>65</td><td> ?</td><td>195733</td><td> Some-college</td><td>10</td><td> Married-civ-spouse</td><td> ?</td><td> Husband</td><td> White</td><td> Male</td><td>0</td><td>0</td><td>30</td><td> United-States</td><td> &gt;50K</td></tr><tr><th>16</th><td>64</td><td> Private</td><td>270333</td><td> Bachelors</td><td>13</td><td> Married-civ-spouse</td><td> Prof-specialty</td><td> Husband</td><td> White</td><td> Male</td><td>0</td><td>0</td><td>40</td><td> United-States</td><td> &gt;50K</td></tr><tr><th>17</th><td>62</td><td> Local-gov</td><td>291175</td><td> Bachelors</td><td>13</td><td> Widowed</td><td> Prof-specialty</td><td> Not-in-family</td><td> White</td><td> Female</td><td>0</td><td>0</td><td>48</td><td> United-States</td><td> &lt;=50K</td></tr><tr><th>18</th><td>61</td><td> Private</td><td>99784</td><td> Masters</td><td>14</td><td> Widowed</td><td> Prof-specialty</td><td> Not-in-family</td><td> White</td><td> Female</td><td>0</td><td>0</td><td>40</td><td> United-States</td><td> &gt;50K</td></tr><tr><th>19</th><td>71</td><td> Self-emp-not-inc</td><td>143437</td><td> Masters</td><td>14</td><td> Married-civ-spouse</td><td> Sales</td><td> Husband</td><td> White</td><td> Male</td><td>10605</td><td>0</td><td>40</td><td> United-States</td><td> &gt;50K</td></tr><tr><th>20</th><td>63</td><td> ?</td><td>149698</td><td> Some-college</td><td>10</td><td> Married-civ-spouse</td><td> ?</td><td> Husband</td><td> White</td><td> Male</td><td>0</td><td>0</td><td>15</td><td> United-States</td><td> &lt;=50K</td></tr><tr><th>21</th><td>67</td><td> Private</td><td>105252</td><td> Bachelors</td><td>13</td><td> Widowed</td><td> Exec-managerial</td><td> Not-in-family</td><td> White</td><td> Male</td><td>0</td><td>2392</td><td>40</td><td> United-States</td><td> &gt;50K</td></tr><tr><th>22</th><td>63</td><td> Private</td><td>254907</td><td> Assoc-voc</td><td>11</td><td> Divorced</td><td> Other-service</td><td> Not-in-family</td><td> White</td><td> Female</td><td>0</td><td>0</td><td>20</td><td> United-States</td><td> &lt;=50K</td></tr><tr><th>23</th><td>64</td><td> ?</td><td>196288</td><td> Assoc-acdm</td><td>12</td><td> Never-married</td><td> ?</td><td> Not-in-family</td><td> White</td><td> Female</td><td>0</td><td>0</td><td>20</td><td> United-States</td><td> &lt;=50K</td></tr><tr><th>24</th><td>60</td><td> Self-emp-inc</td><td>226355</td><td> Assoc-voc</td><td>11</td><td> Married-civ-spouse</td><td> Machine-op-inspct</td><td> Husband</td><td> White</td><td> Male</td><td>0</td><td>2415</td><td>70</td><td> ?</td><td> &gt;50K</td></tr><tr><th>25</th><td>65</td><td> Private</td><td>350498</td><td> Bachelors</td><td>13</td><td> Married-civ-spouse</td><td> Adm-clerical</td><td> Husband</td><td> White</td><td> Male</td><td>10605</td><td>0</td><td>20</td><td> United-States</td><td> &gt;50K</td></tr><tr><th>26</th><td>88</td><td> Self-emp-not-inc</td><td>206291</td><td> Prof-school</td><td>15</td><td> Married-civ-spouse</td><td> Prof-specialty</td><td> Husband</td><td> White</td><td> Male</td><td>0</td><td>0</td><td>40</td><td> United-States</td><td> &lt;=50K</td></tr><tr><th>27</th><td>61</td><td> Self-emp-inc</td><td>113544</td><td> Masters</td><td>14</td><td> Married-civ-spouse</td><td> Sales</td><td> Husband</td><td> White</td><td> Male</td><td>0</td><td>0</td><td>40</td><td> United-States</td><td> &gt;50K</td></tr><tr><th>28</th><td>63</td><td> ?</td><td>150389</td><td> Bachelors</td><td>13</td><td> Widowed</td><td> ?</td><td> Not-in-family</td><td> White</td><td> Female</td><td>0</td><td>0</td><td>40</td><td> United-States</td><td> &gt;50K</td></tr><tr><th>29</th><td>75</td><td> Self-emp-not-inc</td><td>208426</td><td> Prof-school</td><td>15</td><td> Married-civ-spouse</td><td> Prof-specialty</td><td> Husband</td><td> White</td><td> Male</td><td>0</td><td>0</td><td>35</td><td> United-States</td><td> &lt;=50K</td></tr><tr><th>30</th><td>62</td><td> Private</td><td>192866</td><td> Some-college</td><td>10</td><td> Widowed</td><td> Other-service</td><td> Not-in-family</td><td> White</td><td> Female</td><td>0</td><td>0</td><td>20</td><td> United-States</td><td> &lt;=50K</td></tr><tr><th>&vellip;</th><td>&vellip;</td><td>&vellip;</td><td>&vellip;</td><td>&vellip;</td><td>&vellip;</td><td>&vellip;</td><td>&vellip;</td><td>&vellip;</td><td>&vellip;</td><td>&vellip;</td><td>&vellip;</td><td>&vellip;</td><td>&vellip;</td><td>&vellip;</td><td>&vellip;</td></tr></tbody></table>"
      ],
      "text/latex": [
       "\\begin{tabular}{r|ccccccccccccccc}\n",
       "\t& age & workclass & fnlwgt & education & EducationNum & MaritalStatus & occupation & relationship & race & Gender & CapitalGain & CapitalLoss & HoursperWeek & NativeCountry & class\\\\\n",
       "\t\\hline\n",
       "\t& Int64⍰ & String⍰ & Int64⍰ & String⍰ & Int64⍰ & String⍰ & String⍰ & String⍰ & String⍰ & String⍰ & Int64⍰ & Int64⍰ & Int64⍰ & String⍰ & String⍰\\\\\n",
       "\t\\hline\n",
       "\t1 & 79 &  Private & 124744 &  Some-college & 10 &  Married-civ-spouse &  Prof-specialty &  Other-relative &  White &  Male & 0 & 0 & 20 &  United-States &  <=50K \\\\\n",
       "\t2 & 76 &  Private & 124191 &  Masters & 14 &  Married-civ-spouse &  Exec-managerial &  Husband &  White &  Male & 0 & 0 & 40 &  United-States &  >50K \\\\\n",
       "\t3 & 70 &  Private & 105376 &  Some-college & 10 &  Never-married &  Tech-support &  Other-relative &  White &  Male & 0 & 0 & 40 &  United-States &  <=50K \\\\\n",
       "\t4 & 71 &  Self-emp-not-inc & 494223 &  Some-college & 10 &  Separated &  Sales &  Unmarried &  Black &  Male & 0 & 1816 & 2 &  United-States &  <=50K \\\\\n",
       "\t5 & 66 &  Local-gov & 54826 &  Assoc-voc & 11 &  Widowed &  Prof-specialty &  Not-in-family &  White &  Female & 0 & 0 & 20 &  United-States &  <=50K \\\\\n",
       "\t6 & 75 &  Private & 314209 &  Assoc-voc & 11 &  Widowed &  Adm-clerical &  Not-in-family &  White &  Female & 0 & 0 & 20 &  Columbia &  <=50K \\\\\n",
       "\t7 & 60 &  Private & 173960 &  Bachelors & 13 &  Divorced &  Prof-specialty &  Not-in-family &  White &  Female & 0 & 0 & 42 &  United-States &  <=50K \\\\\n",
       "\t8 & 77 &  Self-emp-not-inc & 138714 &  Some-college & 10 &  Married-civ-spouse &  Sales &  Husband &  White &  Male & 0 & 0 & 40 &  United-States &  <=50K \\\\\n",
       "\t9 & 76 &  Self-emp-not-inc & 174309 &  Masters & 14 &  Married-civ-spouse &  Craft-repair &  Husband &  White &  Male & 0 & 0 & 10 &  United-States &  <=50K \\\\\n",
       "\t10 & 62 &  Private & 270092 &  Masters & 14 &  Married-civ-spouse &  Prof-specialty &  Husband &  White &  Male & 0 & 0 & 40 &  United-States &  >50K \\\\\n",
       "\t11 & 60 &  Private & 201965 &  Some-college & 10 &  Never-married &  Prof-specialty &  Unmarried &  White &  Male & 0 & 0 & 40 &  United-States &  >50K \\\\\n",
       "\t12 & 67 &  Private & 49401 &  Assoc-voc & 11 &  Divorced &  Other-service &  Not-in-family &  White &  Female & 0 & 0 & 24 &  United-States &  <=50K \\\\\n",
       "\t13 & 74 &  Private & 99183 &  Some-college & 10 &  Divorced &  Adm-clerical &  Not-in-family &  White &  Female & 0 & 0 & 9 &  United-States &  <=50K \\\\\n",
       "\t14 & 67 &  Private & 231559 &  Prof-school & 15 &  Married-civ-spouse &  Prof-specialty &  Husband &  White &  Male & 20051 & 0 & 48 &  United-States &  >50K \\\\\n",
       "\t15 & 65 &  ? & 195733 &  Some-college & 10 &  Married-civ-spouse &  ? &  Husband &  White &  Male & 0 & 0 & 30 &  United-States &  >50K \\\\\n",
       "\t16 & 64 &  Private & 270333 &  Bachelors & 13 &  Married-civ-spouse &  Prof-specialty &  Husband &  White &  Male & 0 & 0 & 40 &  United-States &  >50K \\\\\n",
       "\t17 & 62 &  Local-gov & 291175 &  Bachelors & 13 &  Widowed &  Prof-specialty &  Not-in-family &  White &  Female & 0 & 0 & 48 &  United-States &  <=50K \\\\\n",
       "\t18 & 61 &  Private & 99784 &  Masters & 14 &  Widowed &  Prof-specialty &  Not-in-family &  White &  Female & 0 & 0 & 40 &  United-States &  >50K \\\\\n",
       "\t19 & 71 &  Self-emp-not-inc & 143437 &  Masters & 14 &  Married-civ-spouse &  Sales &  Husband &  White &  Male & 10605 & 0 & 40 &  United-States &  >50K \\\\\n",
       "\t20 & 63 &  ? & 149698 &  Some-college & 10 &  Married-civ-spouse &  ? &  Husband &  White &  Male & 0 & 0 & 15 &  United-States &  <=50K \\\\\n",
       "\t21 & 67 &  Private & 105252 &  Bachelors & 13 &  Widowed &  Exec-managerial &  Not-in-family &  White &  Male & 0 & 2392 & 40 &  United-States &  >50K \\\\\n",
       "\t22 & 63 &  Private & 254907 &  Assoc-voc & 11 &  Divorced &  Other-service &  Not-in-family &  White &  Female & 0 & 0 & 20 &  United-States &  <=50K \\\\\n",
       "\t23 & 64 &  ? & 196288 &  Assoc-acdm & 12 &  Never-married &  ? &  Not-in-family &  White &  Female & 0 & 0 & 20 &  United-States &  <=50K \\\\\n",
       "\t24 & 60 &  Self-emp-inc & 226355 &  Assoc-voc & 11 &  Married-civ-spouse &  Machine-op-inspct &  Husband &  White &  Male & 0 & 2415 & 70 &  ? &  >50K \\\\\n",
       "\t25 & 65 &  Private & 350498 &  Bachelors & 13 &  Married-civ-spouse &  Adm-clerical &  Husband &  White &  Male & 10605 & 0 & 20 &  United-States &  >50K \\\\\n",
       "\t26 & 88 &  Self-emp-not-inc & 206291 &  Prof-school & 15 &  Married-civ-spouse &  Prof-specialty &  Husband &  White &  Male & 0 & 0 & 40 &  United-States &  <=50K \\\\\n",
       "\t27 & 61 &  Self-emp-inc & 113544 &  Masters & 14 &  Married-civ-spouse &  Sales &  Husband &  White &  Male & 0 & 0 & 40 &  United-States &  >50K \\\\\n",
       "\t28 & 63 &  ? & 150389 &  Bachelors & 13 &  Widowed &  ? &  Not-in-family &  White &  Female & 0 & 0 & 40 &  United-States &  >50K \\\\\n",
       "\t29 & 75 &  Self-emp-not-inc & 208426 &  Prof-school & 15 &  Married-civ-spouse &  Prof-specialty &  Husband &  White &  Male & 0 & 0 & 35 &  United-States &  <=50K \\\\\n",
       "\t30 & 62 &  Private & 192866 &  Some-college & 10 &  Widowed &  Other-service &  Not-in-family &  White &  Female & 0 & 0 & 20 &  United-States &  <=50K \\\\\n",
       "\t$\\dots$ & $\\dots$ & $\\dots$ & $\\dots$ & $\\dots$ & $\\dots$ & $\\dots$ & $\\dots$ & $\\dots$ & $\\dots$ & $\\dots$ & $\\dots$ & $\\dots$ & $\\dots$ & $\\dots$ & $\\dots$ \\\\\n",
       "\\end{tabular}\n"
      ],
      "text/plain": [
       "1172×15 DataFrame. Omitted printing of 10 columns\n",
       "│ Row  │ age    │ workclass         │ fnlwgt │ education     │ EducationNum │\n",
       "│      │ \u001b[90mInt64⍰\u001b[39m │ \u001b[90mString⍰\u001b[39m           │ \u001b[90mInt64⍰\u001b[39m │ \u001b[90mString⍰\u001b[39m       │ \u001b[90mInt64⍰\u001b[39m       │\n",
       "├──────┼────────┼───────────────────┼────────┼───────────────┼──────────────┤\n",
       "│ 1    │ 79     │  Private          │ 124744 │  Some-college │ 10           │\n",
       "│ 2    │ 76     │  Private          │ 124191 │  Masters      │ 14           │\n",
       "│ 3    │ 70     │  Private          │ 105376 │  Some-college │ 10           │\n",
       "│ 4    │ 71     │  Self-emp-not-inc │ 494223 │  Some-college │ 10           │\n",
       "│ 5    │ 66     │  Local-gov        │ 54826  │  Assoc-voc    │ 11           │\n",
       "│ 6    │ 75     │  Private          │ 314209 │  Assoc-voc    │ 11           │\n",
       "│ 7    │ 60     │  Private          │ 173960 │  Bachelors    │ 13           │\n",
       "│ 8    │ 77     │  Self-emp-not-inc │ 138714 │  Some-college │ 10           │\n",
       "│ 9    │ 76     │  Self-emp-not-inc │ 174309 │  Masters      │ 14           │\n",
       "│ 10   │ 62     │  Private          │ 270092 │  Masters      │ 14           │\n",
       "⋮\n",
       "│ 1162 │ 63     │  ?                │ 126540 │  Some-college │ 10           │\n",
       "│ 1163 │ 75     │  Self-emp-not-inc │ 192813 │  Masters      │ 14           │\n",
       "│ 1164 │ 74     │  Self-emp-not-inc │ 199136 │  Bachelors    │ 13           │\n",
       "│ 1165 │ 62     │  Private          │ 170984 │  Some-college │ 10           │\n",
       "│ 1166 │ 60     │  Private          │ 56248  │  Some-college │ 10           │\n",
       "│ 1167 │ 61     │  Private          │ 149620 │  Some-college │ 10           │\n",
       "│ 1168 │ 66     │  Self-emp-not-inc │ 102686 │  Masters      │ 14           │\n",
       "│ 1169 │ 85     │  Private          │ 98611  │  Bachelors    │ 13           │\n",
       "│ 1170 │ 81     │  ?                │ 120478 │  Assoc-voc    │ 11           │\n",
       "│ 1171 │ 71     │  ?                │ 287372 │  Doctorate    │ 16           │\n",
       "│ 1172 │ 65     │  Self-emp-not-inc │ 99359  │  Prof-school  │ 15           │"
      ]
     },
     "execution_count": 64,
     "metadata": {},
     "output_type": "execute_result"
    }
   ],
   "source": [
    "df[ (df[:age] .>= 60) .& (df[:EducationNum] .>= 10) , :]"
   ]
  },
  {
   "cell_type": "code",
   "execution_count": 65,
   "metadata": {},
   "outputs": [
    {
     "data": {
      "text/html": [
       "<table class=\"data-frame\"><thead><tr><th></th><th>age</th><th>workclass</th><th>fnlwgt</th><th>education</th><th>EducationNum</th><th>MaritalStatus</th><th>occupation</th><th>relationship</th><th>race</th><th>Gender</th><th>CapitalGain</th><th>CapitalLoss</th><th>HoursperWeek</th><th>NativeCountry</th><th>class</th></tr><tr><th></th><th>Int64⍰</th><th>String⍰</th><th>Int64⍰</th><th>String⍰</th><th>Int64⍰</th><th>String⍰</th><th>String⍰</th><th>String⍰</th><th>String⍰</th><th>String⍰</th><th>Int64⍰</th><th>Int64⍰</th><th>Int64⍰</th><th>String⍰</th><th>String⍰</th></tr></thead><tbody><p>1,823 rows × 15 columns</p><tr><th>1</th><td>79</td><td> Private</td><td>124744</td><td> Some-college</td><td>10</td><td> Married-civ-spouse</td><td> Prof-specialty</td><td> Other-relative</td><td> White</td><td> Male</td><td>0</td><td>0</td><td>20</td><td> United-States</td><td> &lt;=50K</td></tr><tr><th>2</th><td>67</td><td> ?</td><td>212759</td><td> 10th</td><td>6</td><td> Married-civ-spouse</td><td> ?</td><td> Husband</td><td> White</td><td> Male</td><td>0</td><td>0</td><td>2</td><td> United-States</td><td> &lt;=50K</td></tr><tr><th>3</th><td>76</td><td> Private</td><td>124191</td><td> Masters</td><td>14</td><td> Married-civ-spouse</td><td> Exec-managerial</td><td> Husband</td><td> White</td><td> Male</td><td>0</td><td>0</td><td>40</td><td> United-States</td><td> &gt;50K</td></tr><tr><th>4</th><td>61</td><td> Self-emp-inc</td><td>66614</td><td> HS-grad</td><td>9</td><td> Married-civ-spouse</td><td> Craft-repair</td><td> Husband</td><td> White</td><td> Male</td><td>0</td><td>0</td><td>40</td><td> United-States</td><td> &lt;=50K</td></tr><tr><th>5</th><td>70</td><td> Private</td><td>105376</td><td> Some-college</td><td>10</td><td> Never-married</td><td> Tech-support</td><td> Other-relative</td><td> White</td><td> Male</td><td>0</td><td>0</td><td>40</td><td> United-States</td><td> &lt;=50K</td></tr><tr><th>6</th><td>64</td><td> Private</td><td>181232</td><td> 11th</td><td>7</td><td> Married-civ-spouse</td><td> Craft-repair</td><td> Husband</td><td> White</td><td> Male</td><td>0</td><td>2179</td><td>40</td><td> United-States</td><td> &lt;=50K</td></tr><tr><th>7</th><td>71</td><td> Self-emp-not-inc</td><td>494223</td><td> Some-college</td><td>10</td><td> Separated</td><td> Sales</td><td> Unmarried</td><td> Black</td><td> Male</td><td>0</td><td>1816</td><td>2</td><td> United-States</td><td> &lt;=50K</td></tr><tr><th>8</th><td>60</td><td> Private</td><td>85815</td><td> HS-grad</td><td>9</td><td> Married-civ-spouse</td><td> Craft-repair</td><td> Husband</td><td> Asian-Pac-Islander</td><td> Male</td><td>0</td><td>0</td><td>40</td><td> United-States</td><td> &lt;=50K</td></tr><tr><th>9</th><td>64</td><td> ?</td><td>187656</td><td> 1st-4th</td><td>2</td><td> Divorced</td><td> ?</td><td> Not-in-family</td><td> White</td><td> Male</td><td>0</td><td>0</td><td>40</td><td> United-States</td><td> &lt;=50K</td></tr><tr><th>10</th><td>90</td><td> Private</td><td>51744</td><td> HS-grad</td><td>9</td><td> Never-married</td><td> Other-service</td><td> Not-in-family</td><td> Black</td><td> Male</td><td>0</td><td>2206</td><td>40</td><td> United-States</td><td> &lt;=50K</td></tr><tr><th>11</th><td>66</td><td> Self-emp-not-inc</td><td>167687</td><td> HS-grad</td><td>9</td><td> Married-civ-spouse</td><td> Farming-fishing</td><td> Husband</td><td> White</td><td> Male</td><td>1409</td><td>0</td><td>50</td><td> United-States</td><td> &lt;=50K</td></tr><tr><th>12</th><td>64</td><td> Private</td><td>21174</td><td> HS-grad</td><td>9</td><td> Married-civ-spouse</td><td> Exec-managerial</td><td> Husband</td><td> White</td><td> Male</td><td>0</td><td>0</td><td>40</td><td> United-States</td><td> &gt;50K</td></tr><tr><th>13</th><td>61</td><td> Private</td><td>69867</td><td> HS-grad</td><td>9</td><td> Married-civ-spouse</td><td> Exec-managerial</td><td> Husband</td><td> White</td><td> Male</td><td>0</td><td>0</td><td>40</td><td> United-States</td><td> &gt;50K</td></tr><tr><th>14</th><td>65</td><td> Private</td><td>111095</td><td> HS-grad</td><td>9</td><td> Married-civ-spouse</td><td> Transport-moving</td><td> Husband</td><td> White</td><td> Male</td><td>0</td><td>0</td><td>16</td><td> United-States</td><td> &lt;=50K</td></tr><tr><th>15</th><td>77</td><td> Self-emp-not-inc</td><td>138714</td><td> Some-college</td><td>10</td><td> Married-civ-spouse</td><td> Sales</td><td> Husband</td><td> White</td><td> Male</td><td>0</td><td>0</td><td>40</td><td> United-States</td><td> &lt;=50K</td></tr><tr><th>16</th><td>76</td><td> Self-emp-not-inc</td><td>174309</td><td> Masters</td><td>14</td><td> Married-civ-spouse</td><td> Craft-repair</td><td> Husband</td><td> White</td><td> Male</td><td>0</td><td>0</td><td>10</td><td> United-States</td><td> &lt;=50K</td></tr><tr><th>17</th><td>63</td><td> Self-emp-not-inc</td><td>78383</td><td> HS-grad</td><td>9</td><td> Married-civ-spouse</td><td> Farming-fishing</td><td> Husband</td><td> White</td><td> Male</td><td>0</td><td>0</td><td>45</td><td> United-States</td><td> &lt;=50K</td></tr><tr><th>18</th><td>66</td><td> Private</td><td>127921</td><td> HS-grad</td><td>9</td><td> Never-married</td><td> Transport-moving</td><td> Not-in-family</td><td> White</td><td> Male</td><td>2050</td><td>0</td><td>55</td><td> United-States</td><td> &lt;=50K</td></tr><tr><th>19</th><td>67</td><td> ?</td><td>36135</td><td> 11th</td><td>7</td><td> Married-civ-spouse</td><td> ?</td><td> Husband</td><td> White</td><td> Male</td><td>0</td><td>0</td><td>8</td><td> United-States</td><td> &lt;=50K</td></tr><tr><th>20</th><td>65</td><td> Private</td><td>161400</td><td> 11th</td><td>7</td><td> Widowed</td><td> Other-service</td><td> Unmarried</td><td> Other</td><td> Male</td><td>0</td><td>0</td><td>40</td><td> United-States</td><td> &lt;=50K</td></tr><tr><th>21</th><td>62</td><td> Private</td><td>270092</td><td> Masters</td><td>14</td><td> Married-civ-spouse</td><td> Prof-specialty</td><td> Husband</td><td> White</td><td> Male</td><td>0</td><td>0</td><td>40</td><td> United-States</td><td> &gt;50K</td></tr><tr><th>22</th><td>63</td><td> Self-emp-inc</td><td>222289</td><td> HS-grad</td><td>9</td><td> Married-civ-spouse</td><td> Exec-managerial</td><td> Husband</td><td> White</td><td> Male</td><td>0</td><td>0</td><td>40</td><td> United-States</td><td> &gt;50K</td></tr><tr><th>23</th><td>80</td><td> ?</td><td>107762</td><td> HS-grad</td><td>9</td><td> Widowed</td><td> ?</td><td> Not-in-family</td><td> White</td><td> Male</td><td>0</td><td>0</td><td>24</td><td> United-States</td><td> &lt;=50K</td></tr><tr><th>24</th><td>60</td><td> Private</td><td>245062</td><td> HS-grad</td><td>9</td><td> Married-civ-spouse</td><td> Craft-repair</td><td> Husband</td><td> White</td><td> Male</td><td>0</td><td>0</td><td>40</td><td> United-States</td><td> &gt;50K</td></tr><tr><th>25</th><td>60</td><td> Private</td><td>201965</td><td> Some-college</td><td>10</td><td> Never-married</td><td> Prof-specialty</td><td> Unmarried</td><td> White</td><td> Male</td><td>0</td><td>0</td><td>40</td><td> United-States</td><td> &gt;50K</td></tr><tr><th>26</th><td>63</td><td> ?</td><td>401531</td><td> 1st-4th</td><td>2</td><td> Married-civ-spouse</td><td> ?</td><td> Husband</td><td> White</td><td> Male</td><td>0</td><td>0</td><td>35</td><td> United-States</td><td> &lt;=50K</td></tr><tr><th>27</th><td>72</td><td> ?</td><td>303588</td><td> HS-grad</td><td>9</td><td> Married-civ-spouse</td><td> ?</td><td> Husband</td><td> White</td><td> Male</td><td>0</td><td>0</td><td>20</td><td> United-States</td><td> &lt;=50K</td></tr><tr><th>28</th><td>62</td><td> Local-gov</td><td>114060</td><td> HS-grad</td><td>9</td><td> Married-civ-spouse</td><td> Transport-moving</td><td> Husband</td><td> White</td><td> Male</td><td>0</td><td>0</td><td>40</td><td> United-States</td><td> &lt;=50K</td></tr><tr><th>29</th><td>67</td><td> Private</td><td>231559</td><td> Prof-school</td><td>15</td><td> Married-civ-spouse</td><td> Prof-specialty</td><td> Husband</td><td> White</td><td> Male</td><td>20051</td><td>0</td><td>48</td><td> United-States</td><td> &gt;50K</td></tr><tr><th>30</th><td>65</td><td> ?</td><td>195733</td><td> Some-college</td><td>10</td><td> Married-civ-spouse</td><td> ?</td><td> Husband</td><td> White</td><td> Male</td><td>0</td><td>0</td><td>30</td><td> United-States</td><td> &gt;50K</td></tr><tr><th>&vellip;</th><td>&vellip;</td><td>&vellip;</td><td>&vellip;</td><td>&vellip;</td><td>&vellip;</td><td>&vellip;</td><td>&vellip;</td><td>&vellip;</td><td>&vellip;</td><td>&vellip;</td><td>&vellip;</td><td>&vellip;</td><td>&vellip;</td><td>&vellip;</td><td>&vellip;</td></tr></tbody></table>"
      ],
      "text/latex": [
       "\\begin{tabular}{r|ccccccccccccccc}\n",
       "\t& age & workclass & fnlwgt & education & EducationNum & MaritalStatus & occupation & relationship & race & Gender & CapitalGain & CapitalLoss & HoursperWeek & NativeCountry & class\\\\\n",
       "\t\\hline\n",
       "\t& Int64⍰ & String⍰ & Int64⍰ & String⍰ & Int64⍰ & String⍰ & String⍰ & String⍰ & String⍰ & String⍰ & Int64⍰ & Int64⍰ & Int64⍰ & String⍰ & String⍰\\\\\n",
       "\t\\hline\n",
       "\t1 & 79 &  Private & 124744 &  Some-college & 10 &  Married-civ-spouse &  Prof-specialty &  Other-relative &  White &  Male & 0 & 0 & 20 &  United-States &  <=50K \\\\\n",
       "\t2 & 67 &  ? & 212759 &  10th & 6 &  Married-civ-spouse &  ? &  Husband &  White &  Male & 0 & 0 & 2 &  United-States &  <=50K \\\\\n",
       "\t3 & 76 &  Private & 124191 &  Masters & 14 &  Married-civ-spouse &  Exec-managerial &  Husband &  White &  Male & 0 & 0 & 40 &  United-States &  >50K \\\\\n",
       "\t4 & 61 &  Self-emp-inc & 66614 &  HS-grad & 9 &  Married-civ-spouse &  Craft-repair &  Husband &  White &  Male & 0 & 0 & 40 &  United-States &  <=50K \\\\\n",
       "\t5 & 70 &  Private & 105376 &  Some-college & 10 &  Never-married &  Tech-support &  Other-relative &  White &  Male & 0 & 0 & 40 &  United-States &  <=50K \\\\\n",
       "\t6 & 64 &  Private & 181232 &  11th & 7 &  Married-civ-spouse &  Craft-repair &  Husband &  White &  Male & 0 & 2179 & 40 &  United-States &  <=50K \\\\\n",
       "\t7 & 71 &  Self-emp-not-inc & 494223 &  Some-college & 10 &  Separated &  Sales &  Unmarried &  Black &  Male & 0 & 1816 & 2 &  United-States &  <=50K \\\\\n",
       "\t8 & 60 &  Private & 85815 &  HS-grad & 9 &  Married-civ-spouse &  Craft-repair &  Husband &  Asian-Pac-Islander &  Male & 0 & 0 & 40 &  United-States &  <=50K \\\\\n",
       "\t9 & 64 &  ? & 187656 &  1st-4th & 2 &  Divorced &  ? &  Not-in-family &  White &  Male & 0 & 0 & 40 &  United-States &  <=50K \\\\\n",
       "\t10 & 90 &  Private & 51744 &  HS-grad & 9 &  Never-married &  Other-service &  Not-in-family &  Black &  Male & 0 & 2206 & 40 &  United-States &  <=50K \\\\\n",
       "\t11 & 66 &  Self-emp-not-inc & 167687 &  HS-grad & 9 &  Married-civ-spouse &  Farming-fishing &  Husband &  White &  Male & 1409 & 0 & 50 &  United-States &  <=50K \\\\\n",
       "\t12 & 64 &  Private & 21174 &  HS-grad & 9 &  Married-civ-spouse &  Exec-managerial &  Husband &  White &  Male & 0 & 0 & 40 &  United-States &  >50K \\\\\n",
       "\t13 & 61 &  Private & 69867 &  HS-grad & 9 &  Married-civ-spouse &  Exec-managerial &  Husband &  White &  Male & 0 & 0 & 40 &  United-States &  >50K \\\\\n",
       "\t14 & 65 &  Private & 111095 &  HS-grad & 9 &  Married-civ-spouse &  Transport-moving &  Husband &  White &  Male & 0 & 0 & 16 &  United-States &  <=50K \\\\\n",
       "\t15 & 77 &  Self-emp-not-inc & 138714 &  Some-college & 10 &  Married-civ-spouse &  Sales &  Husband &  White &  Male & 0 & 0 & 40 &  United-States &  <=50K \\\\\n",
       "\t16 & 76 &  Self-emp-not-inc & 174309 &  Masters & 14 &  Married-civ-spouse &  Craft-repair &  Husband &  White &  Male & 0 & 0 & 10 &  United-States &  <=50K \\\\\n",
       "\t17 & 63 &  Self-emp-not-inc & 78383 &  HS-grad & 9 &  Married-civ-spouse &  Farming-fishing &  Husband &  White &  Male & 0 & 0 & 45 &  United-States &  <=50K \\\\\n",
       "\t18 & 66 &  Private & 127921 &  HS-grad & 9 &  Never-married &  Transport-moving &  Not-in-family &  White &  Male & 2050 & 0 & 55 &  United-States &  <=50K \\\\\n",
       "\t19 & 67 &  ? & 36135 &  11th & 7 &  Married-civ-spouse &  ? &  Husband &  White &  Male & 0 & 0 & 8 &  United-States &  <=50K \\\\\n",
       "\t20 & 65 &  Private & 161400 &  11th & 7 &  Widowed &  Other-service &  Unmarried &  Other &  Male & 0 & 0 & 40 &  United-States &  <=50K \\\\\n",
       "\t21 & 62 &  Private & 270092 &  Masters & 14 &  Married-civ-spouse &  Prof-specialty &  Husband &  White &  Male & 0 & 0 & 40 &  United-States &  >50K \\\\\n",
       "\t22 & 63 &  Self-emp-inc & 222289 &  HS-grad & 9 &  Married-civ-spouse &  Exec-managerial &  Husband &  White &  Male & 0 & 0 & 40 &  United-States &  >50K \\\\\n",
       "\t23 & 80 &  ? & 107762 &  HS-grad & 9 &  Widowed &  ? &  Not-in-family &  White &  Male & 0 & 0 & 24 &  United-States &  <=50K \\\\\n",
       "\t24 & 60 &  Private & 245062 &  HS-grad & 9 &  Married-civ-spouse &  Craft-repair &  Husband &  White &  Male & 0 & 0 & 40 &  United-States &  >50K \\\\\n",
       "\t25 & 60 &  Private & 201965 &  Some-college & 10 &  Never-married &  Prof-specialty &  Unmarried &  White &  Male & 0 & 0 & 40 &  United-States &  >50K \\\\\n",
       "\t26 & 63 &  ? & 401531 &  1st-4th & 2 &  Married-civ-spouse &  ? &  Husband &  White &  Male & 0 & 0 & 35 &  United-States &  <=50K \\\\\n",
       "\t27 & 72 &  ? & 303588 &  HS-grad & 9 &  Married-civ-spouse &  ? &  Husband &  White &  Male & 0 & 0 & 20 &  United-States &  <=50K \\\\\n",
       "\t28 & 62 &  Local-gov & 114060 &  HS-grad & 9 &  Married-civ-spouse &  Transport-moving &  Husband &  White &  Male & 0 & 0 & 40 &  United-States &  <=50K \\\\\n",
       "\t29 & 67 &  Private & 231559 &  Prof-school & 15 &  Married-civ-spouse &  Prof-specialty &  Husband &  White &  Male & 20051 & 0 & 48 &  United-States &  >50K \\\\\n",
       "\t30 & 65 &  ? & 195733 &  Some-college & 10 &  Married-civ-spouse &  ? &  Husband &  White &  Male & 0 & 0 & 30 &  United-States &  >50K \\\\\n",
       "\t$\\dots$ & $\\dots$ & $\\dots$ & $\\dots$ & $\\dots$ & $\\dots$ & $\\dots$ & $\\dots$ & $\\dots$ & $\\dots$ & $\\dots$ & $\\dots$ & $\\dots$ & $\\dots$ & $\\dots$ & $\\dots$ \\\\\n",
       "\\end{tabular}\n"
      ],
      "text/plain": [
       "1823×15 DataFrame. Omitted printing of 10 columns\n",
       "│ Row  │ age    │ workclass         │ fnlwgt │ education     │ EducationNum │\n",
       "│      │ \u001b[90mInt64⍰\u001b[39m │ \u001b[90mString⍰\u001b[39m           │ \u001b[90mInt64⍰\u001b[39m │ \u001b[90mString⍰\u001b[39m       │ \u001b[90mInt64⍰\u001b[39m       │\n",
       "├──────┼────────┼───────────────────┼────────┼───────────────┼──────────────┤\n",
       "│ 1    │ 79     │  Private          │ 124744 │  Some-college │ 10           │\n",
       "│ 2    │ 67     │  ?                │ 212759 │  10th         │ 6            │\n",
       "│ 3    │ 76     │  Private          │ 124191 │  Masters      │ 14           │\n",
       "│ 4    │ 61     │  Self-emp-inc     │ 66614  │  HS-grad      │ 9            │\n",
       "│ 5    │ 70     │  Private          │ 105376 │  Some-college │ 10           │\n",
       "│ 6    │ 64     │  Private          │ 181232 │  11th         │ 7            │\n",
       "│ 7    │ 71     │  Self-emp-not-inc │ 494223 │  Some-college │ 10           │\n",
       "│ 8    │ 60     │  Private          │ 85815  │  HS-grad      │ 9            │\n",
       "│ 9    │ 64     │  ?                │ 187656 │  1st-4th      │ 2            │\n",
       "│ 10   │ 90     │  Private          │ 51744  │  HS-grad      │ 9            │\n",
       "⋮\n",
       "│ 1813 │ 66     │  Self-emp-not-inc │ 102686 │  Masters      │ 14           │\n",
       "│ 1814 │ 61     │  Private          │ 137554 │  7th-8th      │ 4            │\n",
       "│ 1815 │ 85     │  Private          │ 98611  │  Bachelors    │ 13           │\n",
       "│ 1816 │ 61     │  Private          │ 355645 │  HS-grad      │ 9            │\n",
       "│ 1817 │ 60     │  ?                │ 134152 │  9th          │ 5            │\n",
       "│ 1818 │ 82     │  ?                │ 403910 │  HS-grad      │ 9            │\n",
       "│ 1819 │ 71     │  Private          │ 138145 │  9th          │ 5            │\n",
       "│ 1820 │ 66     │  Federal-gov      │ 47358  │  10th         │ 6            │\n",
       "│ 1821 │ 71     │  ?                │ 287372 │  Doctorate    │ 16           │\n",
       "│ 1822 │ 72     │  ?                │ 129912 │  HS-grad      │ 9            │\n",
       "│ 1823 │ 65     │  Self-emp-not-inc │ 99359  │  Prof-school  │ 15           │"
      ]
     },
     "execution_count": 65,
     "metadata": {},
     "output_type": "execute_result"
    }
   ],
   "source": [
    "df[ (df[:age] .>= 60) .& (strip.(df[:Gender]) .== \"Male\") , :]  # string columns have space for each, strip removes it"
   ]
  },
  {
   "cell_type": "code",
   "execution_count": 66,
   "metadata": {},
   "outputs": [
    {
     "data": {
      "text/html": [
       "<table class=\"data-frame\"><thead><tr><th></th><th>age</th><th>workclass</th><th>fnlwgt</th><th>education</th><th>EducationNum</th><th>MaritalStatus</th><th>occupation</th><th>relationship</th><th>race</th><th>Gender</th><th>CapitalGain</th><th>CapitalLoss</th><th>HoursperWeek</th><th>NativeCountry</th><th>class</th></tr><tr><th></th><th>Int64⍰</th><th>String⍰</th><th>Int64⍰</th><th>String⍰</th><th>Int64⍰</th><th>String⍰</th><th>String⍰</th><th>String⍰</th><th>String⍰</th><th>String⍰</th><th>Int64⍰</th><th>Int64⍰</th><th>Int64⍰</th><th>String⍰</th><th>String⍰</th></tr></thead><tbody><p>2,644 rows × 15 columns</p><tr><th>1</th><td>79</td><td> Private</td><td>124744</td><td> Some-college</td><td>10</td><td> Married-civ-spouse</td><td> Prof-specialty</td><td> Other-relative</td><td> White</td><td> Male</td><td>0</td><td>0</td><td>20</td><td> United-States</td><td> &lt;=50K</td></tr><tr><th>2</th><td>67</td><td> ?</td><td>212759</td><td> 10th</td><td>6</td><td> Married-civ-spouse</td><td> ?</td><td> Husband</td><td> White</td><td> Male</td><td>0</td><td>0</td><td>2</td><td> United-States</td><td> &lt;=50K</td></tr><tr><th>3</th><td>76</td><td> Private</td><td>124191</td><td> Masters</td><td>14</td><td> Married-civ-spouse</td><td> Exec-managerial</td><td> Husband</td><td> White</td><td> Male</td><td>0</td><td>0</td><td>40</td><td> United-States</td><td> &gt;50K</td></tr><tr><th>4</th><td>61</td><td> Self-emp-inc</td><td>66614</td><td> HS-grad</td><td>9</td><td> Married-civ-spouse</td><td> Craft-repair</td><td> Husband</td><td> White</td><td> Male</td><td>0</td><td>0</td><td>40</td><td> United-States</td><td> &lt;=50K</td></tr><tr><th>5</th><td>70</td><td> Private</td><td>105376</td><td> Some-college</td><td>10</td><td> Never-married</td><td> Tech-support</td><td> Other-relative</td><td> White</td><td> Male</td><td>0</td><td>0</td><td>40</td><td> United-States</td><td> &lt;=50K</td></tr><tr><th>6</th><td>64</td><td> Private</td><td>181232</td><td> 11th</td><td>7</td><td> Married-civ-spouse</td><td> Craft-repair</td><td> Husband</td><td> White</td><td> Male</td><td>0</td><td>2179</td><td>40</td><td> United-States</td><td> &lt;=50K</td></tr><tr><th>7</th><td>71</td><td> Self-emp-not-inc</td><td>494223</td><td> Some-college</td><td>10</td><td> Separated</td><td> Sales</td><td> Unmarried</td><td> Black</td><td> Male</td><td>0</td><td>1816</td><td>2</td><td> United-States</td><td> &lt;=50K</td></tr><tr><th>8</th><td>68</td><td> ?</td><td>38317</td><td> 1st-4th</td><td>2</td><td> Divorced</td><td> ?</td><td> Not-in-family</td><td> White</td><td> Female</td><td>0</td><td>0</td><td>20</td><td> United-States</td><td> &lt;=50K</td></tr><tr><th>9</th><td>66</td><td> Local-gov</td><td>54826</td><td> Assoc-voc</td><td>11</td><td> Widowed</td><td> Prof-specialty</td><td> Not-in-family</td><td> White</td><td> Female</td><td>0</td><td>0</td><td>20</td><td> United-States</td><td> &lt;=50K</td></tr><tr><th>10</th><td>60</td><td> Private</td><td>85815</td><td> HS-grad</td><td>9</td><td> Married-civ-spouse</td><td> Craft-repair</td><td> Husband</td><td> Asian-Pac-Islander</td><td> Male</td><td>0</td><td>0</td><td>40</td><td> United-States</td><td> &lt;=50K</td></tr><tr><th>11</th><td>64</td><td> ?</td><td>187656</td><td> 1st-4th</td><td>2</td><td> Divorced</td><td> ?</td><td> Not-in-family</td><td> White</td><td> Male</td><td>0</td><td>0</td><td>40</td><td> United-States</td><td> &lt;=50K</td></tr><tr><th>12</th><td>90</td><td> Private</td><td>51744</td><td> HS-grad</td><td>9</td><td> Never-married</td><td> Other-service</td><td> Not-in-family</td><td> Black</td><td> Male</td><td>0</td><td>2206</td><td>40</td><td> United-States</td><td> &lt;=50K</td></tr><tr><th>13</th><td>60</td><td> ?</td><td>24215</td><td> 10th</td><td>6</td><td> Divorced</td><td> ?</td><td> Not-in-family</td><td> Amer-Indian-Eskimo</td><td> Female</td><td>0</td><td>0</td><td>10</td><td> United-States</td><td> &lt;=50K</td></tr><tr><th>14</th><td>66</td><td> Self-emp-not-inc</td><td>167687</td><td> HS-grad</td><td>9</td><td> Married-civ-spouse</td><td> Farming-fishing</td><td> Husband</td><td> White</td><td> Male</td><td>1409</td><td>0</td><td>50</td><td> United-States</td><td> &lt;=50K</td></tr><tr><th>15</th><td>75</td><td> Private</td><td>314209</td><td> Assoc-voc</td><td>11</td><td> Widowed</td><td> Adm-clerical</td><td> Not-in-family</td><td> White</td><td> Female</td><td>0</td><td>0</td><td>20</td><td> Columbia</td><td> &lt;=50K</td></tr><tr><th>16</th><td>65</td><td> Private</td><td>176796</td><td> HS-grad</td><td>9</td><td> Divorced</td><td> Adm-clerical</td><td> Not-in-family</td><td> White</td><td> Female</td><td>0</td><td>0</td><td>40</td><td> United-States</td><td> &lt;=50K</td></tr><tr><th>17</th><td>64</td><td> Private</td><td>21174</td><td> HS-grad</td><td>9</td><td> Married-civ-spouse</td><td> Exec-managerial</td><td> Husband</td><td> White</td><td> Male</td><td>0</td><td>0</td><td>40</td><td> United-States</td><td> &gt;50K</td></tr><tr><th>18</th><td>61</td><td> Private</td><td>69867</td><td> HS-grad</td><td>9</td><td> Married-civ-spouse</td><td> Exec-managerial</td><td> Husband</td><td> White</td><td> Male</td><td>0</td><td>0</td><td>40</td><td> United-States</td><td> &gt;50K</td></tr><tr><th>19</th><td>60</td><td> Private</td><td>173960</td><td> Bachelors</td><td>13</td><td> Divorced</td><td> Prof-specialty</td><td> Not-in-family</td><td> White</td><td> Female</td><td>0</td><td>0</td><td>42</td><td> United-States</td><td> &lt;=50K</td></tr><tr><th>20</th><td>65</td><td> Private</td><td>111095</td><td> HS-grad</td><td>9</td><td> Married-civ-spouse</td><td> Transport-moving</td><td> Husband</td><td> White</td><td> Male</td><td>0</td><td>0</td><td>16</td><td> United-States</td><td> &lt;=50K</td></tr><tr><th>21</th><td>77</td><td> Self-emp-not-inc</td><td>138714</td><td> Some-college</td><td>10</td><td> Married-civ-spouse</td><td> Sales</td><td> Husband</td><td> White</td><td> Male</td><td>0</td><td>0</td><td>40</td><td> United-States</td><td> &lt;=50K</td></tr><tr><th>22</th><td>62</td><td> Private</td><td>159841</td><td> HS-grad</td><td>9</td><td> Widowed</td><td> Other-service</td><td> Not-in-family</td><td> White</td><td> Female</td><td>0</td><td>0</td><td>24</td><td> United-States</td><td> &lt;=50K</td></tr><tr><th>23</th><td>76</td><td> Self-emp-not-inc</td><td>174309</td><td> Masters</td><td>14</td><td> Married-civ-spouse</td><td> Craft-repair</td><td> Husband</td><td> White</td><td> Male</td><td>0</td><td>0</td><td>10</td><td> United-States</td><td> &lt;=50K</td></tr><tr><th>24</th><td>63</td><td> Self-emp-not-inc</td><td>78383</td><td> HS-grad</td><td>9</td><td> Married-civ-spouse</td><td> Farming-fishing</td><td> Husband</td><td> White</td><td> Male</td><td>0</td><td>0</td><td>45</td><td> United-States</td><td> &lt;=50K</td></tr><tr><th>25</th><td>66</td><td> Private</td><td>127921</td><td> HS-grad</td><td>9</td><td> Never-married</td><td> Transport-moving</td><td> Not-in-family</td><td> White</td><td> Male</td><td>2050</td><td>0</td><td>55</td><td> United-States</td><td> &lt;=50K</td></tr><tr><th>26</th><td>67</td><td> ?</td><td>36135</td><td> 11th</td><td>7</td><td> Married-civ-spouse</td><td> ?</td><td> Husband</td><td> White</td><td> Male</td><td>0</td><td>0</td><td>8</td><td> United-States</td><td> &lt;=50K</td></tr><tr><th>27</th><td>65</td><td> Private</td><td>161400</td><td> 11th</td><td>7</td><td> Widowed</td><td> Other-service</td><td> Unmarried</td><td> Other</td><td> Male</td><td>0</td><td>0</td><td>40</td><td> United-States</td><td> &lt;=50K</td></tr><tr><th>28</th><td>62</td><td> Private</td><td>270092</td><td> Masters</td><td>14</td><td> Married-civ-spouse</td><td> Prof-specialty</td><td> Husband</td><td> White</td><td> Male</td><td>0</td><td>0</td><td>40</td><td> United-States</td><td> &gt;50K</td></tr><tr><th>29</th><td>63</td><td> Self-emp-inc</td><td>222289</td><td> HS-grad</td><td>9</td><td> Married-civ-spouse</td><td> Exec-managerial</td><td> Husband</td><td> White</td><td> Male</td><td>0</td><td>0</td><td>40</td><td> United-States</td><td> &gt;50K</td></tr><tr><th>30</th><td>80</td><td> ?</td><td>107762</td><td> HS-grad</td><td>9</td><td> Widowed</td><td> ?</td><td> Not-in-family</td><td> White</td><td> Male</td><td>0</td><td>0</td><td>24</td><td> United-States</td><td> &lt;=50K</td></tr><tr><th>&vellip;</th><td>&vellip;</td><td>&vellip;</td><td>&vellip;</td><td>&vellip;</td><td>&vellip;</td><td>&vellip;</td><td>&vellip;</td><td>&vellip;</td><td>&vellip;</td><td>&vellip;</td><td>&vellip;</td><td>&vellip;</td><td>&vellip;</td><td>&vellip;</td><td>&vellip;</td></tr></tbody></table>"
      ],
      "text/latex": [
       "\\begin{tabular}{r|ccccccccccccccc}\n",
       "\t& age & workclass & fnlwgt & education & EducationNum & MaritalStatus & occupation & relationship & race & Gender & CapitalGain & CapitalLoss & HoursperWeek & NativeCountry & class\\\\\n",
       "\t\\hline\n",
       "\t& Int64⍰ & String⍰ & Int64⍰ & String⍰ & Int64⍰ & String⍰ & String⍰ & String⍰ & String⍰ & String⍰ & Int64⍰ & Int64⍰ & Int64⍰ & String⍰ & String⍰\\\\\n",
       "\t\\hline\n",
       "\t1 & 79 &  Private & 124744 &  Some-college & 10 &  Married-civ-spouse &  Prof-specialty &  Other-relative &  White &  Male & 0 & 0 & 20 &  United-States &  <=50K \\\\\n",
       "\t2 & 67 &  ? & 212759 &  10th & 6 &  Married-civ-spouse &  ? &  Husband &  White &  Male & 0 & 0 & 2 &  United-States &  <=50K \\\\\n",
       "\t3 & 76 &  Private & 124191 &  Masters & 14 &  Married-civ-spouse &  Exec-managerial &  Husband &  White &  Male & 0 & 0 & 40 &  United-States &  >50K \\\\\n",
       "\t4 & 61 &  Self-emp-inc & 66614 &  HS-grad & 9 &  Married-civ-spouse &  Craft-repair &  Husband &  White &  Male & 0 & 0 & 40 &  United-States &  <=50K \\\\\n",
       "\t5 & 70 &  Private & 105376 &  Some-college & 10 &  Never-married &  Tech-support &  Other-relative &  White &  Male & 0 & 0 & 40 &  United-States &  <=50K \\\\\n",
       "\t6 & 64 &  Private & 181232 &  11th & 7 &  Married-civ-spouse &  Craft-repair &  Husband &  White &  Male & 0 & 2179 & 40 &  United-States &  <=50K \\\\\n",
       "\t7 & 71 &  Self-emp-not-inc & 494223 &  Some-college & 10 &  Separated &  Sales &  Unmarried &  Black &  Male & 0 & 1816 & 2 &  United-States &  <=50K \\\\\n",
       "\t8 & 68 &  ? & 38317 &  1st-4th & 2 &  Divorced &  ? &  Not-in-family &  White &  Female & 0 & 0 & 20 &  United-States &  <=50K \\\\\n",
       "\t9 & 66 &  Local-gov & 54826 &  Assoc-voc & 11 &  Widowed &  Prof-specialty &  Not-in-family &  White &  Female & 0 & 0 & 20 &  United-States &  <=50K \\\\\n",
       "\t10 & 60 &  Private & 85815 &  HS-grad & 9 &  Married-civ-spouse &  Craft-repair &  Husband &  Asian-Pac-Islander &  Male & 0 & 0 & 40 &  United-States &  <=50K \\\\\n",
       "\t11 & 64 &  ? & 187656 &  1st-4th & 2 &  Divorced &  ? &  Not-in-family &  White &  Male & 0 & 0 & 40 &  United-States &  <=50K \\\\\n",
       "\t12 & 90 &  Private & 51744 &  HS-grad & 9 &  Never-married &  Other-service &  Not-in-family &  Black &  Male & 0 & 2206 & 40 &  United-States &  <=50K \\\\\n",
       "\t13 & 60 &  ? & 24215 &  10th & 6 &  Divorced &  ? &  Not-in-family &  Amer-Indian-Eskimo &  Female & 0 & 0 & 10 &  United-States &  <=50K \\\\\n",
       "\t14 & 66 &  Self-emp-not-inc & 167687 &  HS-grad & 9 &  Married-civ-spouse &  Farming-fishing &  Husband &  White &  Male & 1409 & 0 & 50 &  United-States &  <=50K \\\\\n",
       "\t15 & 75 &  Private & 314209 &  Assoc-voc & 11 &  Widowed &  Adm-clerical &  Not-in-family &  White &  Female & 0 & 0 & 20 &  Columbia &  <=50K \\\\\n",
       "\t16 & 65 &  Private & 176796 &  HS-grad & 9 &  Divorced &  Adm-clerical &  Not-in-family &  White &  Female & 0 & 0 & 40 &  United-States &  <=50K \\\\\n",
       "\t17 & 64 &  Private & 21174 &  HS-grad & 9 &  Married-civ-spouse &  Exec-managerial &  Husband &  White &  Male & 0 & 0 & 40 &  United-States &  >50K \\\\\n",
       "\t18 & 61 &  Private & 69867 &  HS-grad & 9 &  Married-civ-spouse &  Exec-managerial &  Husband &  White &  Male & 0 & 0 & 40 &  United-States &  >50K \\\\\n",
       "\t19 & 60 &  Private & 173960 &  Bachelors & 13 &  Divorced &  Prof-specialty &  Not-in-family &  White &  Female & 0 & 0 & 42 &  United-States &  <=50K \\\\\n",
       "\t20 & 65 &  Private & 111095 &  HS-grad & 9 &  Married-civ-spouse &  Transport-moving &  Husband &  White &  Male & 0 & 0 & 16 &  United-States &  <=50K \\\\\n",
       "\t21 & 77 &  Self-emp-not-inc & 138714 &  Some-college & 10 &  Married-civ-spouse &  Sales &  Husband &  White &  Male & 0 & 0 & 40 &  United-States &  <=50K \\\\\n",
       "\t22 & 62 &  Private & 159841 &  HS-grad & 9 &  Widowed &  Other-service &  Not-in-family &  White &  Female & 0 & 0 & 24 &  United-States &  <=50K \\\\\n",
       "\t23 & 76 &  Self-emp-not-inc & 174309 &  Masters & 14 &  Married-civ-spouse &  Craft-repair &  Husband &  White &  Male & 0 & 0 & 10 &  United-States &  <=50K \\\\\n",
       "\t24 & 63 &  Self-emp-not-inc & 78383 &  HS-grad & 9 &  Married-civ-spouse &  Farming-fishing &  Husband &  White &  Male & 0 & 0 & 45 &  United-States &  <=50K \\\\\n",
       "\t25 & 66 &  Private & 127921 &  HS-grad & 9 &  Never-married &  Transport-moving &  Not-in-family &  White &  Male & 2050 & 0 & 55 &  United-States &  <=50K \\\\\n",
       "\t26 & 67 &  ? & 36135 &  11th & 7 &  Married-civ-spouse &  ? &  Husband &  White &  Male & 0 & 0 & 8 &  United-States &  <=50K \\\\\n",
       "\t27 & 65 &  Private & 161400 &  11th & 7 &  Widowed &  Other-service &  Unmarried &  Other &  Male & 0 & 0 & 40 &  United-States &  <=50K \\\\\n",
       "\t28 & 62 &  Private & 270092 &  Masters & 14 &  Married-civ-spouse &  Prof-specialty &  Husband &  White &  Male & 0 & 0 & 40 &  United-States &  >50K \\\\\n",
       "\t29 & 63 &  Self-emp-inc & 222289 &  HS-grad & 9 &  Married-civ-spouse &  Exec-managerial &  Husband &  White &  Male & 0 & 0 & 40 &  United-States &  >50K \\\\\n",
       "\t30 & 80 &  ? & 107762 &  HS-grad & 9 &  Widowed &  ? &  Not-in-family &  White &  Male & 0 & 0 & 24 &  United-States &  <=50K \\\\\n",
       "\t$\\dots$ & $\\dots$ & $\\dots$ & $\\dots$ & $\\dots$ & $\\dots$ & $\\dots$ & $\\dots$ & $\\dots$ & $\\dots$ & $\\dots$ & $\\dots$ & $\\dots$ & $\\dots$ & $\\dots$ & $\\dots$ \\\\\n",
       "\\end{tabular}\n"
      ],
      "text/plain": [
       "2644×15 DataFrame. Omitted printing of 10 columns\n",
       "│ Row  │ age    │ workclass         │ fnlwgt │ education     │ EducationNum │\n",
       "│      │ \u001b[90mInt64⍰\u001b[39m │ \u001b[90mString⍰\u001b[39m           │ \u001b[90mInt64⍰\u001b[39m │ \u001b[90mString⍰\u001b[39m       │ \u001b[90mInt64⍰\u001b[39m       │\n",
       "├──────┼────────┼───────────────────┼────────┼───────────────┼──────────────┤\n",
       "│ 1    │ 79     │  Private          │ 124744 │  Some-college │ 10           │\n",
       "│ 2    │ 67     │  ?                │ 212759 │  10th         │ 6            │\n",
       "│ 3    │ 76     │  Private          │ 124191 │  Masters      │ 14           │\n",
       "│ 4    │ 61     │  Self-emp-inc     │ 66614  │  HS-grad      │ 9            │\n",
       "│ 5    │ 70     │  Private          │ 105376 │  Some-college │ 10           │\n",
       "│ 6    │ 64     │  Private          │ 181232 │  11th         │ 7            │\n",
       "│ 7    │ 71     │  Self-emp-not-inc │ 494223 │  Some-college │ 10           │\n",
       "│ 8    │ 68     │  ?                │ 38317  │  1st-4th      │ 2            │\n",
       "│ 9    │ 66     │  Local-gov        │ 54826  │  Assoc-voc    │ 11           │\n",
       "│ 10   │ 60     │  Private          │ 85815  │  HS-grad      │ 9            │\n",
       "⋮\n",
       "│ 2634 │ 66     │  Private          │ 269665 │  HS-grad      │ 9            │\n",
       "│ 2635 │ 64     │  State-gov        │ 222966 │  7th-8th      │ 4            │\n",
       "│ 2636 │ 61     │  Private          │ 355645 │  HS-grad      │ 9            │\n",
       "│ 2637 │ 60     │  ?                │ 134152 │  9th          │ 5            │\n",
       "│ 2638 │ 82     │  ?                │ 403910 │  HS-grad      │ 9            │\n",
       "│ 2639 │ 71     │  Private          │ 138145 │  9th          │ 5            │\n",
       "│ 2640 │ 66     │  Federal-gov      │ 47358  │  10th         │ 6            │\n",
       "│ 2641 │ 81     │  ?                │ 120478 │  Assoc-voc    │ 11           │\n",
       "│ 2642 │ 71     │  ?                │ 287372 │  Doctorate    │ 16           │\n",
       "│ 2643 │ 72     │  ?                │ 129912 │  HS-grad      │ 9            │\n",
       "│ 2644 │ 65     │  Self-emp-not-inc │ 99359  │  Prof-school  │ 15           │"
      ]
     },
     "execution_count": 66,
     "metadata": {},
     "output_type": "execute_result"
    }
   ],
   "source": [
    "filter(r -> r[:age] >= 60, df)  # filtering func. on DataFrameRow, same with above"
   ]
  },
  {
   "cell_type": "code",
   "execution_count": 67,
   "metadata": {},
   "outputs": [],
   "source": [
    "grouped_df = groupby(df, :education);  # groups dataframe by workclass and returns sub dataframes"
   ]
  },
  {
   "cell_type": "code",
   "execution_count": 68,
   "metadata": {},
   "outputs": [
    {
     "data": {
      "text/plain": [
       "16"
      ]
     },
     "execution_count": 68,
     "metadata": {},
     "output_type": "execute_result"
    }
   ],
   "source": [
    "length(grouped_df)"
   ]
  },
  {
   "cell_type": "code",
   "execution_count": 69,
   "metadata": {},
   "outputs": [
    {
     "data": {
      "text/html": [
       "<table class=\"data-frame\"><thead><tr><th></th><th>age</th><th>workclass</th><th>fnlwgt</th><th>education</th><th>EducationNum</th><th>MaritalStatus</th><th>occupation</th><th>relationship</th><th>race</th><th>Gender</th><th>CapitalGain</th><th>CapitalLoss</th><th>HoursperWeek</th><th>NativeCountry</th><th>class</th></tr><tr><th></th><th>Int64⍰</th><th>String⍰</th><th>Int64⍰</th><th>String⍰</th><th>Int64⍰</th><th>String⍰</th><th>String⍰</th><th>String⍰</th><th>String⍰</th><th>String⍰</th><th>Int64⍰</th><th>Int64⍰</th><th>Int64⍰</th><th>String⍰</th><th>String⍰</th></tr></thead><tbody><p>5 rows × 15 columns</p><tr><th>1</th><td>39</td><td> State-gov</td><td>77516</td><td> Bachelors</td><td>13</td><td> Never-married</td><td> Adm-clerical</td><td> Not-in-family</td><td> White</td><td> Male</td><td>2174</td><td>0</td><td>40</td><td> United-States</td><td> &lt;=50K</td></tr><tr><th>2</th><td>50</td><td> Self-emp-not-inc</td><td>83311</td><td> Bachelors</td><td>13</td><td> Married-civ-spouse</td><td> Exec-managerial</td><td> Husband</td><td> White</td><td> Male</td><td>0</td><td>0</td><td>13</td><td> United-States</td><td> &lt;=50K</td></tr><tr><th>3</th><td>28</td><td> Private</td><td>338409</td><td> Bachelors</td><td>13</td><td> Married-civ-spouse</td><td> Prof-specialty</td><td> Wife</td><td> Black</td><td> Female</td><td>0</td><td>0</td><td>40</td><td> Cuba</td><td> &lt;=50K</td></tr><tr><th>4</th><td>42</td><td> Private</td><td>159449</td><td> Bachelors</td><td>13</td><td> Married-civ-spouse</td><td> Exec-managerial</td><td> Husband</td><td> White</td><td> Male</td><td>5178</td><td>0</td><td>40</td><td> United-States</td><td> &gt;50K</td></tr><tr><th>5</th><td>30</td><td> State-gov</td><td>141297</td><td> Bachelors</td><td>13</td><td> Married-civ-spouse</td><td> Prof-specialty</td><td> Husband</td><td> Asian-Pac-Islander</td><td> Male</td><td>0</td><td>0</td><td>40</td><td> India</td><td> &gt;50K</td></tr></tbody></table>"
      ],
      "text/latex": [
       "\\begin{tabular}{r|ccccccccccccccc}\n",
       "\t& age & workclass & fnlwgt & education & EducationNum & MaritalStatus & occupation & relationship & race & Gender & CapitalGain & CapitalLoss & HoursperWeek & NativeCountry & class\\\\\n",
       "\t\\hline\n",
       "\t& Int64⍰ & String⍰ & Int64⍰ & String⍰ & Int64⍰ & String⍰ & String⍰ & String⍰ & String⍰ & String⍰ & Int64⍰ & Int64⍰ & Int64⍰ & String⍰ & String⍰\\\\\n",
       "\t\\hline\n",
       "\t1 & 39 &  State-gov & 77516 &  Bachelors & 13 &  Never-married &  Adm-clerical &  Not-in-family &  White &  Male & 2174 & 0 & 40 &  United-States &  <=50K \\\\\n",
       "\t2 & 50 &  Self-emp-not-inc & 83311 &  Bachelors & 13 &  Married-civ-spouse &  Exec-managerial &  Husband &  White &  Male & 0 & 0 & 13 &  United-States &  <=50K \\\\\n",
       "\t3 & 28 &  Private & 338409 &  Bachelors & 13 &  Married-civ-spouse &  Prof-specialty &  Wife &  Black &  Female & 0 & 0 & 40 &  Cuba &  <=50K \\\\\n",
       "\t4 & 42 &  Private & 159449 &  Bachelors & 13 &  Married-civ-spouse &  Exec-managerial &  Husband &  White &  Male & 5178 & 0 & 40 &  United-States &  >50K \\\\\n",
       "\t5 & 30 &  State-gov & 141297 &  Bachelors & 13 &  Married-civ-spouse &  Prof-specialty &  Husband &  Asian-Pac-Islander &  Male & 0 & 0 & 40 &  India &  >50K \\\\\n",
       "\\end{tabular}\n"
      ],
      "text/plain": [
       "5×15 DataFrame. Omitted printing of 10 columns\n",
       "│ Row │ age    │ workclass         │ fnlwgt │ education  │ EducationNum │\n",
       "│     │ \u001b[90mInt64⍰\u001b[39m │ \u001b[90mString⍰\u001b[39m           │ \u001b[90mInt64⍰\u001b[39m │ \u001b[90mString⍰\u001b[39m    │ \u001b[90mInt64⍰\u001b[39m       │\n",
       "├─────┼────────┼───────────────────┼────────┼────────────┼──────────────┤\n",
       "│ 1   │ 39     │  State-gov        │ 77516  │  Bachelors │ 13           │\n",
       "│ 2   │ 50     │  Self-emp-not-inc │ 83311  │  Bachelors │ 13           │\n",
       "│ 3   │ 28     │  Private          │ 338409 │  Bachelors │ 13           │\n",
       "│ 4   │ 42     │  Private          │ 159449 │  Bachelors │ 13           │\n",
       "│ 5   │ 30     │  State-gov        │ 141297 │  Bachelors │ 13           │"
      ]
     },
     "execution_count": 69,
     "metadata": {},
     "output_type": "execute_result"
    }
   ],
   "source": [
    "first(grouped_df[1], 5)  # 1st group is education=Bachelor, see first 5 elements from this dataframe"
   ]
  },
  {
   "cell_type": "code",
   "execution_count": 70,
   "metadata": {},
   "outputs": [
    {
     "data": {
      "text/html": [
       "<table class=\"data-frame\"><thead><tr><th></th><th>age</th><th>workclass</th><th>fnlwgt</th><th>education</th><th>EducationNum</th><th>MaritalStatus</th><th>occupation</th><th>relationship</th><th>race</th><th>Gender</th><th>CapitalGain</th><th>CapitalLoss</th><th>HoursperWeek</th><th>NativeCountry</th><th>class</th></tr><tr><th></th><th>Int64⍰</th><th>String⍰</th><th>Int64⍰</th><th>String⍰</th><th>Int64⍰</th><th>String⍰</th><th>String⍰</th><th>String⍰</th><th>String⍰</th><th>String⍰</th><th>Int64⍰</th><th>Int64⍰</th><th>Int64⍰</th><th>String⍰</th><th>String⍰</th></tr></thead><tbody><p>5 rows × 15 columns</p><tr><th>1</th><td>35</td><td> Private</td><td>92440</td><td> 12th</td><td>8</td><td> Divorced</td><td> Craft-repair</td><td> Not-in-family</td><td> White</td><td> Male</td><td>0</td><td>0</td><td>50</td><td> United-States</td><td> &gt;50K</td></tr><tr><th>2</th><td>52</td><td> ?</td><td>271749</td><td> 12th</td><td>8</td><td> Never-married</td><td> ?</td><td> Other-relative</td><td> Black</td><td> Male</td><td>594</td><td>0</td><td>40</td><td> United-States</td><td> &lt;=50K</td></tr><tr><th>3</th><td>39</td><td> Local-gov</td><td>207853</td><td> 12th</td><td>8</td><td> Married-civ-spouse</td><td> Tech-support</td><td> Husband</td><td> White</td><td> Male</td><td>0</td><td>0</td><td>50</td><td> United-States</td><td> &lt;=50K</td></tr><tr><th>4</th><td>18</td><td> ?</td><td>165532</td><td> 12th</td><td>8</td><td> Never-married</td><td> ?</td><td> Own-child</td><td> White</td><td> Male</td><td>0</td><td>0</td><td>25</td><td> United-States</td><td> &lt;=50K</td></tr><tr><th>5</th><td>44</td><td> Self-emp-not-inc</td><td>335183</td><td> 12th</td><td>8</td><td> Married-civ-spouse</td><td> Handlers-cleaners</td><td> Husband</td><td> Black</td><td> Male</td><td>0</td><td>0</td><td>40</td><td> United-States</td><td> &gt;50K</td></tr></tbody></table>"
      ],
      "text/latex": [
       "\\begin{tabular}{r|ccccccccccccccc}\n",
       "\t& age & workclass & fnlwgt & education & EducationNum & MaritalStatus & occupation & relationship & race & Gender & CapitalGain & CapitalLoss & HoursperWeek & NativeCountry & class\\\\\n",
       "\t\\hline\n",
       "\t& Int64⍰ & String⍰ & Int64⍰ & String⍰ & Int64⍰ & String⍰ & String⍰ & String⍰ & String⍰ & String⍰ & Int64⍰ & Int64⍰ & Int64⍰ & String⍰ & String⍰\\\\\n",
       "\t\\hline\n",
       "\t1 & 35 &  Private & 92440 &  12th & 8 &  Divorced &  Craft-repair &  Not-in-family &  White &  Male & 0 & 0 & 50 &  United-States &  >50K \\\\\n",
       "\t2 & 52 &  ? & 271749 &  12th & 8 &  Never-married &  ? &  Other-relative &  Black &  Male & 594 & 0 & 40 &  United-States &  <=50K \\\\\n",
       "\t3 & 39 &  Local-gov & 207853 &  12th & 8 &  Married-civ-spouse &  Tech-support &  Husband &  White &  Male & 0 & 0 & 50 &  United-States &  <=50K \\\\\n",
       "\t4 & 18 &  ? & 165532 &  12th & 8 &  Never-married &  ? &  Own-child &  White &  Male & 0 & 0 & 25 &  United-States &  <=50K \\\\\n",
       "\t5 & 44 &  Self-emp-not-inc & 335183 &  12th & 8 &  Married-civ-spouse &  Handlers-cleaners &  Husband &  Black &  Male & 0 & 0 & 40 &  United-States &  >50K \\\\\n",
       "\\end{tabular}\n"
      ],
      "text/plain": [
       "5×15 DataFrame. Omitted printing of 10 columns\n",
       "│ Row │ age    │ workclass         │ fnlwgt │ education │ EducationNum │\n",
       "│     │ \u001b[90mInt64⍰\u001b[39m │ \u001b[90mString⍰\u001b[39m           │ \u001b[90mInt64⍰\u001b[39m │ \u001b[90mString⍰\u001b[39m   │ \u001b[90mInt64⍰\u001b[39m       │\n",
       "├─────┼────────┼───────────────────┼────────┼───────────┼──────────────┤\n",
       "│ 1   │ 35     │  Private          │ 92440  │  12th     │ 8            │\n",
       "│ 2   │ 52     │  ?                │ 271749 │  12th     │ 8            │\n",
       "│ 3   │ 39     │  Local-gov        │ 207853 │  12th     │ 8            │\n",
       "│ 4   │ 18     │  ?                │ 165532 │  12th     │ 8            │\n",
       "│ 5   │ 44     │  Self-emp-not-inc │ 335183 │  12th     │ 8            │"
      ]
     },
     "execution_count": 70,
     "metadata": {},
     "output_type": "execute_result"
    }
   ],
   "source": [
    "first(grouped_df[16],5) # last group is education=12th, see first 5 elements from this dataframe"
   ]
  },
  {
   "cell_type": "code",
   "execution_count": 71,
   "metadata": {},
   "outputs": [
    {
     "data": {
      "text/html": [
       "<table class=\"data-frame\"><thead><tr><th></th><th>workclass</th><th>x1</th></tr><tr><th></th><th>String⍰</th><th>Tuple…</th></tr></thead><tbody><p>9 rows × 2 columns</p><tr><th>1</th><td> State-gov</td><td>(1298, 15)</td></tr><tr><th>2</th><td> Self-emp-not-inc</td><td>(2541, 15)</td></tr><tr><th>3</th><td> Private</td><td>(22696, 15)</td></tr><tr><th>4</th><td> Federal-gov</td><td>(960, 15)</td></tr><tr><th>5</th><td> Local-gov</td><td>(2093, 15)</td></tr><tr><th>6</th><td> ?</td><td>(1836, 15)</td></tr><tr><th>7</th><td> Self-emp-inc</td><td>(1116, 15)</td></tr><tr><th>8</th><td> Without-pay</td><td>(14, 15)</td></tr><tr><th>9</th><td> Never-worked</td><td>(7, 15)</td></tr></tbody></table>"
      ],
      "text/latex": [
       "\\begin{tabular}{r|cc}\n",
       "\t& workclass & x1\\\\\n",
       "\t\\hline\n",
       "\t& String⍰ & Tuple…\\\\\n",
       "\t\\hline\n",
       "\t1 &  State-gov & (1298, 15) \\\\\n",
       "\t2 &  Self-emp-not-inc & (2541, 15) \\\\\n",
       "\t3 &  Private & (22696, 15) \\\\\n",
       "\t4 &  Federal-gov & (960, 15) \\\\\n",
       "\t5 &  Local-gov & (2093, 15) \\\\\n",
       "\t6 &  ? & (1836, 15) \\\\\n",
       "\t7 &  Self-emp-inc & (1116, 15) \\\\\n",
       "\t8 &  Without-pay & (14, 15) \\\\\n",
       "\t9 &  Never-worked & (7, 15) \\\\\n",
       "\\end{tabular}\n"
      ],
      "text/plain": [
       "9×2 DataFrame\n",
       "│ Row │ workclass         │ x1          │\n",
       "│     │ \u001b[90mString⍰\u001b[39m           │ \u001b[90mTuple…\u001b[39m      │\n",
       "├─────┼───────────────────┼─────────────┤\n",
       "│ 1   │  State-gov        │ (1298, 15)  │\n",
       "│ 2   │  Self-emp-not-inc │ (2541, 15)  │\n",
       "│ 3   │  Private          │ (22696, 15) │\n",
       "│ 4   │  Federal-gov      │ (960, 15)   │\n",
       "│ 5   │  Local-gov        │ (2093, 15)  │\n",
       "│ 6   │  ?                │ (1836, 15)  │\n",
       "│ 7   │  Self-emp-inc     │ (1116, 15)  │\n",
       "│ 8   │  Without-pay      │ (14, 15)    │\n",
       "│ 9   │  Never-worked     │ (7, 15)     │"
      ]
     },
     "execution_count": 71,
     "metadata": {},
     "output_type": "execute_result"
    }
   ],
   "source": [
    "by(df,:workclass, size)   # group df by column named ‘workclass’, and apply function (here counts each group)"
   ]
  },
  {
   "cell_type": "code",
   "execution_count": 72,
   "metadata": {},
   "outputs": [
    {
     "data": {
      "text/html": [
       "<table class=\"data-frame\"><thead><tr><th></th><th>workclass</th><th>x1</th></tr><tr><th></th><th>String⍰</th><th>Float64</th></tr></thead><tbody><p>9 rows × 2 columns</p><tr><th>1</th><td> State-gov</td><td>1.84137e5</td></tr><tr><th>2</th><td> Self-emp-not-inc</td><td>1.75609e5</td></tr><tr><th>3</th><td> Private</td><td>1.92764e5</td></tr><tr><th>4</th><td> Federal-gov</td><td>1.85221e5</td></tr><tr><th>5</th><td> Local-gov</td><td>1.8864e5</td></tr><tr><th>6</th><td> ?</td><td>1.88516e5</td></tr><tr><th>7</th><td> Self-emp-inc</td><td>1.75981e5</td></tr><tr><th>8</th><td> Without-pay</td><td>1.74268e5</td></tr><tr><th>9</th><td> Never-worked</td><td>2.2599e5</td></tr></tbody></table>"
      ],
      "text/latex": [
       "\\begin{tabular}{r|cc}\n",
       "\t& workclass & x1\\\\\n",
       "\t\\hline\n",
       "\t& String⍰ & Float64\\\\\n",
       "\t\\hline\n",
       "\t1 &  State-gov & 1.84137e5 \\\\\n",
       "\t2 &  Self-emp-not-inc & 1.75609e5 \\\\\n",
       "\t3 &  Private & 1.92764e5 \\\\\n",
       "\t4 &  Federal-gov & 1.85221e5 \\\\\n",
       "\t5 &  Local-gov & 1.8864e5 \\\\\n",
       "\t6 &  ? & 1.88516e5 \\\\\n",
       "\t7 &  Self-emp-inc & 1.75981e5 \\\\\n",
       "\t8 &  Without-pay & 1.74268e5 \\\\\n",
       "\t9 &  Never-worked & 2.2599e5 \\\\\n",
       "\\end{tabular}\n"
      ],
      "text/plain": [
       "9×2 DataFrame\n",
       "│ Row │ workclass         │ x1        │\n",
       "│     │ \u001b[90mString⍰\u001b[39m           │ \u001b[90mFloat64\u001b[39m   │\n",
       "├─────┼───────────────────┼───────────┤\n",
       "│ 1   │  State-gov        │ 1.84137e5 │\n",
       "│ 2   │  Self-emp-not-inc │ 1.75609e5 │\n",
       "│ 3   │  Private          │ 1.92764e5 │\n",
       "│ 4   │  Federal-gov      │ 1.85221e5 │\n",
       "│ 5   │  Local-gov        │ 1.8864e5  │\n",
       "│ 6   │  ?                │ 1.88516e5 │\n",
       "│ 7   │  Self-emp-inc     │ 1.75981e5 │\n",
       "│ 8   │  Without-pay      │ 1.74268e5 │\n",
       "│ 9   │  Never-worked     │ 2.2599e5  │"
      ]
     },
     "execution_count": 72,
     "metadata": {},
     "output_type": "execute_result"
    }
   ],
   "source": [
    "using Statistics\n",
    "by(df,:workclass, df->mean(df[:fnlwgt]))     # calculate mean fnlwgt of each workclass"
   ]
  }
 ],
 "metadata": {
  "kernelspec": {
   "display_name": "Julia 1.1.0",
   "language": "julia",
   "name": "julia-1.1"
  },
  "language_info": {
   "file_extension": ".jl",
   "mimetype": "application/julia",
   "name": "julia",
   "version": "1.1.0"
  }
 },
 "nbformat": 4,
 "nbformat_minor": 2
}
